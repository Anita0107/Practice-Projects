{
 "cells": [
  {
   "cell_type": "markdown",
   "id": "1c53d9d6",
   "metadata": {},
   "source": [
    "# Importing Dataset"
   ]
  },
  {
   "cell_type": "code",
   "execution_count": 1,
   "id": "0ac2a8b0",
   "metadata": {},
   "outputs": [],
   "source": [
    "import pandas as pd\n",
    "import numpy as np"
   ]
  },
  {
   "cell_type": "code",
   "execution_count": 2,
   "id": "4f5109a0",
   "metadata": {},
   "outputs": [
    {
     "data": {
      "text/html": [
       "<div>\n",
       "<style scoped>\n",
       "    .dataframe tbody tr th:only-of-type {\n",
       "        vertical-align: middle;\n",
       "    }\n",
       "\n",
       "    .dataframe tbody tr th {\n",
       "        vertical-align: top;\n",
       "    }\n",
       "\n",
       "    .dataframe thead th {\n",
       "        text-align: right;\n",
       "    }\n",
       "</style>\n",
       "<table border=\"1\" class=\"dataframe\">\n",
       "  <thead>\n",
       "    <tr style=\"text-align: right;\">\n",
       "      <th></th>\n",
       "      <th>Unnamed: 0</th>\n",
       "      <th>TV</th>\n",
       "      <th>radio</th>\n",
       "      <th>newspaper</th>\n",
       "      <th>sales</th>\n",
       "    </tr>\n",
       "  </thead>\n",
       "  <tbody>\n",
       "    <tr>\n",
       "      <th>0</th>\n",
       "      <td>1</td>\n",
       "      <td>230.1</td>\n",
       "      <td>37.8</td>\n",
       "      <td>69.2</td>\n",
       "      <td>22.1</td>\n",
       "    </tr>\n",
       "    <tr>\n",
       "      <th>1</th>\n",
       "      <td>2</td>\n",
       "      <td>44.5</td>\n",
       "      <td>39.3</td>\n",
       "      <td>45.1</td>\n",
       "      <td>10.4</td>\n",
       "    </tr>\n",
       "    <tr>\n",
       "      <th>2</th>\n",
       "      <td>3</td>\n",
       "      <td>17.2</td>\n",
       "      <td>45.9</td>\n",
       "      <td>69.3</td>\n",
       "      <td>9.3</td>\n",
       "    </tr>\n",
       "    <tr>\n",
       "      <th>3</th>\n",
       "      <td>4</td>\n",
       "      <td>151.5</td>\n",
       "      <td>41.3</td>\n",
       "      <td>58.5</td>\n",
       "      <td>18.5</td>\n",
       "    </tr>\n",
       "    <tr>\n",
       "      <th>4</th>\n",
       "      <td>5</td>\n",
       "      <td>180.8</td>\n",
       "      <td>10.8</td>\n",
       "      <td>58.4</td>\n",
       "      <td>12.9</td>\n",
       "    </tr>\n",
       "  </tbody>\n",
       "</table>\n",
       "</div>"
      ],
      "text/plain": [
       "   Unnamed: 0     TV  radio  newspaper  sales\n",
       "0           1  230.1   37.8       69.2   22.1\n",
       "1           2   44.5   39.3       45.1   10.4\n",
       "2           3   17.2   45.9       69.3    9.3\n",
       "3           4  151.5   41.3       58.5   18.5\n",
       "4           5  180.8   10.8       58.4   12.9"
      ]
     },
     "execution_count": 2,
     "metadata": {},
     "output_type": "execute_result"
    }
   ],
   "source": [
    "ds=pd.read_csv('Advertising.csv')\n",
    "df= pd.DataFrame(ds)\n",
    "df.head()"
   ]
  },
  {
   "cell_type": "markdown",
   "id": "c356a925",
   "metadata": {},
   "source": [
    "Target data is numeric value so its a regression case"
   ]
  },
  {
   "cell_type": "code",
   "execution_count": 3,
   "id": "72f90e13",
   "metadata": {},
   "outputs": [
    {
     "data": {
      "text/plain": [
       "(200, 5)"
      ]
     },
     "execution_count": 3,
     "metadata": {},
     "output_type": "execute_result"
    }
   ],
   "source": [
    "df.shape"
   ]
  },
  {
   "cell_type": "markdown",
   "id": "1344eb27",
   "metadata": {},
   "source": [
    "200 rows and 5 columns"
   ]
  },
  {
   "cell_type": "code",
   "execution_count": 4,
   "id": "4b3dfa0d",
   "metadata": {},
   "outputs": [
    {
     "data": {
      "text/plain": [
       "Unnamed: 0    0\n",
       "TV            0\n",
       "radio         0\n",
       "newspaper     0\n",
       "sales         0\n",
       "dtype: int64"
      ]
     },
     "execution_count": 4,
     "metadata": {},
     "output_type": "execute_result"
    }
   ],
   "source": [
    "df.isnull().sum()"
   ]
  },
  {
   "cell_type": "markdown",
   "id": "da0ef4bc",
   "metadata": {},
   "source": [
    "No null values present\n",
    "Sales is the target label"
   ]
  },
  {
   "cell_type": "code",
   "execution_count": 5,
   "id": "7ee09d47",
   "metadata": {},
   "outputs": [
    {
     "data": {
      "text/plain": [
       "Unnamed: 0      int64\n",
       "TV            float64\n",
       "radio         float64\n",
       "newspaper     float64\n",
       "sales         float64\n",
       "dtype: object"
      ]
     },
     "execution_count": 5,
     "metadata": {},
     "output_type": "execute_result"
    }
   ],
   "source": [
    "df.dtypes"
   ]
  },
  {
   "cell_type": "markdown",
   "id": "68057d44",
   "metadata": {},
   "source": [
    "Datatype is numeric"
   ]
  },
  {
   "cell_type": "code",
   "execution_count": 6,
   "id": "57a378d8",
   "metadata": {},
   "outputs": [
    {
     "data": {
      "text/plain": [
       "Index(['Unnamed: 0', 'TV', 'radio', 'newspaper', 'sales'], dtype='object')"
      ]
     },
     "execution_count": 6,
     "metadata": {},
     "output_type": "execute_result"
    }
   ],
   "source": [
    "df.columns"
   ]
  },
  {
   "cell_type": "markdown",
   "id": "e3ad50f3",
   "metadata": {},
   "source": [
    "# EDA"
   ]
  },
  {
   "cell_type": "markdown",
   "id": "f3320b46",
   "metadata": {},
   "source": [
    "## Visualization"
   ]
  },
  {
   "cell_type": "code",
   "execution_count": 7,
   "id": "20d4fe5e",
   "metadata": {},
   "outputs": [],
   "source": [
    "import seaborn as sns\n",
    "import matplotlib.pyplot as plt\n"
   ]
  },
  {
   "cell_type": "code",
   "execution_count": 8,
   "id": "c88438af",
   "metadata": {},
   "outputs": [
    {
     "name": "stderr",
     "output_type": "stream",
     "text": [
      "D:\\Anaconda\\lib\\site-packages\\seaborn\\distributions.py:2557: FutureWarning: `distplot` is a deprecated function and will be removed in a future version. Please adapt your code to use either `displot` (a figure-level function with similar flexibility) or `histplot` (an axes-level function for histograms).\n",
      "  warnings.warn(msg, FutureWarning)\n"
     ]
    },
    {
     "data": {
      "text/plain": [
       "<AxesSubplot:xlabel='TV', ylabel='Density'>"
      ]
     },
     "execution_count": 8,
     "metadata": {},
     "output_type": "execute_result"
    },
    {
     "data": {
      "image/png": "[encoded data removed]",
      "text/plain": [
       "<Figure size 432x288 with 1 Axes>"
      ]
     },
     "metadata": {
      "needs_background": "light"
     },
     "output_type": "display_data"
    }
   ],
   "source": [
    "sns.distplot(df['TV'], kde=True)"
   ]
  },
  {
   "cell_type": "markdown",
   "id": "76da5ebb",
   "metadata": {},
   "source": [
    "data is not normally distributed, skewness and outliers present"
   ]
  },
  {
   "cell_type": "code",
   "execution_count": 9,
   "id": "ae8d0acd",
   "metadata": {},
   "outputs": [
    {
     "name": "stderr",
     "output_type": "stream",
     "text": [
      "D:\\Anaconda\\lib\\site-packages\\seaborn\\distributions.py:2557: FutureWarning: `distplot` is a deprecated function and will be removed in a future version. Please adapt your code to use either `displot` (a figure-level function with similar flexibility) or `histplot` (an axes-level function for histograms).\n",
      "  warnings.warn(msg, FutureWarning)\n"
     ]
    },
    {
     "data": {
      "text/plain": [
       "<AxesSubplot:xlabel='radio', ylabel='Density'>"
      ]
     },
     "execution_count": 9,
     "metadata": {},
     "output_type": "execute_result"
    },
    {
     "data": {
      "image/png": "[encoded data removed]",
      "text/plain": [
       "<Figure size 432x288 with 1 Axes>"
      ]
     },
     "metadata": {
      "needs_background": "light"
     },
     "output_type": "display_data"
    }
   ],
   "source": [
    "sns.distplot(df['radio'], kde=True)"
   ]
  },
  {
   "cell_type": "markdown",
   "id": "91aa5fad",
   "metadata": {},
   "source": [
    "data is not normally distributed, skewness and outliers present"
   ]
  },
  {
   "cell_type": "code",
   "execution_count": 10,
   "id": "a77a0d12",
   "metadata": {},
   "outputs": [
    {
     "name": "stderr",
     "output_type": "stream",
     "text": [
      "D:\\Anaconda\\lib\\site-packages\\seaborn\\distributions.py:2557: FutureWarning: `distplot` is a deprecated function and will be removed in a future version. Please adapt your code to use either `displot` (a figure-level function with similar flexibility) or `histplot` (an axes-level function for histograms).\n",
      "  warnings.warn(msg, FutureWarning)\n"
     ]
    },
    {
     "data": {
      "text/plain": [
       "<AxesSubplot:xlabel='newspaper', ylabel='Density'>"
      ]
     },
     "execution_count": 10,
     "metadata": {},
     "output_type": "execute_result"
    },
    {
     "data": {
      "image/png": "[encoded data removed]",
      "text/plain": [
       "<Figure size 432x288 with 1 Axes>"
      ]
     },
     "metadata": {
      "needs_background": "light"
     },
     "output_type": "display_data"
    }
   ],
   "source": [
    "sns.distplot(df['newspaper'], kde=True)"
   ]
  },
  {
   "cell_type": "markdown",
   "id": "aea09681",
   "metadata": {},
   "source": [
    "data is not normally distributed, skewness and outliers present"
   ]
  },
  {
   "cell_type": "code",
   "execution_count": 11,
   "id": "e9e81c8e",
   "metadata": {},
   "outputs": [
    {
     "name": "stderr",
     "output_type": "stream",
     "text": [
      "D:\\Anaconda\\lib\\site-packages\\seaborn\\distributions.py:2557: FutureWarning: `distplot` is a deprecated function and will be removed in a future version. Please adapt your code to use either `displot` (a figure-level function with similar flexibility) or `histplot` (an axes-level function for histograms).\n",
      "  warnings.warn(msg, FutureWarning)\n"
     ]
    },
    {
     "data": {
      "text/plain": [
       "<AxesSubplot:xlabel='sales', ylabel='Density'>"
      ]
     },
     "execution_count": 11,
     "metadata": {},
     "output_type": "execute_result"
    },
    {
     "data": {
      "image/png": "[encoded data removed]",
      "text/plain": [
       "<Figure size 432x288 with 1 Axes>"
      ]
     },
     "metadata": {
      "needs_background": "light"
     },
     "output_type": "display_data"
    }
   ],
   "source": [
    "sns.distplot(df['sales'], kde=True)"
   ]
  },
  {
   "cell_type": "markdown",
   "id": "2e91c64b",
   "metadata": {},
   "source": [
    "data is not normally distributed, skewness and outliers present"
   ]
  },
  {
   "cell_type": "code",
   "execution_count": 12,
   "id": "5168eb69",
   "metadata": {},
   "outputs": [
    {
     "data": {
      "image/png": "[encoded data removed]",
      "text/plain": [
       "<Figure size 432x288 with 1 Axes>"
      ]
     },
     "metadata": {
      "needs_background": "light"
     },
     "output_type": "display_data"
    }
   ],
   "source": [
    "g=sns.scatterplot(x=\"TV\",y=\"sales\" ,data=df)"
   ]
  },
  {
   "cell_type": "markdown",
   "id": "da208048",
   "metadata": {},
   "source": [
    "Sales of TV is increasing "
   ]
  },
  {
   "cell_type": "code",
   "execution_count": 13,
   "id": "248947fb",
   "metadata": {},
   "outputs": [
    {
     "data": {
      "image/png": "[encoded data removed]",
      "text/plain": [
       "<Figure size 432x288 with 1 Axes>"
      ]
     },
     "metadata": {
      "needs_background": "light"
     },
     "output_type": "display_data"
    }
   ],
   "source": [
    "g=sns.scatterplot(x=\"radio\",y=\"sales\" ,data=df,)"
   ]
  },
  {
   "cell_type": "markdown",
   "id": "5645118f",
   "metadata": {},
   "source": [
    "Radio sales are also increasing"
   ]
  },
  {
   "cell_type": "code",
   "execution_count": 14,
   "id": "da18d413",
   "metadata": {},
   "outputs": [
    {
     "data": {
      "image/png": "[encoded data removed]",
      "text/plain": [
       "<Figure size 432x288 with 1 Axes>"
      ]
     },
     "metadata": {
      "needs_background": "light"
     },
     "output_type": "display_data"
    }
   ],
   "source": [
    "g=sns.scatterplot(x=\"newspaper\",y=\"sales\",data=df)"
   ]
  },
  {
   "cell_type": "markdown",
   "id": "b6136f14",
   "metadata": {},
   "source": [
    "Newspaper sales has concentrated numbers range from 0 to 40."
   ]
  },
  {
   "cell_type": "code",
   "execution_count": 15,
   "id": "c788bc53",
   "metadata": {},
   "outputs": [
    {
     "data": {
      "image/png": "[encoded data removed]",
      "text/plain": [
       "<Figure size 432x288 with 1 Axes>"
      ]
     },
     "metadata": {
      "needs_background": "light"
     },
     "output_type": "display_data"
    }
   ],
   "source": [
    "g=sns.histplot(x=\"TV\",y=\"sales\",data=df)"
   ]
  },
  {
   "cell_type": "markdown",
   "id": "61597f3f",
   "metadata": {},
   "source": [
    "Sales of TV is increasing "
   ]
  },
  {
   "cell_type": "code",
   "execution_count": 16,
   "id": "833daae7",
   "metadata": {},
   "outputs": [
    {
     "data": {
      "image/png": "[encoded data removed]",
      "text/plain": [
       "<Figure size 432x288 with 1 Axes>"
      ]
     },
     "metadata": {
      "needs_background": "light"
     },
     "output_type": "display_data"
    }
   ],
   "source": [
    "g=sns.histplot(x=\"radio\",y=\"sales\",data=df)"
   ]
  },
  {
   "cell_type": "markdown",
   "id": "fcb0b985",
   "metadata": {},
   "source": [
    "Sales of Radio is increasing "
   ]
  },
  {
   "cell_type": "code",
   "execution_count": 17,
   "id": "f06bab4b",
   "metadata": {},
   "outputs": [
    {
     "data": {
      "image/png": "[encoded data removed]",
      "text/plain": [
       "<Figure size 432x288 with 1 Axes>"
      ]
     },
     "metadata": {
      "needs_background": "light"
     },
     "output_type": "display_data"
    }
   ],
   "source": [
    "g=sns.histplot(x=\"newspaper\",y=\"sales\",data=df)"
   ]
  },
  {
   "cell_type": "markdown",
   "id": "09ec4a29",
   "metadata": {},
   "source": [
    "Sale of newspaper is concentrated to 0-80."
   ]
  },
  {
   "cell_type": "markdown",
   "id": "79e611f6",
   "metadata": {},
   "source": [
    "## Describing the dataset"
   ]
  },
  {
   "cell_type": "code",
   "execution_count": 18,
   "id": "65fa51e5",
   "metadata": {},
   "outputs": [
    {
     "data": {
      "text/html": [
       "<div>\n",
       "<style scoped>\n",
       "    .dataframe tbody tr th:only-of-type {\n",
       "        vertical-align: middle;\n",
       "    }\n",
       "\n",
       "    .dataframe tbody tr th {\n",
       "        vertical-align: top;\n",
       "    }\n",
       "\n",
       "    .dataframe thead th {\n",
       "        text-align: right;\n",
       "    }\n",
       "</style>\n",
       "<table border=\"1\" class=\"dataframe\">\n",
       "  <thead>\n",
       "    <tr style=\"text-align: right;\">\n",
       "      <th></th>\n",
       "      <th>Unnamed: 0</th>\n",
       "      <th>TV</th>\n",
       "      <th>radio</th>\n",
       "      <th>newspaper</th>\n",
       "      <th>sales</th>\n",
       "    </tr>\n",
       "  </thead>\n",
       "  <tbody>\n",
       "    <tr>\n",
       "      <th>count</th>\n",
       "      <td>200.000000</td>\n",
       "      <td>200.000000</td>\n",
       "      <td>200.000000</td>\n",
       "      <td>200.000000</td>\n",
       "      <td>200.000000</td>\n",
       "    </tr>\n",
       "    <tr>\n",
       "      <th>mean</th>\n",
       "      <td>100.500000</td>\n",
       "      <td>147.042500</td>\n",
       "      <td>23.264000</td>\n",
       "      <td>30.554000</td>\n",
       "      <td>14.022500</td>\n",
       "    </tr>\n",
       "    <tr>\n",
       "      <th>std</th>\n",
       "      <td>57.879185</td>\n",
       "      <td>85.854236</td>\n",
       "      <td>14.846809</td>\n",
       "      <td>21.778621</td>\n",
       "      <td>5.217457</td>\n",
       "    </tr>\n",
       "    <tr>\n",
       "      <th>min</th>\n",
       "      <td>1.000000</td>\n",
       "      <td>0.700000</td>\n",
       "      <td>0.000000</td>\n",
       "      <td>0.300000</td>\n",
       "      <td>1.600000</td>\n",
       "    </tr>\n",
       "    <tr>\n",
       "      <th>25%</th>\n",
       "      <td>50.750000</td>\n",
       "      <td>74.375000</td>\n",
       "      <td>9.975000</td>\n",
       "      <td>12.750000</td>\n",
       "      <td>10.375000</td>\n",
       "    </tr>\n",
       "    <tr>\n",
       "      <th>50%</th>\n",
       "      <td>100.500000</td>\n",
       "      <td>149.750000</td>\n",
       "      <td>22.900000</td>\n",
       "      <td>25.750000</td>\n",
       "      <td>12.900000</td>\n",
       "    </tr>\n",
       "    <tr>\n",
       "      <th>75%</th>\n",
       "      <td>150.250000</td>\n",
       "      <td>218.825000</td>\n",
       "      <td>36.525000</td>\n",
       "      <td>45.100000</td>\n",
       "      <td>17.400000</td>\n",
       "    </tr>\n",
       "    <tr>\n",
       "      <th>max</th>\n",
       "      <td>200.000000</td>\n",
       "      <td>296.400000</td>\n",
       "      <td>49.600000</td>\n",
       "      <td>114.000000</td>\n",
       "      <td>27.000000</td>\n",
       "    </tr>\n",
       "  </tbody>\n",
       "</table>\n",
       "</div>"
      ],
      "text/plain": [
       "       Unnamed: 0          TV       radio   newspaper       sales\n",
       "count  200.000000  200.000000  200.000000  200.000000  200.000000\n",
       "mean   100.500000  147.042500   23.264000   30.554000   14.022500\n",
       "std     57.879185   85.854236   14.846809   21.778621    5.217457\n",
       "min      1.000000    0.700000    0.000000    0.300000    1.600000\n",
       "25%     50.750000   74.375000    9.975000   12.750000   10.375000\n",
       "50%    100.500000  149.750000   22.900000   25.750000   12.900000\n",
       "75%    150.250000  218.825000   36.525000   45.100000   17.400000\n",
       "max    200.000000  296.400000   49.600000  114.000000   27.000000"
      ]
     },
     "execution_count": 18,
     "metadata": {},
     "output_type": "execute_result"
    }
   ],
   "source": [
    "df.describe()"
   ]
  },
  {
   "cell_type": "markdown",
   "id": "27cfa83c",
   "metadata": {},
   "source": [
    "Key Observations:\n",
    "\n",
    "Mean and Median: Values of mean and median have small differences\n",
    "75% percentile and max: Unnamed:0 , TV and newspaper have large difference so Outliers are present.\n",
    "Standard deviation is less than mean so high peak data"
   ]
  },
  {
   "cell_type": "code",
   "execution_count": 19,
   "id": "2225d3f5",
   "metadata": {},
   "outputs": [
    {
     "data": {
      "text/plain": [
       "<AxesSubplot:>"
      ]
     },
     "execution_count": 19,
     "metadata": {},
     "output_type": "execute_result"
    },
    {
     "data": {
      "image/png": "[encoded data removed]",
      "text/plain": [
       "<Figure size 1584x504 with 2 Axes>"
      ]
     },
     "metadata": {
      "needs_background": "light"
     },
     "output_type": "display_data"
    }
   ],
   "source": [
    "import matplotlib.pyplot as plt\n",
    "plt.figure(figsize=(22,7))\n",
    "sns.heatmap(df.describe(),annot=True,linewidths=0.1,linecolor=\"Green\",fmt=\"0.2f\")"
   ]
  },
  {
   "cell_type": "markdown",
   "id": "9eecbd0a",
   "metadata": {},
   "source": [
    "Heatmap representation of dataset description"
   ]
  },
  {
   "cell_type": "markdown",
   "id": "01a87d1b",
   "metadata": {},
   "source": [
    "# Correlation of the columns with the target columns:"
   ]
  },
  {
   "cell_type": "code",
   "execution_count": 20,
   "id": "9cf05924",
   "metadata": {},
   "outputs": [
    {
     "data": {
      "text/html": [
       "<div>\n",
       "<style scoped>\n",
       "    .dataframe tbody tr th:only-of-type {\n",
       "        vertical-align: middle;\n",
       "    }\n",
       "\n",
       "    .dataframe tbody tr th {\n",
       "        vertical-align: top;\n",
       "    }\n",
       "\n",
       "    .dataframe thead th {\n",
       "        text-align: right;\n",
       "    }\n",
       "</style>\n",
       "<table border=\"1\" class=\"dataframe\">\n",
       "  <thead>\n",
       "    <tr style=\"text-align: right;\">\n",
       "      <th></th>\n",
       "      <th>Unnamed: 0</th>\n",
       "      <th>TV</th>\n",
       "      <th>radio</th>\n",
       "      <th>newspaper</th>\n",
       "      <th>sales</th>\n",
       "    </tr>\n",
       "  </thead>\n",
       "  <tbody>\n",
       "    <tr>\n",
       "      <th>Unnamed: 0</th>\n",
       "      <td>1.000000</td>\n",
       "      <td>0.017715</td>\n",
       "      <td>-0.110680</td>\n",
       "      <td>-0.154944</td>\n",
       "      <td>-0.051616</td>\n",
       "    </tr>\n",
       "    <tr>\n",
       "      <th>TV</th>\n",
       "      <td>0.017715</td>\n",
       "      <td>1.000000</td>\n",
       "      <td>0.054809</td>\n",
       "      <td>0.056648</td>\n",
       "      <td>0.782224</td>\n",
       "    </tr>\n",
       "    <tr>\n",
       "      <th>radio</th>\n",
       "      <td>-0.110680</td>\n",
       "      <td>0.054809</td>\n",
       "      <td>1.000000</td>\n",
       "      <td>0.354104</td>\n",
       "      <td>0.576223</td>\n",
       "    </tr>\n",
       "    <tr>\n",
       "      <th>newspaper</th>\n",
       "      <td>-0.154944</td>\n",
       "      <td>0.056648</td>\n",
       "      <td>0.354104</td>\n",
       "      <td>1.000000</td>\n",
       "      <td>0.228299</td>\n",
       "    </tr>\n",
       "    <tr>\n",
       "      <th>sales</th>\n",
       "      <td>-0.051616</td>\n",
       "      <td>0.782224</td>\n",
       "      <td>0.576223</td>\n",
       "      <td>0.228299</td>\n",
       "      <td>1.000000</td>\n",
       "    </tr>\n",
       "  </tbody>\n",
       "</table>\n",
       "</div>"
      ],
      "text/plain": [
       "            Unnamed: 0        TV     radio  newspaper     sales\n",
       "Unnamed: 0    1.000000  0.017715 -0.110680  -0.154944 -0.051616\n",
       "TV            0.017715  1.000000  0.054809   0.056648  0.782224\n",
       "radio        -0.110680  0.054809  1.000000   0.354104  0.576223\n",
       "newspaper    -0.154944  0.056648  0.354104   1.000000  0.228299\n",
       "sales        -0.051616  0.782224  0.576223   0.228299  1.000000"
      ]
     },
     "execution_count": 20,
     "metadata": {},
     "output_type": "execute_result"
    }
   ],
   "source": [
    "df.corr()"
   ]
  },
  {
   "cell_type": "markdown",
   "id": "c2b2a75e",
   "metadata": {},
   "source": [
    "correlation of input with target variable"
   ]
  },
  {
   "cell_type": "code",
   "execution_count": 21,
   "id": "eb2d0f70",
   "metadata": {},
   "outputs": [
    {
     "data": {
      "text/plain": [
       "<AxesSubplot:>"
      ]
     },
     "execution_count": 21,
     "metadata": {},
     "output_type": "execute_result"
    },
    {
     "data": {
      "image/png": "[encoded data removed]",
      "text/plain": [
       "<Figure size 720x504 with 2 Axes>"
      ]
     },
     "metadata": {
      "needs_background": "light"
     },
     "output_type": "display_data"
    }
   ],
   "source": [
    "plt.figure(figsize=(10,7))\n",
    "sns.heatmap(df.corr(),annot=True,linewidths=0.1,linecolor=\"Black\",fmt=\"0.2f\")"
   ]
  },
  {
   "cell_type": "markdown",
   "id": "0b378b7b",
   "metadata": {},
   "source": [
    "Sales have positive coorelation with TV and negative coorelation with Unnamed 0\n",
    "\n",
    "TV has negative correlation with Unnamed O and positive correlation with Sales\n",
    "\n",
    "so dropping unnamed:O column"
   ]
  },
  {
   "cell_type": "code",
   "execution_count": 22,
   "id": "2bfa7007",
   "metadata": {},
   "outputs": [
    {
     "data": {
      "image/png": "[encoded data removed]",
      "text/plain": [
       "<Figure size 360x360 with 1 Axes>"
      ]
     },
     "metadata": {
      "needs_background": "light"
     },
     "output_type": "display_data"
    }
   ],
   "source": [
    "plt.figure(figsize=(5,5))\n",
    "df.corr()['sales'].sort_values(ascending=False).drop(['sales']).plot(kind='bar',color='c')\n",
    "plt.xlabel('Feature',fontsize=14)\n",
    "plt.ylabel('column with target names',fontsize=14)\n",
    "plt.title('Correlation',fontsize=18)\n",
    "plt.show()"
   ]
  },
  {
   "cell_type": "markdown",
   "id": "80ca2d29",
   "metadata": {},
   "source": [
    "Only Unnamed: 0 has negative correlation with target label: sales"
   ]
  },
  {
   "cell_type": "markdown",
   "id": "fd8648c0",
   "metadata": {},
   "source": [
    "## Data Cleaning:"
   ]
  },
  {
   "cell_type": "code",
   "execution_count": 23,
   "id": "335284b7",
   "metadata": {},
   "outputs": [
    {
     "data": {
      "text/html": [
       "<div>\n",
       "<style scoped>\n",
       "    .dataframe tbody tr th:only-of-type {\n",
       "        vertical-align: middle;\n",
       "    }\n",
       "\n",
       "    .dataframe tbody tr th {\n",
       "        vertical-align: top;\n",
       "    }\n",
       "\n",
       "    .dataframe thead th {\n",
       "        text-align: right;\n",
       "    }\n",
       "</style>\n",
       "<table border=\"1\" class=\"dataframe\">\n",
       "  <thead>\n",
       "    <tr style=\"text-align: right;\">\n",
       "      <th></th>\n",
       "      <th>TV</th>\n",
       "      <th>radio</th>\n",
       "      <th>newspaper</th>\n",
       "      <th>sales</th>\n",
       "    </tr>\n",
       "  </thead>\n",
       "  <tbody>\n",
       "    <tr>\n",
       "      <th>0</th>\n",
       "      <td>230.1</td>\n",
       "      <td>37.8</td>\n",
       "      <td>69.2</td>\n",
       "      <td>22.1</td>\n",
       "    </tr>\n",
       "    <tr>\n",
       "      <th>1</th>\n",
       "      <td>44.5</td>\n",
       "      <td>39.3</td>\n",
       "      <td>45.1</td>\n",
       "      <td>10.4</td>\n",
       "    </tr>\n",
       "    <tr>\n",
       "      <th>2</th>\n",
       "      <td>17.2</td>\n",
       "      <td>45.9</td>\n",
       "      <td>69.3</td>\n",
       "      <td>9.3</td>\n",
       "    </tr>\n",
       "    <tr>\n",
       "      <th>3</th>\n",
       "      <td>151.5</td>\n",
       "      <td>41.3</td>\n",
       "      <td>58.5</td>\n",
       "      <td>18.5</td>\n",
       "    </tr>\n",
       "    <tr>\n",
       "      <th>4</th>\n",
       "      <td>180.8</td>\n",
       "      <td>10.8</td>\n",
       "      <td>58.4</td>\n",
       "      <td>12.9</td>\n",
       "    </tr>\n",
       "  </tbody>\n",
       "</table>\n",
       "</div>"
      ],
      "text/plain": [
       "      TV  radio  newspaper  sales\n",
       "0  230.1   37.8       69.2   22.1\n",
       "1   44.5   39.3       45.1   10.4\n",
       "2   17.2   45.9       69.3    9.3\n",
       "3  151.5   41.3       58.5   18.5\n",
       "4  180.8   10.8       58.4   12.9"
      ]
     },
     "execution_count": 23,
     "metadata": {},
     "output_type": "execute_result"
    }
   ],
   "source": [
    "df.drop(['Unnamed: 0'],axis=1,inplace=True)\n",
    "df.head()"
   ]
  },
  {
   "cell_type": "markdown",
   "id": "625c0773",
   "metadata": {},
   "source": [
    "Unnamed: 0 column dropped"
   ]
  },
  {
   "cell_type": "markdown",
   "id": "143dfa51",
   "metadata": {},
   "source": [
    "## Skewness:"
   ]
  },
  {
   "cell_type": "code",
   "execution_count": 24,
   "id": "bd4f2ede",
   "metadata": {},
   "outputs": [
    {
     "data": {
      "text/plain": [
       "TV          -0.069853\n",
       "radio        0.094175\n",
       "newspaper    0.894720\n",
       "sales        0.407571\n",
       "dtype: float64"
      ]
     },
     "execution_count": 24,
     "metadata": {},
     "output_type": "execute_result"
    }
   ],
   "source": [
    "#Skewness:\n",
    "df.skew()"
   ]
  },
  {
   "cell_type": "markdown",
   "id": "dd73a72f",
   "metadata": {},
   "source": [
    "Skewness range is -/+ 0.5 so the dataset has considerable amount of skewness so not treating it."
   ]
  },
  {
   "cell_type": "markdown",
   "id": "fafcb215",
   "metadata": {},
   "source": [
    "## Outliers:"
   ]
  },
  {
   "cell_type": "code",
   "execution_count": 25,
   "id": "41e6dbfb",
   "metadata": {},
   "outputs": [
    {
     "data": {
      "text/plain": [
       "TV              AxesSubplot(0.125,0.657941;0.352273x0.222059)\n",
       "radio        AxesSubplot(0.547727,0.657941;0.352273x0.222059)\n",
       "newspaper       AxesSubplot(0.125,0.391471;0.352273x0.222059)\n",
       "sales        AxesSubplot(0.547727,0.391471;0.352273x0.222059)\n",
       "dtype: object"
      ]
     },
     "execution_count": 25,
     "metadata": {},
     "output_type": "execute_result"
    },
    {
     "data": {
      "image/png": "[encoded data removed]",
      "text/plain": [
       "<Figure size 720x720 with 6 Axes>"
      ]
     },
     "metadata": {
      "needs_background": "light"
     },
     "output_type": "display_data"
    }
   ],
   "source": [
    "df.plot(kind='box',subplots=True,layout=(3,2),figsize=(10,10))"
   ]
  },
  {
   "cell_type": "markdown",
   "id": "3bfc8a87",
   "metadata": {},
   "source": [
    "Only newapaper column has outliers so need to remove it."
   ]
  },
  {
   "cell_type": "code",
   "execution_count": 26,
   "id": "82022337",
   "metadata": {},
   "outputs": [
    {
     "data": {
      "text/plain": [
       "(array([ 16, 101], dtype=int64), array([2, 2], dtype=int64))"
      ]
     },
     "execution_count": 26,
     "metadata": {},
     "output_type": "execute_result"
    }
   ],
   "source": [
    "# Removing Outliers: \n",
    "\n",
    "from scipy.stats import zscore\n",
    "import numpy as np\n",
    "z=np.abs(zscore(df))\n",
    "threshold=3\n",
    "np.where(z>3)"
   ]
  },
  {
   "cell_type": "code",
   "execution_count": 27,
   "id": "efccc697",
   "metadata": {},
   "outputs": [
    {
     "data": {
      "text/html": [
       "<div>\n",
       "<style scoped>\n",
       "    .dataframe tbody tr th:only-of-type {\n",
       "        vertical-align: middle;\n",
       "    }\n",
       "\n",
       "    .dataframe tbody tr th {\n",
       "        vertical-align: top;\n",
       "    }\n",
       "\n",
       "    .dataframe thead th {\n",
       "        text-align: right;\n",
       "    }\n",
       "</style>\n",
       "<table border=\"1\" class=\"dataframe\">\n",
       "  <thead>\n",
       "    <tr style=\"text-align: right;\">\n",
       "      <th></th>\n",
       "      <th>TV</th>\n",
       "      <th>radio</th>\n",
       "      <th>newspaper</th>\n",
       "      <th>sales</th>\n",
       "    </tr>\n",
       "  </thead>\n",
       "  <tbody>\n",
       "    <tr>\n",
       "      <th>0</th>\n",
       "      <td>230.1</td>\n",
       "      <td>37.8</td>\n",
       "      <td>69.2</td>\n",
       "      <td>22.1</td>\n",
       "    </tr>\n",
       "    <tr>\n",
       "      <th>1</th>\n",
       "      <td>44.5</td>\n",
       "      <td>39.3</td>\n",
       "      <td>45.1</td>\n",
       "      <td>10.4</td>\n",
       "    </tr>\n",
       "    <tr>\n",
       "      <th>2</th>\n",
       "      <td>17.2</td>\n",
       "      <td>45.9</td>\n",
       "      <td>69.3</td>\n",
       "      <td>9.3</td>\n",
       "    </tr>\n",
       "    <tr>\n",
       "      <th>3</th>\n",
       "      <td>151.5</td>\n",
       "      <td>41.3</td>\n",
       "      <td>58.5</td>\n",
       "      <td>18.5</td>\n",
       "    </tr>\n",
       "    <tr>\n",
       "      <th>4</th>\n",
       "      <td>180.8</td>\n",
       "      <td>10.8</td>\n",
       "      <td>58.4</td>\n",
       "      <td>12.9</td>\n",
       "    </tr>\n",
       "    <tr>\n",
       "      <th>...</th>\n",
       "      <td>...</td>\n",
       "      <td>...</td>\n",
       "      <td>...</td>\n",
       "      <td>...</td>\n",
       "    </tr>\n",
       "    <tr>\n",
       "      <th>195</th>\n",
       "      <td>38.2</td>\n",
       "      <td>3.7</td>\n",
       "      <td>13.8</td>\n",
       "      <td>7.6</td>\n",
       "    </tr>\n",
       "    <tr>\n",
       "      <th>196</th>\n",
       "      <td>94.2</td>\n",
       "      <td>4.9</td>\n",
       "      <td>8.1</td>\n",
       "      <td>9.7</td>\n",
       "    </tr>\n",
       "    <tr>\n",
       "      <th>197</th>\n",
       "      <td>177.0</td>\n",
       "      <td>9.3</td>\n",
       "      <td>6.4</td>\n",
       "      <td>12.8</td>\n",
       "    </tr>\n",
       "    <tr>\n",
       "      <th>198</th>\n",
       "      <td>283.6</td>\n",
       "      <td>42.0</td>\n",
       "      <td>66.2</td>\n",
       "      <td>25.5</td>\n",
       "    </tr>\n",
       "    <tr>\n",
       "      <th>199</th>\n",
       "      <td>232.1</td>\n",
       "      <td>8.6</td>\n",
       "      <td>8.7</td>\n",
       "      <td>13.4</td>\n",
       "    </tr>\n",
       "  </tbody>\n",
       "</table>\n",
       "<p>198 rows × 4 columns</p>\n",
       "</div>"
      ],
      "text/plain": [
       "        TV  radio  newspaper  sales\n",
       "0    230.1   37.8       69.2   22.1\n",
       "1     44.5   39.3       45.1   10.4\n",
       "2     17.2   45.9       69.3    9.3\n",
       "3    151.5   41.3       58.5   18.5\n",
       "4    180.8   10.8       58.4   12.9\n",
       "..     ...    ...        ...    ...\n",
       "195   38.2    3.7       13.8    7.6\n",
       "196   94.2    4.9        8.1    9.7\n",
       "197  177.0    9.3        6.4   12.8\n",
       "198  283.6   42.0       66.2   25.5\n",
       "199  232.1    8.6        8.7   13.4\n",
       "\n",
       "[198 rows x 4 columns]"
      ]
     },
     "execution_count": 27,
     "metadata": {},
     "output_type": "execute_result"
    }
   ],
   "source": [
    "#removing value greater than threshold value \n",
    "\n",
    "df_new=df[(z<3).all(axis=1)]\n",
    "df_new"
   ]
  },
  {
   "cell_type": "markdown",
   "id": "955090b2",
   "metadata": {},
   "source": [
    "Outliers removed"
   ]
  },
  {
   "cell_type": "code",
   "execution_count": 28,
   "id": "d698fb8b",
   "metadata": {},
   "outputs": [],
   "source": [
    "df=df_new"
   ]
  },
  {
   "cell_type": "code",
   "execution_count": 29,
   "id": "f5e94789",
   "metadata": {},
   "outputs": [
    {
     "data": {
      "text/plain": [
       "(198, 4)"
      ]
     },
     "execution_count": 29,
     "metadata": {},
     "output_type": "execute_result"
    }
   ],
   "source": [
    "df.shape"
   ]
  },
  {
   "cell_type": "markdown",
   "id": "35c6d96a",
   "metadata": {},
   "source": [
    "new rows: 198 and column : 5"
   ]
  },
  {
   "cell_type": "markdown",
   "id": "0676a0a1",
   "metadata": {},
   "source": [
    "#### Percentage Loss of data"
   ]
  },
  {
   "cell_type": "code",
   "execution_count": 30,
   "id": "6d2134e8",
   "metadata": {},
   "outputs": [
    {
     "data": {
      "text/plain": [
       "1.0"
      ]
     },
     "execution_count": 30,
     "metadata": {},
     "output_type": "execute_result"
    }
   ],
   "source": [
    "Data_loss=((200-198)/200)*100\n",
    "Data_loss"
   ]
  },
  {
   "cell_type": "markdown",
   "id": "de180495",
   "metadata": {},
   "source": [
    "1% loss of data"
   ]
  },
  {
   "cell_type": "markdown",
   "id": "60ee382e",
   "metadata": {},
   "source": [
    "## Separating the columns into features and target:"
   ]
  },
  {
   "cell_type": "code",
   "execution_count": 31,
   "id": "e8801935",
   "metadata": {},
   "outputs": [],
   "source": [
    "x =df.drop(\"sales\",axis=1)\n",
    "y =df[\"sales\"]"
   ]
  },
  {
   "cell_type": "markdown",
   "id": "fabaa1c6",
   "metadata": {},
   "source": [
    "# Scaling Data"
   ]
  },
  {
   "cell_type": "code",
   "execution_count": 32,
   "id": "3853d5ff",
   "metadata": {},
   "outputs": [
    {
     "data": {
      "text/plain": [
       "array([[ 0.97869734,  0.98952135,  1.93299778],\n",
       "       [-1.19901165,  1.09070498,  0.75131275],\n",
       "       [-1.51933199,  1.53591293,  1.93790103],\n",
       "       [ 0.05645636,  1.22561648,  1.40834924],\n",
       "       [ 0.40024339, -0.83178391,  1.40344598],\n",
       "       [-1.61906543,  1.73828018,  2.2173867 ],\n",
       "       [-1.04647815,  0.6522426 , -0.30779084],\n",
       "       [-0.31079737, -0.23817331, -0.89127846],\n",
       "       [-1.62023876, -1.41864895, -1.41102374],\n",
       "       [ 0.62317696, -1.38492107, -0.42056576],\n",
       "       [-0.94557138, -1.16906267, -0.27346804],\n",
       "       [ 0.79800381,  0.05863199, -1.26392602],\n",
       "       [-1.44189191,  0.80739083,  1.77119028],\n",
       "       [-0.57714432, -1.04764232, -1.10702179],\n",
       "       [ 0.67363035,  0.65898817,  0.79544207],\n",
       "       [ 0.57155024,  1.65733328,  1.13376683],\n",
       "       [ 1.58061798,  1.1109417 ,  1.27596129],\n",
       "       [-0.90919801, -0.17746313, -0.56276022],\n",
       "       [ 0.0071763 ,  0.05188642, -0.52353416],\n",
       "       [ 0.84141719,  0.30821827,  1.15828311],\n",
       "       [ 1.06435076, -1.21628169, -0.30779084],\n",
       "       [-1.56626537, -0.48775959,  0.97195933],\n",
       "       [ 0.95757732, -0.42030384, -0.17540289],\n",
       "       [-0.99015809, -0.71036356, -0.56276022],\n",
       "       [ 1.36355108, -1.32421089, -0.50392113],\n",
       "       [-0.04445042,  0.41614747, -0.84224589],\n",
       "       [ 1.0960308 , -0.43379499, -0.33721038],\n",
       "       [ 1.19811091,  0.26774482, -0.33721038],\n",
       "       [-0.89277132, -0.48101401,  0.54047269],\n",
       "       [ 1.71555146,  0.34869172,  0.65815086],\n",
       "       [-0.39645079, -0.38657596,  0.43260102],\n",
       "       [-0.58066432, -1.4591224 ,  0.01092089],\n",
       "       [ 1.39523112, -0.21119101, -1.44534654],\n",
       "       [-0.59826434, -1.46586797, -1.09721527],\n",
       "       [ 1.6897381 , -1.28373744, -1.04327944],\n",
       "       [ 1.41048447,  1.39425586, -1.21489345],\n",
       "       [-0.8446646 ,  1.77200806,  0.7807323 ],\n",
       "       [-1.21543833,  0.24076252,  0.26098702],\n",
       "       [ 0.95405731,  0.98277578,  0.10898604],\n",
       "       [ 0.65485699, -0.05604278,  0.08937301],\n",
       "       [ 0.35565668,  0.69271605,  0.43750428],\n",
       "       [ 1.7237648 ,  0.30821827, -1.37179768],\n",
       "       [ 0.70648372, -0.99367772, -0.16559637],\n",
       "       [-1.42663856,  0.17330677,  0.66305412],\n",
       "       [ 0.33336332, -0.04255163,  0.08446975],\n",
       "       [-0.66866442, -0.89249409,  0.29040656],\n",
       "       [ 1.09368413,  1.23910763, -0.5529537 ],\n",
       "       [ 0.94467064, -0.49450516,  0.98666911],\n",
       "       [-0.9361847 , -0.77107374,  0.34434239],\n",
       "       [ 0.62317696, -1.35119319,  0.23647073],\n",
       "       [-0.54311762, -0.91273082, -1.28353905],\n",
       "       [ 0.8179505 ,  1.25259878,  0.4816336 ],\n",
       "       [ 0.42136341,  1.55614966,  1.41815575],\n",
       "       [ 1.36120441,  0.3824196 , -0.6804384 ],\n",
       "       [ 0.61261695,  1.77200806,  1.4818981 ],\n",
       "       [-1.63549211,  0.33520057,  0.56989223],\n",
       "       [-0.12306383, -0.26515561, -0.64611559],\n",
       "       [ 0.75224376,  1.78549921,  0.38847171],\n",
       "       [ 0.75107043,  0.42963862, -1.00405338],\n",
       "       [-1.09341154, -1.42539452, -0.41075924],\n",
       "       [ 1.34477773,  1.32005453,  1.22202546],\n",
       "       [ 1.08664412, -0.51474189, -0.12146706],\n",
       "       [-0.51613092,  0.4363842 , -1.0481827 ],\n",
       "       [-0.1829039 ,  1.32680011, -0.04301494],\n",
       "       [-0.91154467, -0.93296754, -1.415927  ],\n",
       "       [-1.35154514,  0.09910544, -1.35218465],\n",
       "       [-0.08669046, -0.58219764, -0.95992407],\n",
       "       [ 1.06435076,  0.29472712, -0.92069801],\n",
       "       [ 0.82264384,  1.40100143, -0.12637031],\n",
       "       [ 0.61496362,  0.50383995,  0.43750428],\n",
       "       [-0.43282416, -0.59568879,  0.09427627],\n",
       "       [-1.40669187,  0.66573375, -0.51372765],\n",
       "       [-0.20285059, -1.17580824,  0.07466324],\n",
       "       [ 0.78275046,  0.09910544, -0.8177296 ],\n",
       "       [-1.52285199,  1.38751028,  2.92345576],\n",
       "       [-1.39847853, -1.45237682, -0.44508204],\n",
       "       [-0.30727736,  0.36218287, -0.76379377],\n",
       "       [-1.65778547,  0.45662092, -0.99915012],\n",
       "       [-0.36007742, -1.04089674, -0.32740387],\n",
       "       [-0.82471792,  0.24076252, -0.36662993],\n",
       "       [ 1.09251079, -1.28373744,  0.34924565],\n",
       "       [-0.8376246 , -0.19095428,  0.13350233],\n",
       "       [-0.91858468,  1.44147488,  0.2855033 ],\n",
       "       [ 0.7839238 ,  1.34029126,  0.19724467],\n",
       "       [ 0.54573688, -0.31912021,  1.76138377],\n",
       "       [-0.82589125,  0.29472712, -0.67553514],\n",
       "       [-0.42226415,  1.17839745,  1.63880233],\n",
       "       [-0.6850911 ,  0.15981562,  2.13893458],\n",
       "       [-0.43282416,  1.66407886,  1.06021797],\n",
       "       [-0.14535719, -1.22977284, -1.00405338],\n",
       "       [-1.38557185, -1.4591224 ,  0.15801861],\n",
       "       [ 0.83320385,  0.69946162,  1.43286552],\n",
       "       [ 1.22275093,  0.90182888,  2.08499875],\n",
       "       [-0.46098419, -0.61592551, -0.92560126],\n",
       "       [ 0.19490984,  0.5712957 ,  1.13376683],\n",
       "       [ 0.5973636 , -1.32421089, -1.17076413],\n",
       "       [ 0.44835011, -0.14373526, -0.3813397 ],\n",
       "       [ 1.67800475,  1.29307223,  1.05041145],\n",
       "       [-0.13479718,  1.25259878,  0.79053881],\n",
       "       [ 0.88835058, -1.27024629,  0.98176585],\n",
       "       [ 1.56653796, -0.87900294, -0.41075924],\n",
       "       [ 0.48355014, -0.40006711, -0.58237325],\n",
       "       [ 1.07373744,  0.75342622, -1.20018368],\n",
       "       [-0.10311715,  1.56964081,  1.43286552],\n",
       "       [-1.42781189, -0.81829276, -0.00378888],\n",
       "       [-0.66045107, -1.5400693 , -0.32250061],\n",
       "       [-1.56743871, -1.53332372, -0.20482243],\n",
       "       [ 1.27555099,  0.25425367, -1.19037716],\n",
       "       [ 0.92824395, -1.00716887,  1.31028409],\n",
       "       [ 1.11480415,  1.0030125 , -0.32250061],\n",
       "       [ 0.34040333, -0.52148746, -1.34237814],\n",
       "       [ 0.73816375, -0.17071756, -0.93540778],\n",
       "       [-0.80359789,  1.59662311,  0.23156747],\n",
       "       [-0.83997127,  0.80064525,  1.12396031],\n",
       "       [-0.0878638 , -0.59568879, -0.20482243],\n",
       "       [-0.82471792, -1.50634142, -0.73437423],\n",
       "       [-0.24626397,  0.92881118,  2.42332351],\n",
       "       [-1.49351863, -0.48101401, -0.36662993],\n",
       "       [-0.06322377,  0.2475081 ,  0.80524858],\n",
       "       [-1.50055864, -0.09651623,  1.01118539],\n",
       "       [ 0.90712393, -1.39841222, -0.69514817],\n",
       "       [-0.27677067,  0.77366295, -0.8520524 ],\n",
       "       [ 0.97165733,  0.61851472,  2.17816064],\n",
       "       [-0.69799778, -0.76432816, -0.19011266],\n",
       "       [-1.62962544,  1.06372268,  1.02099191],\n",
       "       [-0.7801312 , -1.56030602, -1.00895664],\n",
       "       [ 0.86371055,  1.74502576, -1.30315208],\n",
       "       [-1.02183813, -0.75083701,  0.65324761],\n",
       "       [-1.7129322 ,  1.1109417 , -1.03347293],\n",
       "       [ 1.39053778, -1.36468434,  0.64834435],\n",
       "       [-1.62258543,  0.2744904 , -1.35708791],\n",
       "       [ 0.85784388,  0.69946162,  0.75131275],\n",
       "       [-1.28818508,  1.04348595,  1.75648051],\n",
       "       [-1.15442493,  1.61011426, -1.04327944],\n",
       "       [-1.42077188,  1.07046825, -1.00405338],\n",
       "       [ 1.49027122,  0.38916517,  1.46718833],\n",
       "       [-1.21661167,  0.18679792, -0.45488856],\n",
       "       [ 0.44835011,  1.40100143, -1.37670094],\n",
       "       [-0.85991795, -0.41355826, -0.82753612],\n",
       "       [ 0.55160355,  0.82762755,  2.24680625],\n",
       "       [ 0.86605722,  0.6792249 ,  0.39827822],\n",
       "       [-0.49383756, -1.17580824,  0.22666422],\n",
       "       [-0.59239767, -0.56196091,  0.4473108 ],\n",
       "       [-0.07495712, -1.4321401 , -1.01876315],\n",
       "       [ 1.0960308 , -1.06787904, -1.03347293],\n",
       "       [ 1.13240417,  1.74502576,  0.71208669],\n",
       "       [-1.2752784 ,  1.15816073, -0.87656869],\n",
       "       [-1.19666498,  0.18005234, -0.4499853 ],\n",
       "       [ 1.57240464, -0.62267109,  0.35414891],\n",
       "       [-0.30141069, -0.99367772,  0.92783002],\n",
       "       [ 0.5973636 ,  0.01141297, -0.76379377],\n",
       "       [ 0.2887766 ,  1.11768728,  0.38847171],\n",
       "       [ 0.48237681, -0.13698968, -0.99424687],\n",
       "       [-1.67303882, -0.77781931, -1.18057065],\n",
       "       [-0.61938436,  1.37401913,  1.01608865],\n",
       "       [ 0.03650967, -1.47261355, -0.26856478],\n",
       "       [-1.58386539,  0.92881118,  0.75621601],\n",
       "       [-0.17586389, -0.31912021,  0.23647073],\n",
       "       [ 0.30285662, -0.33935694,  0.04524369],\n",
       "       [-0.7155978 ,  0.85460985,  0.95724956],\n",
       "       [ 0.48941682, -0.33935694, -0.20482243],\n",
       "       [ 0.19725651,  0.9220656 , -1.09721527],\n",
       "       [-0.34599741, -0.56870649, -1.19528042],\n",
       "       [ 1.03032406, -1.33095647,  2.69790592],\n",
       "       [-1.51111865,  0.9760302 , -0.40095273],\n",
       "       [ 0.70531038, -1.20953612, -0.50882439],\n",
       "       [ 0.80621716,  0.03164969,  1.36421992],\n",
       "       [ 1.61464468, -0.84527507, -1.14624784],\n",
       "       [-1.13447825, -0.77781931, -0.55785696],\n",
       "       [ 0.20898985, -0.15048083,  0.86408767],\n",
       "       [-1.49117196, -0.20444543, -0.62650256],\n",
       "       [ 0.2547499 , -1.08137019, -0.83243937],\n",
       "       [ 0.88835058, -1.33095647, -0.8177296 ],\n",
       "       [ 1.52781792,  1.73828018,  0.58950526],\n",
       "       [ 1.19341757,  0.47685765, -0.46469507],\n",
       "       [ 0.27586992, -1.03415117,  0.26589027],\n",
       "       [ 1.52547125, -1.4051578 , -0.29798432],\n",
       "       [ 0.22189653, -0.88574852, -0.59708302],\n",
       "       [ 0.11629642, -1.38492107, -1.05308596],\n",
       "       [ 0.84259053, -1.19604497, -0.1165638 ],\n",
       "       [-1.0617315 , -1.17580824, -0.00378888],\n",
       "       [ 1.65336472,  1.34029126,  2.06048247],\n",
       "       [ 1.25677764, -0.12349853,  0.01092089],\n",
       "       [ 0.68419036,  1.48194833, -0.49901787],\n",
       "       [-0.08434379, -1.41864895, -0.15578986],\n",
       "       [ 0.52109685,  0.37567402, -0.56766348],\n",
       "       [ 1.63459137, -0.62267109, -1.27863579],\n",
       "       [-1.50173197, -0.74409144, -0.31269409],\n",
       "       [-1.25767838,  1.21212533, -1.17566739],\n",
       "       [-0.83527793, -0.83178391, -1.16586087],\n",
       "       [-1.51933199, -1.28373744,  0.08937301],\n",
       "       [ 0.23597655,  1.2728355 , -1.28353905],\n",
       "       [ 0.03533633,  0.8411187 , -1.16586087],\n",
       "       [-1.27293173, -1.31071974, -0.7834068 ],\n",
       "       [-0.61586436, -1.22977284, -1.06289247],\n",
       "       [ 0.35565668, -0.93296754, -1.14624784],\n",
       "       [ 1.60643134,  1.2728355 ,  1.78590005],\n",
       "       [ 1.00216403, -0.98018657, -1.03347293]])"
      ]
     },
     "execution_count": 32,
     "metadata": {},
     "output_type": "execute_result"
    }
   ],
   "source": [
    "from sklearn.preprocessing import StandardScaler\n",
    "sc = StandardScaler()\n",
    "x=sc.fit_transform(x)\n",
    "x"
   ]
  },
  {
   "cell_type": "markdown",
   "id": "471b9c77",
   "metadata": {},
   "source": [
    "# Model Selection :"
   ]
  },
  {
   "cell_type": "markdown",
   "id": "cda89368",
   "metadata": {},
   "source": [
    "## Linear Regression:"
   ]
  },
  {
   "cell_type": "code",
   "execution_count": 33,
   "id": "d1ba4ed4",
   "metadata": {},
   "outputs": [],
   "source": [
    "from sklearn.metrics import r2_score \n",
    "from sklearn.linear_model import LinearRegression\n",
    "lr=LinearRegression()\n",
    "from sklearn.metrics import mean_squared_error,mean_absolute_error\n",
    "from sklearn.metrics import accuracy_score\n",
    "from sklearn.model_selection import train_test_split\n",
    "\n",
    "import warnings\n",
    "warnings.filterwarnings('ignore')"
   ]
  },
  {
   "cell_type": "code",
   "execution_count": 34,
   "id": "7e40cc17",
   "metadata": {},
   "outputs": [
    {
     "name": "stdout",
     "output_type": "stream",
     "text": [
      "At random state 0,the training accuracy is:- 0.8898322019518987\n",
      "At random state 0,the testing accuracy is:- 0.9098946359000558\n",
      "\n",
      "\n",
      "At random state 1,the training accuracy is:- 0.8946050839431845\n",
      "At random state 1,the testing accuracy is:- 0.8912199077372978\n",
      "\n",
      "\n",
      "At random state 2,the training accuracy is:- 0.9105689646648081\n",
      "At random state 2,the testing accuracy is:- 0.8381266733637571\n",
      "\n",
      "\n",
      "At random state 3,the training accuracy is:- 0.8944143192604463\n",
      "At random state 3,the testing accuracy is:- 0.8980994665131536\n",
      "\n",
      "\n",
      "At random state 4,the training accuracy is:- 0.8981805823414822\n",
      "At random state 4,the testing accuracy is:- 0.8719021920124682\n",
      "\n",
      "\n",
      "At random state 5,the training accuracy is:- 0.8994368014551729\n",
      "At random state 5,the testing accuracy is:- 0.8616494043950313\n",
      "\n",
      "\n",
      "At random state 6,the training accuracy is:- 0.8993028842288797\n",
      "At random state 6,the testing accuracy is:- 0.8760639888444908\n",
      "\n",
      "\n",
      "At random state 7,the training accuracy is:- 0.8907422790206732\n",
      "At random state 7,the testing accuracy is:- 0.9072259879826814\n",
      "\n",
      "\n",
      "At random state 8,the training accuracy is:- 0.9032084965142416\n",
      "At random state 8,the testing accuracy is:- 0.8622119821531382\n",
      "\n",
      "\n",
      "At random state 9,the training accuracy is:- 0.8896116143369225\n",
      "At random state 9,the testing accuracy is:- 0.9148867690563419\n",
      "\n",
      "\n",
      "At random state 10,the training accuracy is:- 0.9234109258384534\n",
      "At random state 10,the testing accuracy is:- 0.7847276428213541\n",
      "\n",
      "\n",
      "At random state 11,the training accuracy is:- 0.8849527337629283\n",
      "At random state 11,the testing accuracy is:- 0.9251344460664062\n",
      "\n",
      "\n",
      "At random state 12,the training accuracy is:- 0.893155890966673\n",
      "At random state 12,the testing accuracy is:- 0.9002147591940637\n",
      "\n",
      "\n",
      "At random state 13,the training accuracy is:- 0.9073685036587192\n",
      "At random state 13,the testing accuracy is:- 0.8379451608981884\n",
      "\n",
      "\n",
      "At random state 14,the training accuracy is:- 0.8856322875906846\n",
      "At random state 14,the testing accuracy is:- 0.9137433855890316\n",
      "\n",
      "\n",
      "At random state 15,the training accuracy is:- 0.8910311748322177\n",
      "At random state 15,the testing accuracy is:- 0.9086681780127939\n",
      "\n",
      "\n",
      "At random state 16,the training accuracy is:- 0.8904589451941378\n",
      "At random state 16,the testing accuracy is:- 0.9092658921355937\n",
      "\n",
      "\n",
      "At random state 17,the training accuracy is:- 0.888899070609342\n",
      "At random state 17,the testing accuracy is:- 0.9158107183004831\n",
      "\n",
      "\n",
      "At random state 18,the training accuracy is:- 0.9107512319836958\n",
      "At random state 18,the testing accuracy is:- 0.8352581054144459\n",
      "\n",
      "\n",
      "At random state 19,the training accuracy is:- 0.8952937219888688\n",
      "At random state 19,the testing accuracy is:- 0.8777946475901687\n",
      "\n",
      "\n",
      "At random state 20,the training accuracy is:- 0.8861735393665224\n",
      "At random state 20,the testing accuracy is:- 0.9134618213607718\n",
      "\n",
      "\n",
      "At random state 21,the training accuracy is:- 0.884565335473425\n",
      "At random state 21,the testing accuracy is:- 0.9276910202519096\n",
      "\n",
      "\n",
      "At random state 22,the training accuracy is:- 0.8863623904193301\n",
      "At random state 22,the testing accuracy is:- 0.9272257674174521\n",
      "\n",
      "\n",
      "At random state 23,the training accuracy is:- 0.8851633612750962\n",
      "At random state 23,the testing accuracy is:- 0.928084683528906\n",
      "\n",
      "\n",
      "At random state 24,the training accuracy is:- 0.8809757910723603\n",
      "At random state 24,the testing accuracy is:- 0.9456025807476978\n",
      "\n",
      "\n",
      "At random state 25,the training accuracy is:- 0.8829622259449756\n",
      "At random state 25,the testing accuracy is:- 0.9371746629622535\n",
      "\n",
      "\n",
      "At random state 26,the training accuracy is:- 0.9048077861193833\n",
      "At random state 26,the testing accuracy is:- 0.8203780207359677\n",
      "\n",
      "\n",
      "At random state 27,the training accuracy is:- 0.9094784686975189\n",
      "At random state 27,the testing accuracy is:- 0.822690110702812\n",
      "\n",
      "\n",
      "At random state 28,the training accuracy is:- 0.9151656207216119\n",
      "At random state 28,the testing accuracy is:- 0.8242122179832336\n",
      "\n",
      "\n",
      "At random state 29,the training accuracy is:- 0.9079314459560758\n",
      "At random state 29,the testing accuracy is:- 0.8429744958016214\n",
      "\n",
      "\n",
      "At random state 30,the training accuracy is:- 0.9129669348136418\n",
      "At random state 30,the testing accuracy is:- 0.8232112840158845\n",
      "\n",
      "\n",
      "At random state 31,the training accuracy is:- 0.8807741206684752\n",
      "At random state 31,the testing accuracy is:- 0.9322873954829172\n",
      "\n",
      "\n",
      "At random state 32,the training accuracy is:- 0.8879237528446708\n",
      "At random state 32,the testing accuracy is:- 0.9176590893491935\n",
      "\n",
      "\n",
      "At random state 33,the training accuracy is:- 0.888035916659505\n",
      "At random state 33,the testing accuracy is:- 0.9168199223474397\n",
      "\n",
      "\n",
      "At random state 34,the training accuracy is:- 0.8961381192278818\n",
      "At random state 34,the testing accuracy is:- 0.8842687782801526\n",
      "\n",
      "\n",
      "At random state 35,the training accuracy is:- 0.8902893064280746\n",
      "At random state 35,the testing accuracy is:- 0.9153905766088837\n",
      "\n",
      "\n",
      "At random state 36,the training accuracy is:- 0.8896329800738692\n",
      "At random state 36,the testing accuracy is:- 0.9127811165767806\n",
      "\n",
      "\n",
      "At random state 37,the training accuracy is:- 0.8928441817473719\n",
      "At random state 37,the testing accuracy is:- 0.9089901606257966\n",
      "\n",
      "\n",
      "At random state 38,the training accuracy is:- 0.8897925916435414\n",
      "At random state 38,the testing accuracy is:- 0.9172706638690491\n",
      "\n",
      "\n",
      "At random state 39,the training accuracy is:- 0.9035389723312434\n",
      "At random state 39,the testing accuracy is:- 0.8548912714848504\n",
      "\n",
      "\n",
      "At random state 40,the training accuracy is:- 0.8938865309825034\n",
      "At random state 40,the testing accuracy is:- 0.8933223521136455\n",
      "\n",
      "\n",
      "At random state 41,the training accuracy is:- 0.8990543250257402\n",
      "At random state 41,the testing accuracy is:- 0.8663464679495858\n",
      "\n",
      "\n",
      "At random state 42,the training accuracy is:- 0.8935961872087126\n",
      "At random state 42,the testing accuracy is:- 0.8989454779619588\n",
      "\n",
      "\n",
      "At random state 43,the training accuracy is:- 0.9003196624874754\n",
      "At random state 43,the testing accuracy is:- 0.8751484803695657\n",
      "\n",
      "\n",
      "At random state 44,the training accuracy is:- 0.9031303879771791\n",
      "At random state 44,the testing accuracy is:- 0.811700063229044\n",
      "\n",
      "\n",
      "At random state 45,the training accuracy is:- 0.8978187125535125\n",
      "At random state 45,the testing accuracy is:- 0.8747422037972019\n",
      "\n",
      "\n",
      "At random state 46,the training accuracy is:- 0.899102111687532\n",
      "At random state 46,the testing accuracy is:- 0.8726271917983103\n",
      "\n",
      "\n",
      "At random state 47,the training accuracy is:- 0.8948929338032797\n",
      "At random state 47,the testing accuracy is:- 0.8922946750347812\n",
      "\n",
      "\n",
      "At random state 48,the training accuracy is:- 0.9019155855266181\n",
      "At random state 48,the testing accuracy is:- 0.866237899668671\n",
      "\n",
      "\n",
      "At random state 49,the training accuracy is:- 0.910538439235421\n",
      "At random state 49,the testing accuracy is:- 0.8351144932670392\n",
      "\n",
      "\n",
      "At random state 50,the training accuracy is:- 0.9009231461636191\n",
      "At random state 50,the testing accuracy is:- 0.8429785403092692\n",
      "\n",
      "\n",
      "At random state 51,the training accuracy is:- 0.8929482650783451\n",
      "At random state 51,the testing accuracy is:- 0.8969749608189317\n",
      "\n",
      "\n",
      "At random state 52,the training accuracy is:- 0.8947789773965512\n",
      "At random state 52,the testing accuracy is:- 0.892514599511717\n",
      "\n",
      "\n",
      "At random state 53,the training accuracy is:- 0.9048442016872695\n",
      "At random state 53,the testing accuracy is:- 0.8524939615808071\n",
      "\n",
      "\n",
      "At random state 54,the training accuracy is:- 0.8982293254785564\n",
      "At random state 54,the testing accuracy is:- 0.8776799027550092\n",
      "\n",
      "\n",
      "At random state 55,the training accuracy is:- 0.8934732789730451\n",
      "At random state 55,the testing accuracy is:- 0.8977109139390169\n",
      "\n",
      "\n",
      "At random state 56,the training accuracy is:- 0.9062773777328017\n",
      "At random state 56,the testing accuracy is:- 0.8436665154822788\n",
      "\n",
      "\n",
      "At random state 57,the training accuracy is:- 0.9032862954100991\n",
      "At random state 57,the testing accuracy is:- 0.8652060367319568\n",
      "\n",
      "\n",
      "At random state 58,the training accuracy is:- 0.8815285101634734\n",
      "At random state 58,the testing accuracy is:- 0.930113922012518\n",
      "\n",
      "\n",
      "At random state 59,the training accuracy is:- 0.8872670373538741\n",
      "At random state 59,the testing accuracy is:- 0.9184306555712066\n",
      "\n",
      "\n",
      "At random state 60,the training accuracy is:- 0.8985938448584895\n",
      "At random state 60,the testing accuracy is:- 0.8823000359749914\n",
      "\n",
      "\n",
      "At random state 61,the training accuracy is:- 0.9046156537711098\n",
      "At random state 61,the testing accuracy is:- 0.8532975619375341\n",
      "\n",
      "\n",
      "At random state 62,the training accuracy is:- 0.9006118694968954\n",
      "At random state 62,the testing accuracy is:- 0.8571507573921291\n",
      "\n",
      "\n",
      "At random state 63,the training accuracy is:- 0.8939151551704926\n",
      "At random state 63,the testing accuracy is:- 0.8972874269449632\n"
     ]
    },
    {
     "name": "stdout",
     "output_type": "stream",
     "text": [
      "\n",
      "\n",
      "At random state 64,the training accuracy is:- 0.8860385862322467\n",
      "At random state 64,the testing accuracy is:- 0.9267279065103222\n",
      "\n",
      "\n",
      "At random state 65,the training accuracy is:- 0.8979269961140793\n",
      "At random state 65,the testing accuracy is:- 0.8825466552554458\n",
      "\n",
      "\n",
      "At random state 66,the training accuracy is:- 0.9005426396871374\n",
      "At random state 66,the testing accuracy is:- 0.8744920660734806\n",
      "\n",
      "\n",
      "At random state 67,the training accuracy is:- 0.8916079358605494\n",
      "At random state 67,the testing accuracy is:- 0.9057874401170471\n",
      "\n",
      "\n",
      "At random state 68,the training accuracy is:- 0.9033182509577266\n",
      "At random state 68,the testing accuracy is:- 0.8617429493016013\n",
      "\n",
      "\n",
      "At random state 69,the training accuracy is:- 0.8914686052810469\n",
      "At random state 69,the testing accuracy is:- 0.9060706943218672\n",
      "\n",
      "\n",
      "At random state 70,the training accuracy is:- 0.8827162954196404\n",
      "At random state 70,the testing accuracy is:- 0.9265656652996626\n",
      "\n",
      "\n",
      "At random state 71,the training accuracy is:- 0.9094738850819296\n",
      "At random state 71,the testing accuracy is:- 0.8071830117377918\n",
      "\n",
      "\n",
      "At random state 72,the training accuracy is:- 0.8877647068250816\n",
      "At random state 72,the testing accuracy is:- 0.9212755833741663\n",
      "\n",
      "\n",
      "At random state 73,the training accuracy is:- 0.8960783562759226\n",
      "At random state 73,the testing accuracy is:- 0.8849214355996005\n",
      "\n",
      "\n",
      "At random state 74,the training accuracy is:- 0.8741050234782155\n",
      "At random state 74,the testing accuracy is:- 0.9298308020128561\n",
      "\n",
      "\n",
      "At random state 75,the training accuracy is:- 0.8953962394226144\n",
      "At random state 75,the testing accuracy is:- 0.8756772369429392\n",
      "\n",
      "\n",
      "At random state 76,the training accuracy is:- 0.9038582953449021\n",
      "At random state 76,the testing accuracy is:- 0.851612626570941\n",
      "\n",
      "\n",
      "At random state 77,the training accuracy is:- 0.8890301857718985\n",
      "At random state 77,the testing accuracy is:- 0.9166905563751222\n",
      "\n",
      "\n",
      "At random state 78,the training accuracy is:- 0.9134603355273572\n",
      "At random state 78,the testing accuracy is:- 0.790234402720306\n",
      "\n",
      "\n",
      "At random state 79,the training accuracy is:- 0.8918146350991454\n",
      "At random state 79,the testing accuracy is:- 0.9014406236580841\n",
      "\n",
      "\n",
      "At random state 80,the training accuracy is:- 0.8926690585654801\n",
      "At random state 80,the testing accuracy is:- 0.9037187128234278\n",
      "\n",
      "\n",
      "At random state 81,the training accuracy is:- 0.8877828922449126\n",
      "At random state 81,the testing accuracy is:- 0.9199455602534609\n",
      "\n",
      "\n",
      "At random state 82,the training accuracy is:- 0.9090696813399116\n",
      "At random state 82,the testing accuracy is:- 0.839876824043998\n",
      "\n",
      "\n",
      "At random state 83,the training accuracy is:- 0.900459401377182\n",
      "At random state 83,the testing accuracy is:- 0.8791148089196503\n",
      "\n",
      "\n",
      "At random state 84,the training accuracy is:- 0.8835761124862845\n",
      "At random state 84,the testing accuracy is:- 0.9292654473438203\n",
      "\n",
      "\n",
      "At random state 85,the training accuracy is:- 0.9132027063640219\n",
      "At random state 85,the testing accuracy is:- 0.7705544702687278\n",
      "\n",
      "\n",
      "At random state 86,the training accuracy is:- 0.8925903351276707\n",
      "At random state 86,the testing accuracy is:- 0.9047661303024037\n",
      "\n",
      "\n",
      "At random state 87,the training accuracy is:- 0.9141328363442639\n",
      "At random state 87,the testing accuracy is:- 0.8087421010289434\n",
      "\n",
      "\n",
      "At random state 88,the training accuracy is:- 0.8972954404318595\n",
      "At random state 88,the testing accuracy is:- 0.8837353565017301\n",
      "\n",
      "\n",
      "At random state 89,the training accuracy is:- 0.9032509605262719\n",
      "At random state 89,the testing accuracy is:- 0.845842124811012\n",
      "\n",
      "\n",
      "At random state 90,the training accuracy is:- 0.8791542940797823\n",
      "At random state 90,the testing accuracy is:- 0.9477136584598765\n",
      "\n",
      "\n",
      "At random state 91,the training accuracy is:- 0.8925537988702157\n",
      "At random state 91,the testing accuracy is:- 0.8986272987144844\n",
      "\n",
      "\n",
      "At random state 92,the training accuracy is:- 0.89370900172804\n",
      "At random state 92,the testing accuracy is:- 0.8937806772897253\n",
      "\n",
      "\n",
      "At random state 93,the training accuracy is:- 0.9083900499601348\n",
      "At random state 93,the testing accuracy is:- 0.8435303584836114\n",
      "\n",
      "\n",
      "At random state 94,the training accuracy is:- 0.9035778811399116\n",
      "At random state 94,the testing accuracy is:- 0.8679025522688202\n",
      "\n",
      "\n",
      "At random state 95,the training accuracy is:- 0.9081470930021118\n",
      "At random state 95,the testing accuracy is:- 0.8479116409360148\n",
      "\n",
      "\n",
      "At random state 96,the training accuracy is:- 0.9025829262386168\n",
      "At random state 96,the testing accuracy is:- 0.854981902005895\n",
      "\n",
      "\n",
      "At random state 97,the training accuracy is:- 0.8941951908750972\n",
      "At random state 97,the testing accuracy is:- 0.8975724260460941\n",
      "\n",
      "\n",
      "At random state 98,the training accuracy is:- 0.9090516361378773\n",
      "At random state 98,the testing accuracy is:- 0.8382459156006745\n",
      "\n",
      "\n",
      "At random state 99,the training accuracy is:- 0.8832087051413472\n",
      "At random state 99,the testing accuracy is:- 0.9300192208914474\n",
      "\n",
      "\n"
     ]
    }
   ],
   "source": [
    "for i in range(0,100):\n",
    "    train_x,test_x,train_y,test_y=train_test_split(x,y,test_size=0.2,random_state=i)\n",
    "    lr.fit(train_x,train_y)\n",
    "    pred_train=lr.predict(train_x)\n",
    "    pred_test=lr.predict(test_x)\n",
    "    print(f\"At random state {i},the training accuracy is:- {r2_score(train_y,pred_train)}\")\n",
    "    print(f\"At random state {i},the testing accuracy is:- {r2_score(test_y,pred_test)}\")\n",
    "    print(\"\\n\")"
   ]
  },
  {
   "cell_type": "code",
   "execution_count": 35,
   "id": "e9135e3e",
   "metadata": {},
   "outputs": [
    {
     "data": {
      "text/plain": [
       "0.9300192208914474"
      ]
     },
     "execution_count": 35,
     "metadata": {},
     "output_type": "execute_result"
    }
   ],
   "source": [
    "lr.fit(train_x,train_y)\n",
    "lr.score(test_x,test_y)"
   ]
  },
  {
   "cell_type": "markdown",
   "id": "13adcfca",
   "metadata": {},
   "source": [
    "92% is Linear regression score"
   ]
  },
  {
   "cell_type": "code",
   "execution_count": 36,
   "id": "e29ac804",
   "metadata": {},
   "outputs": [
    {
     "data": {
      "text/plain": [
       "array([13.79787109,  6.87859548, 10.02227261,  8.99977013,  8.51158997,\n",
       "       12.7564214 , 10.72423401, 12.08028327, 21.06978079, 20.74989813,\n",
       "       15.39703312, 21.52232475,  5.40443507, 17.17767909, 12.45947343,\n",
       "        5.52510295, 15.7168206 , 21.99683841, 12.67919673, 15.43287384,\n",
       "        7.85194967,  8.86698047, 14.7561965 ,  9.43152253, 16.79173052,\n",
       "       20.46778637, 15.13265518,  9.85500302, 23.90300687, 10.14381842,\n",
       "       13.7446561 , 18.31466298, 15.18466091, 17.98430559, 13.90782389,\n",
       "       10.18990567, 10.28387204, 23.00008118, 23.03371573, 20.27317926])"
      ]
     },
     "execution_count": 36,
     "metadata": {},
     "output_type": "execute_result"
    }
   ],
   "source": [
    "#Predicted data\n",
    "pred=lr.predict(test_x)\n",
    "pred"
   ]
  },
  {
   "cell_type": "markdown",
   "id": "c8fe65f3",
   "metadata": {},
   "source": [
    "Predicted Data in array form"
   ]
  },
  {
   "cell_type": "code",
   "execution_count": 37,
   "id": "f0da907f",
   "metadata": {},
   "outputs": [
    {
     "name": "stdout",
     "output_type": "stream",
     "text": [
      "Mean squared error: 2.2619323011225894\n",
      "Mean absolute error: 1.196071070117656\n",
      "R2Score: 0.9300192208914474\n"
     ]
    }
   ],
   "source": [
    "print(\"Mean squared error:\",mean_squared_error(test_y,pred))\n",
    "print(\"Mean absolute error:\",mean_absolute_error(test_y,pred))\n",
    "print(\"R2Score:\",r2_score(test_y,pred))"
   ]
  },
  {
   "cell_type": "markdown",
   "id": "f4182871",
   "metadata": {},
   "source": [
    "R2Score is 92.9%"
   ]
  },
  {
   "cell_type": "markdown",
   "id": "d60cc8eb",
   "metadata": {},
   "source": [
    "## Cross-Validation of the model:"
   ]
  },
  {
   "cell_type": "code",
   "execution_count": 38,
   "id": "a5a583a7",
   "metadata": {},
   "outputs": [
    {
     "name": "stdout",
     "output_type": "stream",
     "text": [
      "At cross fold 2 the cv score is 0.8886177292201751 and accuracy score for training is 0.8832087051413472 and accuracy for the testing is 0.9300192208914474\n",
      "\n",
      "\n",
      "At cross fold 3 the cv score is 0.8890406332045909 and accuracy score for training is 0.8832087051413472 and accuracy for the testing is 0.9300192208914474\n",
      "\n",
      "\n",
      "At cross fold 4 the cv score is 0.8880501918930908 and accuracy score for training is 0.8832087051413472 and accuracy for the testing is 0.9300192208914474\n",
      "\n",
      "\n",
      "At cross fold 5 the cv score is 0.8853605756683912 and accuracy score for training is 0.8832087051413472 and accuracy for the testing is 0.9300192208914474\n",
      "\n",
      "\n",
      "At cross fold 6 the cv score is 0.8868174285063072 and accuracy score for training is 0.8832087051413472 and accuracy for the testing is 0.9300192208914474\n",
      "\n",
      "\n",
      "At cross fold 7 the cv score is 0.883828289486476 and accuracy score for training is 0.8832087051413472 and accuracy for the testing is 0.9300192208914474\n",
      "\n",
      "\n",
      "At cross fold 8 the cv score is 0.8880334554150218 and accuracy score for training is 0.8832087051413472 and accuracy for the testing is 0.9300192208914474\n",
      "\n",
      "\n",
      "At cross fold 9 the cv score is 0.8810485430282271 and accuracy score for training is 0.8832087051413472 and accuracy for the testing is 0.9300192208914474\n",
      "\n",
      "\n"
     ]
    }
   ],
   "source": [
    "Train_accuracy=r2_score(train_y,pred_train)\n",
    "Test_accuracy=r2_score(test_y,pred_test)\n",
    "\n",
    "from sklearn.model_selection import cross_val_score\n",
    "for j in range(2,10):\n",
    "    cv_score=cross_val_score(lr,x,y,cv=j)\n",
    "    cv_mean=cv_score.mean()\n",
    "    print(f\"At cross fold {j} the cv score is {cv_mean} and accuracy score for training is {Train_accuracy} and accuracy for the testing is {Test_accuracy}\")\n",
    "    print(\"\\n\")"
   ]
  },
  {
   "cell_type": "markdown",
   "id": "4762f627",
   "metadata": {},
   "source": [
    "Since the number of folds dont have such impact on the accuracy and cv_score. So cv=5 is selected.\n",
    "\n",
    "Hence we handled the problem of the overfitting and the underfitting by checking the training and testing score."
   ]
  },
  {
   "cell_type": "code",
   "execution_count": 39,
   "id": "8aff6797",
   "metadata": {},
   "outputs": [
    {
     "data": {
      "image/png": "[encoded data removed]",
      "text/plain": [
       "<Figure size 576x432 with 1 Axes>"
      ]
     },
     "metadata": {
      "needs_background": "light"
     },
     "output_type": "display_data"
    }
   ],
   "source": [
    "import matplotlib.pyplot as plt\n",
    "plt.figure(figsize=(8,6))\n",
    "plt.scatter(x=test_y, y=pred_test, color='r')\n",
    "plt.plot(test_y,test_y, color='b')\n",
    "plt.xlabel('Actual data',fontsize=14)\n",
    "plt.ylabel('Predicted data',fontsize=14)\n",
    "plt.title('Linear Regression',fontsize=18)\n",
    "plt.show()"
   ]
  },
  {
   "cell_type": "markdown",
   "id": "336e2bd7",
   "metadata": {},
   "source": [
    "Plotting of Predicted and actual data"
   ]
  },
  {
   "cell_type": "markdown",
   "id": "609ab71b",
   "metadata": {},
   "source": [
    "# Regularization"
   ]
  },
  {
   "cell_type": "code",
   "execution_count": 40,
   "id": "f5f1285d",
   "metadata": {},
   "outputs": [],
   "source": [
    "# Importing Libraries and Hyper parameter tuning:\n",
    "from sklearn.model_selection import GridSearchCV\n",
    "from sklearn.model_selection import cross_val_score\n",
    "import warnings\n",
    "warnings.filterwarnings('ignore')"
   ]
  },
  {
   "cell_type": "code",
   "execution_count": 41,
   "id": "18ad6ff4",
   "metadata": {},
   "outputs": [
    {
     "name": "stdout",
     "output_type": "stream",
     "text": [
      "{'alpha': 0.1, 'random_state': 0}\n"
     ]
    }
   ],
   "source": [
    "from sklearn.linear_model import Lasso\n",
    "\n",
    "parameters = {'alpha':[.0001, .001, .01, .1, 1,10],'random_state':list(range(0,10))}\n",
    "ls = Lasso()\n",
    "clf = GridSearchCV(ls,parameters)\n",
    "clf.fit(train_x,train_y)\n",
    "\n",
    "print(clf.best_params_)"
   ]
  },
  {
   "cell_type": "markdown",
   "id": "616e4fab",
   "metadata": {},
   "source": [
    "Best parameters for Linear Regression "
   ]
  },
  {
   "cell_type": "code",
   "execution_count": 42,
   "id": "ed8e3c9f",
   "metadata": {},
   "outputs": [
    {
     "name": "stdout",
     "output_type": "stream",
     "text": [
      "ls score 0.8824179429049469\n",
      "r2 score 92.50218493254579\n"
     ]
    }
   ],
   "source": [
    "ls = Lasso(alpha=0.1,random_state=0)\n",
    "ls.fit(train_x,train_y)\n",
    "ls.score(train_x,train_y)\n",
    "print('ls score',ls.score(train_x,train_y))\n",
    "pred_ls = ls.predict(test_x)\n",
    "\n",
    "r2s = r2_score(test_y,pred_ls)\n",
    "print('r2 score',r2s*100)"
   ]
  },
  {
   "cell_type": "markdown",
   "id": "20b3b045",
   "metadata": {},
   "source": [
    "Ls score is 88% and r2score is 92.5%"
   ]
  },
  {
   "cell_type": "code",
   "execution_count": 43,
   "id": "3dd4a906",
   "metadata": {},
   "outputs": [
    {
     "data": {
      "text/plain": [
       "0.8870590310349007"
      ]
     },
     "execution_count": 43,
     "metadata": {},
     "output_type": "execute_result"
    }
   ],
   "source": [
    "cv_score=cross_val_score(ls,x,y,cv=5)\n",
    "cv_mean=cv_score.mean()\n",
    "cv_mean"
   ]
  },
  {
   "cell_type": "markdown",
   "id": "ad04b97c",
   "metadata": {},
   "source": [
    "CV_mean value is 88.7%"
   ]
  },
  {
   "cell_type": "markdown",
   "id": "6f1028b2",
   "metadata": {},
   "source": [
    "# Random Forest Regressor"
   ]
  },
  {
   "cell_type": "code",
   "execution_count": 44,
   "id": "8d142a34",
   "metadata": {},
   "outputs": [
    {
     "name": "stdout",
     "output_type": "stream",
     "text": [
      "{'criterion': 'mae', 'max_features': 'auto'}\n"
     ]
    }
   ],
   "source": [
    "# Importing Libraries and Hyper parameter tuning:\n",
    "from sklearn.model_selection import GridSearchCV\n",
    "from sklearn.ensemble import RandomForestRegressor\n",
    "\n",
    "parameters = {'criterion':['mse', 'mae'],'max_features':[\"auto\", \"sqrt\", \"log2\"]}\n",
    "rf =RandomForestRegressor()\n",
    "clf = GridSearchCV(rf,parameters)\n",
    "clf.fit(train_x,train_y)\n",
    "\n",
    "print(clf.best_params_)"
   ]
  },
  {
   "cell_type": "markdown",
   "id": "aca36a1e",
   "metadata": {},
   "source": [
    "Best parameters for RandomForestRegressor "
   ]
  },
  {
   "cell_type": "code",
   "execution_count": 45,
   "id": "0d3ae421",
   "metadata": {},
   "outputs": [
    {
     "name": "stdout",
     "output_type": "stream",
     "text": [
      "rf score 0.9959271985253211\n",
      "R2 Score: 98.00681799328673\n",
      "Cross Val Score: 97.79217361082847\n"
     ]
    }
   ],
   "source": [
    "rf= RandomForestRegressor(criterion=\"mae\",max_features=\"auto\")\n",
    "rf.fit(train_x,train_y)\n",
    "rf.score(train_x,train_y)\n",
    "pred_decision = rf.predict(test_x)\n",
    "print('rf score',rf.score(train_x,train_y))\n",
    "rfs = r2_score(test_y,pred_decision)\n",
    "print('R2 Score:',rfs*100)\n",
    "\n",
    "rfscore = cross_val_score(rf,x,y,cv=9)\n",
    "rfc = rfscore.mean()\n",
    "print('Cross Val Score:',rfc*100)"
   ]
  },
  {
   "cell_type": "markdown",
   "id": "7b4d04a4",
   "metadata": {},
   "source": [
    "rf score 99.6%\n",
    "R2 Score: 98%\n",
    "Cross Val Score: 97.7%"
   ]
  },
  {
   "cell_type": "code",
   "execution_count": 46,
   "id": "1d8cd9b8",
   "metadata": {},
   "outputs": [
    {
     "data": {
      "image/png": "[encoded data removed]",
      "text/plain": [
       "<Figure size 576x432 with 1 Axes>"
      ]
     },
     "metadata": {
      "needs_background": "light"
     },
     "output_type": "display_data"
    }
   ],
   "source": [
    "import matplotlib.pyplot as plt\n",
    "plt.figure(figsize=(8,6))\n",
    "plt.scatter(x=test_y, y=pred_decision, color='r')\n",
    "plt.plot(test_y,test_y, color='b')\n",
    "plt.xlabel('Actual data',fontsize=14)\n",
    "plt.ylabel('Predicted data',fontsize=14)\n",
    "plt.title('Random Forest Regressor',fontsize=18)\n",
    "plt.show()"
   ]
  },
  {
   "cell_type": "markdown",
   "id": "6cac60b6",
   "metadata": {},
   "source": [
    "# Decision Tree Regressor"
   ]
  },
  {
   "cell_type": "code",
   "execution_count": 47,
   "id": "a63637f3",
   "metadata": {},
   "outputs": [
    {
     "name": "stdout",
     "output_type": "stream",
     "text": [
      "{'criterion': 'mse', 'max_depth': 10, 'max_features': 'auto', 'min_samples_split': 0.25}\n"
     ]
    }
   ],
   "source": [
    "# Importing Libraries and Hyper parameter tuning:\n",
    "from sklearn.model_selection import GridSearchCV\n",
    "from sklearn.tree import DecisionTreeRegressor\n",
    "\n",
    "parameters = {'criterion':['mse', 'mae'],\n",
    "              'max_features':[\"auto\",\"sqrt\", \"log2\"],\n",
    "              'max_depth':[2,4,8,10,None],\n",
    "            'min_samples_split':[0.25,0.5,1.0]}\n",
    "dt =DecisionTreeRegressor()\n",
    "clf = GridSearchCV(dt,parameters)\n",
    "clf.fit(train_x,train_y)\n",
    "\n",
    "print(clf.best_params_)"
   ]
  },
  {
   "cell_type": "markdown",
   "id": "9cea1225",
   "metadata": {},
   "source": [
    "Best parameters for DecisionTreeRegressor "
   ]
  },
  {
   "cell_type": "code",
   "execution_count": 48,
   "id": "5cdc1011",
   "metadata": {},
   "outputs": [
    {
     "name": "stdout",
     "output_type": "stream",
     "text": [
      "dt score 0.900235693792013\n",
      "R2 Score: 84.14442139680705\n",
      "Cross Val Score: 82.63188398496145\n"
     ]
    }
   ],
   "source": [
    "dt =DecisionTreeRegressor(criterion=\"mse\",max_features=\"auto\",max_depth= 4,min_samples_split=0.25)\n",
    "dt.fit(train_x,train_y)\n",
    "dt.score(train_x,train_y)\n",
    "pred_decision = dt.predict(test_x)\n",
    "print('dt score',dt.score(train_x,train_y))\n",
    "dts = r2_score(test_y,pred_decision)\n",
    "print('R2 Score:',dts*100)\n",
    "\n",
    "dtscore = cross_val_score(dt,x,y,cv=9)\n",
    "dtc = dtscore.mean()\n",
    "print('Cross Val Score:',dtc*100)"
   ]
  },
  {
   "cell_type": "markdown",
   "id": "561936ae",
   "metadata": {},
   "source": [
    "dt score 90%\n",
    "R2 Score: 84.1%\n",
    "Cross Val Score: 82.6%"
   ]
  },
  {
   "cell_type": "code",
   "execution_count": 49,
   "id": "adc95fd5",
   "metadata": {},
   "outputs": [
    {
     "data": {
      "image/png": "[encoded data removed]",
      "text/plain": [
       "<Figure size 576x432 with 1 Axes>"
      ]
     },
     "metadata": {
      "needs_background": "light"
     },
     "output_type": "display_data"
    }
   ],
   "source": [
    "import matplotlib.pyplot as plt\n",
    "plt.figure(figsize=(8,6))\n",
    "plt.scatter(x=test_y, y=pred_decision, color='r')\n",
    "plt.plot(test_y,test_y, color='b')\n",
    "plt.xlabel('Actual data',fontsize=14)\n",
    "plt.ylabel('Predicted data',fontsize=14)\n",
    "plt.title('Decision Tree Regressor',fontsize=18)\n",
    "plt.show()"
   ]
  },
  {
   "cell_type": "markdown",
   "id": "cc45ae9b",
   "metadata": {},
   "source": [
    "# KNeighborsRegressor"
   ]
  },
  {
   "cell_type": "code",
   "execution_count": 50,
   "id": "9fe14cf1",
   "metadata": {},
   "outputs": [
    {
     "name": "stdout",
     "output_type": "stream",
     "text": [
      "{'algorithm': 'auto', 'n_neighbors': 6, 'weights': 'distance'}\n"
     ]
    }
   ],
   "source": [
    "# Importing Libraries and Hyper parameter tuning:\n",
    "from sklearn.neighbors import KNeighborsRegressor\n",
    "from sklearn.model_selection import GridSearchCV\n",
    "\n",
    "parameters = {'n_neighbors':list(range(0,10)),\n",
    "              'weights':['uniform', 'distance'],\n",
    "              'algorithm':['auto', 'ball_tree', 'kd_tree', 'brute']\n",
    "              }\n",
    "kn =KNeighborsRegressor()\n",
    "clf = GridSearchCV(kn,parameters)\n",
    "clf.fit(train_x,train_y)\n",
    "\n",
    "print(clf.best_params_)"
   ]
  },
  {
   "cell_type": "markdown",
   "id": "9d41cd6b",
   "metadata": {},
   "source": [
    "Best parameters for KNeighborsRegressor "
   ]
  },
  {
   "cell_type": "code",
   "execution_count": 51,
   "id": "e1136855",
   "metadata": {},
   "outputs": [
    {
     "name": "stdout",
     "output_type": "stream",
     "text": [
      "kn score 1.0\n",
      "R2 Score: 95.21213797874465\n",
      "Cross Val Score: 93.91492172875525\n"
     ]
    }
   ],
   "source": [
    "kn =KNeighborsRegressor(n_neighbors=6,algorithm=\"auto\",weights='distance')\n",
    "kn.fit(train_x,train_y)\n",
    "kn.score(train_x,train_y)\n",
    "pred_decision = kn.predict(test_x)\n",
    "print('kn score',kn.score(train_x,train_y))\n",
    "kns = r2_score(test_y,pred_decision)\n",
    "print('R2 Score:',kns*100)\n",
    "\n",
    "knscore = cross_val_score(kn,x,y,cv=9)\n",
    "knc = knscore.mean()\n",
    "print('Cross Val Score:',knc*100)"
   ]
  },
  {
   "cell_type": "markdown",
   "id": "98a80203",
   "metadata": {},
   "source": [
    "kn score 100%\n",
    "R2 Score: 95.2%\n",
    "Cross Val Score: 93.9%"
   ]
  },
  {
   "cell_type": "code",
   "execution_count": 52,
   "id": "700a31f9",
   "metadata": {},
   "outputs": [
    {
     "data": {
      "image/png": "[encoded data removed]",
      "text/plain": [
       "<Figure size 576x432 with 1 Axes>"
      ]
     },
     "metadata": {
      "needs_background": "light"
     },
     "output_type": "display_data"
    }
   ],
   "source": [
    "import matplotlib.pyplot as plt\n",
    "plt.figure(figsize=(8,6))\n",
    "plt.scatter(x=test_y, y=pred_decision, color='r')\n",
    "plt.plot(test_y,test_y, color='b')\n",
    "plt.xlabel('Actual data',fontsize=14)\n",
    "plt.ylabel('Predicted data',fontsize=14)\n",
    "plt.title('KNeighbors Regressor',fontsize=18)\n",
    "plt.show()"
   ]
  },
  {
   "cell_type": "markdown",
   "id": "d909e702",
   "metadata": {},
   "source": [
    "Best Model is Random Forest Regressor as the rf score/ accuracy of model is 99.6%, Cross validation score score is 97.7% and r2score is 98% and the gap between cross validation score and r2score is very less."
   ]
  },
  {
   "cell_type": "markdown",
   "id": "263ab22b",
   "metadata": {},
   "source": [
    "# Model saving:"
   ]
  },
  {
   "cell_type": "code",
   "execution_count": 53,
   "id": "139bf555",
   "metadata": {},
   "outputs": [],
   "source": [
    "import pickle\n",
    "filename = 'Advertisement.pkl'\n",
    "pickle.dump(rf, open(filename, 'wb'))"
   ]
  },
  {
   "cell_type": "markdown",
   "id": "e662c7da",
   "metadata": {},
   "source": [
    "# Conclusion:"
   ]
  },
  {
   "cell_type": "code",
   "execution_count": 54,
   "id": "82a9c5d3",
   "metadata": {},
   "outputs": [
    {
     "data": {
      "text/html": [
       "<div>\n",
       "<style scoped>\n",
       "    .dataframe tbody tr th:only-of-type {\n",
       "        vertical-align: middle;\n",
       "    }\n",
       "\n",
       "    .dataframe tbody tr th {\n",
       "        vertical-align: top;\n",
       "    }\n",
       "\n",
       "    .dataframe thead th {\n",
       "        text-align: right;\n",
       "    }\n",
       "</style>\n",
       "<table border=\"1\" class=\"dataframe\">\n",
       "  <thead>\n",
       "    <tr style=\"text-align: right;\">\n",
       "      <th></th>\n",
       "      <th>original</th>\n",
       "      <th>predicted</th>\n",
       "    </tr>\n",
       "  </thead>\n",
       "  <tbody>\n",
       "    <tr>\n",
       "      <th>0</th>\n",
       "      <td>11.6</td>\n",
       "      <td>11.954</td>\n",
       "    </tr>\n",
       "    <tr>\n",
       "      <th>1</th>\n",
       "      <td>6.6</td>\n",
       "      <td>7.041</td>\n",
       "    </tr>\n",
       "    <tr>\n",
       "      <th>2</th>\n",
       "      <td>11.0</td>\n",
       "      <td>11.209</td>\n",
       "    </tr>\n",
       "    <tr>\n",
       "      <th>3</th>\n",
       "      <td>9.5</td>\n",
       "      <td>7.913</td>\n",
       "    </tr>\n",
       "    <tr>\n",
       "      <th>4</th>\n",
       "      <td>9.9</td>\n",
       "      <td>9.863</td>\n",
       "    </tr>\n",
       "    <tr>\n",
       "      <th>5</th>\n",
       "      <td>11.4</td>\n",
       "      <td>11.857</td>\n",
       "    </tr>\n",
       "    <tr>\n",
       "      <th>6</th>\n",
       "      <td>10.5</td>\n",
       "      <td>11.309</td>\n",
       "    </tr>\n",
       "    <tr>\n",
       "      <th>7</th>\n",
       "      <td>13.4</td>\n",
       "      <td>13.047</td>\n",
       "    </tr>\n",
       "    <tr>\n",
       "      <th>8</th>\n",
       "      <td>22.2</td>\n",
       "      <td>21.087</td>\n",
       "    </tr>\n",
       "    <tr>\n",
       "      <th>9</th>\n",
       "      <td>20.8</td>\n",
       "      <td>20.830</td>\n",
       "    </tr>\n",
       "    <tr>\n",
       "      <th>10</th>\n",
       "      <td>14.7</td>\n",
       "      <td>14.037</td>\n",
       "    </tr>\n",
       "    <tr>\n",
       "      <th>11</th>\n",
       "      <td>23.2</td>\n",
       "      <td>21.786</td>\n",
       "    </tr>\n",
       "    <tr>\n",
       "      <th>12</th>\n",
       "      <td>3.2</td>\n",
       "      <td>4.962</td>\n",
       "    </tr>\n",
       "    <tr>\n",
       "      <th>13</th>\n",
       "      <td>17.1</td>\n",
       "      <td>17.976</td>\n",
       "    </tr>\n",
       "    <tr>\n",
       "      <th>14</th>\n",
       "      <td>12.6</td>\n",
       "      <td>12.994</td>\n",
       "    </tr>\n",
       "    <tr>\n",
       "      <th>15</th>\n",
       "      <td>7.6</td>\n",
       "      <td>8.380</td>\n",
       "    </tr>\n",
       "    <tr>\n",
       "      <th>16</th>\n",
       "      <td>12.0</td>\n",
       "      <td>12.278</td>\n",
       "    </tr>\n",
       "    <tr>\n",
       "      <th>17</th>\n",
       "      <td>24.7</td>\n",
       "      <td>23.075</td>\n",
       "    </tr>\n",
       "    <tr>\n",
       "      <th>18</th>\n",
       "      <td>10.6</td>\n",
       "      <td>11.778</td>\n",
       "    </tr>\n",
       "    <tr>\n",
       "      <th>19</th>\n",
       "      <td>16.0</td>\n",
       "      <td>15.304</td>\n",
       "    </tr>\n",
       "    <tr>\n",
       "      <th>20</th>\n",
       "      <td>7.0</td>\n",
       "      <td>7.385</td>\n",
       "    </tr>\n",
       "    <tr>\n",
       "      <th>21</th>\n",
       "      <td>8.5</td>\n",
       "      <td>7.763</td>\n",
       "    </tr>\n",
       "    <tr>\n",
       "      <th>22</th>\n",
       "      <td>12.3</td>\n",
       "      <td>12.277</td>\n",
       "    </tr>\n",
       "    <tr>\n",
       "      <th>23</th>\n",
       "      <td>10.7</td>\n",
       "      <td>10.090</td>\n",
       "    </tr>\n",
       "    <tr>\n",
       "      <th>24</th>\n",
       "      <td>18.0</td>\n",
       "      <td>17.397</td>\n",
       "    </tr>\n",
       "    <tr>\n",
       "      <th>25</th>\n",
       "      <td>22.6</td>\n",
       "      <td>21.184</td>\n",
       "    </tr>\n",
       "    <tr>\n",
       "      <th>26</th>\n",
       "      <td>14.9</td>\n",
       "      <td>15.813</td>\n",
       "    </tr>\n",
       "    <tr>\n",
       "      <th>27</th>\n",
       "      <td>10.3</td>\n",
       "      <td>10.672</td>\n",
       "    </tr>\n",
       "    <tr>\n",
       "      <th>28</th>\n",
       "      <td>25.4</td>\n",
       "      <td>25.191</td>\n",
       "    </tr>\n",
       "    <tr>\n",
       "      <th>29</th>\n",
       "      <td>11.4</td>\n",
       "      <td>11.654</td>\n",
       "    </tr>\n",
       "    <tr>\n",
       "      <th>30</th>\n",
       "      <td>14.2</td>\n",
       "      <td>13.984</td>\n",
       "    </tr>\n",
       "    <tr>\n",
       "      <th>31</th>\n",
       "      <td>19.0</td>\n",
       "      <td>18.566</td>\n",
       "    </tr>\n",
       "    <tr>\n",
       "      <th>32</th>\n",
       "      <td>15.2</td>\n",
       "      <td>14.831</td>\n",
       "    </tr>\n",
       "    <tr>\n",
       "      <th>33</th>\n",
       "      <td>15.0</td>\n",
       "      <td>14.469</td>\n",
       "    </tr>\n",
       "    <tr>\n",
       "      <th>34</th>\n",
       "      <td>14.1</td>\n",
       "      <td>14.822</td>\n",
       "    </tr>\n",
       "    <tr>\n",
       "      <th>35</th>\n",
       "      <td>11.3</td>\n",
       "      <td>11.809</td>\n",
       "    </tr>\n",
       "    <tr>\n",
       "      <th>36</th>\n",
       "      <td>8.8</td>\n",
       "      <td>8.263</td>\n",
       "    </tr>\n",
       "    <tr>\n",
       "      <th>37</th>\n",
       "      <td>25.4</td>\n",
       "      <td>23.931</td>\n",
       "    </tr>\n",
       "    <tr>\n",
       "      <th>38</th>\n",
       "      <td>24.4</td>\n",
       "      <td>23.626</td>\n",
       "    </tr>\n",
       "    <tr>\n",
       "      <th>39</th>\n",
       "      <td>20.2</td>\n",
       "      <td>20.247</td>\n",
       "    </tr>\n",
       "  </tbody>\n",
       "</table>\n",
       "</div>"
      ],
      "text/plain": [
       "    original  predicted\n",
       "0       11.6     11.954\n",
       "1        6.6      7.041\n",
       "2       11.0     11.209\n",
       "3        9.5      7.913\n",
       "4        9.9      9.863\n",
       "5       11.4     11.857\n",
       "6       10.5     11.309\n",
       "7       13.4     13.047\n",
       "8       22.2     21.087\n",
       "9       20.8     20.830\n",
       "10      14.7     14.037\n",
       "11      23.2     21.786\n",
       "12       3.2      4.962\n",
       "13      17.1     17.976\n",
       "14      12.6     12.994\n",
       "15       7.6      8.380\n",
       "16      12.0     12.278\n",
       "17      24.7     23.075\n",
       "18      10.6     11.778\n",
       "19      16.0     15.304\n",
       "20       7.0      7.385\n",
       "21       8.5      7.763\n",
       "22      12.3     12.277\n",
       "23      10.7     10.090\n",
       "24      18.0     17.397\n",
       "25      22.6     21.184\n",
       "26      14.9     15.813\n",
       "27      10.3     10.672\n",
       "28      25.4     25.191\n",
       "29      11.4     11.654\n",
       "30      14.2     13.984\n",
       "31      19.0     18.566\n",
       "32      15.2     14.831\n",
       "33      15.0     14.469\n",
       "34      14.1     14.822\n",
       "35      11.3     11.809\n",
       "36       8.8      8.263\n",
       "37      25.4     23.931\n",
       "38      24.4     23.626\n",
       "39      20.2     20.247"
      ]
     },
     "execution_count": 54,
     "metadata": {},
     "output_type": "execute_result"
    }
   ],
   "source": [
    "import numpy as np\n",
    "a=np.array(test_y)\n",
    "pred_decision =np.array(rf.predict(test_x))\n",
    "df_com=pd.DataFrame({\"original\":a, \"predicted\": pred_decision},index=range(len(a)))\n",
    "df_com"
   ]
  },
  {
   "cell_type": "markdown",
   "id": "7513b242",
   "metadata": {},
   "source": [
    "As per observation model is predicting data approximately right."
   ]
  }
 ],
 "metadata": {
  "kernelspec": {
   "display_name": "Python 3",
   "language": "python",
   "name": "python3"
  },
  "language_info": {
   "codemirror_mode": {
    "name": "ipython",
    "version": 3
   },
   "file_extension": ".py",
   "mimetype": "text/x-python",
   "name": "python",
   "nbconvert_exporter": "python",
   "pygments_lexer": "ipython3",
   "version": "3.8.8"
  }
 },
 "nbformat": 4,
 "nbformat_minor": 5
}
