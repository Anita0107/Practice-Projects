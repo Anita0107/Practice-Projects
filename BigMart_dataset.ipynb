{
 "cells": [
  {
   "cell_type": "markdown",
   "id": "88ca204b",
   "metadata": {},
   "source": [
    "# Importing Dataset"
   ]
  },
  {
   "cell_type": "code",
   "execution_count": 2,
   "id": "d7710278",
   "metadata": {},
   "outputs": [],
   "source": [
    "import pandas as pd\n",
    "import numpy as np"
   ]
  },
  {
   "cell_type": "code",
   "execution_count": 3,
   "id": "5760c035",
   "metadata": {},
   "outputs": [
    {
     "data": {
      "text/html": [
       "<div>\n",
       "<style scoped>\n",
       "    .dataframe tbody tr th:only-of-type {\n",
       "        vertical-align: middle;\n",
       "    }\n",
       "\n",
       "    .dataframe tbody tr th {\n",
       "        vertical-align: top;\n",
       "    }\n",
       "\n",
       "    .dataframe thead th {\n",
       "        text-align: right;\n",
       "    }\n",
       "</style>\n",
       "<table border=\"1\" class=\"dataframe\">\n",
       "  <thead>\n",
       "    <tr style=\"text-align: right;\">\n",
       "      <th></th>\n",
       "      <th>Item_Identifier</th>\n",
       "      <th>Item_Weight</th>\n",
       "      <th>Item_Fat_Content</th>\n",
       "      <th>Item_Visibility</th>\n",
       "      <th>Item_Type</th>\n",
       "      <th>Item_MRP</th>\n",
       "      <th>Outlet_Identifier</th>\n",
       "      <th>Outlet_Establishment_Year</th>\n",
       "      <th>Outlet_Size</th>\n",
       "      <th>Outlet_Location_Type</th>\n",
       "      <th>Outlet_Type</th>\n",
       "      <th>Item_Outlet_Sales</th>\n",
       "    </tr>\n",
       "  </thead>\n",
       "  <tbody>\n",
       "    <tr>\n",
       "      <th>0</th>\n",
       "      <td>FDA15</td>\n",
       "      <td>9.30</td>\n",
       "      <td>Low Fat</td>\n",
       "      <td>0.016047</td>\n",
       "      <td>Dairy</td>\n",
       "      <td>249.8092</td>\n",
       "      <td>OUT049</td>\n",
       "      <td>1999</td>\n",
       "      <td>Medium</td>\n",
       "      <td>Tier 1</td>\n",
       "      <td>Supermarket Type1</td>\n",
       "      <td>3735.1380</td>\n",
       "    </tr>\n",
       "    <tr>\n",
       "      <th>1</th>\n",
       "      <td>DRC01</td>\n",
       "      <td>5.92</td>\n",
       "      <td>Regular</td>\n",
       "      <td>0.019278</td>\n",
       "      <td>Soft Drinks</td>\n",
       "      <td>48.2692</td>\n",
       "      <td>OUT018</td>\n",
       "      <td>2009</td>\n",
       "      <td>Medium</td>\n",
       "      <td>Tier 3</td>\n",
       "      <td>Supermarket Type2</td>\n",
       "      <td>443.4228</td>\n",
       "    </tr>\n",
       "    <tr>\n",
       "      <th>2</th>\n",
       "      <td>FDN15</td>\n",
       "      <td>17.50</td>\n",
       "      <td>Low Fat</td>\n",
       "      <td>0.016760</td>\n",
       "      <td>Meat</td>\n",
       "      <td>141.6180</td>\n",
       "      <td>OUT049</td>\n",
       "      <td>1999</td>\n",
       "      <td>Medium</td>\n",
       "      <td>Tier 1</td>\n",
       "      <td>Supermarket Type1</td>\n",
       "      <td>2097.2700</td>\n",
       "    </tr>\n",
       "    <tr>\n",
       "      <th>3</th>\n",
       "      <td>FDX07</td>\n",
       "      <td>19.20</td>\n",
       "      <td>Regular</td>\n",
       "      <td>0.000000</td>\n",
       "      <td>Fruits and Vegetables</td>\n",
       "      <td>182.0950</td>\n",
       "      <td>OUT010</td>\n",
       "      <td>1998</td>\n",
       "      <td>NaN</td>\n",
       "      <td>Tier 3</td>\n",
       "      <td>Grocery Store</td>\n",
       "      <td>732.3800</td>\n",
       "    </tr>\n",
       "    <tr>\n",
       "      <th>4</th>\n",
       "      <td>NCD19</td>\n",
       "      <td>8.93</td>\n",
       "      <td>Low Fat</td>\n",
       "      <td>0.000000</td>\n",
       "      <td>Household</td>\n",
       "      <td>53.8614</td>\n",
       "      <td>OUT013</td>\n",
       "      <td>1987</td>\n",
       "      <td>High</td>\n",
       "      <td>Tier 3</td>\n",
       "      <td>Supermarket Type1</td>\n",
       "      <td>994.7052</td>\n",
       "    </tr>\n",
       "  </tbody>\n",
       "</table>\n",
       "</div>"
      ],
      "text/plain": [
       "  Item_Identifier  Item_Weight Item_Fat_Content  Item_Visibility  \\\n",
       "0           FDA15         9.30          Low Fat         0.016047   \n",
       "1           DRC01         5.92          Regular         0.019278   \n",
       "2           FDN15        17.50          Low Fat         0.016760   \n",
       "3           FDX07        19.20          Regular         0.000000   \n",
       "4           NCD19         8.93          Low Fat         0.000000   \n",
       "\n",
       "               Item_Type  Item_MRP Outlet_Identifier  \\\n",
       "0                  Dairy  249.8092            OUT049   \n",
       "1            Soft Drinks   48.2692            OUT018   \n",
       "2                   Meat  141.6180            OUT049   \n",
       "3  Fruits and Vegetables  182.0950            OUT010   \n",
       "4              Household   53.8614            OUT013   \n",
       "\n",
       "   Outlet_Establishment_Year Outlet_Size Outlet_Location_Type  \\\n",
       "0                       1999      Medium               Tier 1   \n",
       "1                       2009      Medium               Tier 3   \n",
       "2                       1999      Medium               Tier 1   \n",
       "3                       1998         NaN               Tier 3   \n",
       "4                       1987        High               Tier 3   \n",
       "\n",
       "         Outlet_Type  Item_Outlet_Sales  \n",
       "0  Supermarket Type1          3735.1380  \n",
       "1  Supermarket Type2           443.4228  \n",
       "2  Supermarket Type1          2097.2700  \n",
       "3      Grocery Store           732.3800  \n",
       "4  Supermarket Type1           994.7052  "
      ]
     },
     "execution_count": 3,
     "metadata": {},
     "output_type": "execute_result"
    }
   ],
   "source": [
    "ds1=pd.read_csv('bigdatamart_Train.csv')\n",
    "ds2=pd.read_csv('bigmart_test.csv')\n",
    "df_train= pd.DataFrame(ds1)\n",
    "df_test= pd.DataFrame(ds2)\n",
    "df_train.head()"
   ]
  },
  {
   "cell_type": "code",
   "execution_count": 4,
   "id": "e6fb75c7",
   "metadata": {},
   "outputs": [
    {
     "data": {
      "text/plain": [
       "(8523, 12)"
      ]
     },
     "execution_count": 4,
     "metadata": {},
     "output_type": "execute_result"
    }
   ],
   "source": [
    "df_train.shape"
   ]
  },
  {
   "cell_type": "markdown",
   "id": "2f357d11",
   "metadata": {},
   "source": [
    "Rows: 8523, Column: 12 of Train dataset"
   ]
  },
  {
   "cell_type": "code",
   "execution_count": 5,
   "id": "b99a8cd2",
   "metadata": {},
   "outputs": [
    {
     "data": {
      "text/plain": [
       "(5681, 11)"
      ]
     },
     "execution_count": 5,
     "metadata": {},
     "output_type": "execute_result"
    }
   ],
   "source": [
    "df_test.shape"
   ]
  },
  {
   "cell_type": "markdown",
   "id": "e0199bac",
   "metadata": {},
   "source": [
    "Rows: 5681, Column: 11 of Test dataset"
   ]
  },
  {
   "cell_type": "code",
   "execution_count": 6,
   "id": "0cd9dc60",
   "metadata": {},
   "outputs": [
    {
     "data": {
      "text/plain": [
       "Item_Identifier               object\n",
       "Item_Weight                  float64\n",
       "Item_Fat_Content              object\n",
       "Item_Visibility              float64\n",
       "Item_Type                     object\n",
       "Item_MRP                     float64\n",
       "Outlet_Identifier             object\n",
       "Outlet_Establishment_Year      int64\n",
       "Outlet_Size                   object\n",
       "Outlet_Location_Type          object\n",
       "Outlet_Type                   object\n",
       "Item_Outlet_Sales            float64\n",
       "dtype: object"
      ]
     },
     "execution_count": 6,
     "metadata": {},
     "output_type": "execute_result"
    }
   ],
   "source": [
    "df_train.dtypes"
   ]
  },
  {
   "cell_type": "markdown",
   "id": "f2467a0d",
   "metadata": {},
   "source": [
    "7 object datatype , 5 numeric datatype"
   ]
  },
  {
   "cell_type": "code",
   "execution_count": 7,
   "id": "2464f74f",
   "metadata": {},
   "outputs": [
    {
     "data": {
      "text/plain": [
       "Item_Identifier                 0\n",
       "Item_Weight                  1463\n",
       "Item_Fat_Content                0\n",
       "Item_Visibility                 0\n",
       "Item_Type                       0\n",
       "Item_MRP                        0\n",
       "Outlet_Identifier               0\n",
       "Outlet_Establishment_Year       0\n",
       "Outlet_Size                  2410\n",
       "Outlet_Location_Type            0\n",
       "Outlet_Type                     0\n",
       "Item_Outlet_Sales               0\n",
       "dtype: int64"
      ]
     },
     "execution_count": 7,
     "metadata": {},
     "output_type": "execute_result"
    }
   ],
   "source": [
    "df_train.isnull().sum()"
   ]
  },
  {
   "cell_type": "markdown",
   "id": "584dc24d",
   "metadata": {},
   "source": [
    "Item_Weight has 1463 null value and Outlet_Size has 2410 null value"
   ]
  },
  {
   "cell_type": "code",
   "execution_count": 8,
   "id": "399a48a8",
   "metadata": {},
   "outputs": [
    {
     "data": {
      "text/plain": [
       "Item_Identifier                 0\n",
       "Item_Weight                   976\n",
       "Item_Fat_Content                0\n",
       "Item_Visibility                 0\n",
       "Item_Type                       0\n",
       "Item_MRP                        0\n",
       "Outlet_Identifier               0\n",
       "Outlet_Establishment_Year       0\n",
       "Outlet_Size                  1606\n",
       "Outlet_Location_Type            0\n",
       "Outlet_Type                     0\n",
       "dtype: int64"
      ]
     },
     "execution_count": 8,
     "metadata": {},
     "output_type": "execute_result"
    }
   ],
   "source": [
    "df_test.isnull().sum()"
   ]
  },
  {
   "cell_type": "markdown",
   "id": "0f7ffd43",
   "metadata": {},
   "source": [
    "Item_Weight has 976 null value and Outlet_Size has 1606 null value"
   ]
  },
  {
   "cell_type": "code",
   "execution_count": 9,
   "id": "75d77573",
   "metadata": {},
   "outputs": [
    {
     "name": "stdout",
     "output_type": "stream",
     "text": [
      "<class 'pandas.core.frame.DataFrame'>\n",
      "RangeIndex: 8523 entries, 0 to 8522\n",
      "Data columns (total 12 columns):\n",
      " #   Column                     Non-Null Count  Dtype  \n",
      "---  ------                     --------------  -----  \n",
      " 0   Item_Identifier            8523 non-null   object \n",
      " 1   Item_Weight                7060 non-null   float64\n",
      " 2   Item_Fat_Content           8523 non-null   object \n",
      " 3   Item_Visibility            8523 non-null   float64\n",
      " 4   Item_Type                  8523 non-null   object \n",
      " 5   Item_MRP                   8523 non-null   float64\n",
      " 6   Outlet_Identifier          8523 non-null   object \n",
      " 7   Outlet_Establishment_Year  8523 non-null   int64  \n",
      " 8   Outlet_Size                6113 non-null   object \n",
      " 9   Outlet_Location_Type       8523 non-null   object \n",
      " 10  Outlet_Type                8523 non-null   object \n",
      " 11  Item_Outlet_Sales          8523 non-null   float64\n",
      "dtypes: float64(4), int64(1), object(7)\n",
      "memory usage: 799.2+ KB\n"
     ]
    }
   ],
   "source": [
    "df_train.info()"
   ]
  },
  {
   "cell_type": "markdown",
   "id": "8b9d1184",
   "metadata": {},
   "source": [
    "Info of train dataset shows that few values are missing"
   ]
  },
  {
   "cell_type": "markdown",
   "id": "fbf6e494",
   "metadata": {},
   "source": [
    "Categorical Feature column:\n",
    "\n",
    " 1.Item_Identifier\n",
    " 2.Item_Fat_Content\n",
    " 3.Item_Type\n",
    " 4.Outlet_Identifier\n",
    " 5.Outlet_Size\n",
    " 6.Outlet_Location_Type\n",
    " 7.Outlet_Type"
   ]
  },
  {
   "cell_type": "code",
   "execution_count": 10,
   "id": "e2f6aec7",
   "metadata": {},
   "outputs": [
    {
     "data": {
      "text/html": [
       "<div>\n",
       "<style scoped>\n",
       "    .dataframe tbody tr th:only-of-type {\n",
       "        vertical-align: middle;\n",
       "    }\n",
       "\n",
       "    .dataframe tbody tr th {\n",
       "        vertical-align: top;\n",
       "    }\n",
       "\n",
       "    .dataframe thead th {\n",
       "        text-align: right;\n",
       "    }\n",
       "</style>\n",
       "<table border=\"1\" class=\"dataframe\">\n",
       "  <thead>\n",
       "    <tr style=\"text-align: right;\">\n",
       "      <th></th>\n",
       "      <th>Item_Weight</th>\n",
       "      <th>Item_Visibility</th>\n",
       "      <th>Item_MRP</th>\n",
       "      <th>Outlet_Establishment_Year</th>\n",
       "      <th>Item_Outlet_Sales</th>\n",
       "    </tr>\n",
       "  </thead>\n",
       "  <tbody>\n",
       "    <tr>\n",
       "      <th>count</th>\n",
       "      <td>7060.000000</td>\n",
       "      <td>8523.000000</td>\n",
       "      <td>8523.000000</td>\n",
       "      <td>8523.000000</td>\n",
       "      <td>8523.000000</td>\n",
       "    </tr>\n",
       "    <tr>\n",
       "      <th>mean</th>\n",
       "      <td>12.857645</td>\n",
       "      <td>0.066132</td>\n",
       "      <td>140.992782</td>\n",
       "      <td>1997.831867</td>\n",
       "      <td>2181.288914</td>\n",
       "    </tr>\n",
       "    <tr>\n",
       "      <th>std</th>\n",
       "      <td>4.643456</td>\n",
       "      <td>0.051598</td>\n",
       "      <td>62.275067</td>\n",
       "      <td>8.371760</td>\n",
       "      <td>1706.499616</td>\n",
       "    </tr>\n",
       "    <tr>\n",
       "      <th>min</th>\n",
       "      <td>4.555000</td>\n",
       "      <td>0.000000</td>\n",
       "      <td>31.290000</td>\n",
       "      <td>1985.000000</td>\n",
       "      <td>33.290000</td>\n",
       "    </tr>\n",
       "    <tr>\n",
       "      <th>25%</th>\n",
       "      <td>8.773750</td>\n",
       "      <td>0.026989</td>\n",
       "      <td>93.826500</td>\n",
       "      <td>1987.000000</td>\n",
       "      <td>834.247400</td>\n",
       "    </tr>\n",
       "    <tr>\n",
       "      <th>50%</th>\n",
       "      <td>12.600000</td>\n",
       "      <td>0.053931</td>\n",
       "      <td>143.012800</td>\n",
       "      <td>1999.000000</td>\n",
       "      <td>1794.331000</td>\n",
       "    </tr>\n",
       "    <tr>\n",
       "      <th>75%</th>\n",
       "      <td>16.850000</td>\n",
       "      <td>0.094585</td>\n",
       "      <td>185.643700</td>\n",
       "      <td>2004.000000</td>\n",
       "      <td>3101.296400</td>\n",
       "    </tr>\n",
       "    <tr>\n",
       "      <th>max</th>\n",
       "      <td>21.350000</td>\n",
       "      <td>0.328391</td>\n",
       "      <td>266.888400</td>\n",
       "      <td>2009.000000</td>\n",
       "      <td>13086.964800</td>\n",
       "    </tr>\n",
       "  </tbody>\n",
       "</table>\n",
       "</div>"
      ],
      "text/plain": [
       "       Item_Weight  Item_Visibility     Item_MRP  Outlet_Establishment_Year  \\\n",
       "count  7060.000000      8523.000000  8523.000000                8523.000000   \n",
       "mean     12.857645         0.066132   140.992782                1997.831867   \n",
       "std       4.643456         0.051598    62.275067                   8.371760   \n",
       "min       4.555000         0.000000    31.290000                1985.000000   \n",
       "25%       8.773750         0.026989    93.826500                1987.000000   \n",
       "50%      12.600000         0.053931   143.012800                1999.000000   \n",
       "75%      16.850000         0.094585   185.643700                2004.000000   \n",
       "max      21.350000         0.328391   266.888400                2009.000000   \n",
       "\n",
       "       Item_Outlet_Sales  \n",
       "count        8523.000000  \n",
       "mean         2181.288914  \n",
       "std          1706.499616  \n",
       "min            33.290000  \n",
       "25%           834.247400  \n",
       "50%          1794.331000  \n",
       "75%          3101.296400  \n",
       "max         13086.964800  "
      ]
     },
     "execution_count": 10,
     "metadata": {},
     "output_type": "execute_result"
    }
   ],
   "source": [
    "df_train.describe()"
   ]
  },
  {
   "cell_type": "markdown",
   "id": "0572e0fc",
   "metadata": {},
   "source": [
    "Describing dataset and it shows missing count in value"
   ]
  },
  {
   "cell_type": "markdown",
   "id": "3f1e7b84",
   "metadata": {},
   "source": [
    "### Mean Imputation for filling Item_Weight as it is a Numerical value"
   ]
  },
  {
   "cell_type": "code",
   "execution_count": 11,
   "id": "c027106d",
   "metadata": {},
   "outputs": [
    {
     "name": "stdout",
     "output_type": "stream",
     "text": [
      "train mean 12.857645184136183\n",
      "test mean 12.695633368756374\n"
     ]
    }
   ],
   "source": [
    "print('train mean',df_train['Item_Weight'].mean())\n",
    "print('test mean',df_test['Item_Weight'].mean())"
   ]
  },
  {
   "cell_type": "code",
   "execution_count": 12,
   "id": "52c839a8",
   "metadata": {},
   "outputs": [
    {
     "data": {
      "text/plain": [
       "0"
      ]
     },
     "execution_count": 12,
     "metadata": {},
     "output_type": "execute_result"
    }
   ],
   "source": [
    "# Filling train dataset with mean\n",
    "df_train['Item_Weight'].fillna(df_train['Item_Weight'].mean(),inplace=True)\n",
    "# Filling test dataset with mean\n",
    "df_test['Item_Weight'].fillna(df_test['Item_Weight'].mean(),inplace=True)\n",
    "df_train['Item_Weight'].isnull().sum()"
   ]
  },
  {
   "cell_type": "code",
   "execution_count": 13,
   "id": "54a44fa5",
   "metadata": {},
   "outputs": [
    {
     "data": {
      "text/plain": [
       "array([ 9.3       ,  5.92      , 17.5       , 19.2       ,  8.93      ,\n",
       "       10.395     , 13.65      , 12.85764518, 16.2       , 11.8       ,\n",
       "       18.5       , 15.1       , 17.6       , 16.35      ,  9.        ,\n",
       "       13.35      , 18.85      , 14.6       , 13.85      , 13.        ,\n",
       "        7.645     , 11.65      ,  5.925     , 19.25      , 18.6       ,\n",
       "       18.7       , 17.85      , 10.        ,  8.85      ,  9.8       ,\n",
       "       13.6       , 21.35      , 12.15      ,  6.42      , 19.6       ,\n",
       "       15.85      ,  7.39      , 10.195     ,  9.895     , 10.895     ,\n",
       "        7.905     ,  9.195     ,  8.365     ,  7.97      , 17.7       ,\n",
       "       19.35      ,  8.645     , 15.6       , 18.25      ,  7.855     ,\n",
       "        7.825     ,  8.39      , 12.85      , 19.        ,  5.905     ,\n",
       "        7.76      , 16.75      , 15.5       ,  6.055     ,  6.305     ,\n",
       "       20.85      , 20.75      ,  8.895     , 19.7       ,  8.75      ,\n",
       "       13.3       ,  8.31      , 19.75      , 17.1       , 10.5       ,\n",
       "        6.635     , 14.15      ,  8.89      ,  9.1       ,  7.5       ,\n",
       "       16.85      ,  7.485     , 11.6       , 12.65      , 20.25      ,\n",
       "        8.6       , 12.6       ,  8.88      , 20.5       , 13.5       ,\n",
       "        7.235     ,  6.92      ,  8.02      , 12.8       , 16.6       ,\n",
       "       14.        , 16.        , 21.25      ,  7.365     , 18.35      ,\n",
       "        5.465     ,  7.27      ,  6.155     , 19.5       , 15.2       ,\n",
       "       14.5       , 13.1       , 12.3       , 11.1       , 11.3       ,\n",
       "        5.75      , 11.35      ,  6.525     , 10.3       ,  5.78      ,\n",
       "       11.85      , 18.75      ,  5.26      , 16.1       ,  9.5       ,\n",
       "       13.8       , 14.65      ,  6.67      ,  6.11      , 17.2       ,\n",
       "        6.32      ,  4.88      ,  5.425     , 14.1       ,  7.55      ,\n",
       "       17.25      , 12.        , 10.1       ,  7.785     , 13.15      ,\n",
       "        8.5       ,  7.63      ,  9.285     ,  7.975     , 15.7       ,\n",
       "        8.985     , 20.35      ,  6.59      , 19.85      ,  6.26      ,\n",
       "       18.2       ,  8.695     ,  7.075     ,  8.195     ,  7.09      ,\n",
       "        6.095     ,  6.15      ,  9.395     , 15.75      ,  7.475     ,\n",
       "        6.445     , 19.1       , 15.        , 16.7       ,  7.07      ,\n",
       "        6.48      ,  9.695     , 11.15      ,  9.6       , 20.7       ,\n",
       "        5.5       ,  7.895     , 17.35      ,  7.285     ,  6.17      ,\n",
       "       11.395     ,  7.71      , 12.1       , 14.35      ,  8.1       ,\n",
       "        8.05      , 16.5       ,  6.785     ,  7.575     ,  7.47      ,\n",
       "       15.25      ,  7.605     , 18.        , 21.2       ,  8.97      ,\n",
       "       10.6       ,  6.865     , 10.8       , 15.15      , 18.1       ,\n",
       "        6.655     , 20.1       ,  7.935     , 15.35      , 12.35      ,\n",
       "        6.85      ,  8.775     , 14.85      ,  7.84      , 12.5       ,\n",
       "        8.325     ,  5.765     ,  5.985     , 14.3       ,  6.135     ,\n",
       "        8.51      ,  6.65      ,  5.695     ,  6.36      ,  8.3       ,\n",
       "        7.56      ,  8.71      ,  6.695     , 14.8       , 17.75      ,\n",
       "        8.575     ,  6.57      ,  8.68      ,  5.63      ,  9.13      ,\n",
       "        6.715     ,  5.82      ,  7.93      ,  5.        ,  7.445     ,\n",
       "        6.675     ,  8.18      ,  6.98      ,  7.435     , 20.6       ,\n",
       "        8.355     ,  8.975     , 20.2       ,  5.655     ,  5.175     ,\n",
       "       20.        ,  7.67      ,  4.785     ,  8.395     ,  6.175     ,\n",
       "        8.21      ,  5.845     ,  7.17      ,  8.785     ,  7.89      ,\n",
       "        5.32      ,  5.03      ,  8.945     ,  6.28      ,  7.565     ,\n",
       "        9.31      ,  7.02      ,  5.46      ,  6.13      ,  6.55      ,\n",
       "       17.        , 16.25      ,  5.15      ,  7.865     ,  6.575     ,\n",
       "        7.06      ,  5.785     ,  7.42      ,  6.235     ,  6.75      ,\n",
       "        5.86      ,  5.035     ,  6.38      ,  5.675     , 11.5       ,\n",
       "       21.        , 21.1       ,  4.61      ,  7.        ,  6.405     ,\n",
       "       14.7       ,  7.68      ,  8.185     ,  8.655     , 10.85      ,\n",
       "        8.42      ,  7.85      ,  4.59      ,  7.51      , 11.        ,\n",
       "        6.71      , 14.75      ,  7.59      ,  5.155     ,  6.365     ,\n",
       "        8.235     ,  5.365     ,  8.485     ,  7.535     ,  4.92      ,\n",
       "        6.385     ,  8.26      ,  7.945     ,  8.63      ,  9.21      ,\n",
       "        6.965     ,  8.905     ,  7.21      ,  7.3       ,  9.27      ,\n",
       "       10.695     ,  6.215     ,  7.405     ,  7.72      ,  6.115     ,\n",
       "        6.035     ,  6.78      , 15.3       ,  7.105     ,  7.52      ,\n",
       "        4.805     ,  6.425     ,  7.6       ,  6.61      ,  7.325     ,\n",
       "        8.115     ,  5.94      ,  5.635     ,  7.35      ,  5.825     ,\n",
       "        6.63      ,  7.05      ,  8.315     ,  6.8       ,  7.035     ,\n",
       "        8.96      ,  5.51      ,  8.43      ,  8.27      ,  7.81      ,\n",
       "        6.885     ,  5.44      ,  5.405     ,  4.635     , 10.65      ,\n",
       "        5.735     ,  6.465     ,  8.84      ,  7.75      ,  6.765     ,\n",
       "        9.065     ,  7.655     ,  4.615     ,  8.76      ,  7.1       ,\n",
       "        6.195     ,  5.615     ,  8.52      ,  7.26      ,  6.825     ,\n",
       "        5.325     ,  5.59      ,  5.88      ,  5.19      ,  6.985     ,\n",
       "        9.06      ,  6.69      ,  8.615     ,  7.275     ,  6.96      ,\n",
       "        9.17      ,  8.155     ,  5.73      ,  8.935     ,  8.92      ,\n",
       "        7.36      ,  7.64      ,  5.34      ,  7.22      ,  6.615     ,\n",
       "        6.76      ,  6.3       ,  5.98      ,  8.06      ,  6.44      ,\n",
       "        5.095     ,  8.8       ,  6.325     ,  7.31      ,  9.035     ,\n",
       "        9.105     ,  7.145     ,  4.905     ,  4.555     ,  8.        ,\n",
       "        7.315     ,  6.89      ,  5.945     ,  6.86      ,  6.935     ,\n",
       "        6.03      ,  7.725     ,  5.885     ,  7.155     ,  6.46      ,\n",
       "        5.48      ,  8.01      ,  5.8       ,  5.305     ,  6.905     ,\n",
       "        7.96      ,  5.11      ,  8.77      ,  7.685     ,  8.275     ,\n",
       "        8.38      ,  8.35      ,  9.42      ,  6.775     ,  6.4       ,\n",
       "        6.895     ,  5.485     ,  6.52      ,  8.67      ,  5.21      ,\n",
       "        5.4       ])"
      ]
     },
     "execution_count": 13,
     "metadata": {},
     "output_type": "execute_result"
    }
   ],
   "source": [
    "df_train['Item_Weight'].unique()"
   ]
  },
  {
   "cell_type": "markdown",
   "id": "0e07acc6",
   "metadata": {},
   "source": [
    "Nan values filled with mean in Item_weight column"
   ]
  },
  {
   "cell_type": "markdown",
   "id": "2d16dd85",
   "metadata": {},
   "source": [
    "### Outlet_Size is catagorical column so we fill it with Mode Imputation"
   ]
  },
  {
   "cell_type": "code",
   "execution_count": 14,
   "id": "51dd45ef",
   "metadata": {},
   "outputs": [
    {
     "data": {
      "text/plain": [
       "Medium    2793\n",
       "Small     2388\n",
       "High       932\n",
       "Name: Outlet_Size, dtype: int64"
      ]
     },
     "execution_count": 14,
     "metadata": {},
     "output_type": "execute_result"
    }
   ],
   "source": [
    "df_train['Outlet_Size'].value_counts()"
   ]
  },
  {
   "cell_type": "markdown",
   "id": "6291a4b9",
   "metadata": {},
   "source": [
    "Outlet_Size has 3 category"
   ]
  },
  {
   "cell_type": "code",
   "execution_count": 15,
   "id": "36c9e218",
   "metadata": {},
   "outputs": [
    {
     "data": {
      "text/plain": [
       "0    Medium\n",
       "dtype: object"
      ]
     },
     "execution_count": 15,
     "metadata": {},
     "output_type": "execute_result"
    }
   ],
   "source": [
    "df_train['Outlet_Size'].mode()"
   ]
  },
  {
   "cell_type": "markdown",
   "id": "5d6689d4",
   "metadata": {},
   "source": [
    "Outlet_Size has Medium as mode"
   ]
  },
  {
   "cell_type": "code",
   "execution_count": 16,
   "id": "b061f842",
   "metadata": {},
   "outputs": [],
   "source": [
    "# Filling train dataset with mode\n",
    "df_train['Outlet_Size'].fillna(df_train['Outlet_Size'].mode()[0],inplace=True)\n",
    "# Filling test dataset with mode\n",
    "df_test['Outlet_Size'].fillna(df_test['Outlet_Size'].mode()[0],inplace=True)"
   ]
  },
  {
   "cell_type": "code",
   "execution_count": 17,
   "id": "ad267ad5",
   "metadata": {},
   "outputs": [
    {
     "data": {
      "text/plain": [
       "Item_Identifier              0\n",
       "Item_Weight                  0\n",
       "Item_Fat_Content             0\n",
       "Item_Visibility              0\n",
       "Item_Type                    0\n",
       "Item_MRP                     0\n",
       "Outlet_Identifier            0\n",
       "Outlet_Establishment_Year    0\n",
       "Outlet_Size                  0\n",
       "Outlet_Location_Type         0\n",
       "Outlet_Type                  0\n",
       "Item_Outlet_Sales            0\n",
       "dtype: int64"
      ]
     },
     "execution_count": 17,
     "metadata": {},
     "output_type": "execute_result"
    }
   ],
   "source": [
    "df_train.isnull().sum()"
   ]
  },
  {
   "cell_type": "markdown",
   "id": "56807e18",
   "metadata": {},
   "source": [
    "No null value in train dataset"
   ]
  },
  {
   "cell_type": "code",
   "execution_count": 18,
   "id": "f9b197f0",
   "metadata": {},
   "outputs": [
    {
     "data": {
      "text/plain": [
       "Item_Identifier              0\n",
       "Item_Weight                  0\n",
       "Item_Fat_Content             0\n",
       "Item_Visibility              0\n",
       "Item_Type                    0\n",
       "Item_MRP                     0\n",
       "Outlet_Identifier            0\n",
       "Outlet_Establishment_Year    0\n",
       "Outlet_Size                  0\n",
       "Outlet_Location_Type         0\n",
       "Outlet_Type                  0\n",
       "dtype: int64"
      ]
     },
     "execution_count": 18,
     "metadata": {},
     "output_type": "execute_result"
    }
   ],
   "source": [
    "df_test.isnull().sum()"
   ]
  },
  {
   "cell_type": "markdown",
   "id": "da681787",
   "metadata": {},
   "source": [
    "No null value in test dataset"
   ]
  },
  {
   "cell_type": "code",
   "execution_count": 19,
   "id": "6fef3ad0",
   "metadata": {},
   "outputs": [
    {
     "data": {
      "text/plain": [
       "Medium    5203\n",
       "Small     2388\n",
       "High       932\n",
       "Name: Outlet_Size, dtype: int64"
      ]
     },
     "execution_count": 19,
     "metadata": {},
     "output_type": "execute_result"
    }
   ],
   "source": [
    "df_train['Outlet_Size'].value_counts()"
   ]
  },
  {
   "cell_type": "markdown",
   "id": "5c783a7e",
   "metadata": {},
   "source": [
    "Filled Outlet size column with mode  value."
   ]
  },
  {
   "cell_type": "markdown",
   "id": "0a729690",
   "metadata": {},
   "source": [
    "### Dropping Item_Identifier and Outlet_Identifier column from train and test dataset"
   ]
  },
  {
   "cell_type": "code",
   "execution_count": 20,
   "id": "5ce9e514",
   "metadata": {},
   "outputs": [],
   "source": [
    "df_train.drop(['Item_Identifier','Outlet_Identifier'],axis=1,inplace=True) #dropping from train dataset\n",
    "df_test.drop(['Item_Identifier','Outlet_Identifier'],axis=1,inplace=True)  #dropping from test dataset"
   ]
  },
  {
   "cell_type": "code",
   "execution_count": 21,
   "id": "91a7d11f",
   "metadata": {},
   "outputs": [
    {
     "data": {
      "text/html": [
       "<div>\n",
       "<style scoped>\n",
       "    .dataframe tbody tr th:only-of-type {\n",
       "        vertical-align: middle;\n",
       "    }\n",
       "\n",
       "    .dataframe tbody tr th {\n",
       "        vertical-align: top;\n",
       "    }\n",
       "\n",
       "    .dataframe thead th {\n",
       "        text-align: right;\n",
       "    }\n",
       "</style>\n",
       "<table border=\"1\" class=\"dataframe\">\n",
       "  <thead>\n",
       "    <tr style=\"text-align: right;\">\n",
       "      <th></th>\n",
       "      <th>Item_Weight</th>\n",
       "      <th>Item_Fat_Content</th>\n",
       "      <th>Item_Visibility</th>\n",
       "      <th>Item_Type</th>\n",
       "      <th>Item_MRP</th>\n",
       "      <th>Outlet_Establishment_Year</th>\n",
       "      <th>Outlet_Size</th>\n",
       "      <th>Outlet_Location_Type</th>\n",
       "      <th>Outlet_Type</th>\n",
       "      <th>Item_Outlet_Sales</th>\n",
       "    </tr>\n",
       "  </thead>\n",
       "  <tbody>\n",
       "    <tr>\n",
       "      <th>0</th>\n",
       "      <td>9.30</td>\n",
       "      <td>Low Fat</td>\n",
       "      <td>0.016047</td>\n",
       "      <td>Dairy</td>\n",
       "      <td>249.8092</td>\n",
       "      <td>1999</td>\n",
       "      <td>Medium</td>\n",
       "      <td>Tier 1</td>\n",
       "      <td>Supermarket Type1</td>\n",
       "      <td>3735.1380</td>\n",
       "    </tr>\n",
       "    <tr>\n",
       "      <th>1</th>\n",
       "      <td>5.92</td>\n",
       "      <td>Regular</td>\n",
       "      <td>0.019278</td>\n",
       "      <td>Soft Drinks</td>\n",
       "      <td>48.2692</td>\n",
       "      <td>2009</td>\n",
       "      <td>Medium</td>\n",
       "      <td>Tier 3</td>\n",
       "      <td>Supermarket Type2</td>\n",
       "      <td>443.4228</td>\n",
       "    </tr>\n",
       "    <tr>\n",
       "      <th>2</th>\n",
       "      <td>17.50</td>\n",
       "      <td>Low Fat</td>\n",
       "      <td>0.016760</td>\n",
       "      <td>Meat</td>\n",
       "      <td>141.6180</td>\n",
       "      <td>1999</td>\n",
       "      <td>Medium</td>\n",
       "      <td>Tier 1</td>\n",
       "      <td>Supermarket Type1</td>\n",
       "      <td>2097.2700</td>\n",
       "    </tr>\n",
       "    <tr>\n",
       "      <th>3</th>\n",
       "      <td>19.20</td>\n",
       "      <td>Regular</td>\n",
       "      <td>0.000000</td>\n",
       "      <td>Fruits and Vegetables</td>\n",
       "      <td>182.0950</td>\n",
       "      <td>1998</td>\n",
       "      <td>Medium</td>\n",
       "      <td>Tier 3</td>\n",
       "      <td>Grocery Store</td>\n",
       "      <td>732.3800</td>\n",
       "    </tr>\n",
       "    <tr>\n",
       "      <th>4</th>\n",
       "      <td>8.93</td>\n",
       "      <td>Low Fat</td>\n",
       "      <td>0.000000</td>\n",
       "      <td>Household</td>\n",
       "      <td>53.8614</td>\n",
       "      <td>1987</td>\n",
       "      <td>High</td>\n",
       "      <td>Tier 3</td>\n",
       "      <td>Supermarket Type1</td>\n",
       "      <td>994.7052</td>\n",
       "    </tr>\n",
       "  </tbody>\n",
       "</table>\n",
       "</div>"
      ],
      "text/plain": [
       "   Item_Weight Item_Fat_Content  Item_Visibility              Item_Type  \\\n",
       "0         9.30          Low Fat         0.016047                  Dairy   \n",
       "1         5.92          Regular         0.019278            Soft Drinks   \n",
       "2        17.50          Low Fat         0.016760                   Meat   \n",
       "3        19.20          Regular         0.000000  Fruits and Vegetables   \n",
       "4         8.93          Low Fat         0.000000              Household   \n",
       "\n",
       "   Item_MRP  Outlet_Establishment_Year Outlet_Size Outlet_Location_Type  \\\n",
       "0  249.8092                       1999      Medium               Tier 1   \n",
       "1   48.2692                       2009      Medium               Tier 3   \n",
       "2  141.6180                       1999      Medium               Tier 1   \n",
       "3  182.0950                       1998      Medium               Tier 3   \n",
       "4   53.8614                       1987        High               Tier 3   \n",
       "\n",
       "         Outlet_Type  Item_Outlet_Sales  \n",
       "0  Supermarket Type1          3735.1380  \n",
       "1  Supermarket Type2           443.4228  \n",
       "2  Supermarket Type1          2097.2700  \n",
       "3      Grocery Store           732.3800  \n",
       "4  Supermarket Type1           994.7052  "
      ]
     },
     "execution_count": 21,
     "metadata": {},
     "output_type": "execute_result"
    }
   ],
   "source": [
    "df_train.head()"
   ]
  },
  {
   "cell_type": "markdown",
   "id": "b8377c0d",
   "metadata": {},
   "source": [
    " Item_Identifier and Outlet_Identifier column dropped"
   ]
  },
  {
   "cell_type": "markdown",
   "id": "bf83a926",
   "metadata": {},
   "source": [
    "## Item_Visibility with Mean Imputation"
   ]
  },
  {
   "cell_type": "code",
   "execution_count": 22,
   "id": "fa8d372a",
   "metadata": {},
   "outputs": [
    {
     "name": "stdout",
     "output_type": "stream",
     "text": [
      "0.000000    526\n",
      "0.076975      3\n",
      "0.072238      2\n",
      "0.080766      2\n",
      "0.058543      2\n",
      "           ... \n",
      "0.024343      1\n",
      "0.041823      1\n",
      "0.023154      1\n",
      "0.047783      1\n",
      "0.031007      1\n",
      "Name: Item_Visibility, Length: 7880, dtype: int64\n",
      "train mean 0.06613202877895127\n"
     ]
    }
   ],
   "source": [
    "print(df_train['Item_Visibility'].value_counts())\n",
    "print('train mean',df_train['Item_Visibility'].mean())"
   ]
  },
  {
   "cell_type": "markdown",
   "id": "f3f445cd",
   "metadata": {},
   "source": [
    "train dataset mean 0.06613202877895127"
   ]
  },
  {
   "cell_type": "code",
   "execution_count": 23,
   "id": "631ba04e",
   "metadata": {},
   "outputs": [
    {
     "name": "stdout",
     "output_type": "stream",
     "text": [
      "0.000000    353\n",
      "0.080293      2\n",
      "0.041525      2\n",
      "0.052059      2\n",
      "0.026836      2\n",
      "           ... \n",
      "0.064403      1\n",
      "0.053775      1\n",
      "0.038746      1\n",
      "0.057255      1\n",
      "0.042629      1\n",
      "Name: Item_Visibility, Length: 5277, dtype: int64\n",
      "test mean 0.06568385968808292\n"
     ]
    }
   ],
   "source": [
    "print(df_test['Item_Visibility'].value_counts())\n",
    "print('test mean',df_test['Item_Visibility'].mean())"
   ]
  },
  {
   "cell_type": "markdown",
   "id": "ebdeadb7",
   "metadata": {},
   "source": [
    "train dataset mean 0.065"
   ]
  },
  {
   "cell_type": "code",
   "execution_count": 24,
   "id": "06177dd3",
   "metadata": {},
   "outputs": [],
   "source": [
    "# replace zeros with mean\n",
    "df_train.loc[:, 'Item_Visibility'].replace([0], [df_train['Item_Visibility'].mean()], inplace=True)\n",
    "# replace zeros with mean\n",
    "df_test.loc[:, 'Item_Visibility'].replace([0], [df_test['Item_Visibility'].mean()], inplace=True)"
   ]
  },
  {
   "cell_type": "code",
   "execution_count": 25,
   "id": "917ed5d2",
   "metadata": {},
   "outputs": [
    {
     "data": {
      "text/plain": [
       "0.065684    353\n",
       "0.046635      2\n",
       "0.103652      2\n",
       "0.159518      2\n",
       "0.060091      2\n",
       "           ... \n",
       "0.067584      1\n",
       "0.064403      1\n",
       "0.053775      1\n",
       "0.038746      1\n",
       "0.042629      1\n",
       "Name: Item_Visibility, Length: 5277, dtype: int64"
      ]
     },
     "execution_count": 25,
     "metadata": {},
     "output_type": "execute_result"
    }
   ],
   "source": [
    "df_test['Item_Visibility'].value_counts()"
   ]
  },
  {
   "cell_type": "markdown",
   "id": "1adaad56",
   "metadata": {},
   "source": [
    "Replaced the value 0.00 from Item_Visibility column."
   ]
  },
  {
   "cell_type": "code",
   "execution_count": 26,
   "id": "bad763e4",
   "metadata": {},
   "outputs": [
    {
     "data": {
      "text/plain": [
       "array(['Low Fat', 'Regular', 'low fat', 'LF', 'reg'], dtype=object)"
      ]
     },
     "execution_count": 26,
     "metadata": {},
     "output_type": "execute_result"
    }
   ],
   "source": [
    "#Item_Fat_Content values\n",
    "df_train['Item_Fat_Content'].unique()"
   ]
  },
  {
   "cell_type": "markdown",
   "id": "f010947c",
   "metadata": {},
   "source": [
    "Item_Fat_Content value needs to be replaced"
   ]
  },
  {
   "cell_type": "code",
   "execution_count": 27,
   "id": "6f971e86",
   "metadata": {},
   "outputs": [],
   "source": [
    "#Replacing value of train dataset:\n",
    "df_train['Item_Fat_Content']=df_train['Item_Fat_Content'].replace({'LF':'Low Fat','reg':'Regular','low fat':'Low Fat'})\n",
    "#Replacing value of test dataset:\n",
    "df_test['Item_Fat_Content']=df_test['Item_Fat_Content'].replace({'LF':'Low Fat','reg':'Regular','low fat':'Low Fat'})"
   ]
  },
  {
   "cell_type": "code",
   "execution_count": 28,
   "id": "8524a562",
   "metadata": {},
   "outputs": [
    {
     "name": "stdout",
     "output_type": "stream",
     "text": [
      "['Low Fat' 'Regular']\n",
      "['Low Fat' 'Regular']\n"
     ]
    }
   ],
   "source": [
    "print(df_train['Item_Fat_Content'].unique())\n",
    "print(df_test['Item_Fat_Content'].unique())"
   ]
  },
  {
   "cell_type": "markdown",
   "id": "1d78eb8f",
   "metadata": {},
   "source": [
    "Item_Fat_Content has 2 category now"
   ]
  },
  {
   "cell_type": "markdown",
   "id": "8f08412f",
   "metadata": {},
   "source": [
    "# Data Analysis"
   ]
  },
  {
   "cell_type": "code",
   "execution_count": 29,
   "id": "a9e7fbdc",
   "metadata": {},
   "outputs": [],
   "source": [
    "import seaborn as sns\n",
    "import matplotlib.pyplot as plt"
   ]
  },
  {
   "cell_type": "code",
   "execution_count": 30,
   "id": "21fbdc7c",
   "metadata": {},
   "outputs": [
    {
     "data": {
      "text/plain": [
       "Index(['Item_Weight', 'Item_Fat_Content', 'Item_Visibility', 'Item_Type',\n",
       "       'Item_MRP', 'Outlet_Establishment_Year', 'Outlet_Size',\n",
       "       'Outlet_Location_Type', 'Outlet_Type', 'Item_Outlet_Sales'],\n",
       "      dtype='object')"
      ]
     },
     "execution_count": 30,
     "metadata": {},
     "output_type": "execute_result"
    }
   ],
   "source": [
    "df_train.columns"
   ]
  },
  {
   "cell_type": "markdown",
   "id": "5db26e2d",
   "metadata": {},
   "source": [
    "Columns in train dataset"
   ]
  },
  {
   "cell_type": "markdown",
   "id": "e8dd6d13",
   "metadata": {},
   "source": [
    "## Distplot for numeric datatype"
   ]
  },
  {
   "cell_type": "code",
   "execution_count": 31,
   "id": "f08e1004",
   "metadata": {},
   "outputs": [
    {
     "name": "stderr",
     "output_type": "stream",
     "text": [
      "D:\\Anaconda\\lib\\site-packages\\seaborn\\distributions.py:2557: FutureWarning: `distplot` is a deprecated function and will be removed in a future version. Please adapt your code to use either `displot` (a figure-level function with similar flexibility) or `histplot` (an axes-level function for histograms).\n",
      "  warnings.warn(msg, FutureWarning)\n"
     ]
    },
    {
     "data": {
      "text/plain": [
       "<AxesSubplot:xlabel='Item_Weight', ylabel='Density'>"
      ]
     },
     "execution_count": 31,
     "metadata": {},
     "output_type": "execute_result"
    },
    {
     "data": {
      "image/png": "[encoded data removed]",
      "text/plain": [
       "<Figure size 432x288 with 1 Axes>"
      ]
     },
     "metadata": {
      "needs_background": "light"
     },
     "output_type": "display_data"
    }
   ],
   "source": [
    "sns.distplot(df_train['Item_Weight'], kde=True)"
   ]
  },
  {
   "cell_type": "markdown",
   "id": "809b9b2a",
   "metadata": {},
   "source": [
    "data is not normally distributed, skewness present"
   ]
  },
  {
   "cell_type": "code",
   "execution_count": 32,
   "id": "d3eb251a",
   "metadata": {},
   "outputs": [
    {
     "name": "stderr",
     "output_type": "stream",
     "text": [
      "D:\\Anaconda\\lib\\site-packages\\seaborn\\distributions.py:2557: FutureWarning: `distplot` is a deprecated function and will be removed in a future version. Please adapt your code to use either `displot` (a figure-level function with similar flexibility) or `histplot` (an axes-level function for histograms).\n",
      "  warnings.warn(msg, FutureWarning)\n"
     ]
    },
    {
     "data": {
      "text/plain": [
       "<AxesSubplot:xlabel='Item_Visibility', ylabel='Density'>"
      ]
     },
     "execution_count": 32,
     "metadata": {},
     "output_type": "execute_result"
    },
    {
     "data": {
      "image/png": "[encoded data removed]",
      "text/plain": [
       "<Figure size 432x288 with 1 Axes>"
      ]
     },
     "metadata": {
      "needs_background": "light"
     },
     "output_type": "display_data"
    }
   ],
   "source": [
    "sns.distplot(df_train['Item_Visibility'], kde=True)"
   ]
  },
  {
   "cell_type": "markdown",
   "id": "b0a211bf",
   "metadata": {},
   "source": [
    "data is not normally distributed, skewness present"
   ]
  },
  {
   "cell_type": "code",
   "execution_count": 33,
   "id": "bdbb80e1",
   "metadata": {},
   "outputs": [
    {
     "name": "stderr",
     "output_type": "stream",
     "text": [
      "D:\\Anaconda\\lib\\site-packages\\seaborn\\distributions.py:2557: FutureWarning: `distplot` is a deprecated function and will be removed in a future version. Please adapt your code to use either `displot` (a figure-level function with similar flexibility) or `histplot` (an axes-level function for histograms).\n",
      "  warnings.warn(msg, FutureWarning)\n"
     ]
    },
    {
     "data": {
      "text/plain": [
       "<AxesSubplot:xlabel='Item_MRP', ylabel='Density'>"
      ]
     },
     "execution_count": 33,
     "metadata": {},
     "output_type": "execute_result"
    },
    {
     "data": {
      "image/png": "[encoded data removed]",
      "text/plain": [
       "<Figure size 432x288 with 1 Axes>"
      ]
     },
     "metadata": {
      "needs_background": "light"
     },
     "output_type": "display_data"
    }
   ],
   "source": [
    "sns.distplot(df_train['Item_MRP'], kde=True)"
   ]
  },
  {
   "cell_type": "markdown",
   "id": "28142ec2",
   "metadata": {},
   "source": [
    "data is not normally distributed, skewness present"
   ]
  },
  {
   "cell_type": "code",
   "execution_count": 34,
   "id": "fdafd823",
   "metadata": {},
   "outputs": [
    {
     "name": "stderr",
     "output_type": "stream",
     "text": [
      "D:\\Anaconda\\lib\\site-packages\\seaborn\\distributions.py:2557: FutureWarning: `distplot` is a deprecated function and will be removed in a future version. Please adapt your code to use either `displot` (a figure-level function with similar flexibility) or `histplot` (an axes-level function for histograms).\n",
      "  warnings.warn(msg, FutureWarning)\n"
     ]
    },
    {
     "data": {
      "text/plain": [
       "<AxesSubplot:xlabel='Outlet_Establishment_Year', ylabel='Density'>"
      ]
     },
     "execution_count": 34,
     "metadata": {},
     "output_type": "execute_result"
    },
    {
     "data": {
      "image/png": "[encoded data removed]",
      "text/plain": [
       "<Figure size 432x288 with 1 Axes>"
      ]
     },
     "metadata": {
      "needs_background": "light"
     },
     "output_type": "display_data"
    }
   ],
   "source": [
    "sns.distplot(df_train['Outlet_Establishment_Year'], kde=True)"
   ]
  },
  {
   "cell_type": "markdown",
   "id": "b43a9674",
   "metadata": {},
   "source": [
    "data is not normally distributed, skewness present"
   ]
  },
  {
   "cell_type": "code",
   "execution_count": 35,
   "id": "67017df0",
   "metadata": {},
   "outputs": [
    {
     "name": "stderr",
     "output_type": "stream",
     "text": [
      "D:\\Anaconda\\lib\\site-packages\\seaborn\\distributions.py:2557: FutureWarning: `distplot` is a deprecated function and will be removed in a future version. Please adapt your code to use either `displot` (a figure-level function with similar flexibility) or `histplot` (an axes-level function for histograms).\n",
      "  warnings.warn(msg, FutureWarning)\n"
     ]
    },
    {
     "data": {
      "text/plain": [
       "<AxesSubplot:xlabel='Item_Outlet_Sales', ylabel='Density'>"
      ]
     },
     "execution_count": 35,
     "metadata": {},
     "output_type": "execute_result"
    },
    {
     "data": {
      "image/png": "[encoded data removed]",
      "text/plain": [
       "<Figure size 432x288 with 1 Axes>"
      ]
     },
     "metadata": {
      "needs_background": "light"
     },
     "output_type": "display_data"
    }
   ],
   "source": [
    "sns.distplot(df_train['Item_Outlet_Sales'], kde=True)"
   ]
  },
  {
   "cell_type": "markdown",
   "id": "0758dfc8",
   "metadata": {},
   "source": [
    "data is not normally distributed, skewness present"
   ]
  },
  {
   "cell_type": "markdown",
   "id": "96d3bfb5",
   "metadata": {},
   "source": [
    "## Catplot for categorical data"
   ]
  },
  {
   "cell_type": "code",
   "execution_count": 36,
   "id": "fa02e1d3",
   "metadata": {},
   "outputs": [
    {
     "name": "stdout",
     "output_type": "stream",
     "text": [
      "Low Fat    5517\n",
      "Regular    3006\n",
      "Name: Item_Fat_Content, dtype: int64\n"
     ]
    },
    {
     "data": {
      "image/png": "[encoded data removed]",
      "text/plain": [
       "<Figure size 432x288 with 1 Axes>"
      ]
     },
     "metadata": {
      "needs_background": "light"
     },
     "output_type": "display_data"
    }
   ],
   "source": [
    "ax=sns.countplot(x=\"Item_Fat_Content\", data=df_train)\n",
    "print(df_train[\"Item_Fat_Content\"].value_counts())"
   ]
  },
  {
   "cell_type": "markdown",
   "id": "fe31b812",
   "metadata": {},
   "source": [
    "Item_Fat_Content has 2 categories Low Fat and Regular"
   ]
  },
  {
   "cell_type": "code",
   "execution_count": 37,
   "id": "55fd54c5",
   "metadata": {},
   "outputs": [
    {
     "name": "stdout",
     "output_type": "stream",
     "text": [
      "Fruits and Vegetables    1232\n",
      "Snack Foods              1200\n",
      "Household                 910\n",
      "Frozen Foods              856\n",
      "Dairy                     682\n",
      "Canned                    649\n",
      "Baking Goods              648\n",
      "Health and Hygiene        520\n",
      "Soft Drinks               445\n",
      "Meat                      425\n",
      "Breads                    251\n",
      "Hard Drinks               214\n",
      "Others                    169\n",
      "Starchy Foods             148\n",
      "Breakfast                 110\n",
      "Seafood                    64\n",
      "Name: Item_Type, dtype: int64\n"
     ]
    },
    {
     "data": {
      "image/png": "[encoded data removed]",
      "text/plain": [
       "<Figure size 1800x432 with 1 Axes>"
      ]
     },
     "metadata": {
      "needs_background": "light"
     },
     "output_type": "display_data"
    }
   ],
   "source": [
    "plt.figure(figsize=(25,6))\n",
    "ax=sns.countplot(x=\"Item_Type\", data=df_train)\n",
    "print(df_train[\"Item_Type\"].value_counts())"
   ]
  },
  {
   "cell_type": "markdown",
   "id": "87ffb4db",
   "metadata": {},
   "source": [
    "Item_Type column has many categories\n",
    "Fruits and vegetables ,snack foods categories has maximum products "
   ]
  },
  {
   "cell_type": "code",
   "execution_count": 38,
   "id": "5edb77b9",
   "metadata": {},
   "outputs": [
    {
     "name": "stdout",
     "output_type": "stream",
     "text": [
      "Tier 3    3350\n",
      "Tier 2    2785\n",
      "Tier 1    2388\n",
      "Name: Outlet_Location_Type, dtype: int64\n"
     ]
    },
    {
     "data": {
      "image/png": "[encoded data removed]",
      "text/plain": [
       "<Figure size 432x360 with 1 Axes>"
      ]
     },
     "metadata": {
      "needs_background": "light"
     },
     "output_type": "display_data"
    }
   ],
   "source": [
    "plt.figure(figsize=(6,5))\n",
    "ax=sns.countplot(x=\"Outlet_Location_Type\", data=df_train)\n",
    "print(df_train[\"Outlet_Location_Type\"].value_counts())"
   ]
  },
  {
   "cell_type": "markdown",
   "id": "3fa6af2d",
   "metadata": {},
   "source": [
    "Outlet_Location_Type has 3 categories Tier1 , 2 and 3 and the maximum one is tier 3"
   ]
  },
  {
   "cell_type": "code",
   "execution_count": 38,
   "id": "ea7116b9",
   "metadata": {},
   "outputs": [
    {
     "name": "stdout",
     "output_type": "stream",
     "text": [
      "Supermarket Type1    5577\n",
      "Grocery Store        1083\n",
      "Supermarket Type3     935\n",
      "Supermarket Type2     928\n",
      "Name: Outlet_Type, dtype: int64\n"
     ]
    },
    {
     "data": {
      "image/png": "[encoded data removed]",
      "text/plain": [
       "<Figure size 432x288 with 1 Axes>"
      ]
     },
     "metadata": {
      "needs_background": "light"
     },
     "output_type": "display_data"
    }
   ],
   "source": [
    "ax=sns.countplot(x=\"Outlet_Type\", data=df_train)\n",
    "print(df_train[\"Outlet_Type\"].value_counts())"
   ]
  },
  {
   "cell_type": "markdown",
   "id": "003a949b",
   "metadata": {},
   "source": [
    "Outlet_Type has 4 categories and out of them supermarket type is maximum"
   ]
  },
  {
   "cell_type": "code",
   "execution_count": 39,
   "id": "d981e161",
   "metadata": {},
   "outputs": [
    {
     "name": "stderr",
     "output_type": "stream",
     "text": [
      "C:\\Users\\rajbi\\anaconda3\\lib\\site-packages\\seaborn\\_decorators.py:36: FutureWarning: Pass the following variable as a keyword arg: x. From version 0.12, the only valid positional argument will be `data`, and passing other arguments without an explicit keyword will result in an error or misinterpretation.\n",
      "  warnings.warn(\n"
     ]
    },
    {
     "data": {
      "text/plain": [
       "<AxesSubplot:xlabel='Outlet_Establishment_Year', ylabel='count'>"
      ]
     },
     "execution_count": 39,
     "metadata": {},
     "output_type": "execute_result"
    },
    {
     "data": {
      "image/png": "[encoded data removed]",
      "text/plain": [
       "<Figure size 432x288 with 1 Axes>"
      ]
     },
     "metadata": {
      "needs_background": "light"
     },
     "output_type": "display_data"
    }
   ],
   "source": [
    "sns.countplot(df_train['Outlet_Establishment_Year'])"
   ]
  },
  {
   "cell_type": "markdown",
   "id": "9fdb6623",
   "metadata": {},
   "source": [
    "1985 year has maximum number of store extablished"
   ]
  },
  {
   "cell_type": "code",
   "execution_count": 40,
   "id": "ad075970",
   "metadata": {},
   "outputs": [
    {
     "data": {
      "image/png": "[encoded data removed]",
      "text/plain": [
       "<Figure size 432x288 with 1 Axes>"
      ]
     },
     "metadata": {
      "needs_background": "light"
     },
     "output_type": "display_data"
    }
   ],
   "source": [
    "g=sns.scatterplot(x=\"Item_Outlet_Sales\",y=\"Outlet_Establishment_Year\",data=df_train)"
   ]
  },
  {
   "cell_type": "markdown",
   "id": "c5cdffd8",
   "metadata": {},
   "source": [
    "Range of maximum item outlet sales from 1985 to 2010 is between 0 to 8000"
   ]
  },
  {
   "cell_type": "code",
   "execution_count": 41,
   "id": "1f9149e7",
   "metadata": {},
   "outputs": [
    {
     "data": {
      "image/png": "[encoded data removed]",
      "text/plain": [
       "<Figure size 432x288 with 1 Axes>"
      ]
     },
     "metadata": {
      "needs_background": "light"
     },
     "output_type": "display_data"
    }
   ],
   "source": [
    "g=sns.scatterplot(x=\"Outlet_Location_Type\",y=\"Item_Outlet_Sales\",data=df_train,color='g')"
   ]
  },
  {
   "cell_type": "markdown",
   "id": "ef9500a9",
   "metadata": {},
   "source": [
    "Tier 3 of Outlet location type has maximum item outlet sale"
   ]
  },
  {
   "cell_type": "code",
   "execution_count": 42,
   "id": "ff6fabb3",
   "metadata": {},
   "outputs": [
    {
     "data": {
      "image/png": "[encoded data removed]",
      "text/plain": [
       "<Figure size 432x288 with 1 Axes>"
      ]
     },
     "metadata": {
      "needs_background": "light"
     },
     "output_type": "display_data"
    }
   ],
   "source": [
    "g=sns.scatterplot(x=\"Outlet_Type\",y=\"Item_Outlet_Sales\",data=df_train,color='g')"
   ]
  },
  {
   "cell_type": "markdown",
   "id": "c576cac0",
   "metadata": {},
   "source": [
    "Supermarket Type 3 has maximum number of sales "
   ]
  },
  {
   "cell_type": "code",
   "execution_count": 43,
   "id": "6804b371",
   "metadata": {},
   "outputs": [
    {
     "data": {
      "image/png": "[encoded data removed]",
      "text/plain": [
       "<Figure size 1080x504 with 1 Axes>"
      ]
     },
     "metadata": {
      "needs_background": "light"
     },
     "output_type": "display_data"
    }
   ],
   "source": [
    "plt.figure(figsize=(15,7))\n",
    "g=sns.scatterplot(x=\"Item_Visibility\",y=\"Item_Outlet_Sales\",data=df_train)"
   ]
  },
  {
   "cell_type": "markdown",
   "id": "085e59f8",
   "metadata": {},
   "source": [
    "Item visibility has higher concentration at 0.0 to 0.15 range so sale is higher"
   ]
  },
  {
   "cell_type": "code",
   "execution_count": 44,
   "id": "35192732",
   "metadata": {},
   "outputs": [
    {
     "data": {
      "text/plain": [
       "Item_Weight                  float64\n",
       "Item_Fat_Content              object\n",
       "Item_Visibility              float64\n",
       "Item_Type                     object\n",
       "Item_MRP                     float64\n",
       "Outlet_Establishment_Year      int64\n",
       "Outlet_Size                   object\n",
       "Outlet_Location_Type          object\n",
       "Outlet_Type                   object\n",
       "Item_Outlet_Sales            float64\n",
       "dtype: object"
      ]
     },
     "execution_count": 44,
     "metadata": {},
     "output_type": "execute_result"
    }
   ],
   "source": [
    "df_train.dtypes"
   ]
  },
  {
   "cell_type": "markdown",
   "id": "107df6f3",
   "metadata": {},
   "source": [
    "5 Object datatype and 5 numeric datatype"
   ]
  },
  {
   "cell_type": "markdown",
   "id": "5835e059",
   "metadata": {},
   "source": [
    "## Label Encoding of Object datatype"
   ]
  },
  {
   "cell_type": "code",
   "execution_count": 39,
   "id": "d081261c",
   "metadata": {},
   "outputs": [],
   "source": [
    "from sklearn.preprocessing import LabelEncoder\n",
    "en= LabelEncoder()\n",
    "\n",
    "df_train['Item_Fat_Content'] = en.fit_transform(df_train['Item_Fat_Content'])\n",
    "df_test['Item_Fat_Content'] = en.fit_transform(df_test['Item_Fat_Content'])\n",
    "\n",
    "df_train['Item_Type'] = en.fit_transform(df_train['Item_Type'])\n",
    "df_test['Item_Type'] =en.fit_transform(df_test['Item_Type'])\n",
    "\n",
    "df_train['Outlet_Size'] = en.fit_transform(df_train['Outlet_Size'])\n",
    "df_test['Outlet_Size'] = en.fit_transform(df_test['Outlet_Size'])\n",
    "\n",
    "df_train['Outlet_Location_Type'] = en.fit_transform(df_train['Outlet_Location_Type'])\n",
    "df_test['Outlet_Location_Type'] = en.fit_transform(df_test['Outlet_Location_Type'])\n",
    "\n",
    "df_train['Outlet_Type'] = en.fit_transform(df_train['Outlet_Type'])\n",
    "df_test['Outlet_Type'] = en.fit_transform(df_test['Outlet_Type'])"
   ]
  },
  {
   "cell_type": "code",
   "execution_count": 40,
   "id": "7fd469f7",
   "metadata": {},
   "outputs": [
    {
     "data": {
      "text/html": [
       "<div>\n",
       "<style scoped>\n",
       "    .dataframe tbody tr th:only-of-type {\n",
       "        vertical-align: middle;\n",
       "    }\n",
       "\n",
       "    .dataframe tbody tr th {\n",
       "        vertical-align: top;\n",
       "    }\n",
       "\n",
       "    .dataframe thead th {\n",
       "        text-align: right;\n",
       "    }\n",
       "</style>\n",
       "<table border=\"1\" class=\"dataframe\">\n",
       "  <thead>\n",
       "    <tr style=\"text-align: right;\">\n",
       "      <th></th>\n",
       "      <th>Item_Weight</th>\n",
       "      <th>Item_Fat_Content</th>\n",
       "      <th>Item_Visibility</th>\n",
       "      <th>Item_Type</th>\n",
       "      <th>Item_MRP</th>\n",
       "      <th>Outlet_Establishment_Year</th>\n",
       "      <th>Outlet_Size</th>\n",
       "      <th>Outlet_Location_Type</th>\n",
       "      <th>Outlet_Type</th>\n",
       "      <th>Item_Outlet_Sales</th>\n",
       "    </tr>\n",
       "  </thead>\n",
       "  <tbody>\n",
       "    <tr>\n",
       "      <th>0</th>\n",
       "      <td>9.30</td>\n",
       "      <td>0</td>\n",
       "      <td>0.016047</td>\n",
       "      <td>4</td>\n",
       "      <td>249.8092</td>\n",
       "      <td>1999</td>\n",
       "      <td>1</td>\n",
       "      <td>0</td>\n",
       "      <td>1</td>\n",
       "      <td>3735.1380</td>\n",
       "    </tr>\n",
       "    <tr>\n",
       "      <th>1</th>\n",
       "      <td>5.92</td>\n",
       "      <td>1</td>\n",
       "      <td>0.019278</td>\n",
       "      <td>14</td>\n",
       "      <td>48.2692</td>\n",
       "      <td>2009</td>\n",
       "      <td>1</td>\n",
       "      <td>2</td>\n",
       "      <td>2</td>\n",
       "      <td>443.4228</td>\n",
       "    </tr>\n",
       "    <tr>\n",
       "      <th>2</th>\n",
       "      <td>17.50</td>\n",
       "      <td>0</td>\n",
       "      <td>0.016760</td>\n",
       "      <td>10</td>\n",
       "      <td>141.6180</td>\n",
       "      <td>1999</td>\n",
       "      <td>1</td>\n",
       "      <td>0</td>\n",
       "      <td>1</td>\n",
       "      <td>2097.2700</td>\n",
       "    </tr>\n",
       "    <tr>\n",
       "      <th>3</th>\n",
       "      <td>19.20</td>\n",
       "      <td>1</td>\n",
       "      <td>0.066132</td>\n",
       "      <td>6</td>\n",
       "      <td>182.0950</td>\n",
       "      <td>1998</td>\n",
       "      <td>1</td>\n",
       "      <td>2</td>\n",
       "      <td>0</td>\n",
       "      <td>732.3800</td>\n",
       "    </tr>\n",
       "    <tr>\n",
       "      <th>4</th>\n",
       "      <td>8.93</td>\n",
       "      <td>0</td>\n",
       "      <td>0.066132</td>\n",
       "      <td>9</td>\n",
       "      <td>53.8614</td>\n",
       "      <td>1987</td>\n",
       "      <td>0</td>\n",
       "      <td>2</td>\n",
       "      <td>1</td>\n",
       "      <td>994.7052</td>\n",
       "    </tr>\n",
       "  </tbody>\n",
       "</table>\n",
       "</div>"
      ],
      "text/plain": [
       "   Item_Weight  Item_Fat_Content  Item_Visibility  Item_Type  Item_MRP  \\\n",
       "0         9.30                 0         0.016047          4  249.8092   \n",
       "1         5.92                 1         0.019278         14   48.2692   \n",
       "2        17.50                 0         0.016760         10  141.6180   \n",
       "3        19.20                 1         0.066132          6  182.0950   \n",
       "4         8.93                 0         0.066132          9   53.8614   \n",
       "\n",
       "   Outlet_Establishment_Year  Outlet_Size  Outlet_Location_Type  Outlet_Type  \\\n",
       "0                       1999            1                     0            1   \n",
       "1                       2009            1                     2            2   \n",
       "2                       1999            1                     0            1   \n",
       "3                       1998            1                     2            0   \n",
       "4                       1987            0                     2            1   \n",
       "\n",
       "   Item_Outlet_Sales  \n",
       "0          3735.1380  \n",
       "1           443.4228  \n",
       "2          2097.2700  \n",
       "3           732.3800  \n",
       "4           994.7052  "
      ]
     },
     "execution_count": 40,
     "metadata": {},
     "output_type": "execute_result"
    }
   ],
   "source": [
    "df_train.head()"
   ]
  },
  {
   "cell_type": "markdown",
   "id": "5639bdc9",
   "metadata": {},
   "source": [
    "Object Data encoded"
   ]
  },
  {
   "cell_type": "markdown",
   "id": "108fef5e",
   "metadata": {},
   "source": [
    "## Describing the dataset"
   ]
  },
  {
   "cell_type": "code",
   "execution_count": 47,
   "id": "b1c71e96",
   "metadata": {},
   "outputs": [
    {
     "data": {
      "text/html": [
       "<div>\n",
       "<style scoped>\n",
       "    .dataframe tbody tr th:only-of-type {\n",
       "        vertical-align: middle;\n",
       "    }\n",
       "\n",
       "    .dataframe tbody tr th {\n",
       "        vertical-align: top;\n",
       "    }\n",
       "\n",
       "    .dataframe thead th {\n",
       "        text-align: right;\n",
       "    }\n",
       "</style>\n",
       "<table border=\"1\" class=\"dataframe\">\n",
       "  <thead>\n",
       "    <tr style=\"text-align: right;\">\n",
       "      <th></th>\n",
       "      <th>Item_Weight</th>\n",
       "      <th>Item_Fat_Content</th>\n",
       "      <th>Item_Visibility</th>\n",
       "      <th>Item_Type</th>\n",
       "      <th>Item_MRP</th>\n",
       "      <th>Outlet_Establishment_Year</th>\n",
       "      <th>Outlet_Size</th>\n",
       "      <th>Outlet_Location_Type</th>\n",
       "      <th>Outlet_Type</th>\n",
       "      <th>Item_Outlet_Sales</th>\n",
       "    </tr>\n",
       "  </thead>\n",
       "  <tbody>\n",
       "    <tr>\n",
       "      <th>count</th>\n",
       "      <td>8523.000000</td>\n",
       "      <td>8523.000000</td>\n",
       "      <td>8523.000000</td>\n",
       "      <td>8523.000000</td>\n",
       "      <td>8523.000000</td>\n",
       "      <td>8523.000000</td>\n",
       "      <td>8523.000000</td>\n",
       "      <td>8523.000000</td>\n",
       "      <td>8523.000000</td>\n",
       "      <td>8523.000000</td>\n",
       "    </tr>\n",
       "    <tr>\n",
       "      <th>mean</th>\n",
       "      <td>12.857645</td>\n",
       "      <td>0.352693</td>\n",
       "      <td>0.070213</td>\n",
       "      <td>7.226681</td>\n",
       "      <td>140.992782</td>\n",
       "      <td>1997.831867</td>\n",
       "      <td>1.170832</td>\n",
       "      <td>1.112871</td>\n",
       "      <td>1.201220</td>\n",
       "      <td>2181.288914</td>\n",
       "    </tr>\n",
       "    <tr>\n",
       "      <th>std</th>\n",
       "      <td>4.226124</td>\n",
       "      <td>0.477836</td>\n",
       "      <td>0.048742</td>\n",
       "      <td>4.209990</td>\n",
       "      <td>62.275067</td>\n",
       "      <td>8.371760</td>\n",
       "      <td>0.600327</td>\n",
       "      <td>0.812757</td>\n",
       "      <td>0.796459</td>\n",
       "      <td>1706.499616</td>\n",
       "    </tr>\n",
       "    <tr>\n",
       "      <th>min</th>\n",
       "      <td>4.555000</td>\n",
       "      <td>0.000000</td>\n",
       "      <td>0.003575</td>\n",
       "      <td>0.000000</td>\n",
       "      <td>31.290000</td>\n",
       "      <td>1985.000000</td>\n",
       "      <td>0.000000</td>\n",
       "      <td>0.000000</td>\n",
       "      <td>0.000000</td>\n",
       "      <td>33.290000</td>\n",
       "    </tr>\n",
       "    <tr>\n",
       "      <th>25%</th>\n",
       "      <td>9.310000</td>\n",
       "      <td>0.000000</td>\n",
       "      <td>0.033085</td>\n",
       "      <td>4.000000</td>\n",
       "      <td>93.826500</td>\n",
       "      <td>1987.000000</td>\n",
       "      <td>1.000000</td>\n",
       "      <td>0.000000</td>\n",
       "      <td>1.000000</td>\n",
       "      <td>834.247400</td>\n",
       "    </tr>\n",
       "    <tr>\n",
       "      <th>50%</th>\n",
       "      <td>12.857645</td>\n",
       "      <td>0.000000</td>\n",
       "      <td>0.062517</td>\n",
       "      <td>6.000000</td>\n",
       "      <td>143.012800</td>\n",
       "      <td>1999.000000</td>\n",
       "      <td>1.000000</td>\n",
       "      <td>1.000000</td>\n",
       "      <td>1.000000</td>\n",
       "      <td>1794.331000</td>\n",
       "    </tr>\n",
       "    <tr>\n",
       "      <th>75%</th>\n",
       "      <td>16.000000</td>\n",
       "      <td>1.000000</td>\n",
       "      <td>0.094585</td>\n",
       "      <td>10.000000</td>\n",
       "      <td>185.643700</td>\n",
       "      <td>2004.000000</td>\n",
       "      <td>2.000000</td>\n",
       "      <td>2.000000</td>\n",
       "      <td>1.000000</td>\n",
       "      <td>3101.296400</td>\n",
       "    </tr>\n",
       "    <tr>\n",
       "      <th>max</th>\n",
       "      <td>21.350000</td>\n",
       "      <td>1.000000</td>\n",
       "      <td>0.328391</td>\n",
       "      <td>15.000000</td>\n",
       "      <td>266.888400</td>\n",
       "      <td>2009.000000</td>\n",
       "      <td>2.000000</td>\n",
       "      <td>2.000000</td>\n",
       "      <td>3.000000</td>\n",
       "      <td>13086.964800</td>\n",
       "    </tr>\n",
       "  </tbody>\n",
       "</table>\n",
       "</div>"
      ],
      "text/plain": [
       "       Item_Weight  Item_Fat_Content  Item_Visibility    Item_Type  \\\n",
       "count  8523.000000       8523.000000      8523.000000  8523.000000   \n",
       "mean     12.857645          0.352693         0.070213     7.226681   \n",
       "std       4.226124          0.477836         0.048742     4.209990   \n",
       "min       4.555000          0.000000         0.003575     0.000000   \n",
       "25%       9.310000          0.000000         0.033085     4.000000   \n",
       "50%      12.857645          0.000000         0.062517     6.000000   \n",
       "75%      16.000000          1.000000         0.094585    10.000000   \n",
       "max      21.350000          1.000000         0.328391    15.000000   \n",
       "\n",
       "          Item_MRP  Outlet_Establishment_Year  Outlet_Size  \\\n",
       "count  8523.000000                8523.000000  8523.000000   \n",
       "mean    140.992782                1997.831867     1.170832   \n",
       "std      62.275067                   8.371760     0.600327   \n",
       "min      31.290000                1985.000000     0.000000   \n",
       "25%      93.826500                1987.000000     1.000000   \n",
       "50%     143.012800                1999.000000     1.000000   \n",
       "75%     185.643700                2004.000000     2.000000   \n",
       "max     266.888400                2009.000000     2.000000   \n",
       "\n",
       "       Outlet_Location_Type  Outlet_Type  Item_Outlet_Sales  \n",
       "count           8523.000000  8523.000000        8523.000000  \n",
       "mean               1.112871     1.201220        2181.288914  \n",
       "std                0.812757     0.796459        1706.499616  \n",
       "min                0.000000     0.000000          33.290000  \n",
       "25%                0.000000     1.000000         834.247400  \n",
       "50%                1.000000     1.000000        1794.331000  \n",
       "75%                2.000000     1.000000        3101.296400  \n",
       "max                2.000000     3.000000       13086.964800  "
      ]
     },
     "execution_count": 47,
     "metadata": {},
     "output_type": "execute_result"
    }
   ],
   "source": [
    "df_train.describe()"
   ]
  },
  {
   "cell_type": "markdown",
   "id": "c27fc6be",
   "metadata": {},
   "source": [
    "Key Observations:\n",
    "\n",
    "Mean and Median: Values of mean and median have large difference so skewness present.\n",
    "75% percentile and max: Item_Outlet_Sales and Item_MRP have large difference so Outliers are present.\n",
    "Standard deviation is less than mean so high peak data"
   ]
  },
  {
   "cell_type": "code",
   "execution_count": 48,
   "id": "f934aec8",
   "metadata": {},
   "outputs": [
    {
     "data": {
      "text/plain": [
       "<AxesSubplot:>"
      ]
     },
     "execution_count": 48,
     "metadata": {},
     "output_type": "execute_result"
    },
    {
     "data": {
      "image/png": "[encoded data removed]",
      "text/plain": [
       "<Figure size 1584x504 with 2 Axes>"
      ]
     },
     "metadata": {
      "needs_background": "light"
     },
     "output_type": "display_data"
    }
   ],
   "source": [
    "import matplotlib.pyplot as plt\n",
    "plt.figure(figsize=(22,7))\n",
    "sns.heatmap(df_train.describe(),annot=True,linewidths=0.1,linecolor=\"Green\",fmt=\"0.2f\")"
   ]
  },
  {
   "cell_type": "markdown",
   "id": "0e8a38a5",
   "metadata": {},
   "source": [
    "Heatmap representation of dataset description"
   ]
  },
  {
   "cell_type": "markdown",
   "id": "a131c1d2",
   "metadata": {},
   "source": [
    "## Outliers"
   ]
  },
  {
   "cell_type": "code",
   "execution_count": 41,
   "id": "9680976f",
   "metadata": {},
   "outputs": [
    {
     "data": {
      "text/plain": [
       "Item_Weight                      AxesSubplot(0.125,0.71587;0.110714x0.16413)\n",
       "Item_Fat_Content              AxesSubplot(0.257857,0.71587;0.110714x0.16413)\n",
       "Item_Visibility               AxesSubplot(0.390714,0.71587;0.110714x0.16413)\n",
       "Item_Type                     AxesSubplot(0.523571,0.71587;0.110714x0.16413)\n",
       "Item_MRP                      AxesSubplot(0.656429,0.71587;0.110714x0.16413)\n",
       "Outlet_Establishment_Year     AxesSubplot(0.789286,0.71587;0.110714x0.16413)\n",
       "Outlet_Size                     AxesSubplot(0.125,0.518913;0.110714x0.16413)\n",
       "Outlet_Location_Type         AxesSubplot(0.257857,0.518913;0.110714x0.16413)\n",
       "Outlet_Type                  AxesSubplot(0.390714,0.518913;0.110714x0.16413)\n",
       "Item_Outlet_Sales            AxesSubplot(0.523571,0.518913;0.110714x0.16413)\n",
       "dtype: object"
      ]
     },
     "execution_count": 41,
     "metadata": {},
     "output_type": "execute_result"
    },
    {
     "data": {
      "image/png": "[encoded data removed]",
      "text/plain": [
       "<Figure size 864x864 with 24 Axes>"
      ]
     },
     "metadata": {
      "needs_background": "light"
     },
     "output_type": "display_data"
    }
   ],
   "source": [
    "df_train.plot(kind='box',subplots=True,layout=(4,6),figsize=(12,12))"
   ]
  },
  {
   "cell_type": "markdown",
   "id": "f5beff2e",
   "metadata": {},
   "source": [
    "Item_Outlet_Sales, Outlet_Type and Item_Visibility has outliers"
   ]
  },
  {
   "cell_type": "code",
   "execution_count": 42,
   "id": "b42ccbc0",
   "metadata": {},
   "outputs": [
    {
     "data": {
      "text/plain": [
       "(array([  49,   83,  108,  130,  145,  174,  276,  304,  333,  373,  434,\n",
       "         456,  472,  502,  521,  532,  661,  694,  753,  809,  847,  854,\n",
       "         935,  991,  997, 1009, 1138, 1159, 1254, 1272, 1291, 1311, 1324,\n",
       "        1434, 1450, 1496, 1501, 1506, 1560, 1575, 1644, 1651, 1805, 1827,\n",
       "        1841, 1859, 1998, 2088, 2109, 2122, 2216, 2238, 2251, 2293, 2324,\n",
       "        2439, 2445, 2516, 2535, 2586, 2613, 2728, 2776, 2855, 2895, 3017,\n",
       "        3083, 3087, 3098, 3154, 3206, 3234, 3286, 3399, 3407, 3458, 3474,\n",
       "        3488, 3497, 3540, 3667, 3709, 3720, 3750, 3757, 3767, 3884, 3993,\n",
       "        4006, 4219, 4289, 4346, 4349, 4382, 4408, 4530, 4538, 4656, 4674,\n",
       "        4676, 4681, 4772, 4789, 4888, 4941, 4961, 4987, 4991, 5031, 5050,\n",
       "        5065, 5150, 5177, 5185, 5223, 5287, 5315, 5374, 5500, 5550, 5619,\n",
       "        5732, 5734, 5752, 5795, 5799, 5812, 5837, 5880, 5891, 5946, 5977,\n",
       "        6000, 6008, 6012, 6134, 6179, 6334, 6409, 6536, 6537, 6541, 6576,\n",
       "        6606, 6622, 6674, 6786, 6886, 6903, 6993, 7005, 7016, 7076, 7088,\n",
       "        7107, 7121, 7188, 7191, 7215, 7236, 7250, 7256, 7278, 7302, 7343,\n",
       "        7388, 7499, 7558, 7560, 7562, 7603, 7609, 7690, 7744, 7752, 7816,\n",
       "        7826, 7866, 7930, 7949, 8039, 8194, 8201, 8215, 8245, 8273, 8345,\n",
       "        8432, 8447], dtype=int64),\n",
       " array([2, 2, 2, 9, 9, 2, 9, 9, 9, 9, 2, 9, 9, 2, 2, 2, 9, 9, 9, 9, 2, 2,\n",
       "        9, 9, 9, 9, 9, 2, 9, 2, 2, 2, 2, 2, 9, 2, 2, 9, 2, 2, 2, 2, 2, 2,\n",
       "        2, 9, 9, 2, 9, 2, 9, 9, 2, 9, 2, 2, 2, 9, 9, 2, 2, 2, 9, 2, 2, 2,\n",
       "        9, 9, 9, 9, 2, 9, 9, 2, 9, 2, 2, 2, 2, 2, 9, 9, 9, 2, 9, 2, 2, 2,\n",
       "        2, 2, 9, 9, 9, 2, 2, 2, 2, 2, 2, 9, 9, 9, 2, 9, 2, 9, 2, 9, 2, 2,\n",
       "        9, 2, 9, 9, 9, 2, 9, 2, 9, 9, 9, 2, 2, 9, 2, 9, 9, 2, 2, 2, 2, 9,\n",
       "        9, 2, 2, 9, 2, 9, 9, 2, 9, 9, 2, 9, 2, 2, 2, 9, 2, 9, 2, 9, 9, 2,\n",
       "        2, 2, 9, 9, 2, 9, 2, 9, 2, 9, 9, 2, 2, 2, 9, 9, 2, 9, 9, 2, 9, 9,\n",
       "        9, 2, 9, 2, 9, 2, 9, 2, 9, 2, 2, 2, 9], dtype=int64))"
      ]
     },
     "execution_count": 42,
     "metadata": {},
     "output_type": "execute_result"
    }
   ],
   "source": [
    "#zscore for outlier removal\n",
    "\n",
    "from scipy.stats import zscore\n",
    "import numpy as np\n",
    "z = np.abs(zscore(df_train))\n",
    "threshold=3\n",
    "np.where(z>3)"
   ]
  },
  {
   "cell_type": "code",
   "execution_count": 43,
   "id": "d9e72e28",
   "metadata": {},
   "outputs": [],
   "source": [
    "#removing value greater than threshold value \n",
    "\n",
    "df_new=df_train[(z<3).all(axis=1)]\n",
    "df_train= df_new\n"
   ]
  },
  {
   "cell_type": "markdown",
   "id": "eb843dca",
   "metadata": {},
   "source": [
    "Outliers removed"
   ]
  },
  {
   "cell_type": "code",
   "execution_count": 44,
   "id": "c285a767",
   "metadata": {},
   "outputs": [
    {
     "data": {
      "text/html": [
       "<div>\n",
       "<style scoped>\n",
       "    .dataframe tbody tr th:only-of-type {\n",
       "        vertical-align: middle;\n",
       "    }\n",
       "\n",
       "    .dataframe tbody tr th {\n",
       "        vertical-align: top;\n",
       "    }\n",
       "\n",
       "    .dataframe thead th {\n",
       "        text-align: right;\n",
       "    }\n",
       "</style>\n",
       "<table border=\"1\" class=\"dataframe\">\n",
       "  <thead>\n",
       "    <tr style=\"text-align: right;\">\n",
       "      <th></th>\n",
       "      <th>Item_Weight</th>\n",
       "      <th>Item_Fat_Content</th>\n",
       "      <th>Item_Visibility</th>\n",
       "      <th>Item_Type</th>\n",
       "      <th>Item_MRP</th>\n",
       "      <th>Outlet_Establishment_Year</th>\n",
       "      <th>Outlet_Size</th>\n",
       "      <th>Outlet_Location_Type</th>\n",
       "      <th>Outlet_Type</th>\n",
       "      <th>Item_Outlet_Sales</th>\n",
       "    </tr>\n",
       "  </thead>\n",
       "  <tbody>\n",
       "    <tr>\n",
       "      <th>0</th>\n",
       "      <td>9.30</td>\n",
       "      <td>0</td>\n",
       "      <td>0.016047</td>\n",
       "      <td>4</td>\n",
       "      <td>249.8092</td>\n",
       "      <td>1999</td>\n",
       "      <td>1</td>\n",
       "      <td>0</td>\n",
       "      <td>1</td>\n",
       "      <td>3735.1380</td>\n",
       "    </tr>\n",
       "    <tr>\n",
       "      <th>1</th>\n",
       "      <td>5.92</td>\n",
       "      <td>1</td>\n",
       "      <td>0.019278</td>\n",
       "      <td>14</td>\n",
       "      <td>48.2692</td>\n",
       "      <td>2009</td>\n",
       "      <td>1</td>\n",
       "      <td>2</td>\n",
       "      <td>2</td>\n",
       "      <td>443.4228</td>\n",
       "    </tr>\n",
       "    <tr>\n",
       "      <th>2</th>\n",
       "      <td>17.50</td>\n",
       "      <td>0</td>\n",
       "      <td>0.016760</td>\n",
       "      <td>10</td>\n",
       "      <td>141.6180</td>\n",
       "      <td>1999</td>\n",
       "      <td>1</td>\n",
       "      <td>0</td>\n",
       "      <td>1</td>\n",
       "      <td>2097.2700</td>\n",
       "    </tr>\n",
       "    <tr>\n",
       "      <th>3</th>\n",
       "      <td>19.20</td>\n",
       "      <td>1</td>\n",
       "      <td>0.066132</td>\n",
       "      <td>6</td>\n",
       "      <td>182.0950</td>\n",
       "      <td>1998</td>\n",
       "      <td>1</td>\n",
       "      <td>2</td>\n",
       "      <td>0</td>\n",
       "      <td>732.3800</td>\n",
       "    </tr>\n",
       "    <tr>\n",
       "      <th>4</th>\n",
       "      <td>8.93</td>\n",
       "      <td>0</td>\n",
       "      <td>0.066132</td>\n",
       "      <td>9</td>\n",
       "      <td>53.8614</td>\n",
       "      <td>1987</td>\n",
       "      <td>0</td>\n",
       "      <td>2</td>\n",
       "      <td>1</td>\n",
       "      <td>994.7052</td>\n",
       "    </tr>\n",
       "  </tbody>\n",
       "</table>\n",
       "</div>"
      ],
      "text/plain": [
       "   Item_Weight  Item_Fat_Content  Item_Visibility  Item_Type  Item_MRP  \\\n",
       "0         9.30                 0         0.016047          4  249.8092   \n",
       "1         5.92                 1         0.019278         14   48.2692   \n",
       "2        17.50                 0         0.016760         10  141.6180   \n",
       "3        19.20                 1         0.066132          6  182.0950   \n",
       "4         8.93                 0         0.066132          9   53.8614   \n",
       "\n",
       "   Outlet_Establishment_Year  Outlet_Size  Outlet_Location_Type  Outlet_Type  \\\n",
       "0                       1999            1                     0            1   \n",
       "1                       2009            1                     2            2   \n",
       "2                       1999            1                     0            1   \n",
       "3                       1998            1                     2            0   \n",
       "4                       1987            0                     2            1   \n",
       "\n",
       "   Item_Outlet_Sales  \n",
       "0          3735.1380  \n",
       "1           443.4228  \n",
       "2          2097.2700  \n",
       "3           732.3800  \n",
       "4           994.7052  "
      ]
     },
     "execution_count": 44,
     "metadata": {},
     "output_type": "execute_result"
    }
   ],
   "source": [
    "df_train.head()"
   ]
  },
  {
   "cell_type": "code",
   "execution_count": 45,
   "id": "a00753fd",
   "metadata": {},
   "outputs": [
    {
     "data": {
      "text/plain": [
       "(8334, 10)"
      ]
     },
     "execution_count": 45,
     "metadata": {},
     "output_type": "execute_result"
    }
   ],
   "source": [
    "df_train.shape"
   ]
  },
  {
   "cell_type": "markdown",
   "id": "507d25ad",
   "metadata": {},
   "source": [
    "Rows: 8334 ; Column: 10"
   ]
  },
  {
   "cell_type": "markdown",
   "id": "15eb650a",
   "metadata": {},
   "source": [
    "#### Percentage Loss of data"
   ]
  },
  {
   "cell_type": "code",
   "execution_count": 46,
   "id": "c3abc4da",
   "metadata": {},
   "outputs": [
    {
     "data": {
      "text/plain": [
       "2.2175290390707496"
      ]
     },
     "execution_count": 46,
     "metadata": {},
     "output_type": "execute_result"
    }
   ],
   "source": [
    "Data_loss=((8523-8334)/8523)*100\n",
    "Data_loss"
   ]
  },
  {
   "cell_type": "markdown",
   "id": "dd87733f",
   "metadata": {},
   "source": [
    "2.21% data lost"
   ]
  },
  {
   "cell_type": "markdown",
   "id": "f54e6024",
   "metadata": {},
   "source": [
    "## Skewness: "
   ]
  },
  {
   "cell_type": "code",
   "execution_count": 47,
   "id": "f236b1db",
   "metadata": {},
   "outputs": [
    {
     "name": "stderr",
     "output_type": "stream",
     "text": [
      "D:\\Anaconda\\lib\\site-packages\\numpy\\core\\_methods.py:232: RuntimeWarning: overflow encountered in multiply\n",
      "  x = um.multiply(x, x, out=x)\n",
      "D:\\Anaconda\\lib\\site-packages\\numpy\\core\\_methods.py:243: RuntimeWarning: overflow encountered in reduce\n",
      "  ret = umr_sum(x, axis, dtype, out, keepdims=keepdims, where=where)\n"
     ]
    }
   ],
   "source": [
    "# Independent data:\n",
    "x= df_train.iloc[:,0:-1]\n",
    "\n",
    "# Target label\n",
    "y= df_train.iloc[:,-1]\n",
    "\n",
    "from sklearn.preprocessing import power_transform\n",
    "x=power_transform(x,method='yeo-johnson')"
   ]
  },
  {
   "cell_type": "markdown",
   "id": "1eb22549",
   "metadata": {},
   "source": [
    "Taking range of skewness between +/- 0.5, only Height has maximum skewness so need to remove skewness"
   ]
  },
  {
   "cell_type": "code",
   "execution_count": 48,
   "id": "0eaf02b3",
   "metadata": {},
   "outputs": [
    {
     "data": {
      "text/plain": [
       "array([[-0.8168068 , -0.73691762, -1.44257671, ..., -0.28731953,\n",
       "        -1.376027  , -0.13560985],\n",
       "       [-1.7244954 ,  1.35700378, -1.31329917, ..., -0.28731953,\n",
       "         1.09519263,  1.05665568],\n",
       "       [ 1.079394  , -0.73691762, -1.41369515, ..., -0.28731953,\n",
       "        -1.376027  , -0.13560985],\n",
       "       ...,\n",
       "       [-0.49243906, -0.73691762, -0.73416897, ...,  1.3929233 ,\n",
       "        -0.12653776, -0.13560985],\n",
       "       [-1.36526113,  1.35700378,  1.55313536, ..., -0.28731953,\n",
       "         1.09519263,  1.05665568],\n",
       "       [ 0.48946968, -0.73691762, -0.423479  , ...,  1.3929233 ,\n",
       "        -1.376027  , -0.13560985]])"
      ]
     },
     "execution_count": 48,
     "metadata": {},
     "output_type": "execute_result"
    }
   ],
   "source": [
    "x"
   ]
  },
  {
   "cell_type": "markdown",
   "id": "4468d3e4",
   "metadata": {},
   "source": [
    "Skewness removed"
   ]
  },
  {
   "cell_type": "code",
   "execution_count": 49,
   "id": "a09e56c8",
   "metadata": {},
   "outputs": [],
   "source": [
    "x=pd.DataFrame(x)\n",
    "#x.skew()"
   ]
  },
  {
   "cell_type": "markdown",
   "id": "89834374",
   "metadata": {},
   "source": [
    "Skewness removed"
   ]
  },
  {
   "cell_type": "markdown",
   "id": "e04cf472",
   "metadata": {},
   "source": [
    "# Correlation of the columns with the target columns:"
   ]
  },
  {
   "cell_type": "code",
   "execution_count": 50,
   "id": "c1d61060",
   "metadata": {},
   "outputs": [
    {
     "data": {
      "text/html": [
       "<div>\n",
       "<style scoped>\n",
       "    .dataframe tbody tr th:only-of-type {\n",
       "        vertical-align: middle;\n",
       "    }\n",
       "\n",
       "    .dataframe tbody tr th {\n",
       "        vertical-align: top;\n",
       "    }\n",
       "\n",
       "    .dataframe thead th {\n",
       "        text-align: right;\n",
       "    }\n",
       "</style>\n",
       "<table border=\"1\" class=\"dataframe\">\n",
       "  <thead>\n",
       "    <tr style=\"text-align: right;\">\n",
       "      <th></th>\n",
       "      <th>Item_Weight</th>\n",
       "      <th>Item_Fat_Content</th>\n",
       "      <th>Item_Visibility</th>\n",
       "      <th>Item_Type</th>\n",
       "      <th>Item_MRP</th>\n",
       "      <th>Outlet_Establishment_Year</th>\n",
       "      <th>Outlet_Size</th>\n",
       "      <th>Outlet_Location_Type</th>\n",
       "      <th>Outlet_Type</th>\n",
       "      <th>Item_Outlet_Sales</th>\n",
       "    </tr>\n",
       "  </thead>\n",
       "  <tbody>\n",
       "    <tr>\n",
       "      <th>Item_Weight</th>\n",
       "      <td>1.000000</td>\n",
       "      <td>-0.020417</td>\n",
       "      <td>-0.016207</td>\n",
       "      <td>0.028766</td>\n",
       "      <td>0.024111</td>\n",
       "      <td>-0.008605</td>\n",
       "      <td>-0.007766</td>\n",
       "      <td>0.005380</td>\n",
       "      <td>-0.001604</td>\n",
       "      <td>0.010810</td>\n",
       "    </tr>\n",
       "    <tr>\n",
       "      <th>Item_Fat_Content</th>\n",
       "      <td>-0.020417</td>\n",
       "      <td>1.000000</td>\n",
       "      <td>0.051874</td>\n",
       "      <td>-0.139009</td>\n",
       "      <td>0.006969</td>\n",
       "      <td>0.004257</td>\n",
       "      <td>-0.001106</td>\n",
       "      <td>-0.002907</td>\n",
       "      <td>0.004133</td>\n",
       "      <td>0.022502</td>\n",
       "    </tr>\n",
       "    <tr>\n",
       "      <th>Item_Visibility</th>\n",
       "      <td>-0.016207</td>\n",
       "      <td>0.051874</td>\n",
       "      <td>1.000000</td>\n",
       "      <td>-0.037990</td>\n",
       "      <td>-0.004676</td>\n",
       "      <td>-0.045693</td>\n",
       "      <td>0.046831</td>\n",
       "      <td>-0.014491</td>\n",
       "      <td>-0.123669</td>\n",
       "      <td>-0.095377</td>\n",
       "    </tr>\n",
       "    <tr>\n",
       "      <th>Item_Type</th>\n",
       "      <td>0.028766</td>\n",
       "      <td>-0.139009</td>\n",
       "      <td>-0.037990</td>\n",
       "      <td>1.000000</td>\n",
       "      <td>0.031651</td>\n",
       "      <td>0.006132</td>\n",
       "      <td>-0.001879</td>\n",
       "      <td>0.003324</td>\n",
       "      <td>0.001245</td>\n",
       "      <td>0.016662</td>\n",
       "    </tr>\n",
       "    <tr>\n",
       "      <th>Item_MRP</th>\n",
       "      <td>0.024111</td>\n",
       "      <td>0.006969</td>\n",
       "      <td>-0.004676</td>\n",
       "      <td>0.031651</td>\n",
       "      <td>1.000000</td>\n",
       "      <td>0.020052</td>\n",
       "      <td>0.007022</td>\n",
       "      <td>-0.004895</td>\n",
       "      <td>-0.021158</td>\n",
       "      <td>0.569987</td>\n",
       "    </tr>\n",
       "    <tr>\n",
       "      <th>Outlet_Establishment_Year</th>\n",
       "      <td>-0.008605</td>\n",
       "      <td>0.004257</td>\n",
       "      <td>-0.045693</td>\n",
       "      <td>0.006132</td>\n",
       "      <td>0.020052</td>\n",
       "      <td>1.000000</td>\n",
       "      <td>0.208081</td>\n",
       "      <td>-0.092940</td>\n",
       "      <td>-0.118278</td>\n",
       "      <td>-0.024110</td>\n",
       "    </tr>\n",
       "    <tr>\n",
       "      <th>Outlet_Size</th>\n",
       "      <td>-0.007766</td>\n",
       "      <td>-0.001106</td>\n",
       "      <td>0.046831</td>\n",
       "      <td>-0.001879</td>\n",
       "      <td>0.007022</td>\n",
       "      <td>0.208081</td>\n",
       "      <td>1.000000</td>\n",
       "      <td>-0.610399</td>\n",
       "      <td>-0.193595</td>\n",
       "      <td>-0.077188</td>\n",
       "    </tr>\n",
       "    <tr>\n",
       "      <th>Outlet_Location_Type</th>\n",
       "      <td>0.005380</td>\n",
       "      <td>-0.002907</td>\n",
       "      <td>-0.014491</td>\n",
       "      <td>0.003324</td>\n",
       "      <td>-0.004895</td>\n",
       "      <td>-0.092940</td>\n",
       "      <td>-0.610399</td>\n",
       "      <td>1.000000</td>\n",
       "      <td>0.466261</td>\n",
       "      <td>0.066895</td>\n",
       "    </tr>\n",
       "    <tr>\n",
       "      <th>Outlet_Type</th>\n",
       "      <td>-0.001604</td>\n",
       "      <td>0.004133</td>\n",
       "      <td>-0.123669</td>\n",
       "      <td>0.001245</td>\n",
       "      <td>-0.021158</td>\n",
       "      <td>-0.118278</td>\n",
       "      <td>-0.193595</td>\n",
       "      <td>0.466261</td>\n",
       "      <td>1.000000</td>\n",
       "      <td>0.368229</td>\n",
       "    </tr>\n",
       "    <tr>\n",
       "      <th>Item_Outlet_Sales</th>\n",
       "      <td>0.010810</td>\n",
       "      <td>0.022502</td>\n",
       "      <td>-0.095377</td>\n",
       "      <td>0.016662</td>\n",
       "      <td>0.569987</td>\n",
       "      <td>-0.024110</td>\n",
       "      <td>-0.077188</td>\n",
       "      <td>0.066895</td>\n",
       "      <td>0.368229</td>\n",
       "      <td>1.000000</td>\n",
       "    </tr>\n",
       "  </tbody>\n",
       "</table>\n",
       "</div>"
      ],
      "text/plain": [
       "                           Item_Weight  Item_Fat_Content  Item_Visibility  \\\n",
       "Item_Weight                   1.000000         -0.020417        -0.016207   \n",
       "Item_Fat_Content             -0.020417          1.000000         0.051874   \n",
       "Item_Visibility              -0.016207          0.051874         1.000000   \n",
       "Item_Type                     0.028766         -0.139009        -0.037990   \n",
       "Item_MRP                      0.024111          0.006969        -0.004676   \n",
       "Outlet_Establishment_Year    -0.008605          0.004257        -0.045693   \n",
       "Outlet_Size                  -0.007766         -0.001106         0.046831   \n",
       "Outlet_Location_Type          0.005380         -0.002907        -0.014491   \n",
       "Outlet_Type                  -0.001604          0.004133        -0.123669   \n",
       "Item_Outlet_Sales             0.010810          0.022502        -0.095377   \n",
       "\n",
       "                           Item_Type  Item_MRP  Outlet_Establishment_Year  \\\n",
       "Item_Weight                 0.028766  0.024111                  -0.008605   \n",
       "Item_Fat_Content           -0.139009  0.006969                   0.004257   \n",
       "Item_Visibility            -0.037990 -0.004676                  -0.045693   \n",
       "Item_Type                   1.000000  0.031651                   0.006132   \n",
       "Item_MRP                    0.031651  1.000000                   0.020052   \n",
       "Outlet_Establishment_Year   0.006132  0.020052                   1.000000   \n",
       "Outlet_Size                -0.001879  0.007022                   0.208081   \n",
       "Outlet_Location_Type        0.003324 -0.004895                  -0.092940   \n",
       "Outlet_Type                 0.001245 -0.021158                  -0.118278   \n",
       "Item_Outlet_Sales           0.016662  0.569987                  -0.024110   \n",
       "\n",
       "                           Outlet_Size  Outlet_Location_Type  Outlet_Type  \\\n",
       "Item_Weight                  -0.007766              0.005380    -0.001604   \n",
       "Item_Fat_Content             -0.001106             -0.002907     0.004133   \n",
       "Item_Visibility               0.046831             -0.014491    -0.123669   \n",
       "Item_Type                    -0.001879              0.003324     0.001245   \n",
       "Item_MRP                      0.007022             -0.004895    -0.021158   \n",
       "Outlet_Establishment_Year     0.208081             -0.092940    -0.118278   \n",
       "Outlet_Size                   1.000000             -0.610399    -0.193595   \n",
       "Outlet_Location_Type         -0.610399              1.000000     0.466261   \n",
       "Outlet_Type                  -0.193595              0.466261     1.000000   \n",
       "Item_Outlet_Sales            -0.077188              0.066895     0.368229   \n",
       "\n",
       "                           Item_Outlet_Sales  \n",
       "Item_Weight                         0.010810  \n",
       "Item_Fat_Content                    0.022502  \n",
       "Item_Visibility                    -0.095377  \n",
       "Item_Type                           0.016662  \n",
       "Item_MRP                            0.569987  \n",
       "Outlet_Establishment_Year          -0.024110  \n",
       "Outlet_Size                        -0.077188  \n",
       "Outlet_Location_Type                0.066895  \n",
       "Outlet_Type                         0.368229  \n",
       "Item_Outlet_Sales                   1.000000  "
      ]
     },
     "execution_count": 50,
     "metadata": {},
     "output_type": "execute_result"
    }
   ],
   "source": [
    "df_train.corr()"
   ]
  },
  {
   "cell_type": "markdown",
   "id": "e9abb466",
   "metadata": {},
   "source": [
    "correlation of input with target variable Item_Outlet_Sales"
   ]
  },
  {
   "cell_type": "code",
   "execution_count": 51,
   "id": "b46e150e",
   "metadata": {},
   "outputs": [
    {
     "data": {
      "text/plain": [
       "<AxesSubplot:>"
      ]
     },
     "execution_count": 51,
     "metadata": {},
     "output_type": "execute_result"
    },
    {
     "data": {
      "image/png": "[encoded data removed]",
      "text/plain": [
       "<Figure size 720x504 with 2 Axes>"
      ]
     },
     "metadata": {
      "needs_background": "light"
     },
     "output_type": "display_data"
    }
   ],
   "source": [
    "plt.figure(figsize=(10,7))\n",
    "sns.heatmap(df_train.corr(),annot=True,linewidths=0.1,linecolor=\"Black\",fmt=\"0.2f\")"
   ]
  },
  {
   "cell_type": "markdown",
   "id": "43e6f883",
   "metadata": {},
   "source": [
    "Key Observation:\n",
    " 1. Item_Outlet_Sales have positive correlation with Item_MRP and negative correlation with Item_Visibility\n",
    " 2. Item_MRP has negative correlation with Outlet_Type and positive correlation with Item_Outlet_Sales\n",
    " 3. Multicollinearity exist"
   ]
  },
  {
   "cell_type": "markdown",
   "id": "7d2ef063",
   "metadata": {},
   "source": [
    "### Multicollinearity removal using VIF"
   ]
  },
  {
   "cell_type": "code",
   "execution_count": 52,
   "id": "a3376c5a",
   "metadata": {},
   "outputs": [],
   "source": [
    "from statsmodels.stats.outliers_influence import variance_inflation_factor"
   ]
  },
  {
   "cell_type": "code",
   "execution_count": 53,
   "id": "dc161b73",
   "metadata": {},
   "outputs": [],
   "source": [
    "def vif_calc():\n",
    "    vif=pd.DataFrame()\n",
    "    vif[\"VIF Factor\"]=[variance_inflation_factor(x.values,i) for i in range(x.shape[1])]\n",
    "    vif[\"features\"]=x.columns\n",
    "    print(vif)"
   ]
  },
  {
   "cell_type": "code",
   "execution_count": 54,
   "id": "23108ef9",
   "metadata": {},
   "outputs": [
    {
     "name": "stdout",
     "output_type": "stream",
     "text": [
      "   VIF Factor  features\n",
      "0    1.002683         0\n",
      "1    1.024939         1\n",
      "2    1.031325         2\n",
      "3    1.025621         3\n",
      "4    1.002643         4\n",
      "5    1.047500         5\n",
      "6    1.664515         6\n",
      "7    1.840935         7\n",
      "8    1.229488         8\n"
     ]
    }
   ],
   "source": [
    "vif_calc()"
   ]
  },
  {
   "cell_type": "markdown",
   "id": "51580df2",
   "metadata": {},
   "source": [
    "## Data Cleaning:"
   ]
  },
  {
   "cell_type": "code",
   "execution_count": 55,
   "id": "b8db302e",
   "metadata": {},
   "outputs": [
    {
     "name": "stderr",
     "output_type": "stream",
     "text": [
      "D:\\Anaconda\\lib\\site-packages\\pandas\\core\\frame.py:4308: SettingWithCopyWarning: \n",
      "A value is trying to be set on a copy of a slice from a DataFrame\n",
      "\n",
      "See the caveats in the documentation: https://pandas.pydata.org/pandas-docs/stable/user_guide/indexing.html#returning-a-view-versus-a-copy\n",
      "  return super().drop(\n"
     ]
    },
    {
     "data": {
      "text/html": [
       "<div>\n",
       "<style scoped>\n",
       "    .dataframe tbody tr th:only-of-type {\n",
       "        vertical-align: middle;\n",
       "    }\n",
       "\n",
       "    .dataframe tbody tr th {\n",
       "        vertical-align: top;\n",
       "    }\n",
       "\n",
       "    .dataframe thead th {\n",
       "        text-align: right;\n",
       "    }\n",
       "</style>\n",
       "<table border=\"1\" class=\"dataframe\">\n",
       "  <thead>\n",
       "    <tr style=\"text-align: right;\">\n",
       "      <th></th>\n",
       "      <th>Item_Weight</th>\n",
       "      <th>Item_Fat_Content</th>\n",
       "      <th>Item_Visibility</th>\n",
       "      <th>Item_Type</th>\n",
       "      <th>Item_MRP</th>\n",
       "      <th>Outlet_Size</th>\n",
       "      <th>Outlet_Location_Type</th>\n",
       "      <th>Outlet_Type</th>\n",
       "      <th>Item_Outlet_Sales</th>\n",
       "    </tr>\n",
       "  </thead>\n",
       "  <tbody>\n",
       "    <tr>\n",
       "      <th>0</th>\n",
       "      <td>9.30</td>\n",
       "      <td>0</td>\n",
       "      <td>0.016047</td>\n",
       "      <td>4</td>\n",
       "      <td>249.8092</td>\n",
       "      <td>1</td>\n",
       "      <td>0</td>\n",
       "      <td>1</td>\n",
       "      <td>3735.1380</td>\n",
       "    </tr>\n",
       "    <tr>\n",
       "      <th>1</th>\n",
       "      <td>5.92</td>\n",
       "      <td>1</td>\n",
       "      <td>0.019278</td>\n",
       "      <td>14</td>\n",
       "      <td>48.2692</td>\n",
       "      <td>1</td>\n",
       "      <td>2</td>\n",
       "      <td>2</td>\n",
       "      <td>443.4228</td>\n",
       "    </tr>\n",
       "    <tr>\n",
       "      <th>2</th>\n",
       "      <td>17.50</td>\n",
       "      <td>0</td>\n",
       "      <td>0.016760</td>\n",
       "      <td>10</td>\n",
       "      <td>141.6180</td>\n",
       "      <td>1</td>\n",
       "      <td>0</td>\n",
       "      <td>1</td>\n",
       "      <td>2097.2700</td>\n",
       "    </tr>\n",
       "    <tr>\n",
       "      <th>3</th>\n",
       "      <td>19.20</td>\n",
       "      <td>1</td>\n",
       "      <td>0.066132</td>\n",
       "      <td>6</td>\n",
       "      <td>182.0950</td>\n",
       "      <td>1</td>\n",
       "      <td>2</td>\n",
       "      <td>0</td>\n",
       "      <td>732.3800</td>\n",
       "    </tr>\n",
       "    <tr>\n",
       "      <th>4</th>\n",
       "      <td>8.93</td>\n",
       "      <td>0</td>\n",
       "      <td>0.066132</td>\n",
       "      <td>9</td>\n",
       "      <td>53.8614</td>\n",
       "      <td>0</td>\n",
       "      <td>2</td>\n",
       "      <td>1</td>\n",
       "      <td>994.7052</td>\n",
       "    </tr>\n",
       "  </tbody>\n",
       "</table>\n",
       "</div>"
      ],
      "text/plain": [
       "   Item_Weight  Item_Fat_Content  Item_Visibility  Item_Type  Item_MRP  \\\n",
       "0         9.30                 0         0.016047          4  249.8092   \n",
       "1         5.92                 1         0.019278         14   48.2692   \n",
       "2        17.50                 0         0.016760         10  141.6180   \n",
       "3        19.20                 1         0.066132          6  182.0950   \n",
       "4         8.93                 0         0.066132          9   53.8614   \n",
       "\n",
       "   Outlet_Size  Outlet_Location_Type  Outlet_Type  Item_Outlet_Sales  \n",
       "0            1                     0            1          3735.1380  \n",
       "1            1                     2            2           443.4228  \n",
       "2            1                     0            1          2097.2700  \n",
       "3            1                     2            0           732.3800  \n",
       "4            0                     2            1           994.7052  "
      ]
     },
     "execution_count": 55,
     "metadata": {},
     "output_type": "execute_result"
    }
   ],
   "source": [
    "df_train.drop(['Outlet_Establishment_Year'],axis=1,inplace=True)\n",
    "df_train.head()"
   ]
  },
  {
   "cell_type": "markdown",
   "id": "a19fa606",
   "metadata": {},
   "source": [
    "# Scaling Data"
   ]
  },
  {
   "cell_type": "code",
   "execution_count": 56,
   "id": "c122a957",
   "metadata": {},
   "outputs": [
    {
     "data": {
      "text/plain": [
       "array([[-0.8168068 , -0.73691762, -1.44257671, ..., -0.28731953,\n",
       "        -1.376027  , -0.13560985],\n",
       "       [-1.7244954 ,  1.35700378, -1.31329917, ..., -0.28731953,\n",
       "         1.09519263,  1.05665568],\n",
       "       [ 1.079394  , -0.73691762, -1.41369515, ..., -0.28731953,\n",
       "        -1.376027  , -0.13560985],\n",
       "       ...,\n",
       "       [-0.49243906, -0.73691762, -0.73416897, ...,  1.3929233 ,\n",
       "        -0.12653776, -0.13560985],\n",
       "       [-1.36526113,  1.35700378,  1.55313536, ..., -0.28731953,\n",
       "         1.09519263,  1.05665568],\n",
       "       [ 0.48946968, -0.73691762, -0.423479  , ...,  1.3929233 ,\n",
       "        -1.376027  , -0.13560985]])"
      ]
     },
     "execution_count": 56,
     "metadata": {},
     "output_type": "execute_result"
    }
   ],
   "source": [
    "from sklearn.preprocessing import StandardScaler\n",
    "sc = StandardScaler()\n",
    "x=sc.fit_transform(x)\n",
    "x"
   ]
  },
  {
   "cell_type": "markdown",
   "id": "4cdf3530",
   "metadata": {},
   "source": [
    "# Model Selection :\n",
    "\n",
    "## Linear Regression:"
   ]
  },
  {
   "cell_type": "code",
   "execution_count": 57,
   "id": "d5928c2b",
   "metadata": {},
   "outputs": [],
   "source": [
    "from sklearn.metrics import r2_score \n",
    "from sklearn.linear_model import LinearRegression\n",
    "lr=LinearRegression()\n",
    "from sklearn.metrics import mean_squared_error,mean_absolute_error\n",
    "from sklearn.metrics import accuracy_score\n",
    "from sklearn.model_selection import train_test_split\n",
    "\n",
    "import warnings\n",
    "warnings.filterwarnings('ignore')"
   ]
  },
  {
   "cell_type": "code",
   "execution_count": 58,
   "id": "5bd09d0d",
   "metadata": {},
   "outputs": [
    {
     "name": "stdout",
     "output_type": "stream",
     "text": [
      "At random state 0,the training accuracy is:- 0.507760029405971\n",
      "At random state 0,the testing accuracy is:- 0.5493795087038106\n",
      "\n",
      "\n",
      "At random state 1,the training accuracy is:- 0.5180904246685417\n",
      "At random state 1,the testing accuracy is:- 0.5082369653334385\n",
      "\n",
      "\n",
      "At random state 2,the training accuracy is:- 0.5137545320493101\n",
      "At random state 2,the testing accuracy is:- 0.5262058627663113\n",
      "\n",
      "\n",
      "At random state 3,the training accuracy is:- 0.5167723640254178\n",
      "At random state 3,the testing accuracy is:- 0.5142831209703781\n",
      "\n",
      "\n",
      "At random state 4,the training accuracy is:- 0.5168124593436474\n",
      "At random state 4,the testing accuracy is:- 0.5142352862912623\n",
      "\n",
      "\n",
      "At random state 5,the training accuracy is:- 0.5177964008068716\n",
      "At random state 5,the testing accuracy is:- 0.509551593439606\n",
      "\n",
      "\n",
      "At random state 6,the training accuracy is:- 0.5202251497258659\n",
      "At random state 6,the testing accuracy is:- 0.5012153158373798\n",
      "\n",
      "\n",
      "At random state 7,the training accuracy is:- 0.5145572318631083\n",
      "At random state 7,the testing accuracy is:- 0.5232170106473728\n",
      "\n",
      "\n",
      "At random state 8,the training accuracy is:- 0.5173166407884761\n",
      "At random state 8,the testing accuracy is:- 0.5118455346238755\n",
      "\n",
      "\n",
      "At random state 9,the training accuracy is:- 0.5185957852944567\n",
      "At random state 9,the testing accuracy is:- 0.5072748624061612\n",
      "\n",
      "\n",
      "At random state 10,the training accuracy is:- 0.5176566303175019\n",
      "At random state 10,the testing accuracy is:- 0.5115007886504812\n",
      "\n",
      "\n",
      "At random state 11,the training accuracy is:- 0.5151371765793791\n",
      "At random state 11,the testing accuracy is:- 0.520037507361499\n",
      "\n",
      "\n",
      "At random state 12,the training accuracy is:- 0.5198521809456171\n",
      "At random state 12,the testing accuracy is:- 0.5001529122422779\n",
      "\n",
      "\n",
      "At random state 13,the training accuracy is:- 0.5096071732487264\n",
      "At random state 13,the testing accuracy is:- 0.5422353870427998\n",
      "\n",
      "\n",
      "At random state 14,the training accuracy is:- 0.5155525714926126\n",
      "At random state 14,the testing accuracy is:- 0.5198464772807314\n",
      "\n",
      "\n",
      "At random state 15,the training accuracy is:- 0.5153760194465415\n",
      "At random state 15,the testing accuracy is:- 0.5202145008795337\n",
      "\n",
      "\n",
      "At random state 16,the training accuracy is:- 0.5160243773044423\n",
      "At random state 16,the testing accuracy is:- 0.5169620708263498\n",
      "\n",
      "\n",
      "At random state 17,the training accuracy is:- 0.5194263051998861\n",
      "At random state 17,the testing accuracy is:- 0.5034460618681402\n",
      "\n",
      "\n",
      "At random state 18,the training accuracy is:- 0.515186594005409\n",
      "At random state 18,the testing accuracy is:- 0.5200917037758053\n",
      "\n",
      "\n",
      "At random state 19,the training accuracy is:- 0.516536120857961\n",
      "At random state 19,the testing accuracy is:- 0.5146977894930667\n",
      "\n",
      "\n",
      "At random state 20,the training accuracy is:- 0.5179406276273533\n",
      "At random state 20,the testing accuracy is:- 0.5101358353275075\n",
      "\n",
      "\n",
      "At random state 21,the training accuracy is:- 0.5198117580270172\n",
      "At random state 21,the testing accuracy is:- 0.5030759024980556\n",
      "\n",
      "\n",
      "At random state 22,the training accuracy is:- 0.5142195081996657\n",
      "At random state 22,the testing accuracy is:- 0.5228944636711557\n",
      "\n",
      "\n",
      "At random state 23,the training accuracy is:- 0.5163284946271216\n",
      "At random state 23,the testing accuracy is:- 0.5166018326474793\n",
      "\n",
      "\n",
      "At random state 24,the training accuracy is:- 0.5135477844714305\n",
      "At random state 24,the testing accuracy is:- 0.526788224549674\n",
      "\n",
      "\n",
      "At random state 25,the training accuracy is:- 0.5144540777766258\n",
      "At random state 25,the testing accuracy is:- 0.5240694483129738\n",
      "\n",
      "\n",
      "At random state 26,the training accuracy is:- 0.5188101116004685\n",
      "At random state 26,the testing accuracy is:- 0.5047370062628109\n",
      "\n",
      "\n",
      "At random state 27,the training accuracy is:- 0.5218708538260672\n",
      "At random state 27,the testing accuracy is:- 0.4923321392592417\n",
      "\n",
      "\n",
      "At random state 28,the training accuracy is:- 0.5108559715755465\n",
      "At random state 28,the testing accuracy is:- 0.537257731413233\n",
      "\n",
      "\n",
      "At random state 29,the training accuracy is:- 0.5218933112447033\n",
      "At random state 29,the testing accuracy is:- 0.4910910846176145\n",
      "\n",
      "\n",
      "At random state 30,the training accuracy is:- 0.5142656721619545\n",
      "At random state 30,the testing accuracy is:- 0.524695593428922\n",
      "\n",
      "\n",
      "At random state 31,the training accuracy is:- 0.5103325483725616\n",
      "At random state 31,the testing accuracy is:- 0.5393218157674735\n",
      "\n",
      "\n",
      "At random state 32,the training accuracy is:- 0.5120629844775638\n",
      "At random state 32,the testing accuracy is:- 0.5330824521555149\n",
      "\n",
      "\n",
      "At random state 33,the training accuracy is:- 0.5188317838300582\n",
      "At random state 33,the testing accuracy is:- 0.5055598938445289\n",
      "\n",
      "\n",
      "At random state 34,the training accuracy is:- 0.521947045101119\n",
      "At random state 34,the testing accuracy is:- 0.49493677606125486\n",
      "\n",
      "\n",
      "At random state 35,the training accuracy is:- 0.5230997660195591\n",
      "At random state 35,the testing accuracy is:- 0.4876923003745769\n",
      "\n",
      "\n",
      "At random state 36,the training accuracy is:- 0.5175606025176427\n",
      "At random state 36,the testing accuracy is:- 0.5116616080480745\n",
      "\n",
      "\n",
      "At random state 37,the training accuracy is:- 0.5131915295369636\n",
      "At random state 37,the testing accuracy is:- 0.5280441381931693\n",
      "\n",
      "\n",
      "At random state 38,the training accuracy is:- 0.512088105383344\n",
      "At random state 38,the testing accuracy is:- 0.5322009115791884\n",
      "\n",
      "\n",
      "At random state 39,the training accuracy is:- 0.5159784645838191\n",
      "At random state 39,the testing accuracy is:- 0.5174387737326998\n",
      "\n",
      "\n",
      "At random state 40,the training accuracy is:- 0.5216817306673012\n",
      "At random state 40,the testing accuracy is:- 0.4950013247764763\n",
      "\n",
      "\n",
      "At random state 41,the training accuracy is:- 0.5199711918304536\n",
      "At random state 41,the testing accuracy is:- 0.5004563974010915\n",
      "\n",
      "\n",
      "At random state 42,the training accuracy is:- 0.5161308633828063\n",
      "At random state 42,the testing accuracy is:- 0.5164524772916077\n",
      "\n",
      "\n",
      "At random state 43,the training accuracy is:- 0.5189948625399734\n",
      "At random state 43,the testing accuracy is:- 0.5053052640764916\n",
      "\n",
      "\n",
      "At random state 44,the training accuracy is:- 0.522323270279514\n",
      "At random state 44,the testing accuracy is:- 0.4902223932239539\n",
      "\n",
      "\n",
      "At random state 45,the training accuracy is:- 0.5160490222469754\n",
      "At random state 45,the testing accuracy is:- 0.5166296967853357\n",
      "\n",
      "\n",
      "At random state 46,the training accuracy is:- 0.510015306007827\n",
      "At random state 46,the testing accuracy is:- 0.5408052403329369\n",
      "\n",
      "\n",
      "At random state 47,the training accuracy is:- 0.5180599407843529\n",
      "At random state 47,the testing accuracy is:- 0.5091611692845498\n",
      "\n",
      "\n",
      "At random state 48,the training accuracy is:- 0.514802939504839\n",
      "At random state 48,the testing accuracy is:- 0.5214986754846731\n",
      "\n",
      "\n",
      "At random state 49,the training accuracy is:- 0.5177623838515363\n",
      "At random state 49,the testing accuracy is:- 0.5100734955464019\n",
      "\n",
      "\n",
      "At random state 50,the training accuracy is:- 0.5191862231340951\n",
      "At random state 50,the testing accuracy is:- 0.5042691765517475\n",
      "\n",
      "\n",
      "At random state 51,the training accuracy is:- 0.5175674344823827\n",
      "At random state 51,the testing accuracy is:- 0.5116618114982907\n",
      "\n",
      "\n",
      "At random state 52,the training accuracy is:- 0.5175654331084201\n",
      "At random state 52,the testing accuracy is:- 0.5111721309844077\n",
      "\n",
      "\n",
      "At random state 53,the training accuracy is:- 0.5163614668161471\n",
      "At random state 53,the testing accuracy is:- 0.5137590071690172\n",
      "\n",
      "\n",
      "At random state 54,the training accuracy is:- 0.5113280531620661\n",
      "At random state 54,the testing accuracy is:- 0.5363220106420716\n",
      "\n",
      "\n",
      "At random state 55,the training accuracy is:- 0.5090790625379078\n",
      "At random state 55,the testing accuracy is:- 0.5450991908078535\n",
      "\n",
      "\n",
      "At random state 56,the training accuracy is:- 0.5155797564325643\n",
      "At random state 56,the testing accuracy is:- 0.5190407601988682\n",
      "\n",
      "\n",
      "At random state 57,the training accuracy is:- 0.512058570421687\n",
      "At random state 57,the testing accuracy is:- 0.5328860182714481\n",
      "\n",
      "\n",
      "At random state 58,the training accuracy is:- 0.5111107007305493\n",
      "At random state 58,the testing accuracy is:- 0.5372596659421571\n",
      "\n",
      "\n",
      "At random state 59,the training accuracy is:- 0.5134103796875991\n",
      "At random state 59,the testing accuracy is:- 0.5272235596534407\n",
      "\n",
      "\n",
      "At random state 60,the training accuracy is:- 0.5118373197670805\n",
      "At random state 60,the testing accuracy is:- 0.5326185903674158\n",
      "\n",
      "\n",
      "At random state 61,the training accuracy is:- 0.5160247794459331\n",
      "At random state 61,the testing accuracy is:- 0.5173808363531097\n",
      "\n",
      "\n",
      "At random state 62,the training accuracy is:- 0.5219479156513439\n",
      "At random state 62,the testing accuracy is:- 0.49103803389367673\n",
      "\n",
      "\n",
      "At random state 63,the training accuracy is:- 0.5126850002193777\n",
      "At random state 63,the testing accuracy is:- 0.5318629153666614\n",
      "\n",
      "\n",
      "At random state 64,the training accuracy is:- 0.5225618194166803\n",
      "At random state 64,the testing accuracy is:- 0.49109839041538894\n",
      "\n",
      "\n",
      "At random state 65,the training accuracy is:- 0.5217331748984537\n",
      "At random state 65,the testing accuracy is:- 0.4950583795038289\n",
      "\n",
      "\n",
      "At random state 66,the training accuracy is:- 0.5210400204427403\n",
      "At random state 66,the testing accuracy is:- 0.4944773283088335\n",
      "\n",
      "\n",
      "At random state 67,the training accuracy is:- 0.5209416602276455\n",
      "At random state 67,the testing accuracy is:- 0.49910163688774434\n",
      "\n",
      "\n",
      "At random state 68,the training accuracy is:- 0.5147931513123793\n",
      "At random state 68,the testing accuracy is:- 0.5220591418434788\n",
      "\n",
      "\n",
      "At random state 69,the training accuracy is:- 0.510020874823776\n",
      "At random state 69,the testing accuracy is:- 0.5410698563260556\n",
      "\n",
      "\n",
      "At random state 70,the training accuracy is:- 0.5155683530292081\n",
      "At random state 70,the testing accuracy is:- 0.5190992772565814\n",
      "\n",
      "\n",
      "At random state 71,the training accuracy is:- 0.5190168249088369\n",
      "At random state 71,the testing accuracy is:- 0.5041446371025404\n",
      "\n",
      "\n",
      "At random state 72,the training accuracy is:- 0.516012079861683\n",
      "At random state 72,the testing accuracy is:- 0.5172938430394174\n",
      "\n",
      "\n"
     ]
    },
    {
     "name": "stdout",
     "output_type": "stream",
     "text": [
      "At random state 73,the training accuracy is:- 0.5244002695164742\n",
      "At random state 73,the testing accuracy is:- 0.48358607345486104\n",
      "\n",
      "\n",
      "At random state 74,the training accuracy is:- 0.5213575310944087\n",
      "At random state 74,the testing accuracy is:- 0.4955021196500089\n",
      "\n",
      "\n",
      "At random state 75,the training accuracy is:- 0.5227539133787772\n",
      "At random state 75,the testing accuracy is:- 0.4884103937726355\n",
      "\n",
      "\n",
      "At random state 76,the training accuracy is:- 0.5125747089200547\n",
      "At random state 76,the testing accuracy is:- 0.5311056418234471\n",
      "\n",
      "\n",
      "At random state 77,the training accuracy is:- 0.5205437624905658\n",
      "At random state 77,the testing accuracy is:- 0.4985737595651736\n",
      "\n",
      "\n",
      "At random state 78,the training accuracy is:- 0.5195734655852197\n",
      "At random state 78,the testing accuracy is:- 0.5022985576009047\n",
      "\n",
      "\n",
      "At random state 79,the training accuracy is:- 0.5143129958276786\n",
      "At random state 79,the testing accuracy is:- 0.5241769613322933\n",
      "\n",
      "\n",
      "At random state 80,the training accuracy is:- 0.5094043519074838\n",
      "At random state 80,the testing accuracy is:- 0.5433842226060364\n",
      "\n",
      "\n",
      "At random state 81,the training accuracy is:- 0.5177175856270151\n",
      "At random state 81,the testing accuracy is:- 0.5115319770480128\n",
      "\n",
      "\n",
      "At random state 82,the training accuracy is:- 0.5117273451773882\n",
      "At random state 82,the testing accuracy is:- 0.5349005433957874\n",
      "\n",
      "\n",
      "At random state 83,the training accuracy is:- 0.5152897892719744\n",
      "At random state 83,the testing accuracy is:- 0.5194043838256115\n",
      "\n",
      "\n",
      "At random state 84,the training accuracy is:- 0.5215747018677255\n",
      "At random state 84,the testing accuracy is:- 0.49549441730622656\n",
      "\n",
      "\n",
      "At random state 85,the training accuracy is:- 0.5162884446211242\n",
      "At random state 85,the testing accuracy is:- 0.51612121834516\n",
      "\n",
      "\n",
      "At random state 86,the training accuracy is:- 0.5126684903969982\n",
      "At random state 86,the testing accuracy is:- 0.5315566744486656\n",
      "\n",
      "\n",
      "At random state 87,the training accuracy is:- 0.5170569104407132\n",
      "At random state 87,the testing accuracy is:- 0.5138179285684294\n",
      "\n",
      "\n",
      "At random state 88,the training accuracy is:- 0.5207319132385424\n",
      "At random state 88,the testing accuracy is:- 0.49854170351523375\n",
      "\n",
      "\n",
      "At random state 89,the training accuracy is:- 0.5132517296075022\n",
      "At random state 89,the testing accuracy is:- 0.5277035609249512\n",
      "\n",
      "\n",
      "At random state 90,the training accuracy is:- 0.5119695522877892\n",
      "At random state 90,the testing accuracy is:- 0.5326394002089092\n",
      "\n",
      "\n",
      "At random state 91,the training accuracy is:- 0.5192949218818643\n",
      "At random state 91,the testing accuracy is:- 0.5042529168684873\n",
      "\n",
      "\n",
      "At random state 92,the training accuracy is:- 0.5218141027548618\n",
      "At random state 92,the testing accuracy is:- 0.4926883372319071\n",
      "\n",
      "\n",
      "At random state 93,the training accuracy is:- 0.5151672461506929\n",
      "At random state 93,the testing accuracy is:- 0.5210572437636604\n",
      "\n",
      "\n",
      "At random state 94,the training accuracy is:- 0.5134029758487462\n",
      "At random state 94,the testing accuracy is:- 0.5280824773508902\n",
      "\n",
      "\n",
      "At random state 95,the training accuracy is:- 0.5162705859203257\n",
      "At random state 95,the testing accuracy is:- 0.5159853875939795\n",
      "\n",
      "\n",
      "At random state 96,the training accuracy is:- 0.5198178438652347\n",
      "At random state 96,the testing accuracy is:- 0.5008716256138357\n",
      "\n",
      "\n",
      "At random state 97,the training accuracy is:- 0.5170047308821779\n",
      "At random state 97,the testing accuracy is:- 0.5133811694890356\n",
      "\n",
      "\n",
      "At random state 98,the training accuracy is:- 0.5174194692256616\n",
      "At random state 98,the testing accuracy is:- 0.5120965824940229\n",
      "\n",
      "\n",
      "At random state 99,the training accuracy is:- 0.5138305376257353\n",
      "At random state 99,the testing accuracy is:- 0.524274683915751\n",
      "\n",
      "\n"
     ]
    }
   ],
   "source": [
    "for i in range(0,100):\n",
    "    train_x,test_x,train_y,test_y=train_test_split(x,y,test_size=0.2,random_state=i)\n",
    "    lr.fit(train_x,train_y)\n",
    "    pred_train=lr.predict(train_x)\n",
    "    pred_test=lr.predict(test_x)\n",
    "    print(f\"At random state {i},the training accuracy is:- {r2_score(train_y,pred_train)}\")\n",
    "    print(f\"At random state {i},the testing accuracy is:- {r2_score(test_y,pred_test)}\")\n",
    "    print(\"\\n\")"
   ]
  },
  {
   "cell_type": "code",
   "execution_count": 67,
   "id": "3e62f82d",
   "metadata": {},
   "outputs": [
    {
     "data": {
      "text/plain": [
       "0.524274683915751"
      ]
     },
     "execution_count": 67,
     "metadata": {},
     "output_type": "execute_result"
    }
   ],
   "source": [
    "lr.fit(train_x,train_y)\n",
    "lr.score(test_x,test_y)"
   ]
  },
  {
   "cell_type": "markdown",
   "id": "7fb9c679",
   "metadata": {},
   "source": [
    "52% is Linear regression score"
   ]
  },
  {
   "cell_type": "code",
   "execution_count": 68,
   "id": "eb8a00d0",
   "metadata": {},
   "outputs": [
    {
     "data": {
      "text/plain": [
       "array([1107.85520816, 1541.34060747, 3836.16845494, ..., 2532.78198897,\n",
       "       3746.94509736, 3566.98539906])"
      ]
     },
     "execution_count": 68,
     "metadata": {},
     "output_type": "execute_result"
    }
   ],
   "source": [
    "#Predicted data\n",
    "pred=lr.predict(test_x)\n",
    "pred"
   ]
  },
  {
   "cell_type": "code",
   "execution_count": 69,
   "id": "2396565f",
   "metadata": {},
   "outputs": [
    {
     "name": "stdout",
     "output_type": "stream",
     "text": [
      "Mean squared error: 1249390.886148443\n",
      "Mean absolute error: 860.1619690448974\n",
      "R2Score: 0.524274683915751\n"
     ]
    }
   ],
   "source": [
    "print(\"Mean squared error:\",mean_squared_error(test_y,pred))\n",
    "print(\"Mean absolute error:\",mean_absolute_error(test_y,pred))\n",
    "print(\"R2Score:\",r2_score(test_y,pred))"
   ]
  },
  {
   "cell_type": "markdown",
   "id": "64b7b78e",
   "metadata": {},
   "source": [
    "R2Score is 52.4%"
   ]
  },
  {
   "cell_type": "markdown",
   "id": "48e6de84",
   "metadata": {},
   "source": [
    "## Cross-Validation of the model:"
   ]
  },
  {
   "cell_type": "code",
   "execution_count": 59,
   "id": "6edfffc8",
   "metadata": {},
   "outputs": [
    {
     "name": "stdout",
     "output_type": "stream",
     "text": [
      "At cross fold 2 the cv score is 0.5157348475360966 and accuracy score for training is 0.5138305376257353 and accuracy for the testing is 0.524274683915751\n",
      "\n",
      "\n",
      "At cross fold 3 the cv score is 0.5151913411631476 and accuracy score for training is 0.5138305376257353 and accuracy for the testing is 0.524274683915751\n",
      "\n",
      "\n",
      "At cross fold 4 the cv score is 0.5142096871980208 and accuracy score for training is 0.5138305376257353 and accuracy for the testing is 0.524274683915751\n",
      "\n",
      "\n",
      "At cross fold 5 the cv score is 0.5147539467066371 and accuracy score for training is 0.5138305376257353 and accuracy for the testing is 0.524274683915751\n",
      "\n",
      "\n",
      "At cross fold 6 the cv score is 0.5151526078559744 and accuracy score for training is 0.5138305376257353 and accuracy for the testing is 0.524274683915751\n",
      "\n",
      "\n",
      "At cross fold 7 the cv score is 0.515136398683608 and accuracy score for training is 0.5138305376257353 and accuracy for the testing is 0.524274683915751\n",
      "\n",
      "\n",
      "At cross fold 8 the cv score is 0.5146592249479771 and accuracy score for training is 0.5138305376257353 and accuracy for the testing is 0.524274683915751\n",
      "\n",
      "\n",
      "At cross fold 9 the cv score is 0.5147758583420908 and accuracy score for training is 0.5138305376257353 and accuracy for the testing is 0.524274683915751\n",
      "\n",
      "\n"
     ]
    }
   ],
   "source": [
    "Train_accuracy=r2_score(train_y,pred_train)\n",
    "Test_accuracy=r2_score(test_y,pred_test)\n",
    "\n",
    "from sklearn.model_selection import cross_val_score\n",
    "for j in range(2,10):\n",
    "    cv_score=cross_val_score(lr,x,y,cv=j)\n",
    "    cv_mean=cv_score.mean()\n",
    "    print(f\"At cross fold {j} the cv score is {cv_mean} and accuracy score for training is {Train_accuracy} and accuracy for the testing is {Test_accuracy}\")\n",
    "    print(\"\\n\")"
   ]
  },
  {
   "cell_type": "markdown",
   "id": "dc442fe6",
   "metadata": {},
   "source": [
    "Since the number of folds dont have such impact on the accuracy and cv_score. So cv=5 is selected.\n",
    "\n",
    "Hence we handled the problem of the overfitting and the underfitting by checking the training and testing score."
   ]
  },
  {
   "cell_type": "code",
   "execution_count": 71,
   "id": "ebebb843",
   "metadata": {},
   "outputs": [
    {
     "data": {
      "image/png": "[encoded data removed]",
      "text/plain": [
       "<Figure size 576x432 with 1 Axes>"
      ]
     },
     "metadata": {
      "needs_background": "light"
     },
     "output_type": "display_data"
    }
   ],
   "source": [
    "import matplotlib.pyplot as plt\n",
    "plt.figure(figsize=(8,6))\n",
    "plt.scatter(x=test_y, y=pred_test, color='r')\n",
    "plt.plot(test_y,test_y, color='b')\n",
    "plt.xlabel('Actual data',fontsize=14)\n",
    "plt.ylabel('Predicted data',fontsize=14)\n",
    "plt.title('Linear Regression',fontsize=18)\n",
    "plt.show()"
   ]
  },
  {
   "cell_type": "markdown",
   "id": "760e27e1",
   "metadata": {},
   "source": [
    "# Regularization"
   ]
  },
  {
   "cell_type": "code",
   "execution_count": 72,
   "id": "6d55b714",
   "metadata": {},
   "outputs": [],
   "source": [
    "# Importing Libraries and Hyper parameter tuning:\n",
    "from sklearn.model_selection import GridSearchCV\n",
    "from sklearn.model_selection import cross_val_score\n",
    "import warnings\n",
    "warnings.filterwarnings('ignore')"
   ]
  },
  {
   "cell_type": "code",
   "execution_count": 73,
   "id": "f1cd50bc",
   "metadata": {},
   "outputs": [
    {
     "name": "stdout",
     "output_type": "stream",
     "text": [
      "{'alpha': 0.1, 'random_state': 0}\n"
     ]
    }
   ],
   "source": [
    "from sklearn.linear_model import Lasso\n",
    "\n",
    "parameters = {'alpha':[.0001, .001, .01, .1, 1,10],'random_state':list(range(0,10))}\n",
    "ls = Lasso()\n",
    "clf = GridSearchCV(ls,parameters)\n",
    "clf.fit(train_x,train_y)\n",
    "\n",
    "print(clf.best_params_)"
   ]
  },
  {
   "cell_type": "markdown",
   "id": "d0be16b9",
   "metadata": {},
   "source": [
    "Best parameters for Linear Regression "
   ]
  },
  {
   "cell_type": "code",
   "execution_count": 74,
   "id": "455cafc6",
   "metadata": {},
   "outputs": [
    {
     "name": "stdout",
     "output_type": "stream",
     "text": [
      "ls score 0.5138304839859609\n",
      "r2 score 52.42856010406211\n"
     ]
    }
   ],
   "source": [
    "ls = Lasso(alpha=0.1,random_state=0)\n",
    "ls.fit(train_x,train_y)\n",
    "ls.score(train_x,train_y)\n",
    "print('ls score',ls.score(train_x,train_y))\n",
    "pred_ls = ls.predict(test_x)\n",
    "\n",
    "r2s = r2_score(test_y,pred_ls)\n",
    "print('r2 score',r2s*100)"
   ]
  },
  {
   "cell_type": "markdown",
   "id": "ffc15b05",
   "metadata": {},
   "source": [
    "Ls score is 51% and r2score is 52.4%"
   ]
  },
  {
   "cell_type": "code",
   "execution_count": 75,
   "id": "073b00f0",
   "metadata": {},
   "outputs": [
    {
     "data": {
      "text/plain": [
       "0.5147568417873025"
      ]
     },
     "execution_count": 75,
     "metadata": {},
     "output_type": "execute_result"
    }
   ],
   "source": [
    "cv_score=cross_val_score(ls,x,y,cv=5)\n",
    "cv_mean=cv_score.mean()\n",
    "cv_mean"
   ]
  },
  {
   "cell_type": "markdown",
   "id": "dc013c5b",
   "metadata": {},
   "source": [
    "CV_mean value is 51.4%"
   ]
  },
  {
   "cell_type": "markdown",
   "id": "23093ad8",
   "metadata": {},
   "source": [
    "# Random Forest Regressor"
   ]
  },
  {
   "cell_type": "code",
   "execution_count": 86,
   "id": "a090b6ab",
   "metadata": {},
   "outputs": [
    {
     "ename": "KeyboardInterrupt",
     "evalue": "",
     "output_type": "error",
     "traceback": [
      "\u001b[1;31m---------------------------------------------------------------------------\u001b[0m",
      "\u001b[1;31mKeyboardInterrupt\u001b[0m                         Traceback (most recent call last)",
      "\u001b[1;32m<ipython-input-86-2f1e368bf657>\u001b[0m in \u001b[0;36m<module>\u001b[1;34m\u001b[0m\n\u001b[0;32m      6\u001b[0m \u001b[0mrf\u001b[0m \u001b[1;33m=\u001b[0m\u001b[0mRandomForestRegressor\u001b[0m\u001b[1;33m(\u001b[0m\u001b[1;33m)\u001b[0m\u001b[1;33m\u001b[0m\u001b[1;33m\u001b[0m\u001b[0m\n\u001b[0;32m      7\u001b[0m \u001b[0mclf\u001b[0m \u001b[1;33m=\u001b[0m \u001b[0mGridSearchCV\u001b[0m\u001b[1;33m(\u001b[0m\u001b[0mrf\u001b[0m\u001b[1;33m,\u001b[0m\u001b[0mparameters\u001b[0m\u001b[1;33m)\u001b[0m\u001b[1;33m\u001b[0m\u001b[1;33m\u001b[0m\u001b[0m\n\u001b[1;32m----> 8\u001b[1;33m \u001b[0mclf\u001b[0m\u001b[1;33m.\u001b[0m\u001b[0mfit\u001b[0m\u001b[1;33m(\u001b[0m\u001b[0mtrain_x\u001b[0m\u001b[1;33m,\u001b[0m\u001b[0mtrain_y\u001b[0m\u001b[1;33m)\u001b[0m\u001b[1;33m\u001b[0m\u001b[1;33m\u001b[0m\u001b[0m\n\u001b[0m\u001b[0;32m      9\u001b[0m \u001b[1;33m\u001b[0m\u001b[0m\n\u001b[0;32m     10\u001b[0m \u001b[0mprint\u001b[0m\u001b[1;33m(\u001b[0m\u001b[0mclf\u001b[0m\u001b[1;33m.\u001b[0m\u001b[0mbest_params_\u001b[0m\u001b[1;33m)\u001b[0m\u001b[1;33m\u001b[0m\u001b[1;33m\u001b[0m\u001b[0m\n",
      "\u001b[1;32m~\\anaconda3\\lib\\site-packages\\sklearn\\utils\\validation.py\u001b[0m in \u001b[0;36minner_f\u001b[1;34m(*args, **kwargs)\u001b[0m\n\u001b[0;32m     61\u001b[0m             \u001b[0mextra_args\u001b[0m \u001b[1;33m=\u001b[0m \u001b[0mlen\u001b[0m\u001b[1;33m(\u001b[0m\u001b[0margs\u001b[0m\u001b[1;33m)\u001b[0m \u001b[1;33m-\u001b[0m \u001b[0mlen\u001b[0m\u001b[1;33m(\u001b[0m\u001b[0mall_args\u001b[0m\u001b[1;33m)\u001b[0m\u001b[1;33m\u001b[0m\u001b[1;33m\u001b[0m\u001b[0m\n\u001b[0;32m     62\u001b[0m             \u001b[1;32mif\u001b[0m \u001b[0mextra_args\u001b[0m \u001b[1;33m<=\u001b[0m \u001b[1;36m0\u001b[0m\u001b[1;33m:\u001b[0m\u001b[1;33m\u001b[0m\u001b[1;33m\u001b[0m\u001b[0m\n\u001b[1;32m---> 63\u001b[1;33m                 \u001b[1;32mreturn\u001b[0m \u001b[0mf\u001b[0m\u001b[1;33m(\u001b[0m\u001b[1;33m*\u001b[0m\u001b[0margs\u001b[0m\u001b[1;33m,\u001b[0m \u001b[1;33m**\u001b[0m\u001b[0mkwargs\u001b[0m\u001b[1;33m)\u001b[0m\u001b[1;33m\u001b[0m\u001b[1;33m\u001b[0m\u001b[0m\n\u001b[0m\u001b[0;32m     64\u001b[0m \u001b[1;33m\u001b[0m\u001b[0m\n\u001b[0;32m     65\u001b[0m             \u001b[1;31m# extra_args > 0\u001b[0m\u001b[1;33m\u001b[0m\u001b[1;33m\u001b[0m\u001b[1;33m\u001b[0m\u001b[0m\n",
      "\u001b[1;32m~\\anaconda3\\lib\\site-packages\\sklearn\\model_selection\\_search.py\u001b[0m in \u001b[0;36mfit\u001b[1;34m(self, X, y, groups, **fit_params)\u001b[0m\n\u001b[0;32m    839\u001b[0m                 \u001b[1;32mreturn\u001b[0m \u001b[0mresults\u001b[0m\u001b[1;33m\u001b[0m\u001b[1;33m\u001b[0m\u001b[0m\n\u001b[0;32m    840\u001b[0m \u001b[1;33m\u001b[0m\u001b[0m\n\u001b[1;32m--> 841\u001b[1;33m             \u001b[0mself\u001b[0m\u001b[1;33m.\u001b[0m\u001b[0m_run_search\u001b[0m\u001b[1;33m(\u001b[0m\u001b[0mevaluate_candidates\u001b[0m\u001b[1;33m)\u001b[0m\u001b[1;33m\u001b[0m\u001b[1;33m\u001b[0m\u001b[0m\n\u001b[0m\u001b[0;32m    842\u001b[0m \u001b[1;33m\u001b[0m\u001b[0m\n\u001b[0;32m    843\u001b[0m             \u001b[1;31m# multimetric is determined here because in the case of a callable\u001b[0m\u001b[1;33m\u001b[0m\u001b[1;33m\u001b[0m\u001b[1;33m\u001b[0m\u001b[0m\n",
      "\u001b[1;32m~\\anaconda3\\lib\\site-packages\\sklearn\\model_selection\\_search.py\u001b[0m in \u001b[0;36m_run_search\u001b[1;34m(self, evaluate_candidates)\u001b[0m\n\u001b[0;32m   1286\u001b[0m     \u001b[1;32mdef\u001b[0m \u001b[0m_run_search\u001b[0m\u001b[1;33m(\u001b[0m\u001b[0mself\u001b[0m\u001b[1;33m,\u001b[0m \u001b[0mevaluate_candidates\u001b[0m\u001b[1;33m)\u001b[0m\u001b[1;33m:\u001b[0m\u001b[1;33m\u001b[0m\u001b[1;33m\u001b[0m\u001b[0m\n\u001b[0;32m   1287\u001b[0m         \u001b[1;34m\"\"\"Search all candidates in param_grid\"\"\"\u001b[0m\u001b[1;33m\u001b[0m\u001b[1;33m\u001b[0m\u001b[0m\n\u001b[1;32m-> 1288\u001b[1;33m         \u001b[0mevaluate_candidates\u001b[0m\u001b[1;33m(\u001b[0m\u001b[0mParameterGrid\u001b[0m\u001b[1;33m(\u001b[0m\u001b[0mself\u001b[0m\u001b[1;33m.\u001b[0m\u001b[0mparam_grid\u001b[0m\u001b[1;33m)\u001b[0m\u001b[1;33m)\u001b[0m\u001b[1;33m\u001b[0m\u001b[1;33m\u001b[0m\u001b[0m\n\u001b[0m\u001b[0;32m   1289\u001b[0m \u001b[1;33m\u001b[0m\u001b[0m\n\u001b[0;32m   1290\u001b[0m \u001b[1;33m\u001b[0m\u001b[0m\n",
      "\u001b[1;32m~\\anaconda3\\lib\\site-packages\\sklearn\\model_selection\\_search.py\u001b[0m in \u001b[0;36mevaluate_candidates\u001b[1;34m(candidate_params, cv, more_results)\u001b[0m\n\u001b[0;32m    793\u001b[0m                               n_splits, n_candidates, n_candidates * n_splits))\n\u001b[0;32m    794\u001b[0m \u001b[1;33m\u001b[0m\u001b[0m\n\u001b[1;32m--> 795\u001b[1;33m                 out = parallel(delayed(_fit_and_score)(clone(base_estimator),\n\u001b[0m\u001b[0;32m    796\u001b[0m                                                        \u001b[0mX\u001b[0m\u001b[1;33m,\u001b[0m \u001b[0my\u001b[0m\u001b[1;33m,\u001b[0m\u001b[1;33m\u001b[0m\u001b[1;33m\u001b[0m\u001b[0m\n\u001b[0;32m    797\u001b[0m                                                        \u001b[0mtrain\u001b[0m\u001b[1;33m=\u001b[0m\u001b[0mtrain\u001b[0m\u001b[1;33m,\u001b[0m \u001b[0mtest\u001b[0m\u001b[1;33m=\u001b[0m\u001b[0mtest\u001b[0m\u001b[1;33m,\u001b[0m\u001b[1;33m\u001b[0m\u001b[1;33m\u001b[0m\u001b[0m\n",
      "\u001b[1;32m~\\anaconda3\\lib\\site-packages\\joblib\\parallel.py\u001b[0m in \u001b[0;36m__call__\u001b[1;34m(self, iterable)\u001b[0m\n\u001b[0;32m   1042\u001b[0m                 \u001b[0mself\u001b[0m\u001b[1;33m.\u001b[0m\u001b[0m_iterating\u001b[0m \u001b[1;33m=\u001b[0m \u001b[0mself\u001b[0m\u001b[1;33m.\u001b[0m\u001b[0m_original_iterator\u001b[0m \u001b[1;32mis\u001b[0m \u001b[1;32mnot\u001b[0m \u001b[1;32mNone\u001b[0m\u001b[1;33m\u001b[0m\u001b[1;33m\u001b[0m\u001b[0m\n\u001b[0;32m   1043\u001b[0m \u001b[1;33m\u001b[0m\u001b[0m\n\u001b[1;32m-> 1044\u001b[1;33m             \u001b[1;32mwhile\u001b[0m \u001b[0mself\u001b[0m\u001b[1;33m.\u001b[0m\u001b[0mdispatch_one_batch\u001b[0m\u001b[1;33m(\u001b[0m\u001b[0miterator\u001b[0m\u001b[1;33m)\u001b[0m\u001b[1;33m:\u001b[0m\u001b[1;33m\u001b[0m\u001b[1;33m\u001b[0m\u001b[0m\n\u001b[0m\u001b[0;32m   1045\u001b[0m                 \u001b[1;32mpass\u001b[0m\u001b[1;33m\u001b[0m\u001b[1;33m\u001b[0m\u001b[0m\n\u001b[0;32m   1046\u001b[0m \u001b[1;33m\u001b[0m\u001b[0m\n",
      "\u001b[1;32m~\\anaconda3\\lib\\site-packages\\joblib\\parallel.py\u001b[0m in \u001b[0;36mdispatch_one_batch\u001b[1;34m(self, iterator)\u001b[0m\n\u001b[0;32m    857\u001b[0m                 \u001b[1;32mreturn\u001b[0m \u001b[1;32mFalse\u001b[0m\u001b[1;33m\u001b[0m\u001b[1;33m\u001b[0m\u001b[0m\n\u001b[0;32m    858\u001b[0m             \u001b[1;32melse\u001b[0m\u001b[1;33m:\u001b[0m\u001b[1;33m\u001b[0m\u001b[1;33m\u001b[0m\u001b[0m\n\u001b[1;32m--> 859\u001b[1;33m                 \u001b[0mself\u001b[0m\u001b[1;33m.\u001b[0m\u001b[0m_dispatch\u001b[0m\u001b[1;33m(\u001b[0m\u001b[0mtasks\u001b[0m\u001b[1;33m)\u001b[0m\u001b[1;33m\u001b[0m\u001b[1;33m\u001b[0m\u001b[0m\n\u001b[0m\u001b[0;32m    860\u001b[0m                 \u001b[1;32mreturn\u001b[0m \u001b[1;32mTrue\u001b[0m\u001b[1;33m\u001b[0m\u001b[1;33m\u001b[0m\u001b[0m\n\u001b[0;32m    861\u001b[0m \u001b[1;33m\u001b[0m\u001b[0m\n",
      "\u001b[1;32m~\\anaconda3\\lib\\site-packages\\joblib\\parallel.py\u001b[0m in \u001b[0;36m_dispatch\u001b[1;34m(self, batch)\u001b[0m\n\u001b[0;32m    775\u001b[0m         \u001b[1;32mwith\u001b[0m \u001b[0mself\u001b[0m\u001b[1;33m.\u001b[0m\u001b[0m_lock\u001b[0m\u001b[1;33m:\u001b[0m\u001b[1;33m\u001b[0m\u001b[1;33m\u001b[0m\u001b[0m\n\u001b[0;32m    776\u001b[0m             \u001b[0mjob_idx\u001b[0m \u001b[1;33m=\u001b[0m \u001b[0mlen\u001b[0m\u001b[1;33m(\u001b[0m\u001b[0mself\u001b[0m\u001b[1;33m.\u001b[0m\u001b[0m_jobs\u001b[0m\u001b[1;33m)\u001b[0m\u001b[1;33m\u001b[0m\u001b[1;33m\u001b[0m\u001b[0m\n\u001b[1;32m--> 777\u001b[1;33m             \u001b[0mjob\u001b[0m \u001b[1;33m=\u001b[0m \u001b[0mself\u001b[0m\u001b[1;33m.\u001b[0m\u001b[0m_backend\u001b[0m\u001b[1;33m.\u001b[0m\u001b[0mapply_async\u001b[0m\u001b[1;33m(\u001b[0m\u001b[0mbatch\u001b[0m\u001b[1;33m,\u001b[0m \u001b[0mcallback\u001b[0m\u001b[1;33m=\u001b[0m\u001b[0mcb\u001b[0m\u001b[1;33m)\u001b[0m\u001b[1;33m\u001b[0m\u001b[1;33m\u001b[0m\u001b[0m\n\u001b[0m\u001b[0;32m    778\u001b[0m             \u001b[1;31m# A job can complete so quickly than its callback is\u001b[0m\u001b[1;33m\u001b[0m\u001b[1;33m\u001b[0m\u001b[1;33m\u001b[0m\u001b[0m\n\u001b[0;32m    779\u001b[0m             \u001b[1;31m# called before we get here, causing self._jobs to\u001b[0m\u001b[1;33m\u001b[0m\u001b[1;33m\u001b[0m\u001b[1;33m\u001b[0m\u001b[0m\n",
      "\u001b[1;32m~\\anaconda3\\lib\\site-packages\\joblib\\_parallel_backends.py\u001b[0m in \u001b[0;36mapply_async\u001b[1;34m(self, func, callback)\u001b[0m\n\u001b[0;32m    206\u001b[0m     \u001b[1;32mdef\u001b[0m \u001b[0mapply_async\u001b[0m\u001b[1;33m(\u001b[0m\u001b[0mself\u001b[0m\u001b[1;33m,\u001b[0m \u001b[0mfunc\u001b[0m\u001b[1;33m,\u001b[0m \u001b[0mcallback\u001b[0m\u001b[1;33m=\u001b[0m\u001b[1;32mNone\u001b[0m\u001b[1;33m)\u001b[0m\u001b[1;33m:\u001b[0m\u001b[1;33m\u001b[0m\u001b[1;33m\u001b[0m\u001b[0m\n\u001b[0;32m    207\u001b[0m         \u001b[1;34m\"\"\"Schedule a func to be run\"\"\"\u001b[0m\u001b[1;33m\u001b[0m\u001b[1;33m\u001b[0m\u001b[0m\n\u001b[1;32m--> 208\u001b[1;33m         \u001b[0mresult\u001b[0m \u001b[1;33m=\u001b[0m \u001b[0mImmediateResult\u001b[0m\u001b[1;33m(\u001b[0m\u001b[0mfunc\u001b[0m\u001b[1;33m)\u001b[0m\u001b[1;33m\u001b[0m\u001b[1;33m\u001b[0m\u001b[0m\n\u001b[0m\u001b[0;32m    209\u001b[0m         \u001b[1;32mif\u001b[0m \u001b[0mcallback\u001b[0m\u001b[1;33m:\u001b[0m\u001b[1;33m\u001b[0m\u001b[1;33m\u001b[0m\u001b[0m\n\u001b[0;32m    210\u001b[0m             \u001b[0mcallback\u001b[0m\u001b[1;33m(\u001b[0m\u001b[0mresult\u001b[0m\u001b[1;33m)\u001b[0m\u001b[1;33m\u001b[0m\u001b[1;33m\u001b[0m\u001b[0m\n",
      "\u001b[1;32m~\\anaconda3\\lib\\site-packages\\joblib\\_parallel_backends.py\u001b[0m in \u001b[0;36m__init__\u001b[1;34m(self, batch)\u001b[0m\n\u001b[0;32m    570\u001b[0m         \u001b[1;31m# Don't delay the application, to avoid keeping the input\u001b[0m\u001b[1;33m\u001b[0m\u001b[1;33m\u001b[0m\u001b[1;33m\u001b[0m\u001b[0m\n\u001b[0;32m    571\u001b[0m         \u001b[1;31m# arguments in memory\u001b[0m\u001b[1;33m\u001b[0m\u001b[1;33m\u001b[0m\u001b[1;33m\u001b[0m\u001b[0m\n\u001b[1;32m--> 572\u001b[1;33m         \u001b[0mself\u001b[0m\u001b[1;33m.\u001b[0m\u001b[0mresults\u001b[0m \u001b[1;33m=\u001b[0m \u001b[0mbatch\u001b[0m\u001b[1;33m(\u001b[0m\u001b[1;33m)\u001b[0m\u001b[1;33m\u001b[0m\u001b[1;33m\u001b[0m\u001b[0m\n\u001b[0m\u001b[0;32m    573\u001b[0m \u001b[1;33m\u001b[0m\u001b[0m\n\u001b[0;32m    574\u001b[0m     \u001b[1;32mdef\u001b[0m \u001b[0mget\u001b[0m\u001b[1;33m(\u001b[0m\u001b[0mself\u001b[0m\u001b[1;33m)\u001b[0m\u001b[1;33m:\u001b[0m\u001b[1;33m\u001b[0m\u001b[1;33m\u001b[0m\u001b[0m\n",
      "\u001b[1;32m~\\anaconda3\\lib\\site-packages\\joblib\\parallel.py\u001b[0m in \u001b[0;36m__call__\u001b[1;34m(self)\u001b[0m\n\u001b[0;32m    260\u001b[0m         \u001b[1;31m# change the default number of processes to -1\u001b[0m\u001b[1;33m\u001b[0m\u001b[1;33m\u001b[0m\u001b[1;33m\u001b[0m\u001b[0m\n\u001b[0;32m    261\u001b[0m         \u001b[1;32mwith\u001b[0m \u001b[0mparallel_backend\u001b[0m\u001b[1;33m(\u001b[0m\u001b[0mself\u001b[0m\u001b[1;33m.\u001b[0m\u001b[0m_backend\u001b[0m\u001b[1;33m,\u001b[0m \u001b[0mn_jobs\u001b[0m\u001b[1;33m=\u001b[0m\u001b[0mself\u001b[0m\u001b[1;33m.\u001b[0m\u001b[0m_n_jobs\u001b[0m\u001b[1;33m)\u001b[0m\u001b[1;33m:\u001b[0m\u001b[1;33m\u001b[0m\u001b[1;33m\u001b[0m\u001b[0m\n\u001b[1;32m--> 262\u001b[1;33m             return [func(*args, **kwargs)\n\u001b[0m\u001b[0;32m    263\u001b[0m                     for func, args, kwargs in self.items]\n\u001b[0;32m    264\u001b[0m \u001b[1;33m\u001b[0m\u001b[0m\n",
      "\u001b[1;32m~\\anaconda3\\lib\\site-packages\\joblib\\parallel.py\u001b[0m in \u001b[0;36m<listcomp>\u001b[1;34m(.0)\u001b[0m\n\u001b[0;32m    260\u001b[0m         \u001b[1;31m# change the default number of processes to -1\u001b[0m\u001b[1;33m\u001b[0m\u001b[1;33m\u001b[0m\u001b[1;33m\u001b[0m\u001b[0m\n\u001b[0;32m    261\u001b[0m         \u001b[1;32mwith\u001b[0m \u001b[0mparallel_backend\u001b[0m\u001b[1;33m(\u001b[0m\u001b[0mself\u001b[0m\u001b[1;33m.\u001b[0m\u001b[0m_backend\u001b[0m\u001b[1;33m,\u001b[0m \u001b[0mn_jobs\u001b[0m\u001b[1;33m=\u001b[0m\u001b[0mself\u001b[0m\u001b[1;33m.\u001b[0m\u001b[0m_n_jobs\u001b[0m\u001b[1;33m)\u001b[0m\u001b[1;33m:\u001b[0m\u001b[1;33m\u001b[0m\u001b[1;33m\u001b[0m\u001b[0m\n\u001b[1;32m--> 262\u001b[1;33m             return [func(*args, **kwargs)\n\u001b[0m\u001b[0;32m    263\u001b[0m                     for func, args, kwargs in self.items]\n\u001b[0;32m    264\u001b[0m \u001b[1;33m\u001b[0m\u001b[0m\n",
      "\u001b[1;32m~\\anaconda3\\lib\\site-packages\\sklearn\\utils\\fixes.py\u001b[0m in \u001b[0;36m__call__\u001b[1;34m(self, *args, **kwargs)\u001b[0m\n\u001b[0;32m    220\u001b[0m     \u001b[1;32mdef\u001b[0m \u001b[0m__call__\u001b[0m\u001b[1;33m(\u001b[0m\u001b[0mself\u001b[0m\u001b[1;33m,\u001b[0m \u001b[1;33m*\u001b[0m\u001b[0margs\u001b[0m\u001b[1;33m,\u001b[0m \u001b[1;33m**\u001b[0m\u001b[0mkwargs\u001b[0m\u001b[1;33m)\u001b[0m\u001b[1;33m:\u001b[0m\u001b[1;33m\u001b[0m\u001b[1;33m\u001b[0m\u001b[0m\n\u001b[0;32m    221\u001b[0m         \u001b[1;32mwith\u001b[0m \u001b[0mconfig_context\u001b[0m\u001b[1;33m(\u001b[0m\u001b[1;33m**\u001b[0m\u001b[0mself\u001b[0m\u001b[1;33m.\u001b[0m\u001b[0mconfig\u001b[0m\u001b[1;33m)\u001b[0m\u001b[1;33m:\u001b[0m\u001b[1;33m\u001b[0m\u001b[1;33m\u001b[0m\u001b[0m\n\u001b[1;32m--> 222\u001b[1;33m             \u001b[1;32mreturn\u001b[0m \u001b[0mself\u001b[0m\u001b[1;33m.\u001b[0m\u001b[0mfunction\u001b[0m\u001b[1;33m(\u001b[0m\u001b[1;33m*\u001b[0m\u001b[0margs\u001b[0m\u001b[1;33m,\u001b[0m \u001b[1;33m**\u001b[0m\u001b[0mkwargs\u001b[0m\u001b[1;33m)\u001b[0m\u001b[1;33m\u001b[0m\u001b[1;33m\u001b[0m\u001b[0m\n\u001b[0m",
      "\u001b[1;32m~\\anaconda3\\lib\\site-packages\\sklearn\\model_selection\\_validation.py\u001b[0m in \u001b[0;36m_fit_and_score\u001b[1;34m(estimator, X, y, scorer, train, test, verbose, parameters, fit_params, return_train_score, return_parameters, return_n_test_samples, return_times, return_estimator, split_progress, candidate_progress, error_score)\u001b[0m\n\u001b[0;32m    591\u001b[0m             \u001b[0mestimator\u001b[0m\u001b[1;33m.\u001b[0m\u001b[0mfit\u001b[0m\u001b[1;33m(\u001b[0m\u001b[0mX_train\u001b[0m\u001b[1;33m,\u001b[0m \u001b[1;33m**\u001b[0m\u001b[0mfit_params\u001b[0m\u001b[1;33m)\u001b[0m\u001b[1;33m\u001b[0m\u001b[1;33m\u001b[0m\u001b[0m\n\u001b[0;32m    592\u001b[0m         \u001b[1;32melse\u001b[0m\u001b[1;33m:\u001b[0m\u001b[1;33m\u001b[0m\u001b[1;33m\u001b[0m\u001b[0m\n\u001b[1;32m--> 593\u001b[1;33m             \u001b[0mestimator\u001b[0m\u001b[1;33m.\u001b[0m\u001b[0mfit\u001b[0m\u001b[1;33m(\u001b[0m\u001b[0mX_train\u001b[0m\u001b[1;33m,\u001b[0m \u001b[0my_train\u001b[0m\u001b[1;33m,\u001b[0m \u001b[1;33m**\u001b[0m\u001b[0mfit_params\u001b[0m\u001b[1;33m)\u001b[0m\u001b[1;33m\u001b[0m\u001b[1;33m\u001b[0m\u001b[0m\n\u001b[0m\u001b[0;32m    594\u001b[0m \u001b[1;33m\u001b[0m\u001b[0m\n\u001b[0;32m    595\u001b[0m     \u001b[1;32mexcept\u001b[0m \u001b[0mException\u001b[0m \u001b[1;32mas\u001b[0m \u001b[0me\u001b[0m\u001b[1;33m:\u001b[0m\u001b[1;33m\u001b[0m\u001b[1;33m\u001b[0m\u001b[0m\n",
      "\u001b[1;32m~\\anaconda3\\lib\\site-packages\\sklearn\\ensemble\\_forest.py\u001b[0m in \u001b[0;36mfit\u001b[1;34m(self, X, y, sample_weight)\u001b[0m\n\u001b[0;32m    385\u001b[0m             \u001b[1;31m# parallel_backend contexts set at a higher level,\u001b[0m\u001b[1;33m\u001b[0m\u001b[1;33m\u001b[0m\u001b[1;33m\u001b[0m\u001b[0m\n\u001b[0;32m    386\u001b[0m             \u001b[1;31m# since correctness does not rely on using threads.\u001b[0m\u001b[1;33m\u001b[0m\u001b[1;33m\u001b[0m\u001b[1;33m\u001b[0m\u001b[0m\n\u001b[1;32m--> 387\u001b[1;33m             trees = Parallel(n_jobs=self.n_jobs, verbose=self.verbose,\n\u001b[0m\u001b[0;32m    388\u001b[0m                              \u001b[1;33m**\u001b[0m\u001b[0m_joblib_parallel_args\u001b[0m\u001b[1;33m(\u001b[0m\u001b[0mprefer\u001b[0m\u001b[1;33m=\u001b[0m\u001b[1;34m'threads'\u001b[0m\u001b[1;33m)\u001b[0m\u001b[1;33m)\u001b[0m\u001b[1;33m(\u001b[0m\u001b[1;33m\u001b[0m\u001b[1;33m\u001b[0m\u001b[0m\n\u001b[0;32m    389\u001b[0m                 delayed(_parallel_build_trees)(\n",
      "\u001b[1;32m~\\anaconda3\\lib\\site-packages\\joblib\\parallel.py\u001b[0m in \u001b[0;36m__call__\u001b[1;34m(self, iterable)\u001b[0m\n\u001b[0;32m   1042\u001b[0m                 \u001b[0mself\u001b[0m\u001b[1;33m.\u001b[0m\u001b[0m_iterating\u001b[0m \u001b[1;33m=\u001b[0m \u001b[0mself\u001b[0m\u001b[1;33m.\u001b[0m\u001b[0m_original_iterator\u001b[0m \u001b[1;32mis\u001b[0m \u001b[1;32mnot\u001b[0m \u001b[1;32mNone\u001b[0m\u001b[1;33m\u001b[0m\u001b[1;33m\u001b[0m\u001b[0m\n\u001b[0;32m   1043\u001b[0m \u001b[1;33m\u001b[0m\u001b[0m\n\u001b[1;32m-> 1044\u001b[1;33m             \u001b[1;32mwhile\u001b[0m \u001b[0mself\u001b[0m\u001b[1;33m.\u001b[0m\u001b[0mdispatch_one_batch\u001b[0m\u001b[1;33m(\u001b[0m\u001b[0miterator\u001b[0m\u001b[1;33m)\u001b[0m\u001b[1;33m:\u001b[0m\u001b[1;33m\u001b[0m\u001b[1;33m\u001b[0m\u001b[0m\n\u001b[0m\u001b[0;32m   1045\u001b[0m                 \u001b[1;32mpass\u001b[0m\u001b[1;33m\u001b[0m\u001b[1;33m\u001b[0m\u001b[0m\n\u001b[0;32m   1046\u001b[0m \u001b[1;33m\u001b[0m\u001b[0m\n",
      "\u001b[1;32m~\\anaconda3\\lib\\site-packages\\joblib\\parallel.py\u001b[0m in \u001b[0;36mdispatch_one_batch\u001b[1;34m(self, iterator)\u001b[0m\n\u001b[0;32m    857\u001b[0m                 \u001b[1;32mreturn\u001b[0m \u001b[1;32mFalse\u001b[0m\u001b[1;33m\u001b[0m\u001b[1;33m\u001b[0m\u001b[0m\n\u001b[0;32m    858\u001b[0m             \u001b[1;32melse\u001b[0m\u001b[1;33m:\u001b[0m\u001b[1;33m\u001b[0m\u001b[1;33m\u001b[0m\u001b[0m\n\u001b[1;32m--> 859\u001b[1;33m                 \u001b[0mself\u001b[0m\u001b[1;33m.\u001b[0m\u001b[0m_dispatch\u001b[0m\u001b[1;33m(\u001b[0m\u001b[0mtasks\u001b[0m\u001b[1;33m)\u001b[0m\u001b[1;33m\u001b[0m\u001b[1;33m\u001b[0m\u001b[0m\n\u001b[0m\u001b[0;32m    860\u001b[0m                 \u001b[1;32mreturn\u001b[0m \u001b[1;32mTrue\u001b[0m\u001b[1;33m\u001b[0m\u001b[1;33m\u001b[0m\u001b[0m\n\u001b[0;32m    861\u001b[0m \u001b[1;33m\u001b[0m\u001b[0m\n",
      "\u001b[1;32m~\\anaconda3\\lib\\site-packages\\joblib\\parallel.py\u001b[0m in \u001b[0;36m_dispatch\u001b[1;34m(self, batch)\u001b[0m\n\u001b[0;32m    775\u001b[0m         \u001b[1;32mwith\u001b[0m \u001b[0mself\u001b[0m\u001b[1;33m.\u001b[0m\u001b[0m_lock\u001b[0m\u001b[1;33m:\u001b[0m\u001b[1;33m\u001b[0m\u001b[1;33m\u001b[0m\u001b[0m\n\u001b[0;32m    776\u001b[0m             \u001b[0mjob_idx\u001b[0m \u001b[1;33m=\u001b[0m \u001b[0mlen\u001b[0m\u001b[1;33m(\u001b[0m\u001b[0mself\u001b[0m\u001b[1;33m.\u001b[0m\u001b[0m_jobs\u001b[0m\u001b[1;33m)\u001b[0m\u001b[1;33m\u001b[0m\u001b[1;33m\u001b[0m\u001b[0m\n\u001b[1;32m--> 777\u001b[1;33m             \u001b[0mjob\u001b[0m \u001b[1;33m=\u001b[0m \u001b[0mself\u001b[0m\u001b[1;33m.\u001b[0m\u001b[0m_backend\u001b[0m\u001b[1;33m.\u001b[0m\u001b[0mapply_async\u001b[0m\u001b[1;33m(\u001b[0m\u001b[0mbatch\u001b[0m\u001b[1;33m,\u001b[0m \u001b[0mcallback\u001b[0m\u001b[1;33m=\u001b[0m\u001b[0mcb\u001b[0m\u001b[1;33m)\u001b[0m\u001b[1;33m\u001b[0m\u001b[1;33m\u001b[0m\u001b[0m\n\u001b[0m\u001b[0;32m    778\u001b[0m             \u001b[1;31m# A job can complete so quickly than its callback is\u001b[0m\u001b[1;33m\u001b[0m\u001b[1;33m\u001b[0m\u001b[1;33m\u001b[0m\u001b[0m\n\u001b[0;32m    779\u001b[0m             \u001b[1;31m# called before we get here, causing self._jobs to\u001b[0m\u001b[1;33m\u001b[0m\u001b[1;33m\u001b[0m\u001b[1;33m\u001b[0m\u001b[0m\n",
      "\u001b[1;32m~\\anaconda3\\lib\\site-packages\\joblib\\_parallel_backends.py\u001b[0m in \u001b[0;36mapply_async\u001b[1;34m(self, func, callback)\u001b[0m\n\u001b[0;32m    206\u001b[0m     \u001b[1;32mdef\u001b[0m \u001b[0mapply_async\u001b[0m\u001b[1;33m(\u001b[0m\u001b[0mself\u001b[0m\u001b[1;33m,\u001b[0m \u001b[0mfunc\u001b[0m\u001b[1;33m,\u001b[0m \u001b[0mcallback\u001b[0m\u001b[1;33m=\u001b[0m\u001b[1;32mNone\u001b[0m\u001b[1;33m)\u001b[0m\u001b[1;33m:\u001b[0m\u001b[1;33m\u001b[0m\u001b[1;33m\u001b[0m\u001b[0m\n\u001b[0;32m    207\u001b[0m         \u001b[1;34m\"\"\"Schedule a func to be run\"\"\"\u001b[0m\u001b[1;33m\u001b[0m\u001b[1;33m\u001b[0m\u001b[0m\n\u001b[1;32m--> 208\u001b[1;33m         \u001b[0mresult\u001b[0m \u001b[1;33m=\u001b[0m \u001b[0mImmediateResult\u001b[0m\u001b[1;33m(\u001b[0m\u001b[0mfunc\u001b[0m\u001b[1;33m)\u001b[0m\u001b[1;33m\u001b[0m\u001b[1;33m\u001b[0m\u001b[0m\n\u001b[0m\u001b[0;32m    209\u001b[0m         \u001b[1;32mif\u001b[0m \u001b[0mcallback\u001b[0m\u001b[1;33m:\u001b[0m\u001b[1;33m\u001b[0m\u001b[1;33m\u001b[0m\u001b[0m\n\u001b[0;32m    210\u001b[0m             \u001b[0mcallback\u001b[0m\u001b[1;33m(\u001b[0m\u001b[0mresult\u001b[0m\u001b[1;33m)\u001b[0m\u001b[1;33m\u001b[0m\u001b[1;33m\u001b[0m\u001b[0m\n",
      "\u001b[1;32m~\\anaconda3\\lib\\site-packages\\joblib\\_parallel_backends.py\u001b[0m in \u001b[0;36m__init__\u001b[1;34m(self, batch)\u001b[0m\n\u001b[0;32m    570\u001b[0m         \u001b[1;31m# Don't delay the application, to avoid keeping the input\u001b[0m\u001b[1;33m\u001b[0m\u001b[1;33m\u001b[0m\u001b[1;33m\u001b[0m\u001b[0m\n\u001b[0;32m    571\u001b[0m         \u001b[1;31m# arguments in memory\u001b[0m\u001b[1;33m\u001b[0m\u001b[1;33m\u001b[0m\u001b[1;33m\u001b[0m\u001b[0m\n\u001b[1;32m--> 572\u001b[1;33m         \u001b[0mself\u001b[0m\u001b[1;33m.\u001b[0m\u001b[0mresults\u001b[0m \u001b[1;33m=\u001b[0m \u001b[0mbatch\u001b[0m\u001b[1;33m(\u001b[0m\u001b[1;33m)\u001b[0m\u001b[1;33m\u001b[0m\u001b[1;33m\u001b[0m\u001b[0m\n\u001b[0m\u001b[0;32m    573\u001b[0m \u001b[1;33m\u001b[0m\u001b[0m\n\u001b[0;32m    574\u001b[0m     \u001b[1;32mdef\u001b[0m \u001b[0mget\u001b[0m\u001b[1;33m(\u001b[0m\u001b[0mself\u001b[0m\u001b[1;33m)\u001b[0m\u001b[1;33m:\u001b[0m\u001b[1;33m\u001b[0m\u001b[1;33m\u001b[0m\u001b[0m\n",
      "\u001b[1;32m~\\anaconda3\\lib\\site-packages\\joblib\\parallel.py\u001b[0m in \u001b[0;36m__call__\u001b[1;34m(self)\u001b[0m\n\u001b[0;32m    260\u001b[0m         \u001b[1;31m# change the default number of processes to -1\u001b[0m\u001b[1;33m\u001b[0m\u001b[1;33m\u001b[0m\u001b[1;33m\u001b[0m\u001b[0m\n\u001b[0;32m    261\u001b[0m         \u001b[1;32mwith\u001b[0m \u001b[0mparallel_backend\u001b[0m\u001b[1;33m(\u001b[0m\u001b[0mself\u001b[0m\u001b[1;33m.\u001b[0m\u001b[0m_backend\u001b[0m\u001b[1;33m,\u001b[0m \u001b[0mn_jobs\u001b[0m\u001b[1;33m=\u001b[0m\u001b[0mself\u001b[0m\u001b[1;33m.\u001b[0m\u001b[0m_n_jobs\u001b[0m\u001b[1;33m)\u001b[0m\u001b[1;33m:\u001b[0m\u001b[1;33m\u001b[0m\u001b[1;33m\u001b[0m\u001b[0m\n\u001b[1;32m--> 262\u001b[1;33m             return [func(*args, **kwargs)\n\u001b[0m\u001b[0;32m    263\u001b[0m                     for func, args, kwargs in self.items]\n\u001b[0;32m    264\u001b[0m \u001b[1;33m\u001b[0m\u001b[0m\n",
      "\u001b[1;32m~\\anaconda3\\lib\\site-packages\\joblib\\parallel.py\u001b[0m in \u001b[0;36m<listcomp>\u001b[1;34m(.0)\u001b[0m\n\u001b[0;32m    260\u001b[0m         \u001b[1;31m# change the default number of processes to -1\u001b[0m\u001b[1;33m\u001b[0m\u001b[1;33m\u001b[0m\u001b[1;33m\u001b[0m\u001b[0m\n\u001b[0;32m    261\u001b[0m         \u001b[1;32mwith\u001b[0m \u001b[0mparallel_backend\u001b[0m\u001b[1;33m(\u001b[0m\u001b[0mself\u001b[0m\u001b[1;33m.\u001b[0m\u001b[0m_backend\u001b[0m\u001b[1;33m,\u001b[0m \u001b[0mn_jobs\u001b[0m\u001b[1;33m=\u001b[0m\u001b[0mself\u001b[0m\u001b[1;33m.\u001b[0m\u001b[0m_n_jobs\u001b[0m\u001b[1;33m)\u001b[0m\u001b[1;33m:\u001b[0m\u001b[1;33m\u001b[0m\u001b[1;33m\u001b[0m\u001b[0m\n\u001b[1;32m--> 262\u001b[1;33m             return [func(*args, **kwargs)\n\u001b[0m\u001b[0;32m    263\u001b[0m                     for func, args, kwargs in self.items]\n\u001b[0;32m    264\u001b[0m \u001b[1;33m\u001b[0m\u001b[0m\n",
      "\u001b[1;32m~\\anaconda3\\lib\\site-packages\\sklearn\\utils\\fixes.py\u001b[0m in \u001b[0;36m__call__\u001b[1;34m(self, *args, **kwargs)\u001b[0m\n\u001b[0;32m    220\u001b[0m     \u001b[1;32mdef\u001b[0m \u001b[0m__call__\u001b[0m\u001b[1;33m(\u001b[0m\u001b[0mself\u001b[0m\u001b[1;33m,\u001b[0m \u001b[1;33m*\u001b[0m\u001b[0margs\u001b[0m\u001b[1;33m,\u001b[0m \u001b[1;33m**\u001b[0m\u001b[0mkwargs\u001b[0m\u001b[1;33m)\u001b[0m\u001b[1;33m:\u001b[0m\u001b[1;33m\u001b[0m\u001b[1;33m\u001b[0m\u001b[0m\n\u001b[0;32m    221\u001b[0m         \u001b[1;32mwith\u001b[0m \u001b[0mconfig_context\u001b[0m\u001b[1;33m(\u001b[0m\u001b[1;33m**\u001b[0m\u001b[0mself\u001b[0m\u001b[1;33m.\u001b[0m\u001b[0mconfig\u001b[0m\u001b[1;33m)\u001b[0m\u001b[1;33m:\u001b[0m\u001b[1;33m\u001b[0m\u001b[1;33m\u001b[0m\u001b[0m\n\u001b[1;32m--> 222\u001b[1;33m             \u001b[1;32mreturn\u001b[0m \u001b[0mself\u001b[0m\u001b[1;33m.\u001b[0m\u001b[0mfunction\u001b[0m\u001b[1;33m(\u001b[0m\u001b[1;33m*\u001b[0m\u001b[0margs\u001b[0m\u001b[1;33m,\u001b[0m \u001b[1;33m**\u001b[0m\u001b[0mkwargs\u001b[0m\u001b[1;33m)\u001b[0m\u001b[1;33m\u001b[0m\u001b[1;33m\u001b[0m\u001b[0m\n\u001b[0m",
      "\u001b[1;32m~\\anaconda3\\lib\\site-packages\\sklearn\\ensemble\\_forest.py\u001b[0m in \u001b[0;36m_parallel_build_trees\u001b[1;34m(tree, forest, X, y, sample_weight, tree_idx, n_trees, verbose, class_weight, n_samples_bootstrap)\u001b[0m\n\u001b[0;32m    167\u001b[0m                                                         indices=indices)\n\u001b[0;32m    168\u001b[0m \u001b[1;33m\u001b[0m\u001b[0m\n\u001b[1;32m--> 169\u001b[1;33m         \u001b[0mtree\u001b[0m\u001b[1;33m.\u001b[0m\u001b[0mfit\u001b[0m\u001b[1;33m(\u001b[0m\u001b[0mX\u001b[0m\u001b[1;33m,\u001b[0m \u001b[0my\u001b[0m\u001b[1;33m,\u001b[0m \u001b[0msample_weight\u001b[0m\u001b[1;33m=\u001b[0m\u001b[0mcurr_sample_weight\u001b[0m\u001b[1;33m,\u001b[0m \u001b[0mcheck_input\u001b[0m\u001b[1;33m=\u001b[0m\u001b[1;32mFalse\u001b[0m\u001b[1;33m)\u001b[0m\u001b[1;33m\u001b[0m\u001b[1;33m\u001b[0m\u001b[0m\n\u001b[0m\u001b[0;32m    170\u001b[0m     \u001b[1;32melse\u001b[0m\u001b[1;33m:\u001b[0m\u001b[1;33m\u001b[0m\u001b[1;33m\u001b[0m\u001b[0m\n\u001b[0;32m    171\u001b[0m         \u001b[0mtree\u001b[0m\u001b[1;33m.\u001b[0m\u001b[0mfit\u001b[0m\u001b[1;33m(\u001b[0m\u001b[0mX\u001b[0m\u001b[1;33m,\u001b[0m \u001b[0my\u001b[0m\u001b[1;33m,\u001b[0m \u001b[0msample_weight\u001b[0m\u001b[1;33m=\u001b[0m\u001b[0msample_weight\u001b[0m\u001b[1;33m,\u001b[0m \u001b[0mcheck_input\u001b[0m\u001b[1;33m=\u001b[0m\u001b[1;32mFalse\u001b[0m\u001b[1;33m)\u001b[0m\u001b[1;33m\u001b[0m\u001b[1;33m\u001b[0m\u001b[0m\n",
      "\u001b[1;32m~\\anaconda3\\lib\\site-packages\\sklearn\\tree\\_classes.py\u001b[0m in \u001b[0;36mfit\u001b[1;34m(self, X, y, sample_weight, check_input, X_idx_sorted)\u001b[0m\n\u001b[0;32m   1245\u001b[0m         \"\"\"\n\u001b[0;32m   1246\u001b[0m \u001b[1;33m\u001b[0m\u001b[0m\n\u001b[1;32m-> 1247\u001b[1;33m         super().fit(\n\u001b[0m\u001b[0;32m   1248\u001b[0m             \u001b[0mX\u001b[0m\u001b[1;33m,\u001b[0m \u001b[0my\u001b[0m\u001b[1;33m,\u001b[0m\u001b[1;33m\u001b[0m\u001b[1;33m\u001b[0m\u001b[0m\n\u001b[0;32m   1249\u001b[0m             \u001b[0msample_weight\u001b[0m\u001b[1;33m=\u001b[0m\u001b[0msample_weight\u001b[0m\u001b[1;33m,\u001b[0m\u001b[1;33m\u001b[0m\u001b[1;33m\u001b[0m\u001b[0m\n",
      "\u001b[1;32m~\\anaconda3\\lib\\site-packages\\sklearn\\tree\\_classes.py\u001b[0m in \u001b[0;36mfit\u001b[1;34m(self, X, y, sample_weight, check_input, X_idx_sorted)\u001b[0m\n\u001b[0;32m    387\u001b[0m                                            min_impurity_split)\n\u001b[0;32m    388\u001b[0m \u001b[1;33m\u001b[0m\u001b[0m\n\u001b[1;32m--> 389\u001b[1;33m         \u001b[0mbuilder\u001b[0m\u001b[1;33m.\u001b[0m\u001b[0mbuild\u001b[0m\u001b[1;33m(\u001b[0m\u001b[0mself\u001b[0m\u001b[1;33m.\u001b[0m\u001b[0mtree_\u001b[0m\u001b[1;33m,\u001b[0m \u001b[0mX\u001b[0m\u001b[1;33m,\u001b[0m \u001b[0my\u001b[0m\u001b[1;33m,\u001b[0m \u001b[0msample_weight\u001b[0m\u001b[1;33m)\u001b[0m\u001b[1;33m\u001b[0m\u001b[1;33m\u001b[0m\u001b[0m\n\u001b[0m\u001b[0;32m    390\u001b[0m \u001b[1;33m\u001b[0m\u001b[0m\n\u001b[0;32m    391\u001b[0m         \u001b[1;32mif\u001b[0m \u001b[0mself\u001b[0m\u001b[1;33m.\u001b[0m\u001b[0mn_outputs_\u001b[0m \u001b[1;33m==\u001b[0m \u001b[1;36m1\u001b[0m \u001b[1;32mand\u001b[0m \u001b[0mis_classifier\u001b[0m\u001b[1;33m(\u001b[0m\u001b[0mself\u001b[0m\u001b[1;33m)\u001b[0m\u001b[1;33m:\u001b[0m\u001b[1;33m\u001b[0m\u001b[1;33m\u001b[0m\u001b[0m\n",
      "\u001b[1;31mKeyboardInterrupt\u001b[0m: "
     ]
    }
   ],
   "source": [
    "# Importing Libraries and Hyper parameter tuning:\n",
    "from sklearn.model_selection import GridSearchCV\n",
    "from sklearn.ensemble import RandomForestRegressor\n",
    "\n",
    "parameters = {'criterion':['mse', 'mae'],'max_features':[\"auto\", \"sqrt\", \"log2\"]}\n",
    "rf =RandomForestRegressor()\n",
    "clf = GridSearchCV(rf,parameters)\n",
    "clf.fit(train_x,train_y)\n",
    "\n",
    "print(clf.best_params_)"
   ]
  },
  {
   "cell_type": "markdown",
   "id": "50db78be",
   "metadata": {},
   "source": [
    "Best parameters for RandomForestRegressor"
   ]
  },
  {
   "cell_type": "code",
   "execution_count": null,
   "id": "179ed0c8",
   "metadata": {},
   "outputs": [],
   "source": [
    "rf= RandomForestRegressor(criterion=\"mae\",max_features=\"auto\")\n",
    "rf.fit(train_x,train_y)\n",
    "rf.score(train_x,train_y)\n",
    "pred_decision = rf.predict(test_x)\n",
    "print('rf score',rf.score(train_x,train_y))\n",
    "rfs = r2_score(test_y,pred_decision)\n",
    "print('R2 Score:',rfs*100)\n",
    "\n",
    "rfscore = cross_val_score(rf,x,y,cv=9)\n",
    "rfc = rfscore.mean()\n",
    "print('Cross Val Score:',rfc*100)"
   ]
  },
  {
   "cell_type": "code",
   "execution_count": null,
   "id": "3361e539",
   "metadata": {},
   "outputs": [],
   "source": [
    "import matplotlib.pyplot as plt\n",
    "plt.figure(figsize=(8,6))\n",
    "plt.scatter(x=test_y, y=pred_decision, color='r')\n",
    "plt.plot(test_y,test_y, color='b')\n",
    "plt.xlabel('Actual data',fontsize=14)\n",
    "plt.ylabel('Predicted data',fontsize=14)\n",
    "plt.title('Random Forest Regressor',fontsize=18)\n",
    "plt.show()"
   ]
  },
  {
   "cell_type": "markdown",
   "id": "7040fa67",
   "metadata": {},
   "source": [
    "# Decision Tree Regressor"
   ]
  },
  {
   "cell_type": "code",
   "execution_count": 78,
   "id": "7e6d199a",
   "metadata": {},
   "outputs": [
    {
     "name": "stdout",
     "output_type": "stream",
     "text": [
      "{'criterion': 'mse', 'max_depth': 8, 'max_features': 'auto', 'min_samples_split': 0.25}\n"
     ]
    }
   ],
   "source": [
    "# Importing Libraries and Hyper parameter tuning:\n",
    "from sklearn.model_selection import GridSearchCV\n",
    "from sklearn.tree import DecisionTreeRegressor\n",
    "from sklearn.metrics import mean_squared_error,mean_absolute_error\n",
    "\n",
    "parameters = {'criterion':['mse', 'mae'],\n",
    "              'max_features':[\"auto\",\"sqrt\", \"log2\"],\n",
    "              'max_depth':[2,4,8,10,None],\n",
    "            'min_samples_split':[0.25,0.5,1.0]}\n",
    "dt =DecisionTreeRegressor()\n",
    "clf = GridSearchCV(dt,parameters)\n",
    "clf.fit(train_x,train_y)\n",
    "\n",
    "print(clf.best_params_)"
   ]
  },
  {
   "cell_type": "markdown",
   "id": "a9f3afdb",
   "metadata": {},
   "source": [
    "Best parameters for DecisionTreeRegressor "
   ]
  },
  {
   "cell_type": "code",
   "execution_count": 79,
   "id": "5986ea39",
   "metadata": {},
   "outputs": [
    {
     "name": "stdout",
     "output_type": "stream",
     "text": [
      "dt score 0.570855223210259\n",
      "R2 Score: 58.71688937642343\n",
      "Cross Val Score: 56.619654393922126\n",
      "Mean squared error: 1084212.6836869905\n",
      "Mean absolute error: 765.8152879559922\n"
     ]
    }
   ],
   "source": [
    "dt =DecisionTreeRegressor(criterion=\"mse\",max_features=\"auto\",max_depth=8,min_samples_split=0.25)\n",
    "dt.fit(train_x,train_y)\n",
    "dt.score(train_x,train_y)\n",
    "pred_decision = dt.predict(test_x)\n",
    "print('dt score',dt.score(train_x,train_y))\n",
    "dts = r2_score(test_y,pred_decision)\n",
    "print('R2 Score:',dts*100)\n",
    "\n",
    "dtscore = cross_val_score(dt,x,y,cv=9)\n",
    "dtc = dtscore.mean()\n",
    "print('Cross Val Score:',dtc*100)\n",
    "print(\"Mean squared error:\",mean_squared_error(test_y,pred_decision))\n",
    "print(\"Mean absolute error:\",mean_absolute_error(test_y,pred_decision))"
   ]
  },
  {
   "cell_type": "markdown",
   "id": "5a8719b7",
   "metadata": {},
   "source": [
    "dt score 57%\n",
    "R2 Score: 58.7%\n",
    "Cross Val Score: 56.6%"
   ]
  },
  {
   "cell_type": "code",
   "execution_count": 80,
   "id": "95189393",
   "metadata": {},
   "outputs": [
    {
     "data": {
      "image/png": "[encoded data removed]",
      "text/plain": [
       "<Figure size 576x432 with 1 Axes>"
      ]
     },
     "metadata": {
      "needs_background": "light"
     },
     "output_type": "display_data"
    }
   ],
   "source": [
    "import matplotlib.pyplot as plt\n",
    "plt.figure(figsize=(8,6))\n",
    "plt.scatter(x=test_y, y=pred_decision, color='r')\n",
    "plt.plot(test_y,test_y, color='b')\n",
    "plt.xlabel('Actual data',fontsize=14)\n",
    "plt.ylabel('Predicted data',fontsize=14)\n",
    "plt.title('Decision Tree Regressor',fontsize=18)\n",
    "plt.show()"
   ]
  },
  {
   "cell_type": "markdown",
   "id": "5a05171a",
   "metadata": {},
   "source": [
    "# KNeighborsRegressor"
   ]
  },
  {
   "cell_type": "code",
   "execution_count": 81,
   "id": "2a317e67",
   "metadata": {},
   "outputs": [
    {
     "name": "stdout",
     "output_type": "stream",
     "text": [
      "{'algorithm': 'auto', 'n_neighbors': 9, 'weights': 'uniform'}\n"
     ]
    }
   ],
   "source": [
    "# Importing Libraries and Hyper parameter tuning:\n",
    "from sklearn.neighbors import KNeighborsRegressor\n",
    "from sklearn.model_selection import GridSearchCV\n",
    "from sklearn.metrics import mean_squared_error,mean_absolute_error\n",
    "\n",
    "parameters = {'n_neighbors':list(range(0,10)),\n",
    "              'weights':['uniform', 'distance'],\n",
    "              'algorithm':['auto', 'ball_tree', 'kd_tree', 'brute']\n",
    "              }\n",
    "kn =KNeighborsRegressor()\n",
    "clf = GridSearchCV(kn,parameters)\n",
    "clf.fit(train_x,train_y)\n",
    "\n",
    "print(clf.best_params_)"
   ]
  },
  {
   "cell_type": "markdown",
   "id": "bc05c1d2",
   "metadata": {},
   "source": [
    "Best parameters for KNeighborsRegressor "
   ]
  },
  {
   "cell_type": "code",
   "execution_count": 82,
   "id": "d66200b5",
   "metadata": {},
   "outputs": [
    {
     "name": "stdout",
     "output_type": "stream",
     "text": [
      "kn score 0.6212911371565553\n",
      "R2 Score: 56.99716185303689\n",
      "Cross Val Score: 53.13971034413275\n",
      "Mean squared error: 1129377.6522462263\n",
      "Mean absolute error: 775.892690448577\n"
     ]
    }
   ],
   "source": [
    "kn =KNeighborsRegressor(n_neighbors=9,algorithm=\"auto\",weights='uniform')\n",
    "kn.fit(train_x,train_y)\n",
    "kn.score(train_x,train_y)\n",
    "pred_decision = kn.predict(test_x)\n",
    "print('kn score',kn.score(train_x,train_y))\n",
    "kns = r2_score(test_y,pred_decision)\n",
    "print('R2 Score:',kns*100)\n",
    "\n",
    "knscore = cross_val_score(kn,x,y,cv=9)\n",
    "knc = knscore.mean()\n",
    "print('Cross Val Score:',knc*100)\n",
    "print(\"Mean squared error:\",mean_squared_error(test_y,pred_decision))\n",
    "print(\"Mean absolute error:\",mean_absolute_error(test_y,pred_decision))"
   ]
  },
  {
   "cell_type": "markdown",
   "id": "546405da",
   "metadata": {},
   "source": [
    "kn score 62%\n",
    "R2 Score: 56.9%\n",
    "Cross Val Score: 53.1%"
   ]
  },
  {
   "cell_type": "code",
   "execution_count": 83,
   "id": "8ba76850",
   "metadata": {},
   "outputs": [
    {
     "data": {
      "image/png": "[encoded data removed]",
      "text/plain": [
       "<Figure size 576x432 with 1 Axes>"
      ]
     },
     "metadata": {
      "needs_background": "light"
     },
     "output_type": "display_data"
    }
   ],
   "source": [
    "import matplotlib.pyplot as plt\n",
    "plt.figure(figsize=(8,6))\n",
    "plt.scatter(x=test_y, y=pred_decision, color='r')\n",
    "plt.plot(test_y,test_y, color='b')\n",
    "plt.xlabel('Actual data',fontsize=14)\n",
    "plt.ylabel('Predicted data',fontsize=14)\n",
    "plt.title('KNeighbors Regressor',fontsize=18)\n",
    "plt.show()"
   ]
  },
  {
   "cell_type": "markdown",
   "id": "66e3ff2d",
   "metadata": {},
   "source": [
    "# SVRegressor"
   ]
  },
  {
   "cell_type": "code",
   "execution_count": null,
   "id": "02217240",
   "metadata": {},
   "outputs": [],
   "source": [
    "# Importing Libraries and Hyper parameter tuning:\n",
    "from sklearn.svm import SVR\n",
    "from sklearn.model_selection import GridSearchCV\n",
    "from sklearn.metrics import mean_squared_error,mean_absolute_error\n",
    "svr =SVR()\n",
    "parameters = [{'kernel': ['rbf'], 'gamma': [1e-4, 1e-3, 0.01, 0.1, 0.2, 0.5, 0.6, 0.9],'C': [1, 10, 100, 1000, 10000]}]\n",
    "\n",
    "clf = GridSearchCV(svr,parameters)\n",
    "clf.fit(train_x,train_y)\n",
    "\n",
    "print(clf.best_params_)"
   ]
  },
  {
   "cell_type": "markdown",
   "id": "79801f9d",
   "metadata": {},
   "source": [
    "Best parameters for SV Regressor"
   ]
  },
  {
   "cell_type": "code",
   "execution_count": null,
   "id": "eaa4199e",
   "metadata": {},
   "outputs": [],
   "source": [
    "svr =SVR(C=10000,gamma=0.01,kernel='rbf')\n",
    "svr.fit(train_x,train_y)\n",
    "svr.score(train_x,train_y)\n",
    "pred_decision = svr.predict(test_x)\n",
    "print('svr score',svr.score(train_x,train_y))\n",
    "svrs = r2_score(test_y,pred_decision)\n",
    "print('R2 Score:',svrs*100)\n",
    "\n",
    "svrscore = cross_val_score(svr,x,y,cv=9)\n",
    "svrc = svrscore.mean()\n",
    "print('Cross Val Score:',svrc*100)\n",
    "print(\"Mean squared error:\",mean_squared_error(test_y,pred_decision))\n",
    "print(\"Mean absolute error:\",mean_absolute_error(test_y,pred_decision))"
   ]
  },
  {
   "cell_type": "markdown",
   "id": "ebe70eae",
   "metadata": {},
   "source": [
    "Cross Val Score:\n",
    "R2 Score:   "
   ]
  },
  {
   "cell_type": "markdown",
   "id": "13e36661",
   "metadata": {},
   "source": [
    "Best Model is Decision Tree Regressor  as its r2 score and cross val score has less difference"
   ]
  },
  {
   "cell_type": "markdown",
   "id": "81f1aab8",
   "metadata": {},
   "source": [
    "# Model saving:"
   ]
  },
  {
   "cell_type": "code",
   "execution_count": 87,
   "id": "28349522",
   "metadata": {},
   "outputs": [],
   "source": [
    "import pickle\n",
    "filename = 'bigmart.pkl'\n",
    "pickle.dump(dt, open(filename, 'wb'))"
   ]
  },
  {
   "cell_type": "markdown",
   "id": "c3b22dae",
   "metadata": {},
   "source": [
    "# Conclusion:"
   ]
  },
  {
   "cell_type": "code",
   "execution_count": 88,
   "id": "1eb2ca12",
   "metadata": {},
   "outputs": [
    {
     "data": {
      "text/html": [
       "<div>\n",
       "<style scoped>\n",
       "    .dataframe tbody tr th:only-of-type {\n",
       "        vertical-align: middle;\n",
       "    }\n",
       "\n",
       "    .dataframe tbody tr th {\n",
       "        vertical-align: top;\n",
       "    }\n",
       "\n",
       "    .dataframe thead th {\n",
       "        text-align: right;\n",
       "    }\n",
       "</style>\n",
       "<table border=\"1\" class=\"dataframe\">\n",
       "  <thead>\n",
       "    <tr style=\"text-align: right;\">\n",
       "      <th></th>\n",
       "      <th>original</th>\n",
       "      <th>predicted</th>\n",
       "    </tr>\n",
       "  </thead>\n",
       "  <tbody>\n",
       "    <tr>\n",
       "      <th>0</th>\n",
       "      <td>449.4150</td>\n",
       "      <td>470.067001</td>\n",
       "    </tr>\n",
       "    <tr>\n",
       "      <th>1</th>\n",
       "      <td>1653.8472</td>\n",
       "      <td>1492.704486</td>\n",
       "    </tr>\n",
       "    <tr>\n",
       "      <th>2</th>\n",
       "      <td>1231.7300</td>\n",
       "      <td>3742.301143</td>\n",
       "    </tr>\n",
       "    <tr>\n",
       "      <th>3</th>\n",
       "      <td>765.6700</td>\n",
       "      <td>760.714018</td>\n",
       "    </tr>\n",
       "    <tr>\n",
       "      <th>4</th>\n",
       "      <td>1018.0082</td>\n",
       "      <td>1492.704486</td>\n",
       "    </tr>\n",
       "    <tr>\n",
       "      <th>...</th>\n",
       "      <td>...</td>\n",
       "      <td>...</td>\n",
       "    </tr>\n",
       "    <tr>\n",
       "      <th>1662</th>\n",
       "      <td>459.4020</td>\n",
       "      <td>470.067001</td>\n",
       "    </tr>\n",
       "    <tr>\n",
       "      <th>1663</th>\n",
       "      <td>5331.7264</td>\n",
       "      <td>3742.301143</td>\n",
       "    </tr>\n",
       "    <tr>\n",
       "      <th>1664</th>\n",
       "      <td>1150.5024</td>\n",
       "      <td>2014.882031</td>\n",
       "    </tr>\n",
       "    <tr>\n",
       "      <th>1665</th>\n",
       "      <td>3029.3900</td>\n",
       "      <td>3742.301143</td>\n",
       "    </tr>\n",
       "    <tr>\n",
       "      <th>1666</th>\n",
       "      <td>5736.5328</td>\n",
       "      <td>3742.301143</td>\n",
       "    </tr>\n",
       "  </tbody>\n",
       "</table>\n",
       "<p>1667 rows × 2 columns</p>\n",
       "</div>"
      ],
      "text/plain": [
       "       original    predicted\n",
       "0      449.4150   470.067001\n",
       "1     1653.8472  1492.704486\n",
       "2     1231.7300  3742.301143\n",
       "3      765.6700   760.714018\n",
       "4     1018.0082  1492.704486\n",
       "...         ...          ...\n",
       "1662   459.4020   470.067001\n",
       "1663  5331.7264  3742.301143\n",
       "1664  1150.5024  2014.882031\n",
       "1665  3029.3900  3742.301143\n",
       "1666  5736.5328  3742.301143\n",
       "\n",
       "[1667 rows x 2 columns]"
      ]
     },
     "execution_count": 88,
     "metadata": {},
     "output_type": "execute_result"
    }
   ],
   "source": [
    "import numpy as np\n",
    "a=np.array(test_y)\n",
    "pred_decision =np.array(dt.predict(test_x))\n",
    "df_com=pd.DataFrame({\"original\":a, \"predicted\": pred_decision},index=range(len(a)))\n",
    "df_com"
   ]
  },
  {
   "cell_type": "markdown",
   "id": "7d180c2f",
   "metadata": {},
   "source": [
    "Model is predicting value but not excatly equal to actual value."
   ]
  }
 ],
 "metadata": {
  "kernelspec": {
   "display_name": "Python 3",
   "language": "python",
   "name": "python3"
  },
  "language_info": {
   "codemirror_mode": {
    "name": "ipython",
    "version": 3
   },
   "file_extension": ".py",
   "mimetype": "text/x-python",
   "name": "python",
   "nbconvert_exporter": "python",
   "pygments_lexer": "ipython3",
   "version": "3.8.8"
  }
 },
 "nbformat": 4,
 "nbformat_minor": 5
}
