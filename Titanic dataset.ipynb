{
 "cells": [
  {
   "cell_type": "markdown",
   "id": "9d7947fd",
   "metadata": {},
   "source": [
    " # Importing Dataset"
   ]
  },
  {
   "cell_type": "code",
   "execution_count": 1,
   "id": "0814bf76",
   "metadata": {},
   "outputs": [],
   "source": [
    "import pandas as pd\n",
    "import numpy as np"
   ]
  },
  {
   "cell_type": "code",
   "execution_count": 2,
   "id": "cebfab4c",
   "metadata": {},
   "outputs": [],
   "source": [
    "ds=pd.read_csv('titanic_train.csv')"
   ]
  },
  {
   "cell_type": "code",
   "execution_count": 3,
   "id": "55d515b6",
   "metadata": {},
   "outputs": [
    {
     "data": {
      "text/html": [
       "<div>\n",
       "<style scoped>\n",
       "    .dataframe tbody tr th:only-of-type {\n",
       "        vertical-align: middle;\n",
       "    }\n",
       "\n",
       "    .dataframe tbody tr th {\n",
       "        vertical-align: top;\n",
       "    }\n",
       "\n",
       "    .dataframe thead th {\n",
       "        text-align: right;\n",
       "    }\n",
       "</style>\n",
       "<table border=\"1\" class=\"dataframe\">\n",
       "  <thead>\n",
       "    <tr style=\"text-align: right;\">\n",
       "      <th></th>\n",
       "      <th>PassengerId</th>\n",
       "      <th>Survived</th>\n",
       "      <th>Pclass</th>\n",
       "      <th>Name</th>\n",
       "      <th>Sex</th>\n",
       "      <th>Age</th>\n",
       "      <th>SibSp</th>\n",
       "      <th>Parch</th>\n",
       "      <th>Ticket</th>\n",
       "      <th>Fare</th>\n",
       "      <th>Cabin</th>\n",
       "      <th>Embarked</th>\n",
       "    </tr>\n",
       "  </thead>\n",
       "  <tbody>\n",
       "    <tr>\n",
       "      <th>0</th>\n",
       "      <td>1</td>\n",
       "      <td>0</td>\n",
       "      <td>3</td>\n",
       "      <td>Braund, Mr. Owen Harris</td>\n",
       "      <td>male</td>\n",
       "      <td>22.0</td>\n",
       "      <td>1</td>\n",
       "      <td>0</td>\n",
       "      <td>A/5 21171</td>\n",
       "      <td>7.2500</td>\n",
       "      <td>NaN</td>\n",
       "      <td>S</td>\n",
       "    </tr>\n",
       "    <tr>\n",
       "      <th>1</th>\n",
       "      <td>2</td>\n",
       "      <td>1</td>\n",
       "      <td>1</td>\n",
       "      <td>Cumings, Mrs. John Bradley (Florence Briggs Th...</td>\n",
       "      <td>female</td>\n",
       "      <td>38.0</td>\n",
       "      <td>1</td>\n",
       "      <td>0</td>\n",
       "      <td>PC 17599</td>\n",
       "      <td>71.2833</td>\n",
       "      <td>C85</td>\n",
       "      <td>C</td>\n",
       "    </tr>\n",
       "    <tr>\n",
       "      <th>2</th>\n",
       "      <td>3</td>\n",
       "      <td>1</td>\n",
       "      <td>3</td>\n",
       "      <td>Heikkinen, Miss. Laina</td>\n",
       "      <td>female</td>\n",
       "      <td>26.0</td>\n",
       "      <td>0</td>\n",
       "      <td>0</td>\n",
       "      <td>STON/O2. 3101282</td>\n",
       "      <td>7.9250</td>\n",
       "      <td>NaN</td>\n",
       "      <td>S</td>\n",
       "    </tr>\n",
       "    <tr>\n",
       "      <th>3</th>\n",
       "      <td>4</td>\n",
       "      <td>1</td>\n",
       "      <td>1</td>\n",
       "      <td>Futrelle, Mrs. Jacques Heath (Lily May Peel)</td>\n",
       "      <td>female</td>\n",
       "      <td>35.0</td>\n",
       "      <td>1</td>\n",
       "      <td>0</td>\n",
       "      <td>113803</td>\n",
       "      <td>53.1000</td>\n",
       "      <td>C123</td>\n",
       "      <td>S</td>\n",
       "    </tr>\n",
       "    <tr>\n",
       "      <th>4</th>\n",
       "      <td>5</td>\n",
       "      <td>0</td>\n",
       "      <td>3</td>\n",
       "      <td>Allen, Mr. William Henry</td>\n",
       "      <td>male</td>\n",
       "      <td>35.0</td>\n",
       "      <td>0</td>\n",
       "      <td>0</td>\n",
       "      <td>373450</td>\n",
       "      <td>8.0500</td>\n",
       "      <td>NaN</td>\n",
       "      <td>S</td>\n",
       "    </tr>\n",
       "  </tbody>\n",
       "</table>\n",
       "</div>"
      ],
      "text/plain": [
       "   PassengerId  Survived  Pclass  \\\n",
       "0            1         0       3   \n",
       "1            2         1       1   \n",
       "2            3         1       3   \n",
       "3            4         1       1   \n",
       "4            5         0       3   \n",
       "\n",
       "                                                Name     Sex   Age  SibSp  \\\n",
       "0                            Braund, Mr. Owen Harris    male  22.0      1   \n",
       "1  Cumings, Mrs. John Bradley (Florence Briggs Th...  female  38.0      1   \n",
       "2                             Heikkinen, Miss. Laina  female  26.0      0   \n",
       "3       Futrelle, Mrs. Jacques Heath (Lily May Peel)  female  35.0      1   \n",
       "4                           Allen, Mr. William Henry    male  35.0      0   \n",
       "\n",
       "   Parch            Ticket     Fare Cabin Embarked  \n",
       "0      0         A/5 21171   7.2500   NaN        S  \n",
       "1      0          PC 17599  71.2833   C85        C  \n",
       "2      0  STON/O2. 3101282   7.9250   NaN        S  \n",
       "3      0            113803  53.1000  C123        S  \n",
       "4      0            373450   8.0500   NaN        S  "
      ]
     },
     "execution_count": 3,
     "metadata": {},
     "output_type": "execute_result"
    }
   ],
   "source": [
    "df=pd.DataFrame(ds)\n",
    "df.head()"
   ]
  },
  {
   "cell_type": "code",
   "execution_count": 4,
   "id": "3461f079",
   "metadata": {},
   "outputs": [
    {
     "data": {
      "text/plain": [
       "(891, 12)"
      ]
     },
     "execution_count": 4,
     "metadata": {},
     "output_type": "execute_result"
    }
   ],
   "source": [
    "df.shape"
   ]
  },
  {
   "cell_type": "markdown",
   "id": "08532a06",
   "metadata": {},
   "source": [
    "891: Rows\n",
    "12 : Columns"
   ]
  },
  {
   "cell_type": "code",
   "execution_count": 5,
   "id": "0e5e6ab5",
   "metadata": {},
   "outputs": [
    {
     "data": {
      "text/plain": [
       "PassengerId      int64\n",
       "Survived         int64\n",
       "Pclass           int64\n",
       "Name            object\n",
       "Sex             object\n",
       "Age            float64\n",
       "SibSp            int64\n",
       "Parch            int64\n",
       "Ticket          object\n",
       "Fare           float64\n",
       "Cabin           object\n",
       "Embarked        object\n",
       "dtype: object"
      ]
     },
     "execution_count": 5,
     "metadata": {},
     "output_type": "execute_result"
    }
   ],
   "source": [
    "df.dtypes"
   ]
  },
  {
   "cell_type": "markdown",
   "id": "e37ab99a",
   "metadata": {},
   "source": [
    "5 Object datatype, 7 numeric datatype"
   ]
  },
  {
   "cell_type": "code",
   "execution_count": 6,
   "id": "bb5f3198",
   "metadata": {},
   "outputs": [
    {
     "data": {
      "text/plain": [
       "Index(['PassengerId', 'Survived', 'Pclass', 'Name', 'Sex', 'Age', 'SibSp',\n",
       "       'Parch', 'Ticket', 'Fare', 'Cabin', 'Embarked'],\n",
       "      dtype='object')"
      ]
     },
     "execution_count": 6,
     "metadata": {},
     "output_type": "execute_result"
    }
   ],
   "source": [
    "df.columns"
   ]
  },
  {
   "cell_type": "markdown",
   "id": "51bc628e",
   "metadata": {},
   "source": [
    "12 Columns are there , Target label is Survived"
   ]
  },
  {
   "cell_type": "code",
   "execution_count": 7,
   "id": "d973a703",
   "metadata": {},
   "outputs": [
    {
     "data": {
      "text/plain": [
       "PassengerId      0\n",
       "Survived         0\n",
       "Pclass           0\n",
       "Name             0\n",
       "Sex              0\n",
       "Age            177\n",
       "SibSp            0\n",
       "Parch            0\n",
       "Ticket           0\n",
       "Fare             0\n",
       "Cabin          687\n",
       "Embarked         2\n",
       "dtype: int64"
      ]
     },
     "execution_count": 7,
     "metadata": {},
     "output_type": "execute_result"
    }
   ],
   "source": [
    "df.isnull().sum()"
   ]
  },
  {
   "cell_type": "markdown",
   "id": "e4200b6e",
   "metadata": {},
   "source": [
    "There are Nan values in Age, Cabin and Embarked columns"
   ]
  },
  {
   "cell_type": "markdown",
   "id": "ac588c93",
   "metadata": {},
   "source": [
    "# Data Analysis:"
   ]
  },
  {
   "cell_type": "markdown",
   "id": "8c98ef9e",
   "metadata": {},
   "source": [
    "## Visualization:"
   ]
  },
  {
   "cell_type": "code",
   "execution_count": 8,
   "id": "43f30a39",
   "metadata": {},
   "outputs": [],
   "source": [
    "import matplotlib.pyplot as plt\n",
    "import seaborn as sns"
   ]
  },
  {
   "cell_type": "code",
   "execution_count": 9,
   "id": "6c185811",
   "metadata": {},
   "outputs": [
    {
     "name": "stdout",
     "output_type": "stream",
     "text": [
      "0    549\n",
      "1    342\n",
      "Name: Survived, dtype: int64\n"
     ]
    },
    {
     "data": {
      "image/png": "[encoded data removed]",
      "text/plain": [
       "<Figure size 432x288 with 1 Axes>"
      ]
     },
     "metadata": {
      "needs_background": "light"
     },
     "output_type": "display_data"
    }
   ],
   "source": [
    "#Survived passanger\n",
    "ax = sns.countplot(x=\"Survived\", data=df)\n",
    "print(df[\"Survived\"].value_counts())"
   ]
  },
  {
   "cell_type": "markdown",
   "id": "92770b81",
   "metadata": {},
   "source": [
    "From the above observations the total number of dead(0) is 549 and total number of Survived(1) is 342.\n",
    "although class imbalance doesnt exist much but still difference is there between survived and died number."
   ]
  },
  {
   "cell_type": "code",
   "execution_count": 10,
   "id": "3e7baf1c",
   "metadata": {},
   "outputs": [
    {
     "name": "stdout",
     "output_type": "stream",
     "text": [
      "0    549\n",
      "1    342\n",
      "Name: Survived, dtype: int64\n"
     ]
    },
    {
     "data": {
      "image/png": "[encoded data removed]",
      "text/plain": [
       "<Figure size 432x288 with 1 Axes>"
      ]
     },
     "metadata": {
      "needs_background": "light"
     },
     "output_type": "display_data"
    }
   ],
   "source": [
    "# Survived passenger vs sex of passenger\n",
    "ax = sns.countplot(x=\"Survived\", data=df,hue='Sex')\n",
    "print(df[\"Survived\"].value_counts())"
   ]
  },
  {
   "cell_type": "markdown",
   "id": "cc82aba2",
   "metadata": {},
   "source": [
    "From the above observations the number of Male have died more than female\n",
    "Female have survived more than male."
   ]
  },
  {
   "cell_type": "code",
   "execution_count": 11,
   "id": "26f9a716",
   "metadata": {},
   "outputs": [
    {
     "name": "stdout",
     "output_type": "stream",
     "text": [
      "3    491\n",
      "1    216\n",
      "2    184\n",
      "Name: Pclass, dtype: int64\n"
     ]
    },
    {
     "data": {
      "image/png": "[encoded data removed]",
      "text/plain": [
       "<Figure size 432x288 with 1 Axes>"
      ]
     },
     "metadata": {
      "needs_background": "light"
     },
     "output_type": "display_data"
    }
   ],
   "source": [
    "#Passanger class \n",
    "ax = sns.countplot(x=\"Pclass\", data=df)\n",
    "print(df[\"Pclass\"].value_counts())"
   ]
  },
  {
   "cell_type": "markdown",
   "id": "c54b3de4",
   "metadata": {},
   "source": [
    "There are 216: 1st class , 184: 2nd class and 491: 3rd class people and 3rd class people are more"
   ]
  },
  {
   "cell_type": "code",
   "execution_count": 12,
   "id": "3e4c304a",
   "metadata": {},
   "outputs": [
    {
     "name": "stdout",
     "output_type": "stream",
     "text": [
      "0    549\n",
      "1    342\n",
      "Name: Survived, dtype: int64\n"
     ]
    },
    {
     "data": {
      "image/png": "[encoded data removed]",
      "text/plain": [
       "<Figure size 432x288 with 1 Axes>"
      ]
     },
     "metadata": {
      "needs_background": "light"
     },
     "output_type": "display_data"
    }
   ],
   "source": [
    "# Survived people vs Passanger class\n",
    "ax = sns.countplot(x=\"Survived\", data=df,hue='Pclass')\n",
    "print(df[\"Survived\"].value_counts())"
   ]
  },
  {
   "cell_type": "code",
   "execution_count": 13,
   "id": "5201062b",
   "metadata": {},
   "outputs": [
    {
     "name": "stdout",
     "output_type": "stream",
     "text": [
      "S    644\n",
      "C    168\n",
      "Q     77\n",
      "Name: Embarked, dtype: int64\n"
     ]
    },
    {
     "data": {
      "image/png": "[encoded data removed]",
      "text/plain": [
       "<Figure size 432x288 with 1 Axes>"
      ]
     },
     "metadata": {
      "needs_background": "light"
     },
     "output_type": "display_data"
    }
   ],
   "source": [
    "# Embarked data\n",
    "ax = sns.countplot(x=\"Embarked\", data=df)\n",
    "print(df[\"Embarked\"].value_counts())"
   ]
  },
  {
   "cell_type": "markdown",
   "id": "77c73de9",
   "metadata": {},
   "source": [
    "There are number of passanger from Port of Embarkation C(Cherbourg) = 168, Q(Queenstown)=77, S(Southampton)=644"
   ]
  },
  {
   "cell_type": "code",
   "execution_count": 14,
   "id": "0d36af40",
   "metadata": {},
   "outputs": [
    {
     "name": "stderr",
     "output_type": "stream",
     "text": [
      "D:\\Anaconda\\lib\\site-packages\\seaborn\\distributions.py:2557: FutureWarning: `distplot` is a deprecated function and will be removed in a future version. Please adapt your code to use either `displot` (a figure-level function with similar flexibility) or `histplot` (an axes-level function for histograms).\n",
      "  warnings.warn(msg, FutureWarning)\n"
     ]
    },
    {
     "data": {
      "text/plain": [
       "<AxesSubplot:xlabel='Age', ylabel='Density'>"
      ]
     },
     "execution_count": 14,
     "metadata": {},
     "output_type": "execute_result"
    },
    {
     "data": {
      "image/png": "[encoded data removed]",
      "text/plain": [
       "<Figure size 432x288 with 1 Axes>"
      ]
     },
     "metadata": {
      "needs_background": "light"
     },
     "output_type": "display_data"
    }
   ],
   "source": [
    "# Numeric data so using distplot:\n",
    "sns.distplot(df['Age'], kde=True)"
   ]
  },
  {
   "cell_type": "markdown",
   "id": "6bb8a726",
   "metadata": {},
   "source": [
    "Data is not normally distributed, has skewness."
   ]
  },
  {
   "cell_type": "code",
   "execution_count": 15,
   "id": "04703d68",
   "metadata": {},
   "outputs": [
    {
     "data": {
      "text/plain": [
       "<AxesSubplot:xlabel='Age', ylabel='Count'>"
      ]
     },
     "execution_count": 15,
     "metadata": {},
     "output_type": "execute_result"
    },
    {
     "data": {
      "image/png": "[encoded data removed]",
      "text/plain": [
       "<Figure size 432x288 with 1 Axes>"
      ]
     },
     "metadata": {
      "needs_background": "light"
     },
     "output_type": "display_data"
    }
   ],
   "source": [
    "# Numeric data so using histplot:\n",
    "sns.histplot(df['Age'], kde=True)"
   ]
  },
  {
   "cell_type": "markdown",
   "id": "73ce8d00",
   "metadata": {},
   "source": [
    "Data is not normally distributed, has skewness."
   ]
  },
  {
   "cell_type": "code",
   "execution_count": 68,
   "id": "02736608",
   "metadata": {},
   "outputs": [
    {
     "data": {
      "text/plain": [
       "<AxesSubplot:xlabel='Age', ylabel='count'>"
      ]
     },
     "execution_count": 68,
     "metadata": {},
     "output_type": "execute_result"
    },
    {
     "data": {
      "image/png": "[encoded data removed]",
      "text/plain": [
       "<Figure size 432x288 with 1 Axes>"
      ]
     },
     "metadata": {
      "needs_background": "light"
     },
     "output_type": "display_data"
    }
   ],
   "source": [
    "# Numeric data so using histplot:\n",
    "sns.countplot(df['Age'])"
   ]
  },
  {
   "cell_type": "markdown",
   "id": "d05be184",
   "metadata": {},
   "source": [
    "age column is not normally distributed"
   ]
  },
  {
   "cell_type": "markdown",
   "id": "1fc45e22",
   "metadata": {},
   "source": [
    "### Visualizing Null Values:"
   ]
  },
  {
   "cell_type": "code",
   "execution_count": 16,
   "id": "aea63ed2",
   "metadata": {},
   "outputs": [
    {
     "data": {
      "text/plain": [
       "<AxesSubplot:>"
      ]
     },
     "execution_count": 16,
     "metadata": {},
     "output_type": "execute_result"
    },
    {
     "data": {
      "image/png": "[encoded data removed]",
      "text/plain": [
       "<Figure size 432x288 with 2 Axes>"
      ]
     },
     "metadata": {
      "needs_background": "light"
     },
     "output_type": "display_data"
    }
   ],
   "source": [
    "sns.heatmap(df.isnull())"
   ]
  },
  {
   "cell_type": "markdown",
   "id": "4d69a12b",
   "metadata": {},
   "source": [
    "From the observation 'Cabin' column has more null values than 'Age' column"
   ]
  },
  {
   "cell_type": "code",
   "execution_count": 17,
   "id": "d7defc4d",
   "metadata": {},
   "outputs": [
    {
     "data": {
      "text/plain": [
       "array([22.  , 38.  , 26.  , 35.  ,   nan, 54.  ,  2.  , 27.  , 14.  ,\n",
       "        4.  , 58.  , 20.  , 39.  , 55.  , 31.  , 34.  , 15.  , 28.  ,\n",
       "        8.  , 19.  , 40.  , 66.  , 42.  , 21.  , 18.  ,  3.  ,  7.  ,\n",
       "       49.  , 29.  , 65.  , 28.5 ,  5.  , 11.  , 45.  , 17.  , 32.  ,\n",
       "       16.  , 25.  ,  0.83, 30.  , 33.  , 23.  , 24.  , 46.  , 59.  ,\n",
       "       71.  , 37.  , 47.  , 14.5 , 70.5 , 32.5 , 12.  ,  9.  , 36.5 ,\n",
       "       51.  , 55.5 , 40.5 , 44.  ,  1.  , 61.  , 56.  , 50.  , 36.  ,\n",
       "       45.5 , 20.5 , 62.  , 41.  , 52.  , 63.  , 23.5 ,  0.92, 43.  ,\n",
       "       60.  , 10.  , 64.  , 13.  , 48.  ,  0.75, 53.  , 57.  , 80.  ,\n",
       "       70.  , 24.5 ,  6.  ,  0.67, 30.5 ,  0.42, 34.5 , 74.  ])"
      ]
     },
     "execution_count": 17,
     "metadata": {},
     "output_type": "execute_result"
    }
   ],
   "source": [
    "# finding nan values in Age column:\n",
    "df['Age'].unique()"
   ]
  },
  {
   "cell_type": "code",
   "execution_count": 18,
   "id": "55ee691d",
   "metadata": {},
   "outputs": [
    {
     "data": {
      "text/plain": [
       "19.865319865319865"
      ]
     },
     "execution_count": 18,
     "metadata": {},
     "output_type": "execute_result"
    }
   ],
   "source": [
    "# Percentage of null value in Age column\n",
    "\n",
    "(df['Age'].isnull().sum()/len(df['Age']))*100"
   ]
  },
  {
   "cell_type": "markdown",
   "id": "b809a110",
   "metadata": {},
   "source": [
    "19.8% null values in Age column"
   ]
  },
  {
   "cell_type": "code",
   "execution_count": 19,
   "id": "a175068c",
   "metadata": {},
   "outputs": [
    {
     "data": {
      "text/plain": [
       "array([nan, 'C85', 'C123', 'E46', 'G6', 'C103', 'D56', 'A6',\n",
       "       'C23 C25 C27', 'B78', 'D33', 'B30', 'C52', 'B28', 'C83', 'F33',\n",
       "       'F G73', 'E31', 'A5', 'D10 D12', 'D26', 'C110', 'B58 B60', 'E101',\n",
       "       'F E69', 'D47', 'B86', 'F2', 'C2', 'E33', 'B19', 'A7', 'C49', 'F4',\n",
       "       'A32', 'B4', 'B80', 'A31', 'D36', 'D15', 'C93', 'C78', 'D35',\n",
       "       'C87', 'B77', 'E67', 'B94', 'C125', 'C99', 'C118', 'D7', 'A19',\n",
       "       'B49', 'D', 'C22 C26', 'C106', 'C65', 'E36', 'C54',\n",
       "       'B57 B59 B63 B66', 'C7', 'E34', 'C32', 'B18', 'C124', 'C91', 'E40',\n",
       "       'T', 'C128', 'D37', 'B35', 'E50', 'C82', 'B96 B98', 'E10', 'E44',\n",
       "       'A34', 'C104', 'C111', 'C92', 'E38', 'D21', 'E12', 'E63', 'A14',\n",
       "       'B37', 'C30', 'D20', 'B79', 'E25', 'D46', 'B73', 'C95', 'B38',\n",
       "       'B39', 'B22', 'C86', 'C70', 'A16', 'C101', 'C68', 'A10', 'E68',\n",
       "       'B41', 'A20', 'D19', 'D50', 'D9', 'A23', 'B50', 'A26', 'D48',\n",
       "       'E58', 'C126', 'B71', 'B51 B53 B55', 'D49', 'B5', 'B20', 'F G63',\n",
       "       'C62 C64', 'E24', 'C90', 'C45', 'E8', 'B101', 'D45', 'C46', 'D30',\n",
       "       'E121', 'D11', 'E77', 'F38', 'B3', 'D6', 'B82 B84', 'D17', 'A36',\n",
       "       'B102', 'B69', 'E49', 'C47', 'D28', 'E17', 'A24', 'C50', 'B42',\n",
       "       'C148'], dtype=object)"
      ]
     },
     "execution_count": 19,
     "metadata": {},
     "output_type": "execute_result"
    }
   ],
   "source": [
    "# finding nan values in Cabin column:\n",
    "df['Cabin'].unique()"
   ]
  },
  {
   "cell_type": "code",
   "execution_count": 20,
   "id": "f11c5f00",
   "metadata": {},
   "outputs": [
    {
     "data": {
      "text/plain": [
       "77.10437710437711"
      ]
     },
     "execution_count": 20,
     "metadata": {},
     "output_type": "execute_result"
    }
   ],
   "source": [
    "# Percentage of null value in Cabin column\n",
    "\n",
    "(df['Cabin'].isna().sum()/len(df['Cabin']))*100"
   ]
  },
  {
   "cell_type": "markdown",
   "id": "0adde600",
   "metadata": {},
   "source": [
    "77.1% null values in Cabin column"
   ]
  },
  {
   "cell_type": "markdown",
   "id": "ed615211",
   "metadata": {},
   "source": [
    "## Data Cleaning: "
   ]
  },
  {
   "cell_type": "code",
   "execution_count": 21,
   "id": "eed3c3fe",
   "metadata": {},
   "outputs": [],
   "source": [
    "# Filling nan values with mean value for Age column:\n",
    "df['Age'].fillna(df['Age'].mean(),inplace=True)"
   ]
  },
  {
   "cell_type": "code",
   "execution_count": 22,
   "id": "caedf4e5",
   "metadata": {},
   "outputs": [
    {
     "data": {
      "text/plain": [
       "0"
      ]
     },
     "execution_count": 22,
     "metadata": {},
     "output_type": "execute_result"
    }
   ],
   "source": [
    "df['Age'].isnull().sum()"
   ]
  },
  {
   "cell_type": "markdown",
   "id": "2558ebee",
   "metadata": {},
   "source": [
    "Nan values are zero now."
   ]
  },
  {
   "cell_type": "code",
   "execution_count": 23,
   "id": "81abcd1d",
   "metadata": {},
   "outputs": [],
   "source": [
    "#Dropping Cabin column due to 77.1% nan value\n",
    "\n",
    "df.drop('Cabin',axis=1,inplace=True)"
   ]
  },
  {
   "cell_type": "code",
   "execution_count": 24,
   "id": "11b48aca",
   "metadata": {},
   "outputs": [
    {
     "data": {
      "text/html": [
       "<div>\n",
       "<style scoped>\n",
       "    .dataframe tbody tr th:only-of-type {\n",
       "        vertical-align: middle;\n",
       "    }\n",
       "\n",
       "    .dataframe tbody tr th {\n",
       "        vertical-align: top;\n",
       "    }\n",
       "\n",
       "    .dataframe thead th {\n",
       "        text-align: right;\n",
       "    }\n",
       "</style>\n",
       "<table border=\"1\" class=\"dataframe\">\n",
       "  <thead>\n",
       "    <tr style=\"text-align: right;\">\n",
       "      <th></th>\n",
       "      <th>PassengerId</th>\n",
       "      <th>Survived</th>\n",
       "      <th>Pclass</th>\n",
       "      <th>Name</th>\n",
       "      <th>Sex</th>\n",
       "      <th>Age</th>\n",
       "      <th>SibSp</th>\n",
       "      <th>Parch</th>\n",
       "      <th>Ticket</th>\n",
       "      <th>Fare</th>\n",
       "      <th>Embarked</th>\n",
       "    </tr>\n",
       "  </thead>\n",
       "  <tbody>\n",
       "    <tr>\n",
       "      <th>0</th>\n",
       "      <td>1</td>\n",
       "      <td>0</td>\n",
       "      <td>3</td>\n",
       "      <td>Braund, Mr. Owen Harris</td>\n",
       "      <td>male</td>\n",
       "      <td>22.0</td>\n",
       "      <td>1</td>\n",
       "      <td>0</td>\n",
       "      <td>A/5 21171</td>\n",
       "      <td>7.2500</td>\n",
       "      <td>S</td>\n",
       "    </tr>\n",
       "    <tr>\n",
       "      <th>1</th>\n",
       "      <td>2</td>\n",
       "      <td>1</td>\n",
       "      <td>1</td>\n",
       "      <td>Cumings, Mrs. John Bradley (Florence Briggs Th...</td>\n",
       "      <td>female</td>\n",
       "      <td>38.0</td>\n",
       "      <td>1</td>\n",
       "      <td>0</td>\n",
       "      <td>PC 17599</td>\n",
       "      <td>71.2833</td>\n",
       "      <td>C</td>\n",
       "    </tr>\n",
       "    <tr>\n",
       "      <th>2</th>\n",
       "      <td>3</td>\n",
       "      <td>1</td>\n",
       "      <td>3</td>\n",
       "      <td>Heikkinen, Miss. Laina</td>\n",
       "      <td>female</td>\n",
       "      <td>26.0</td>\n",
       "      <td>0</td>\n",
       "      <td>0</td>\n",
       "      <td>STON/O2. 3101282</td>\n",
       "      <td>7.9250</td>\n",
       "      <td>S</td>\n",
       "    </tr>\n",
       "    <tr>\n",
       "      <th>3</th>\n",
       "      <td>4</td>\n",
       "      <td>1</td>\n",
       "      <td>1</td>\n",
       "      <td>Futrelle, Mrs. Jacques Heath (Lily May Peel)</td>\n",
       "      <td>female</td>\n",
       "      <td>35.0</td>\n",
       "      <td>1</td>\n",
       "      <td>0</td>\n",
       "      <td>113803</td>\n",
       "      <td>53.1000</td>\n",
       "      <td>S</td>\n",
       "    </tr>\n",
       "    <tr>\n",
       "      <th>4</th>\n",
       "      <td>5</td>\n",
       "      <td>0</td>\n",
       "      <td>3</td>\n",
       "      <td>Allen, Mr. William Henry</td>\n",
       "      <td>male</td>\n",
       "      <td>35.0</td>\n",
       "      <td>0</td>\n",
       "      <td>0</td>\n",
       "      <td>373450</td>\n",
       "      <td>8.0500</td>\n",
       "      <td>S</td>\n",
       "    </tr>\n",
       "  </tbody>\n",
       "</table>\n",
       "</div>"
      ],
      "text/plain": [
       "   PassengerId  Survived  Pclass  \\\n",
       "0            1         0       3   \n",
       "1            2         1       1   \n",
       "2            3         1       3   \n",
       "3            4         1       1   \n",
       "4            5         0       3   \n",
       "\n",
       "                                                Name     Sex   Age  SibSp  \\\n",
       "0                            Braund, Mr. Owen Harris    male  22.0      1   \n",
       "1  Cumings, Mrs. John Bradley (Florence Briggs Th...  female  38.0      1   \n",
       "2                             Heikkinen, Miss. Laina  female  26.0      0   \n",
       "3       Futrelle, Mrs. Jacques Heath (Lily May Peel)  female  35.0      1   \n",
       "4                           Allen, Mr. William Henry    male  35.0      0   \n",
       "\n",
       "   Parch            Ticket     Fare Embarked  \n",
       "0      0         A/5 21171   7.2500        S  \n",
       "1      0          PC 17599  71.2833        C  \n",
       "2      0  STON/O2. 3101282   7.9250        S  \n",
       "3      0            113803  53.1000        S  \n",
       "4      0            373450   8.0500        S  "
      ]
     },
     "execution_count": 24,
     "metadata": {},
     "output_type": "execute_result"
    }
   ],
   "source": [
    "df.head()"
   ]
  },
  {
   "cell_type": "markdown",
   "id": "78183588",
   "metadata": {},
   "source": [
    "Cabin column dropped"
   ]
  },
  {
   "cell_type": "code",
   "execution_count": 25,
   "id": "90da1f08",
   "metadata": {},
   "outputs": [],
   "source": [
    "#Check for the non-numeric column"
   ]
  },
  {
   "cell_type": "code",
   "execution_count": 26,
   "id": "174b3d37",
   "metadata": {},
   "outputs": [
    {
     "name": "stdout",
     "output_type": "stream",
     "text": [
      "<class 'pandas.core.frame.DataFrame'>\n",
      "RangeIndex: 891 entries, 0 to 890\n",
      "Data columns (total 11 columns):\n",
      " #   Column       Non-Null Count  Dtype  \n",
      "---  ------       --------------  -----  \n",
      " 0   PassengerId  891 non-null    int64  \n",
      " 1   Survived     891 non-null    int64  \n",
      " 2   Pclass       891 non-null    int64  \n",
      " 3   Name         891 non-null    object \n",
      " 4   Sex          891 non-null    object \n",
      " 5   Age          891 non-null    float64\n",
      " 6   SibSp        891 non-null    int64  \n",
      " 7   Parch        891 non-null    int64  \n",
      " 8   Ticket       891 non-null    object \n",
      " 9   Fare         891 non-null    float64\n",
      " 10  Embarked     889 non-null    object \n",
      "dtypes: float64(2), int64(5), object(4)\n",
      "memory usage: 76.7+ KB\n"
     ]
    }
   ],
   "source": [
    "df.info()"
   ]
  },
  {
   "cell_type": "markdown",
   "id": "a120d2f2",
   "metadata": {},
   "source": [
    "Name, ticket number and embarked columns are non numerical and are not useful as they does not affect the prediction of survived passanger much so dropping them.\n",
    "Encoding Sex column using get_dummies for converting it to numeric datatype."
   ]
  },
  {
   "cell_type": "markdown",
   "id": "55bf22ba",
   "metadata": {},
   "source": [
    "## Encoding Sex column using get_dummies method"
   ]
  },
  {
   "cell_type": "code",
   "execution_count": 27,
   "id": "54812e20",
   "metadata": {},
   "outputs": [
    {
     "data": {
      "text/html": [
       "<div>\n",
       "<style scoped>\n",
       "    .dataframe tbody tr th:only-of-type {\n",
       "        vertical-align: middle;\n",
       "    }\n",
       "\n",
       "    .dataframe tbody tr th {\n",
       "        vertical-align: top;\n",
       "    }\n",
       "\n",
       "    .dataframe thead th {\n",
       "        text-align: right;\n",
       "    }\n",
       "</style>\n",
       "<table border=\"1\" class=\"dataframe\">\n",
       "  <thead>\n",
       "    <tr style=\"text-align: right;\">\n",
       "      <th></th>\n",
       "      <th>PassengerId</th>\n",
       "      <th>Survived</th>\n",
       "      <th>Pclass</th>\n",
       "      <th>Name</th>\n",
       "      <th>Sex</th>\n",
       "      <th>Age</th>\n",
       "      <th>SibSp</th>\n",
       "      <th>Parch</th>\n",
       "      <th>Ticket</th>\n",
       "      <th>Fare</th>\n",
       "      <th>Embarked</th>\n",
       "      <th>Gender</th>\n",
       "    </tr>\n",
       "  </thead>\n",
       "  <tbody>\n",
       "    <tr>\n",
       "      <th>0</th>\n",
       "      <td>1</td>\n",
       "      <td>0</td>\n",
       "      <td>3</td>\n",
       "      <td>Braund, Mr. Owen Harris</td>\n",
       "      <td>male</td>\n",
       "      <td>22.0</td>\n",
       "      <td>1</td>\n",
       "      <td>0</td>\n",
       "      <td>A/5 21171</td>\n",
       "      <td>7.2500</td>\n",
       "      <td>S</td>\n",
       "      <td>1</td>\n",
       "    </tr>\n",
       "    <tr>\n",
       "      <th>1</th>\n",
       "      <td>2</td>\n",
       "      <td>1</td>\n",
       "      <td>1</td>\n",
       "      <td>Cumings, Mrs. John Bradley (Florence Briggs Th...</td>\n",
       "      <td>female</td>\n",
       "      <td>38.0</td>\n",
       "      <td>1</td>\n",
       "      <td>0</td>\n",
       "      <td>PC 17599</td>\n",
       "      <td>71.2833</td>\n",
       "      <td>C</td>\n",
       "      <td>0</td>\n",
       "    </tr>\n",
       "    <tr>\n",
       "      <th>2</th>\n",
       "      <td>3</td>\n",
       "      <td>1</td>\n",
       "      <td>3</td>\n",
       "      <td>Heikkinen, Miss. Laina</td>\n",
       "      <td>female</td>\n",
       "      <td>26.0</td>\n",
       "      <td>0</td>\n",
       "      <td>0</td>\n",
       "      <td>STON/O2. 3101282</td>\n",
       "      <td>7.9250</td>\n",
       "      <td>S</td>\n",
       "      <td>0</td>\n",
       "    </tr>\n",
       "    <tr>\n",
       "      <th>3</th>\n",
       "      <td>4</td>\n",
       "      <td>1</td>\n",
       "      <td>1</td>\n",
       "      <td>Futrelle, Mrs. Jacques Heath (Lily May Peel)</td>\n",
       "      <td>female</td>\n",
       "      <td>35.0</td>\n",
       "      <td>1</td>\n",
       "      <td>0</td>\n",
       "      <td>113803</td>\n",
       "      <td>53.1000</td>\n",
       "      <td>S</td>\n",
       "      <td>0</td>\n",
       "    </tr>\n",
       "    <tr>\n",
       "      <th>4</th>\n",
       "      <td>5</td>\n",
       "      <td>0</td>\n",
       "      <td>3</td>\n",
       "      <td>Allen, Mr. William Henry</td>\n",
       "      <td>male</td>\n",
       "      <td>35.0</td>\n",
       "      <td>0</td>\n",
       "      <td>0</td>\n",
       "      <td>373450</td>\n",
       "      <td>8.0500</td>\n",
       "      <td>S</td>\n",
       "      <td>1</td>\n",
       "    </tr>\n",
       "  </tbody>\n",
       "</table>\n",
       "</div>"
      ],
      "text/plain": [
       "   PassengerId  Survived  Pclass  \\\n",
       "0            1         0       3   \n",
       "1            2         1       1   \n",
       "2            3         1       3   \n",
       "3            4         1       1   \n",
       "4            5         0       3   \n",
       "\n",
       "                                                Name     Sex   Age  SibSp  \\\n",
       "0                            Braund, Mr. Owen Harris    male  22.0      1   \n",
       "1  Cumings, Mrs. John Bradley (Florence Briggs Th...  female  38.0      1   \n",
       "2                             Heikkinen, Miss. Laina  female  26.0      0   \n",
       "3       Futrelle, Mrs. Jacques Heath (Lily May Peel)  female  35.0      1   \n",
       "4                           Allen, Mr. William Henry    male  35.0      0   \n",
       "\n",
       "   Parch            Ticket     Fare Embarked  Gender  \n",
       "0      0         A/5 21171   7.2500        S       1  \n",
       "1      0          PC 17599  71.2833        C       0  \n",
       "2      0  STON/O2. 3101282   7.9250        S       0  \n",
       "3      0            113803  53.1000        S       0  \n",
       "4      0            373450   8.0500        S       1  "
      ]
     },
     "execution_count": 27,
     "metadata": {},
     "output_type": "execute_result"
    }
   ],
   "source": [
    "#convert sex column to numerical values\n",
    "gender=pd.get_dummies(df['Sex'],drop_first=True)\n",
    "df['Gender']=gender\n",
    "df.head()"
   ]
  },
  {
   "cell_type": "markdown",
   "id": "393e60e3",
   "metadata": {},
   "source": [
    "Encoded sex column and converted into numeric column and named it gender \n",
    "so now we have sex and gender column so will drop sex column as encoded data is present in gender column."
   ]
  },
  {
   "cell_type": "code",
   "execution_count": 28,
   "id": "e4c83eb2",
   "metadata": {},
   "outputs": [
    {
     "data": {
      "text/html": [
       "<div>\n",
       "<style scoped>\n",
       "    .dataframe tbody tr th:only-of-type {\n",
       "        vertical-align: middle;\n",
       "    }\n",
       "\n",
       "    .dataframe tbody tr th {\n",
       "        vertical-align: top;\n",
       "    }\n",
       "\n",
       "    .dataframe thead th {\n",
       "        text-align: right;\n",
       "    }\n",
       "</style>\n",
       "<table border=\"1\" class=\"dataframe\">\n",
       "  <thead>\n",
       "    <tr style=\"text-align: right;\">\n",
       "      <th></th>\n",
       "      <th>PassengerId</th>\n",
       "      <th>Survived</th>\n",
       "      <th>Pclass</th>\n",
       "      <th>Age</th>\n",
       "      <th>SibSp</th>\n",
       "      <th>Parch</th>\n",
       "      <th>Fare</th>\n",
       "      <th>Gender</th>\n",
       "    </tr>\n",
       "  </thead>\n",
       "  <tbody>\n",
       "    <tr>\n",
       "      <th>0</th>\n",
       "      <td>1</td>\n",
       "      <td>0</td>\n",
       "      <td>3</td>\n",
       "      <td>22.0</td>\n",
       "      <td>1</td>\n",
       "      <td>0</td>\n",
       "      <td>7.2500</td>\n",
       "      <td>1</td>\n",
       "    </tr>\n",
       "    <tr>\n",
       "      <th>1</th>\n",
       "      <td>2</td>\n",
       "      <td>1</td>\n",
       "      <td>1</td>\n",
       "      <td>38.0</td>\n",
       "      <td>1</td>\n",
       "      <td>0</td>\n",
       "      <td>71.2833</td>\n",
       "      <td>0</td>\n",
       "    </tr>\n",
       "    <tr>\n",
       "      <th>2</th>\n",
       "      <td>3</td>\n",
       "      <td>1</td>\n",
       "      <td>3</td>\n",
       "      <td>26.0</td>\n",
       "      <td>0</td>\n",
       "      <td>0</td>\n",
       "      <td>7.9250</td>\n",
       "      <td>0</td>\n",
       "    </tr>\n",
       "    <tr>\n",
       "      <th>3</th>\n",
       "      <td>4</td>\n",
       "      <td>1</td>\n",
       "      <td>1</td>\n",
       "      <td>35.0</td>\n",
       "      <td>1</td>\n",
       "      <td>0</td>\n",
       "      <td>53.1000</td>\n",
       "      <td>0</td>\n",
       "    </tr>\n",
       "    <tr>\n",
       "      <th>4</th>\n",
       "      <td>5</td>\n",
       "      <td>0</td>\n",
       "      <td>3</td>\n",
       "      <td>35.0</td>\n",
       "      <td>0</td>\n",
       "      <td>0</td>\n",
       "      <td>8.0500</td>\n",
       "      <td>1</td>\n",
       "    </tr>\n",
       "  </tbody>\n",
       "</table>\n",
       "</div>"
      ],
      "text/plain": [
       "   PassengerId  Survived  Pclass   Age  SibSp  Parch     Fare  Gender\n",
       "0            1         0       3  22.0      1      0   7.2500       1\n",
       "1            2         1       1  38.0      1      0  71.2833       0\n",
       "2            3         1       3  26.0      0      0   7.9250       0\n",
       "3            4         1       1  35.0      1      0  53.1000       0\n",
       "4            5         0       3  35.0      0      0   8.0500       1"
      ]
     },
     "execution_count": 28,
     "metadata": {},
     "output_type": "execute_result"
    }
   ],
   "source": [
    "df.drop(['Name','Sex','Ticket','Embarked'],axis=1,inplace=True)\n",
    "df.head()"
   ]
  },
  {
   "cell_type": "markdown",
   "id": "9b1d003d",
   "metadata": {},
   "source": [
    "Dropped Name,Sex,Ticket,Embarked columns."
   ]
  },
  {
   "cell_type": "markdown",
   "id": "96fe1dc7",
   "metadata": {},
   "source": [
    "## Describe the dataset:"
   ]
  },
  {
   "cell_type": "code",
   "execution_count": 29,
   "id": "3b5c3f8c",
   "metadata": {},
   "outputs": [
    {
     "data": {
      "text/html": [
       "<div>\n",
       "<style scoped>\n",
       "    .dataframe tbody tr th:only-of-type {\n",
       "        vertical-align: middle;\n",
       "    }\n",
       "\n",
       "    .dataframe tbody tr th {\n",
       "        vertical-align: top;\n",
       "    }\n",
       "\n",
       "    .dataframe thead th {\n",
       "        text-align: right;\n",
       "    }\n",
       "</style>\n",
       "<table border=\"1\" class=\"dataframe\">\n",
       "  <thead>\n",
       "    <tr style=\"text-align: right;\">\n",
       "      <th></th>\n",
       "      <th>PassengerId</th>\n",
       "      <th>Survived</th>\n",
       "      <th>Pclass</th>\n",
       "      <th>Age</th>\n",
       "      <th>SibSp</th>\n",
       "      <th>Parch</th>\n",
       "      <th>Fare</th>\n",
       "      <th>Gender</th>\n",
       "    </tr>\n",
       "  </thead>\n",
       "  <tbody>\n",
       "    <tr>\n",
       "      <th>count</th>\n",
       "      <td>891.000000</td>\n",
       "      <td>891.000000</td>\n",
       "      <td>891.000000</td>\n",
       "      <td>891.000000</td>\n",
       "      <td>891.000000</td>\n",
       "      <td>891.000000</td>\n",
       "      <td>891.000000</td>\n",
       "      <td>891.000000</td>\n",
       "    </tr>\n",
       "    <tr>\n",
       "      <th>mean</th>\n",
       "      <td>446.000000</td>\n",
       "      <td>0.383838</td>\n",
       "      <td>2.308642</td>\n",
       "      <td>29.699118</td>\n",
       "      <td>0.523008</td>\n",
       "      <td>0.381594</td>\n",
       "      <td>32.204208</td>\n",
       "      <td>0.647587</td>\n",
       "    </tr>\n",
       "    <tr>\n",
       "      <th>std</th>\n",
       "      <td>257.353842</td>\n",
       "      <td>0.486592</td>\n",
       "      <td>0.836071</td>\n",
       "      <td>13.002015</td>\n",
       "      <td>1.102743</td>\n",
       "      <td>0.806057</td>\n",
       "      <td>49.693429</td>\n",
       "      <td>0.477990</td>\n",
       "    </tr>\n",
       "    <tr>\n",
       "      <th>min</th>\n",
       "      <td>1.000000</td>\n",
       "      <td>0.000000</td>\n",
       "      <td>1.000000</td>\n",
       "      <td>0.420000</td>\n",
       "      <td>0.000000</td>\n",
       "      <td>0.000000</td>\n",
       "      <td>0.000000</td>\n",
       "      <td>0.000000</td>\n",
       "    </tr>\n",
       "    <tr>\n",
       "      <th>25%</th>\n",
       "      <td>223.500000</td>\n",
       "      <td>0.000000</td>\n",
       "      <td>2.000000</td>\n",
       "      <td>22.000000</td>\n",
       "      <td>0.000000</td>\n",
       "      <td>0.000000</td>\n",
       "      <td>7.910400</td>\n",
       "      <td>0.000000</td>\n",
       "    </tr>\n",
       "    <tr>\n",
       "      <th>50%</th>\n",
       "      <td>446.000000</td>\n",
       "      <td>0.000000</td>\n",
       "      <td>3.000000</td>\n",
       "      <td>29.699118</td>\n",
       "      <td>0.000000</td>\n",
       "      <td>0.000000</td>\n",
       "      <td>14.454200</td>\n",
       "      <td>1.000000</td>\n",
       "    </tr>\n",
       "    <tr>\n",
       "      <th>75%</th>\n",
       "      <td>668.500000</td>\n",
       "      <td>1.000000</td>\n",
       "      <td>3.000000</td>\n",
       "      <td>35.000000</td>\n",
       "      <td>1.000000</td>\n",
       "      <td>0.000000</td>\n",
       "      <td>31.000000</td>\n",
       "      <td>1.000000</td>\n",
       "    </tr>\n",
       "    <tr>\n",
       "      <th>max</th>\n",
       "      <td>891.000000</td>\n",
       "      <td>1.000000</td>\n",
       "      <td>3.000000</td>\n",
       "      <td>80.000000</td>\n",
       "      <td>8.000000</td>\n",
       "      <td>6.000000</td>\n",
       "      <td>512.329200</td>\n",
       "      <td>1.000000</td>\n",
       "    </tr>\n",
       "  </tbody>\n",
       "</table>\n",
       "</div>"
      ],
      "text/plain": [
       "       PassengerId    Survived      Pclass         Age       SibSp  \\\n",
       "count   891.000000  891.000000  891.000000  891.000000  891.000000   \n",
       "mean    446.000000    0.383838    2.308642   29.699118    0.523008   \n",
       "std     257.353842    0.486592    0.836071   13.002015    1.102743   \n",
       "min       1.000000    0.000000    1.000000    0.420000    0.000000   \n",
       "25%     223.500000    0.000000    2.000000   22.000000    0.000000   \n",
       "50%     446.000000    0.000000    3.000000   29.699118    0.000000   \n",
       "75%     668.500000    1.000000    3.000000   35.000000    1.000000   \n",
       "max     891.000000    1.000000    3.000000   80.000000    8.000000   \n",
       "\n",
       "            Parch        Fare      Gender  \n",
       "count  891.000000  891.000000  891.000000  \n",
       "mean     0.381594   32.204208    0.647587  \n",
       "std      0.806057   49.693429    0.477990  \n",
       "min      0.000000    0.000000    0.000000  \n",
       "25%      0.000000    7.910400    0.000000  \n",
       "50%      0.000000   14.454200    1.000000  \n",
       "75%      0.000000   31.000000    1.000000  \n",
       "max      6.000000  512.329200    1.000000  "
      ]
     },
     "execution_count": 29,
     "metadata": {},
     "output_type": "execute_result"
    }
   ],
   "source": [
    "df.describe()"
   ]
  },
  {
   "cell_type": "markdown",
   "id": "dd54686e",
   "metadata": {},
   "source": [
    "Observations:\n",
    "\n",
    "Count of data is 891 in all columns.\n",
    "Mean is greater than median at Survived, Fare, SibSp, Parch that means right-tailed skewed data.\n",
    "75% percentile and max: PassengerId, age and Fare have greater differences which means outliers are present in them.\n",
    "mean is greater than std deviation so the data is high peaked."
   ]
  },
  {
   "cell_type": "code",
   "execution_count": 30,
   "id": "af8a66ca",
   "metadata": {},
   "outputs": [
    {
     "data": {
      "text/plain": [
       "<AxesSubplot:>"
      ]
     },
     "execution_count": 30,
     "metadata": {},
     "output_type": "execute_result"
    },
    {
     "data": {
      "image/png": "[encoded data removed]",
      "text/plain": [
       "<Figure size 1584x504 with 2 Axes>"
      ]
     },
     "metadata": {
      "needs_background": "light"
     },
     "output_type": "display_data"
    }
   ],
   "source": [
    "import matplotlib.pyplot as plt\n",
    "plt.figure(figsize=(22,7))\n",
    "sns.heatmap(df.describe(),annot=True,linewidths=0.1,linecolor=\"black\",fmt=\"0.2f\")"
   ]
  },
  {
   "cell_type": "markdown",
   "id": "0757b6a5",
   "metadata": {},
   "source": [
    "Heatmap representation of dataset description"
   ]
  },
  {
   "cell_type": "markdown",
   "id": "61d8a6c0",
   "metadata": {},
   "source": [
    "## Correlation of the columns with the target columns:"
   ]
  },
  {
   "cell_type": "code",
   "execution_count": 31,
   "id": "edfe71c7",
   "metadata": {},
   "outputs": [
    {
     "data": {
      "text/html": [
       "<div>\n",
       "<style scoped>\n",
       "    .dataframe tbody tr th:only-of-type {\n",
       "        vertical-align: middle;\n",
       "    }\n",
       "\n",
       "    .dataframe tbody tr th {\n",
       "        vertical-align: top;\n",
       "    }\n",
       "\n",
       "    .dataframe thead th {\n",
       "        text-align: right;\n",
       "    }\n",
       "</style>\n",
       "<table border=\"1\" class=\"dataframe\">\n",
       "  <thead>\n",
       "    <tr style=\"text-align: right;\">\n",
       "      <th></th>\n",
       "      <th>PassengerId</th>\n",
       "      <th>Survived</th>\n",
       "      <th>Pclass</th>\n",
       "      <th>Age</th>\n",
       "      <th>SibSp</th>\n",
       "      <th>Parch</th>\n",
       "      <th>Fare</th>\n",
       "      <th>Gender</th>\n",
       "    </tr>\n",
       "  </thead>\n",
       "  <tbody>\n",
       "    <tr>\n",
       "      <th>PassengerId</th>\n",
       "      <td>1.000000</td>\n",
       "      <td>-0.005007</td>\n",
       "      <td>-0.035144</td>\n",
       "      <td>0.033207</td>\n",
       "      <td>-0.057527</td>\n",
       "      <td>-0.001652</td>\n",
       "      <td>0.012658</td>\n",
       "      <td>0.042939</td>\n",
       "    </tr>\n",
       "    <tr>\n",
       "      <th>Survived</th>\n",
       "      <td>-0.005007</td>\n",
       "      <td>1.000000</td>\n",
       "      <td>-0.338481</td>\n",
       "      <td>-0.069809</td>\n",
       "      <td>-0.035322</td>\n",
       "      <td>0.081629</td>\n",
       "      <td>0.257307</td>\n",
       "      <td>-0.543351</td>\n",
       "    </tr>\n",
       "    <tr>\n",
       "      <th>Pclass</th>\n",
       "      <td>-0.035144</td>\n",
       "      <td>-0.338481</td>\n",
       "      <td>1.000000</td>\n",
       "      <td>-0.331339</td>\n",
       "      <td>0.083081</td>\n",
       "      <td>0.018443</td>\n",
       "      <td>-0.549500</td>\n",
       "      <td>0.131900</td>\n",
       "    </tr>\n",
       "    <tr>\n",
       "      <th>Age</th>\n",
       "      <td>0.033207</td>\n",
       "      <td>-0.069809</td>\n",
       "      <td>-0.331339</td>\n",
       "      <td>1.000000</td>\n",
       "      <td>-0.232625</td>\n",
       "      <td>-0.179191</td>\n",
       "      <td>0.091566</td>\n",
       "      <td>0.084153</td>\n",
       "    </tr>\n",
       "    <tr>\n",
       "      <th>SibSp</th>\n",
       "      <td>-0.057527</td>\n",
       "      <td>-0.035322</td>\n",
       "      <td>0.083081</td>\n",
       "      <td>-0.232625</td>\n",
       "      <td>1.000000</td>\n",
       "      <td>0.414838</td>\n",
       "      <td>0.159651</td>\n",
       "      <td>-0.114631</td>\n",
       "    </tr>\n",
       "    <tr>\n",
       "      <th>Parch</th>\n",
       "      <td>-0.001652</td>\n",
       "      <td>0.081629</td>\n",
       "      <td>0.018443</td>\n",
       "      <td>-0.179191</td>\n",
       "      <td>0.414838</td>\n",
       "      <td>1.000000</td>\n",
       "      <td>0.216225</td>\n",
       "      <td>-0.245489</td>\n",
       "    </tr>\n",
       "    <tr>\n",
       "      <th>Fare</th>\n",
       "      <td>0.012658</td>\n",
       "      <td>0.257307</td>\n",
       "      <td>-0.549500</td>\n",
       "      <td>0.091566</td>\n",
       "      <td>0.159651</td>\n",
       "      <td>0.216225</td>\n",
       "      <td>1.000000</td>\n",
       "      <td>-0.182333</td>\n",
       "    </tr>\n",
       "    <tr>\n",
       "      <th>Gender</th>\n",
       "      <td>0.042939</td>\n",
       "      <td>-0.543351</td>\n",
       "      <td>0.131900</td>\n",
       "      <td>0.084153</td>\n",
       "      <td>-0.114631</td>\n",
       "      <td>-0.245489</td>\n",
       "      <td>-0.182333</td>\n",
       "      <td>1.000000</td>\n",
       "    </tr>\n",
       "  </tbody>\n",
       "</table>\n",
       "</div>"
      ],
      "text/plain": [
       "             PassengerId  Survived    Pclass       Age     SibSp     Parch  \\\n",
       "PassengerId     1.000000 -0.005007 -0.035144  0.033207 -0.057527 -0.001652   \n",
       "Survived       -0.005007  1.000000 -0.338481 -0.069809 -0.035322  0.081629   \n",
       "Pclass         -0.035144 -0.338481  1.000000 -0.331339  0.083081  0.018443   \n",
       "Age             0.033207 -0.069809 -0.331339  1.000000 -0.232625 -0.179191   \n",
       "SibSp          -0.057527 -0.035322  0.083081 -0.232625  1.000000  0.414838   \n",
       "Parch          -0.001652  0.081629  0.018443 -0.179191  0.414838  1.000000   \n",
       "Fare            0.012658  0.257307 -0.549500  0.091566  0.159651  0.216225   \n",
       "Gender          0.042939 -0.543351  0.131900  0.084153 -0.114631 -0.245489   \n",
       "\n",
       "                 Fare    Gender  \n",
       "PassengerId  0.012658  0.042939  \n",
       "Survived     0.257307 -0.543351  \n",
       "Pclass      -0.549500  0.131900  \n",
       "Age          0.091566  0.084153  \n",
       "SibSp        0.159651 -0.114631  \n",
       "Parch        0.216225 -0.245489  \n",
       "Fare         1.000000 -0.182333  \n",
       "Gender      -0.182333  1.000000  "
      ]
     },
     "execution_count": 31,
     "metadata": {},
     "output_type": "execute_result"
    }
   ],
   "source": [
    "df.corr()"
   ]
  },
  {
   "cell_type": "markdown",
   "id": "8cfd882c",
   "metadata": {},
   "source": [
    "correlation of input with target variable"
   ]
  },
  {
   "cell_type": "code",
   "execution_count": 32,
   "id": "466f0c38",
   "metadata": {},
   "outputs": [
    {
     "data": {
      "text/plain": [
       "<AxesSubplot:>"
      ]
     },
     "execution_count": 32,
     "metadata": {},
     "output_type": "execute_result"
    },
    {
     "data": {
      "image/png": "[encoded data removed]",
      "text/plain": [
       "<Figure size 720x504 with 2 Axes>"
      ]
     },
     "metadata": {
      "needs_background": "light"
     },
     "output_type": "display_data"
    }
   ],
   "source": [
    "plt.figure(figsize=(10,7))\n",
    "sns.heatmap(df.corr(),annot=True,linewidths=0.1,linecolor=\"Black\",fmt=\"0.2f\")"
   ]
  },
  {
   "cell_type": "markdown",
   "id": "09fdf774",
   "metadata": {},
   "source": [
    "Observations:\n",
    "1. Survived is highly positively corrleated with Fare: 0.26\n",
    "2. Survived is negatively corrleated with Gender: -0.54\n",
    "3. Fare is positively correlated with Survived: 0.26\n",
    "4. Fare is negatively correlated with Pclass: -0.55"
   ]
  },
  {
   "cell_type": "code",
   "execution_count": 33,
   "id": "18a0f51f",
   "metadata": {},
   "outputs": [
    {
     "data": {
      "image/png": "[encoded data removed]",
      "text/plain": [
       "<Figure size 360x360 with 1 Axes>"
      ]
     },
     "metadata": {
      "needs_background": "light"
     },
     "output_type": "display_data"
    }
   ],
   "source": [
    "plt.figure(figsize=(5,5))\n",
    "df.corr()['Survived'].sort_values(ascending=False).drop(['Survived']).plot(kind='bar',color='c')\n",
    "plt.xlabel('Feature',fontsize=14)\n",
    "plt.ylabel('column with target names',fontsize=14)\n",
    "plt.title('Correlation',fontsize=18)\n",
    "plt.show()"
   ]
  },
  {
   "cell_type": "markdown",
   "id": "37eb5384",
   "metadata": {},
   "source": [
    "SibSp, Age, Pclass and Gender has negative correlation and  Fare, Parch and PassengerId has positive correlation with Target variable."
   ]
  },
  {
   "cell_type": "markdown",
   "id": "c1378c78",
   "metadata": {},
   "source": [
    "## Outliers:"
   ]
  },
  {
   "cell_type": "code",
   "execution_count": 34,
   "id": "9b2f8338",
   "metadata": {},
   "outputs": [
    {
     "data": {
      "text/plain": [
       "PassengerId       AxesSubplot(0.125,0.657941;0.227941x0.222059)\n",
       "Survived       AxesSubplot(0.398529,0.657941;0.227941x0.222059)\n",
       "Pclass         AxesSubplot(0.672059,0.657941;0.227941x0.222059)\n",
       "Age               AxesSubplot(0.125,0.391471;0.227941x0.222059)\n",
       "SibSp          AxesSubplot(0.398529,0.391471;0.227941x0.222059)\n",
       "Parch          AxesSubplot(0.672059,0.391471;0.227941x0.222059)\n",
       "Fare                 AxesSubplot(0.125,0.125;0.227941x0.222059)\n",
       "Gender            AxesSubplot(0.398529,0.125;0.227941x0.222059)\n",
       "dtype: object"
      ]
     },
     "execution_count": 34,
     "metadata": {},
     "output_type": "execute_result"
    },
    {
     "data": {
      "image/png": "[encoded data removed]",
      "text/plain": [
       "<Figure size 720x720 with 9 Axes>"
      ]
     },
     "metadata": {
      "needs_background": "light"
     },
     "output_type": "display_data"
    }
   ],
   "source": [
    "df.plot(kind='box',subplots=True,layout=(3,3),figsize=(10,10))"
   ]
  },
  {
   "cell_type": "markdown",
   "id": "329b65fe",
   "metadata": {},
   "source": [
    "Age, SibSp, Parch and Fare column has outliers."
   ]
  },
  {
   "cell_type": "code",
   "execution_count": 35,
   "id": "0686a980",
   "metadata": {},
   "outputs": [
    {
     "data": {
      "text/plain": [
       "(array([ 13,  16,  25,  27,  50,  59,  68,  71,  86,  88,  96, 116, 118,\n",
       "        119, 159, 164, 167, 171, 180, 182, 201, 233, 258, 261, 266, 278,\n",
       "        299, 311, 324, 341, 360, 377, 380, 386, 437, 438, 438, 480, 493,\n",
       "        527, 541, 542, 557, 567, 610, 630, 638, 672, 678, 679, 683, 686,\n",
       "        689, 700, 716, 730, 736, 737, 742, 745, 774, 779, 787, 792, 813,\n",
       "        824, 846, 850, 851, 858, 863, 885], dtype=int64),\n",
       " array([5, 4, 5, 6, 4, 4, 4, 4, 5, 6, 3, 3, 6, 4, 4, 4, 5, 4, 4, 4, 4, 4,\n",
       "        6, 4, 4, 4, 6, 6, 4, 6, 5, 6, 6, 4, 5, 5, 6, 4, 3, 6, 4, 4, 6, 5,\n",
       "        5, 3, 5, 3, 5, 6, 4, 4, 6, 6, 6, 6, 5, 6, 6, 3, 5, 6, 4, 4, 4, 4,\n",
       "        4, 4, 3, 5, 4, 5], dtype=int64))"
      ]
     },
     "execution_count": 35,
     "metadata": {},
     "output_type": "execute_result"
    }
   ],
   "source": [
    "# Removing Outliers: \n",
    "\n",
    "from scipy.stats import zscore\n",
    "import numpy as np\n",
    "z=np.abs(zscore(df))\n",
    "threshold=3\n",
    "np.where(z>3)"
   ]
  },
  {
   "cell_type": "code",
   "execution_count": 36,
   "id": "bdc27fbc",
   "metadata": {},
   "outputs": [
    {
     "data": {
      "text/html": [
       "<div>\n",
       "<style scoped>\n",
       "    .dataframe tbody tr th:only-of-type {\n",
       "        vertical-align: middle;\n",
       "    }\n",
       "\n",
       "    .dataframe tbody tr th {\n",
       "        vertical-align: top;\n",
       "    }\n",
       "\n",
       "    .dataframe thead th {\n",
       "        text-align: right;\n",
       "    }\n",
       "</style>\n",
       "<table border=\"1\" class=\"dataframe\">\n",
       "  <thead>\n",
       "    <tr style=\"text-align: right;\">\n",
       "      <th></th>\n",
       "      <th>PassengerId</th>\n",
       "      <th>Survived</th>\n",
       "      <th>Pclass</th>\n",
       "      <th>Age</th>\n",
       "      <th>SibSp</th>\n",
       "      <th>Parch</th>\n",
       "      <th>Fare</th>\n",
       "      <th>Gender</th>\n",
       "    </tr>\n",
       "  </thead>\n",
       "  <tbody>\n",
       "    <tr>\n",
       "      <th>0</th>\n",
       "      <td>1</td>\n",
       "      <td>0</td>\n",
       "      <td>3</td>\n",
       "      <td>22.000000</td>\n",
       "      <td>1</td>\n",
       "      <td>0</td>\n",
       "      <td>7.2500</td>\n",
       "      <td>1</td>\n",
       "    </tr>\n",
       "    <tr>\n",
       "      <th>1</th>\n",
       "      <td>2</td>\n",
       "      <td>1</td>\n",
       "      <td>1</td>\n",
       "      <td>38.000000</td>\n",
       "      <td>1</td>\n",
       "      <td>0</td>\n",
       "      <td>71.2833</td>\n",
       "      <td>0</td>\n",
       "    </tr>\n",
       "    <tr>\n",
       "      <th>2</th>\n",
       "      <td>3</td>\n",
       "      <td>1</td>\n",
       "      <td>3</td>\n",
       "      <td>26.000000</td>\n",
       "      <td>0</td>\n",
       "      <td>0</td>\n",
       "      <td>7.9250</td>\n",
       "      <td>0</td>\n",
       "    </tr>\n",
       "    <tr>\n",
       "      <th>3</th>\n",
       "      <td>4</td>\n",
       "      <td>1</td>\n",
       "      <td>1</td>\n",
       "      <td>35.000000</td>\n",
       "      <td>1</td>\n",
       "      <td>0</td>\n",
       "      <td>53.1000</td>\n",
       "      <td>0</td>\n",
       "    </tr>\n",
       "    <tr>\n",
       "      <th>4</th>\n",
       "      <td>5</td>\n",
       "      <td>0</td>\n",
       "      <td>3</td>\n",
       "      <td>35.000000</td>\n",
       "      <td>0</td>\n",
       "      <td>0</td>\n",
       "      <td>8.0500</td>\n",
       "      <td>1</td>\n",
       "    </tr>\n",
       "    <tr>\n",
       "      <th>...</th>\n",
       "      <td>...</td>\n",
       "      <td>...</td>\n",
       "      <td>...</td>\n",
       "      <td>...</td>\n",
       "      <td>...</td>\n",
       "      <td>...</td>\n",
       "      <td>...</td>\n",
       "      <td>...</td>\n",
       "    </tr>\n",
       "    <tr>\n",
       "      <th>886</th>\n",
       "      <td>887</td>\n",
       "      <td>0</td>\n",
       "      <td>2</td>\n",
       "      <td>27.000000</td>\n",
       "      <td>0</td>\n",
       "      <td>0</td>\n",
       "      <td>13.0000</td>\n",
       "      <td>1</td>\n",
       "    </tr>\n",
       "    <tr>\n",
       "      <th>887</th>\n",
       "      <td>888</td>\n",
       "      <td>1</td>\n",
       "      <td>1</td>\n",
       "      <td>19.000000</td>\n",
       "      <td>0</td>\n",
       "      <td>0</td>\n",
       "      <td>30.0000</td>\n",
       "      <td>0</td>\n",
       "    </tr>\n",
       "    <tr>\n",
       "      <th>888</th>\n",
       "      <td>889</td>\n",
       "      <td>0</td>\n",
       "      <td>3</td>\n",
       "      <td>29.699118</td>\n",
       "      <td>1</td>\n",
       "      <td>2</td>\n",
       "      <td>23.4500</td>\n",
       "      <td>0</td>\n",
       "    </tr>\n",
       "    <tr>\n",
       "      <th>889</th>\n",
       "      <td>890</td>\n",
       "      <td>1</td>\n",
       "      <td>1</td>\n",
       "      <td>26.000000</td>\n",
       "      <td>0</td>\n",
       "      <td>0</td>\n",
       "      <td>30.0000</td>\n",
       "      <td>1</td>\n",
       "    </tr>\n",
       "    <tr>\n",
       "      <th>890</th>\n",
       "      <td>891</td>\n",
       "      <td>0</td>\n",
       "      <td>3</td>\n",
       "      <td>32.000000</td>\n",
       "      <td>0</td>\n",
       "      <td>0</td>\n",
       "      <td>7.7500</td>\n",
       "      <td>1</td>\n",
       "    </tr>\n",
       "  </tbody>\n",
       "</table>\n",
       "<p>820 rows × 8 columns</p>\n",
       "</div>"
      ],
      "text/plain": [
       "     PassengerId  Survived  Pclass        Age  SibSp  Parch     Fare  Gender\n",
       "0              1         0       3  22.000000      1      0   7.2500       1\n",
       "1              2         1       1  38.000000      1      0  71.2833       0\n",
       "2              3         1       3  26.000000      0      0   7.9250       0\n",
       "3              4         1       1  35.000000      1      0  53.1000       0\n",
       "4              5         0       3  35.000000      0      0   8.0500       1\n",
       "..           ...       ...     ...        ...    ...    ...      ...     ...\n",
       "886          887         0       2  27.000000      0      0  13.0000       1\n",
       "887          888         1       1  19.000000      0      0  30.0000       0\n",
       "888          889         0       3  29.699118      1      2  23.4500       0\n",
       "889          890         1       1  26.000000      0      0  30.0000       1\n",
       "890          891         0       3  32.000000      0      0   7.7500       1\n",
       "\n",
       "[820 rows x 8 columns]"
      ]
     },
     "execution_count": 36,
     "metadata": {},
     "output_type": "execute_result"
    }
   ],
   "source": [
    "#removing value greater than threshold value \n",
    "\n",
    "df_new=df[(z<3).all(axis=1)]\n",
    "df_new"
   ]
  },
  {
   "cell_type": "markdown",
   "id": "fcb2dacd",
   "metadata": {},
   "source": [
    "Outliers Removed"
   ]
  },
  {
   "cell_type": "code",
   "execution_count": 37,
   "id": "dc46aa62",
   "metadata": {},
   "outputs": [
    {
     "data": {
      "text/plain": [
       "(820, 8)"
      ]
     },
     "execution_count": 37,
     "metadata": {},
     "output_type": "execute_result"
    }
   ],
   "source": [
    "df=df_new\n",
    "df.shape"
   ]
  },
  {
   "cell_type": "markdown",
   "id": "f9755dc3",
   "metadata": {},
   "source": [
    "Rows: 820 and Column: 8"
   ]
  },
  {
   "cell_type": "markdown",
   "id": "6f231be5",
   "metadata": {},
   "source": [
    "#### Percentage Loss of data"
   ]
  },
  {
   "cell_type": "code",
   "execution_count": 38,
   "id": "63bfe1b1",
   "metadata": {},
   "outputs": [
    {
     "data": {
      "text/plain": [
       "7.968574635241302"
      ]
     },
     "execution_count": 38,
     "metadata": {},
     "output_type": "execute_result"
    }
   ],
   "source": [
    "Data_loss=((891-820)/891)*100\n",
    "Data_loss"
   ]
  },
  {
   "cell_type": "markdown",
   "id": "1869fdcf",
   "metadata": {},
   "source": [
    "7.9% data loss"
   ]
  },
  {
   "cell_type": "markdown",
   "id": "a6340a2a",
   "metadata": {},
   "source": [
    "## Skewness:"
   ]
  },
  {
   "cell_type": "code",
   "execution_count": 39,
   "id": "7fb98ef3",
   "metadata": {},
   "outputs": [],
   "source": [
    "x=df[['PassengerId','Pclass','Age','SibSp','Parch','Fare','Gender']]\n",
    "y=df['Survived']"
   ]
  },
  {
   "cell_type": "code",
   "execution_count": 40,
   "id": "b2902fe7",
   "metadata": {},
   "outputs": [],
   "source": [
    "from sklearn.preprocessing import power_transform\n",
    "x=power_transform(x,method='yeo-johnson')"
   ]
  },
  {
   "cell_type": "code",
   "execution_count": 41,
   "id": "d0d6fd1d",
   "metadata": {},
   "outputs": [
    {
     "data": {
      "text/plain": [
       "array([[-2.15631324,  0.87283049, -0.61846778, ..., -0.48469263,\n",
       "        -0.83470177,  0.72203588],\n",
       "       [-2.14032052, -1.47067587,  0.68588353, ..., -0.48469263,\n",
       "         1.55364494, -1.38497273],\n",
       "       [-2.12579352,  0.87283049, -0.28381447, ..., -0.48469263,\n",
       "        -0.74331399, -1.38497273],\n",
       "       ...,\n",
       "       [ 1.56705476,  0.87283049,  0.0200539 , ...,  2.08665417,\n",
       "         0.39490799, -1.38497273],\n",
       "       [ 1.57009584, -1.47067587, -0.28381447, ..., -0.48469263,\n",
       "         0.65432009,  0.72203588],\n",
       "       [ 1.57313595,  0.87283049,  0.20668289, ..., -0.48469263,\n",
       "        -0.76629016,  0.72203588]])"
      ]
     },
     "execution_count": 41,
     "metadata": {},
     "output_type": "execute_result"
    }
   ],
   "source": [
    "x"
   ]
  },
  {
   "cell_type": "markdown",
   "id": "6aa966cd",
   "metadata": {},
   "source": [
    " skewness is reduced by Johnson method"
   ]
  },
  {
   "cell_type": "markdown",
   "id": "c58e3931",
   "metadata": {},
   "source": [
    "# Scaling Data"
   ]
  },
  {
   "cell_type": "code",
   "execution_count": 42,
   "id": "31b86720",
   "metadata": {},
   "outputs": [
    {
     "data": {
      "text/plain": [
       "array([[-2.15631324,  0.87283049, -0.61846778, ..., -0.48469263,\n",
       "        -0.83470177,  0.72203588],\n",
       "       [-2.14032052, -1.47067587,  0.68588353, ..., -0.48469263,\n",
       "         1.55364494, -1.38497273],\n",
       "       [-2.12579352,  0.87283049, -0.28381447, ..., -0.48469263,\n",
       "        -0.74331399, -1.38497273],\n",
       "       ...,\n",
       "       [ 1.56705476,  0.87283049,  0.0200539 , ...,  2.08665417,\n",
       "         0.39490799, -1.38497273],\n",
       "       [ 1.57009584, -1.47067587, -0.28381447, ..., -0.48469263,\n",
       "         0.65432009,  0.72203588],\n",
       "       [ 1.57313595,  0.87283049,  0.20668289, ..., -0.48469263,\n",
       "        -0.76629016,  0.72203588]])"
      ]
     },
     "execution_count": 42,
     "metadata": {},
     "output_type": "execute_result"
    }
   ],
   "source": [
    "from sklearn.preprocessing import StandardScaler\n",
    "sc = StandardScaler()\n",
    "x=sc.fit_transform(x)\n",
    "x"
   ]
  },
  {
   "cell_type": "markdown",
   "id": "464580f7",
   "metadata": {},
   "source": [
    "Independent values are scaled "
   ]
  },
  {
   "cell_type": "markdown",
   "id": "ec7bb86d",
   "metadata": {},
   "source": [
    "# Model Selection:"
   ]
  },
  {
   "cell_type": "markdown",
   "id": "f7ac22b2",
   "metadata": {},
   "source": [
    "## Logistic Regression:"
   ]
  },
  {
   "cell_type": "code",
   "execution_count": 43,
   "id": "71c8a58e",
   "metadata": {},
   "outputs": [],
   "source": [
    "from sklearn.model_selection import train_test_split\n",
    "from sklearn.linear_model import LogisticRegression\n",
    "lr=LogisticRegression()\n",
    "from sklearn.metrics import r2_score\n",
    "from sklearn.metrics import accuracy_score\n",
    "from sklearn.metrics import classification_report"
   ]
  },
  {
   "cell_type": "code",
   "execution_count": 44,
   "id": "30d7f538",
   "metadata": {},
   "outputs": [
    {
     "name": "stdout",
     "output_type": "stream",
     "text": [
      "At random state 65 The model performs very well\n",
      "At random state:- 65\n",
      "Training r2_score is:- 79.26829268292683\n",
      "Testing r2_score is:- 79.26829268292683\n",
      "At random state 86 The model performs very well\n",
      "At random state:- 86\n",
      "Training r2_score is:- 79.8780487804878\n",
      "Testing r2_score is:- 79.8780487804878\n",
      "At random state 101 The model performs very well\n",
      "At random state:- 101\n",
      "Training r2_score is:- 79.26829268292683\n",
      "Testing r2_score is:- 79.26829268292683\n",
      "At random state 127 The model performs very well\n",
      "At random state:- 127\n",
      "Training r2_score is:- 79.8780487804878\n",
      "Testing r2_score is:- 79.8780487804878\n",
      "At random state 147 The model performs very well\n",
      "At random state:- 147\n",
      "Training r2_score is:- 79.8780487804878\n",
      "Testing r2_score is:- 79.8780487804878\n",
      "At random state 154 The model performs very well\n",
      "At random state:- 154\n",
      "Training r2_score is:- 79.8780487804878\n",
      "Testing r2_score is:- 79.8780487804878\n",
      "At random state 169 The model performs very well\n",
      "At random state:- 169\n",
      "Training r2_score is:- 79.8780487804878\n",
      "Testing r2_score is:- 79.8780487804878\n",
      "At random state 170 The model performs very well\n",
      "At random state:- 170\n",
      "Training r2_score is:- 79.26829268292683\n",
      "Testing r2_score is:- 79.26829268292683\n",
      "At random state 240 The model performs very well\n",
      "At random state:- 240\n",
      "Training r2_score is:- 79.8780487804878\n",
      "Testing r2_score is:- 79.8780487804878\n",
      "At random state 254 The model performs very well\n",
      "At random state:- 254\n",
      "Training r2_score is:- 80.48780487804879\n",
      "Testing r2_score is:- 80.48780487804879\n",
      "At random state 324 The model performs very well\n",
      "At random state:- 324\n",
      "Training r2_score is:- 79.26829268292683\n",
      "Testing r2_score is:- 79.26829268292683\n",
      "At random state 357 The model performs very well\n",
      "At random state:- 357\n",
      "Training r2_score is:- 79.8780487804878\n",
      "Testing r2_score is:- 79.8780487804878\n",
      "At random state 385 The model performs very well\n",
      "At random state:- 385\n",
      "Training r2_score is:- 79.26829268292683\n",
      "Testing r2_score is:- 79.26829268292683\n",
      "At random state 410 The model performs very well\n",
      "At random state:- 410\n",
      "Training r2_score is:- 79.26829268292683\n",
      "Testing r2_score is:- 79.26829268292683\n",
      "At random state 481 The model performs very well\n",
      "At random state:- 481\n",
      "Training r2_score is:- 79.26829268292683\n",
      "Testing r2_score is:- 79.26829268292683\n",
      "At random state 492 The model performs very well\n",
      "At random state:- 492\n",
      "Training r2_score is:- 79.8780487804878\n",
      "Testing r2_score is:- 79.8780487804878\n",
      "At random state 499 The model performs very well\n",
      "At random state:- 499\n",
      "Training r2_score is:- 79.26829268292683\n",
      "Testing r2_score is:- 79.26829268292683\n",
      "At random state 536 The model performs very well\n",
      "At random state:- 536\n",
      "Training r2_score is:- 79.26829268292683\n",
      "Testing r2_score is:- 79.26829268292683\n",
      "At random state 545 The model performs very well\n",
      "At random state:- 545\n",
      "Training r2_score is:- 79.26829268292683\n",
      "Testing r2_score is:- 79.26829268292683\n",
      "At random state 651 The model performs very well\n",
      "At random state:- 651\n",
      "Training r2_score is:- 79.8780487804878\n",
      "Testing r2_score is:- 79.8780487804878\n",
      "At random state 656 The model performs very well\n",
      "At random state:- 656\n",
      "Training r2_score is:- 79.8780487804878\n",
      "Testing r2_score is:- 79.8780487804878\n",
      "At random state 733 The model performs very well\n",
      "At random state:- 733\n",
      "Training r2_score is:- 79.26829268292683\n",
      "Testing r2_score is:- 79.26829268292683\n",
      "At random state 736 The model performs very well\n",
      "At random state:- 736\n",
      "Training r2_score is:- 79.26829268292683\n",
      "Testing r2_score is:- 79.26829268292683\n",
      "At random state 743 The model performs very well\n",
      "At random state:- 743\n",
      "Training r2_score is:- 79.8780487804878\n",
      "Testing r2_score is:- 79.8780487804878\n",
      "At random state 747 The model performs very well\n",
      "At random state:- 747\n",
      "Training r2_score is:- 79.8780487804878\n",
      "Testing r2_score is:- 79.8780487804878\n",
      "At random state 764 The model performs very well\n",
      "At random state:- 764\n",
      "Training r2_score is:- 79.26829268292683\n",
      "Testing r2_score is:- 79.26829268292683\n",
      "At random state 813 The model performs very well\n",
      "At random state:- 813\n",
      "Training r2_score is:- 79.26829268292683\n",
      "Testing r2_score is:- 79.26829268292683\n",
      "At random state 861 The model performs very well\n",
      "At random state:- 861\n",
      "Training r2_score is:- 79.8780487804878\n",
      "Testing r2_score is:- 79.8780487804878\n"
     ]
    }
   ],
   "source": [
    "l=[]\n",
    "for i in range(0,1000):\n",
    "    train_x,test_x,train_y,test_y=train_test_split(x,y,test_size=0.20,random_state=i)\n",
    "    lr.fit(train_x,train_y)\n",
    "    pred_train=lr.predict(train_x)\n",
    "    pred_test=lr.predict(test_x)\n",
    "    # \n",
    "    if round(accuracy_score(train_y,pred_train)*100,1)==round(accuracy_score(test_y,pred_test)*100,1):\n",
    "        print(\"At random state\",i,\"The model performs very well\")\n",
    "        print(\"At random state:-\",i)\n",
    "        print(\"Training r2_score is:-\",accuracy_score(train_y,pred_train)*100)\n",
    "        print(\"Testing r2_score is:-\",accuracy_score(test_y,pred_test)*100)\n",
    "        l.append(i)"
   ]
  },
  {
   "cell_type": "code",
   "execution_count": 45,
   "id": "7d51332d",
   "metadata": {},
   "outputs": [],
   "source": [
    "train_x,test_x,train_y,test_y=train_test_split(x,y,test_size=0.20,random_state=861)"
   ]
  },
  {
   "cell_type": "code",
   "execution_count": 46,
   "id": "06d33484",
   "metadata": {},
   "outputs": [
    {
     "name": "stdout",
     "output_type": "stream",
     "text": [
      "              precision    recall  f1-score   support\n",
      "\n",
      "           0       0.63      0.69      0.66        95\n",
      "           1       0.52      0.45      0.48        69\n",
      "\n",
      "    accuracy                           0.59       164\n",
      "   macro avg       0.58      0.57      0.57       164\n",
      "weighted avg       0.58      0.59      0.59       164\n",
      "\n"
     ]
    }
   ],
   "source": [
    "print(classification_report(test_y,pred_test))"
   ]
  },
  {
   "cell_type": "markdown",
   "id": "7a8ab8db",
   "metadata": {},
   "source": [
    "Classification Report shows  precision, recall, f1-score and support"
   ]
  },
  {
   "cell_type": "markdown",
   "id": "3c83c436",
   "metadata": {},
   "source": [
    "## Cross validation score for Logistic Regression"
   ]
  },
  {
   "cell_type": "code",
   "execution_count": 47,
   "id": "8839c11a",
   "metadata": {},
   "outputs": [
    {
     "name": "stdout",
     "output_type": "stream",
     "text": [
      "At cv:- 2\n",
      "Cross validation score is:- 76.34146341463415\n",
      "Accuracy score is:- 79.8780487804878\n",
      "At cv:- 3\n",
      "Cross validation score is:- 78.66055274814397\n",
      "Accuracy score is:- 79.8780487804878\n",
      "At cv:- 4\n",
      "Cross validation score is:- 78.65853658536585\n",
      "Accuracy score is:- 79.8780487804878\n",
      "At cv:- 5\n",
      "Cross validation score is:- 78.53658536585367\n",
      "Accuracy score is:- 79.8780487804878\n",
      "At cv:- 6\n",
      "Cross validation score is:- 79.1469872620581\n",
      "Accuracy score is:- 79.8780487804878\n",
      "At cv:- 7\n",
      "Cross validation score is:- 78.90565178700771\n",
      "Accuracy score is:- 79.8780487804878\n",
      "At cv:- 8\n",
      "Cross validation score is:- 79.38796877974491\n",
      "Accuracy score is:- 79.8780487804878\n",
      "At cv:- 9\n",
      "Cross validation score is:- 79.2681955725434\n",
      "Accuracy score is:- 79.8780487804878\n"
     ]
    }
   ],
   "source": [
    "pred_lr=lr.predict(test_x)\n",
    "from sklearn.model_selection import cross_val_score\n",
    "lss= accuracy_score(test_y,pred_lr)\n",
    "\n",
    "for j in range(2,10):\n",
    "    lsscore= cross_val_score(lr,x,y,cv=j)\n",
    "    lsc=lsscore.mean()\n",
    "    print(\"At cv:-\",j)\n",
    "    print(\"Cross validation score is:-\", lsc*100)\n",
    "    print(\"Accuracy score is:-\", lss*100)"
   ]
  },
  {
   "cell_type": "markdown",
   "id": "aa40be6a",
   "metadata": {},
   "source": [
    "Cross validation score is:- 79.2681955725434%\n",
    "Accuracy score is:- 79.8780487804878%"
   ]
  },
  {
   "cell_type": "markdown",
   "id": "419d4700",
   "metadata": {},
   "source": [
    "# AUC ROC CURVE:"
   ]
  },
  {
   "cell_type": "code",
   "execution_count": 48,
   "id": "3611cd7c",
   "metadata": {},
   "outputs": [
    {
     "data": {
      "image/png": "[encoded data removed]",
      "text/plain": [
       "<Figure size 432x288 with 1 Axes>"
      ]
     },
     "metadata": {
      "needs_background": "light"
     },
     "output_type": "display_data"
    }
   ],
   "source": [
    "from sklearn.metrics import roc_curve, auc\n",
    "fpr, tpr, thresholds= roc_curve(pred_test,test_y)\n",
    "roc_auc = auc(fpr,tpr)\n",
    "\n",
    "plt.figure()\n",
    "plt.plot(fpr, tpr, color='darkorange',lw=10, label='ROC curve (area= %0.2f)' % roc_auc)\n",
    "plt.plot([0,1],[0,1], color='navy', lw=10,linestyle='--')\n",
    "plt.xlim([0.0,1.0])\n",
    "plt.ylim([0.0,1.05])\n",
    "plt.xlabel('False Positive Rate')\n",
    "plt.ylabel('True Positive Rate')\n",
    "plt.title('Receiver operating characteristic')\n",
    "plt.legend(loc='lower right')\n",
    "plt.show()"
   ]
  },
  {
   "cell_type": "markdown",
   "id": "b0bdac59",
   "metadata": {},
   "source": [
    "AUC ROC curve plotting, as its value is 58%, which is good."
   ]
  },
  {
   "cell_type": "code",
   "execution_count": 49,
   "id": "7753ffc0",
   "metadata": {},
   "outputs": [
    {
     "name": "stdout",
     "output_type": "stream",
     "text": [
      "GridSearchCV(estimator=Ridge(),\n",
      "             param_grid={'alpha': [1, 0.1, 0.01, 0.001, 0.0001, 0]})\n",
      "0.3696838535284316\n",
      "1\n",
      "{'alpha': 1}\n"
     ]
    }
   ],
   "source": [
    "# GridsearchCV\n",
    "from sklearn.model_selection import GridSearchCV\n",
    "from sklearn.model_selection import cross_val_score\n",
    "from sklearn.linear_model import Ridge\n",
    "import warnings\n",
    "warnings.filterwarnings('ignore')\n",
    "alphav= {'alpha':[1,0.1,0.01,0.001,0.0001,0]}\n",
    "model=Ridge()\n",
    "grid= GridSearchCV(estimator=model,param_grid=alphav)\n",
    "grid.fit(train_x,train_y)\n",
    "print(grid)\n",
    "print(grid.best_score_)\n",
    "print(grid.best_estimator_.alpha)\n",
    "print(grid.best_params_)"
   ]
  },
  {
   "cell_type": "markdown",
   "id": "836b4924",
   "metadata": {},
   "source": [
    "Best parameters for Logistic Classifier "
   ]
  },
  {
   "cell_type": "code",
   "execution_count": 50,
   "id": "126b0430",
   "metadata": {},
   "outputs": [
    {
     "name": "stdout",
     "output_type": "stream",
     "text": [
      "lr score: 0.7987804878048781\n",
      "Score: 0.39159579910420217\n",
      "[ 0.009104   -0.11274031 -0.05818651 -0.00961071  0.01102873  0.04178772\n",
      " -0.24488926]\n",
      "Score: 0.39159579910420217\n"
     ]
    }
   ],
   "source": [
    "from sklearn.linear_model import LogisticRegression\n",
    "lr=LogisticRegression()\n",
    "lr.fit(train_x,train_y)\n",
    "print('lr score:',lr.score(train_x,train_y))\n",
    "rd=Ridge(alpha=1)\n",
    "rd.fit(train_x,train_y)\n",
    "print('Score:', rd.score(train_x,train_y))\n",
    "print(rd.coef_)\n",
    "print('Score:', rd.score(train_x,train_y))"
   ]
  },
  {
   "cell_type": "markdown",
   "id": "ee5e0ed9",
   "metadata": {},
   "source": [
    "lr Score:79%"
   ]
  },
  {
   "cell_type": "markdown",
   "id": "d4aa2528",
   "metadata": {},
   "source": [
    "## Decision Tree classifier"
   ]
  },
  {
   "cell_type": "code",
   "execution_count": 51,
   "id": "bdce32b6",
   "metadata": {},
   "outputs": [
    {
     "name": "stdout",
     "output_type": "stream",
     "text": [
      "{'criterion': 'gini'}\n",
      "0.7881101087207957\n",
      "0.79\n"
     ]
    }
   ],
   "source": [
    "from sklearn.model_selection import GridSearchCV\n",
    "from sklearn.tree import DecisionTreeClassifier\n",
    "\n",
    "dtc=DecisionTreeClassifier()\n",
    "grid_param={\n",
    "    'criterion':['gini','entropy']\n",
    "  }\n",
    "gd_sr=GridSearchCV(estimator=dtc,\n",
    "                  param_grid=grid_param,\n",
    "                  scoring='accuracy',\n",
    "                  cv=5)\n",
    "gd_sr.fit(train_x,train_y)\n",
    "best_parameters=gd_sr.best_params_\n",
    "print(best_parameters)\n",
    "best_result=gd_sr.best_score_\n",
    "print(best_result)\n",
    "\n",
    "print(round(best_result,2))"
   ]
  },
  {
   "cell_type": "code",
   "execution_count": 52,
   "id": "a2b96a34",
   "metadata": {},
   "outputs": [
    {
     "data": {
      "text/plain": [
       "1.0"
      ]
     },
     "execution_count": 52,
     "metadata": {},
     "output_type": "execute_result"
    }
   ],
   "source": [
    "dtc= DecisionTreeClassifier(criterion='gini')\n",
    "dtc.fit(train_x,train_y)\n",
    "dtc.score(train_x,train_y)"
   ]
  },
  {
   "cell_type": "code",
   "execution_count": 53,
   "id": "5ff80e7b",
   "metadata": {},
   "outputs": [
    {
     "name": "stdout",
     "output_type": "stream",
     "text": [
      "Cross Val Score: 72.08021447151881\n"
     ]
    }
   ],
   "source": [
    "dtscore = cross_val_score(dtc,x,y,cv=9)\n",
    "dts = dtscore.mean()\n",
    "print('Cross Val Score:',dts*100)"
   ]
  },
  {
   "cell_type": "markdown",
   "id": "b115e6f0",
   "metadata": {},
   "source": [
    "Cross Val Score: 70.6 %"
   ]
  },
  {
   "cell_type": "code",
   "execution_count": 54,
   "id": "44036782",
   "metadata": {},
   "outputs": [
    {
     "name": "stdout",
     "output_type": "stream",
     "text": [
      "Accuracy of the model is:  0.7865853658536586\n",
      "Confusion Matrix:  [[76 19]\n",
      " [16 53]]\n"
     ]
    }
   ],
   "source": [
    "#Predicted value\n",
    "pred = dtc.predict(test_x)\n",
    "from sklearn.metrics import accuracy_score, confusion_matrix\n",
    "accuracy=accuracy_score(test_y,pred)\n",
    "confusion= confusion_matrix(test_y,pred)\n",
    "print(\"Accuracy of the model is: \",accuracy)\n",
    "print(\"Confusion Matrix: \", confusion)"
   ]
  },
  {
   "cell_type": "markdown",
   "id": "36e7c298",
   "metadata": {},
   "source": [
    "Accuracy of Decision Tree Classifier model is 77.4%"
   ]
  },
  {
   "cell_type": "markdown",
   "id": "4c663b10",
   "metadata": {},
   "source": [
    "## SVM(SVC)"
   ]
  },
  {
   "cell_type": "code",
   "execution_count": 55,
   "id": "594c6e53",
   "metadata": {},
   "outputs": [
    {
     "name": "stdout",
     "output_type": "stream",
     "text": [
      "{'C': 1, 'kernel': 'rbf'}\n"
     ]
    }
   ],
   "source": [
    "from sklearn.model_selection import GridSearchCV\n",
    "from sklearn import svm\n",
    "parameters={'kernel':['linear','rbf'],'C':[1,10]}\n",
    "svc=svm.SVC()\n",
    "clf= GridSearchCV(svc,parameters)\n",
    "clf.fit(train_x,train_y)\n",
    "print(clf.best_params_)"
   ]
  },
  {
   "cell_type": "markdown",
   "id": "3d7f877d",
   "metadata": {},
   "source": [
    "Best parameters for SVC "
   ]
  },
  {
   "cell_type": "code",
   "execution_count": 56,
   "id": "bcb0fbca",
   "metadata": {},
   "outputs": [
    {
     "data": {
      "text/plain": [
       "0.8353658536585366"
      ]
     },
     "execution_count": 56,
     "metadata": {},
     "output_type": "execute_result"
    }
   ],
   "source": [
    "sv=svm.SVC(kernel='rbf',C=1)\n",
    "sv.fit(train_x,train_y)\n",
    "sv.score(train_x,train_y)"
   ]
  },
  {
   "cell_type": "markdown",
   "id": "d1b3c280",
   "metadata": {},
   "source": [
    "SV Score: 83.5%"
   ]
  },
  {
   "cell_type": "code",
   "execution_count": 57,
   "id": "367ef27d",
   "metadata": {},
   "outputs": [
    {
     "name": "stdout",
     "output_type": "stream",
     "text": [
      "Accuracy of the model is:  0.7926829268292683\n",
      "Confusion Matrix:  [[82 13]\n",
      " [21 48]]\n"
     ]
    }
   ],
   "source": [
    "#Predicted value\n",
    "pred = sv.predict(test_x)\n",
    "from sklearn.metrics import accuracy_score, confusion_matrix\n",
    "accuracy=accuracy_score(test_y,pred)\n",
    "confusion=confusion_matrix(test_y,pred)\n",
    "print(\"Accuracy of the model is: \",accuracy)\n",
    "print(\"Confusion Matrix: \", confusion)"
   ]
  },
  {
   "cell_type": "markdown",
   "id": "5e75bf26",
   "metadata": {},
   "source": [
    "Accuracy of the model is:79.2%"
   ]
  },
  {
   "cell_type": "code",
   "execution_count": 58,
   "id": "e71535c8",
   "metadata": {},
   "outputs": [
    {
     "name": "stdout",
     "output_type": "stream",
     "text": [
      "Cross Val Score: 81.46467059510539\n"
     ]
    }
   ],
   "source": [
    "svscore = cross_val_score(sv,x,y,cv=9)\n",
    "svs = svscore.mean()\n",
    "print('Cross Val Score:',svs*100)"
   ]
  },
  {
   "cell_type": "markdown",
   "id": "aae5d07a",
   "metadata": {},
   "source": [
    "Cross Val Score: 81.46467059510539 %"
   ]
  },
  {
   "cell_type": "markdown",
   "id": "31521856",
   "metadata": {},
   "source": [
    "## RandomForestClassifier"
   ]
  },
  {
   "cell_type": "code",
   "execution_count": 59,
   "id": "10cc0772",
   "metadata": {},
   "outputs": [
    {
     "name": "stdout",
     "output_type": "stream",
     "text": [
      "{'max_depth': 11, 'max_features': 1}\n"
     ]
    }
   ],
   "source": [
    "from sklearn.model_selection import GridSearchCV\n",
    "from sklearn.datasets import make_classification\n",
    "from sklearn.ensemble import RandomForestClassifier\n",
    "rfc=RandomForestClassifier()\n",
    "\n",
    "forest_params = [{'max_depth': list(range(10, 15)), 'max_features': list(range(0,14))}]\n",
    "\n",
    "clf = GridSearchCV(rfc, forest_params, cv = 10, scoring='accuracy')\n",
    "\n",
    "clf.fit(train_x,train_y)\n",
    "    \n",
    "print(clf.best_params_)"
   ]
  },
  {
   "cell_type": "markdown",
   "id": "a88e0df1",
   "metadata": {},
   "source": [
    "Best parameters for RandomForestClassifier "
   ]
  },
  {
   "cell_type": "code",
   "execution_count": 69,
   "id": "3ef5e878",
   "metadata": {},
   "outputs": [
    {
     "data": {
      "text/plain": [
       "0.9649390243902439"
      ]
     },
     "execution_count": 69,
     "metadata": {},
     "output_type": "execute_result"
    }
   ],
   "source": [
    "rfc= RandomForestClassifier(max_depth=11,max_features=1)\n",
    "rfc.fit(train_x,train_y)\n",
    "rfc.score(train_x,train_y)"
   ]
  },
  {
   "cell_type": "code",
   "execution_count": 70,
   "id": "f7bef563",
   "metadata": {},
   "outputs": [
    {
     "name": "stdout",
     "output_type": "stream",
     "text": [
      "Accuracy of the model is:  0.8109756097560976\n",
      "Confusion Matrix:  [[84 11]\n",
      " [20 49]]\n"
     ]
    }
   ],
   "source": [
    "#Predicted value\n",
    "pred = rfc.predict(test_x)\n",
    "from sklearn.metrics import accuracy_score, confusion_matrix\n",
    "accuracy=accuracy_score(test_y,pred)\n",
    "confusion=confusion_matrix(test_y,pred)\n",
    "print(\"Accuracy of the model is: \",accuracy)\n",
    "print(\"Confusion Matrix: \", confusion)"
   ]
  },
  {
   "cell_type": "markdown",
   "id": "64f2e294",
   "metadata": {},
   "source": [
    "Accuracy of the model is: 82.3%"
   ]
  },
  {
   "cell_type": "code",
   "execution_count": 71,
   "id": "0ade9db8",
   "metadata": {},
   "outputs": [
    {
     "name": "stdout",
     "output_type": "stream",
     "text": [
      "Cross Val Score: 81.09969740404523\n"
     ]
    }
   ],
   "source": [
    "rfscore = cross_val_score(rfc,x,y,cv=9)\n",
    "rfs = rfscore.mean()\n",
    "print('Cross Val Score:',rfs*100)"
   ]
  },
  {
   "cell_type": "markdown",
   "id": "7a741136",
   "metadata": {},
   "source": [
    "Cross Val Score:81.09%"
   ]
  },
  {
   "cell_type": "markdown",
   "id": "c62ee9ad",
   "metadata": {},
   "source": [
    "## Best Model is Random forest classifier as it has Accuracy of 82.3% and Cross val score of 81.09%"
   ]
  },
  {
   "cell_type": "markdown",
   "id": "adfe60cb",
   "metadata": {},
   "source": [
    "# Model saving:"
   ]
  },
  {
   "cell_type": "code",
   "execution_count": 72,
   "id": "59f7dc3c",
   "metadata": {},
   "outputs": [],
   "source": [
    "import pickle\n",
    "filename = 'Titanic.pkl'\n",
    "pickle.dump(rfc, open(filename, 'wb'))"
   ]
  },
  {
   "cell_type": "markdown",
   "id": "f85e7015",
   "metadata": {},
   "source": [
    "# Conclusion:"
   ]
  },
  {
   "cell_type": "code",
   "execution_count": 73,
   "id": "d04e72de",
   "metadata": {},
   "outputs": [
    {
     "data": {
      "text/html": [
       "<div>\n",
       "<style scoped>\n",
       "    .dataframe tbody tr th:only-of-type {\n",
       "        vertical-align: middle;\n",
       "    }\n",
       "\n",
       "    .dataframe tbody tr th {\n",
       "        vertical-align: top;\n",
       "    }\n",
       "\n",
       "    .dataframe thead th {\n",
       "        text-align: right;\n",
       "    }\n",
       "</style>\n",
       "<table border=\"1\" class=\"dataframe\">\n",
       "  <thead>\n",
       "    <tr style=\"text-align: right;\">\n",
       "      <th></th>\n",
       "      <th>original</th>\n",
       "      <th>predicted</th>\n",
       "    </tr>\n",
       "  </thead>\n",
       "  <tbody>\n",
       "    <tr>\n",
       "      <th>0</th>\n",
       "      <td>1</td>\n",
       "      <td>1</td>\n",
       "    </tr>\n",
       "    <tr>\n",
       "      <th>1</th>\n",
       "      <td>1</td>\n",
       "      <td>1</td>\n",
       "    </tr>\n",
       "    <tr>\n",
       "      <th>2</th>\n",
       "      <td>0</td>\n",
       "      <td>0</td>\n",
       "    </tr>\n",
       "    <tr>\n",
       "      <th>3</th>\n",
       "      <td>1</td>\n",
       "      <td>1</td>\n",
       "    </tr>\n",
       "    <tr>\n",
       "      <th>4</th>\n",
       "      <td>0</td>\n",
       "      <td>0</td>\n",
       "    </tr>\n",
       "    <tr>\n",
       "      <th>...</th>\n",
       "      <td>...</td>\n",
       "      <td>...</td>\n",
       "    </tr>\n",
       "    <tr>\n",
       "      <th>159</th>\n",
       "      <td>0</td>\n",
       "      <td>0</td>\n",
       "    </tr>\n",
       "    <tr>\n",
       "      <th>160</th>\n",
       "      <td>1</td>\n",
       "      <td>1</td>\n",
       "    </tr>\n",
       "    <tr>\n",
       "      <th>161</th>\n",
       "      <td>1</td>\n",
       "      <td>0</td>\n",
       "    </tr>\n",
       "    <tr>\n",
       "      <th>162</th>\n",
       "      <td>0</td>\n",
       "      <td>0</td>\n",
       "    </tr>\n",
       "    <tr>\n",
       "      <th>163</th>\n",
       "      <td>1</td>\n",
       "      <td>1</td>\n",
       "    </tr>\n",
       "  </tbody>\n",
       "</table>\n",
       "<p>164 rows × 2 columns</p>\n",
       "</div>"
      ],
      "text/plain": [
       "     original  predicted\n",
       "0           1          1\n",
       "1           1          1\n",
       "2           0          0\n",
       "3           1          1\n",
       "4           0          0\n",
       "..        ...        ...\n",
       "159         0          0\n",
       "160         1          1\n",
       "161         1          0\n",
       "162         0          0\n",
       "163         1          1\n",
       "\n",
       "[164 rows x 2 columns]"
      ]
     },
     "execution_count": 73,
     "metadata": {},
     "output_type": "execute_result"
    }
   ],
   "source": [
    "import numpy as np\n",
    "a=np.array(test_y)\n",
    "pred=np.array(rfc.predict(test_x))\n",
    "df_com=pd.DataFrame({\"original\":a, \"predicted\": pred},index= range(len(a)))\n",
    "df_com"
   ]
  },
  {
   "cell_type": "markdown",
   "id": "c9a6992e",
   "metadata": {},
   "source": [
    "As per observation the predicted and actual data are almost same as model has accuracy of 82.3% and cross val score of 81.09%"
   ]
  }
 ],
 "metadata": {
  "kernelspec": {
   "display_name": "Python 3",
   "language": "python",
   "name": "python3"
  },
  "language_info": {
   "codemirror_mode": {
    "name": "ipython",
    "version": 3
   },
   "file_extension": ".py",
   "mimetype": "text/x-python",
   "name": "python",
   "nbconvert_exporter": "python",
   "pygments_lexer": "ipython3",
   "version": "3.8.8"
  }
 },
 "nbformat": 4,
 "nbformat_minor": 5
}
