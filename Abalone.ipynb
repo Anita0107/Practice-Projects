{
 "cells": [
  {
   "cell_type": "markdown",
   "id": "fe391780",
   "metadata": {},
   "source": [
    "## Importing Dataset"
   ]
  },
  {
   "cell_type": "code",
   "execution_count": 1,
   "id": "0ac95b9f",
   "metadata": {},
   "outputs": [],
   "source": [
    "import numpy as np\n",
    "import pandas as pd"
   ]
  },
  {
   "cell_type": "code",
   "execution_count": 2,
   "id": "64ab5a8d",
   "metadata": {},
   "outputs": [],
   "source": [
    "ds=pd.read_csv(\"abalone.csv\")"
   ]
  },
  {
   "cell_type": "code",
   "execution_count": 3,
   "id": "f0f48aec",
   "metadata": {},
   "outputs": [
    {
     "data": {
      "text/html": [
       "<div>\n",
       "<style scoped>\n",
       "    .dataframe tbody tr th:only-of-type {\n",
       "        vertical-align: middle;\n",
       "    }\n",
       "\n",
       "    .dataframe tbody tr th {\n",
       "        vertical-align: top;\n",
       "    }\n",
       "\n",
       "    .dataframe thead th {\n",
       "        text-align: right;\n",
       "    }\n",
       "</style>\n",
       "<table border=\"1\" class=\"dataframe\">\n",
       "  <thead>\n",
       "    <tr style=\"text-align: right;\">\n",
       "      <th></th>\n",
       "      <th>Sex</th>\n",
       "      <th>Length</th>\n",
       "      <th>Diameter</th>\n",
       "      <th>Height</th>\n",
       "      <th>Whole weight</th>\n",
       "      <th>Shucked weight</th>\n",
       "      <th>Viscera weight</th>\n",
       "      <th>Shell weight</th>\n",
       "      <th>Rings</th>\n",
       "    </tr>\n",
       "  </thead>\n",
       "  <tbody>\n",
       "    <tr>\n",
       "      <th>0</th>\n",
       "      <td>M</td>\n",
       "      <td>0.455</td>\n",
       "      <td>0.365</td>\n",
       "      <td>0.095</td>\n",
       "      <td>0.5140</td>\n",
       "      <td>0.2245</td>\n",
       "      <td>0.1010</td>\n",
       "      <td>0.150</td>\n",
       "      <td>15</td>\n",
       "    </tr>\n",
       "    <tr>\n",
       "      <th>1</th>\n",
       "      <td>M</td>\n",
       "      <td>0.350</td>\n",
       "      <td>0.265</td>\n",
       "      <td>0.090</td>\n",
       "      <td>0.2255</td>\n",
       "      <td>0.0995</td>\n",
       "      <td>0.0485</td>\n",
       "      <td>0.070</td>\n",
       "      <td>7</td>\n",
       "    </tr>\n",
       "    <tr>\n",
       "      <th>2</th>\n",
       "      <td>F</td>\n",
       "      <td>0.530</td>\n",
       "      <td>0.420</td>\n",
       "      <td>0.135</td>\n",
       "      <td>0.6770</td>\n",
       "      <td>0.2565</td>\n",
       "      <td>0.1415</td>\n",
       "      <td>0.210</td>\n",
       "      <td>9</td>\n",
       "    </tr>\n",
       "    <tr>\n",
       "      <th>3</th>\n",
       "      <td>M</td>\n",
       "      <td>0.440</td>\n",
       "      <td>0.365</td>\n",
       "      <td>0.125</td>\n",
       "      <td>0.5160</td>\n",
       "      <td>0.2155</td>\n",
       "      <td>0.1140</td>\n",
       "      <td>0.155</td>\n",
       "      <td>10</td>\n",
       "    </tr>\n",
       "    <tr>\n",
       "      <th>4</th>\n",
       "      <td>I</td>\n",
       "      <td>0.330</td>\n",
       "      <td>0.255</td>\n",
       "      <td>0.080</td>\n",
       "      <td>0.2050</td>\n",
       "      <td>0.0895</td>\n",
       "      <td>0.0395</td>\n",
       "      <td>0.055</td>\n",
       "      <td>7</td>\n",
       "    </tr>\n",
       "  </tbody>\n",
       "</table>\n",
       "</div>"
      ],
      "text/plain": [
       "  Sex  Length  Diameter  Height  Whole weight  Shucked weight  Viscera weight  \\\n",
       "0   M   0.455     0.365   0.095        0.5140          0.2245          0.1010   \n",
       "1   M   0.350     0.265   0.090        0.2255          0.0995          0.0485   \n",
       "2   F   0.530     0.420   0.135        0.6770          0.2565          0.1415   \n",
       "3   M   0.440     0.365   0.125        0.5160          0.2155          0.1140   \n",
       "4   I   0.330     0.255   0.080        0.2050          0.0895          0.0395   \n",
       "\n",
       "   Shell weight  Rings  \n",
       "0         0.150     15  \n",
       "1         0.070      7  \n",
       "2         0.210      9  \n",
       "3         0.155     10  \n",
       "4         0.055      7  "
      ]
     },
     "execution_count": 3,
     "metadata": {},
     "output_type": "execute_result"
    }
   ],
   "source": [
    "df=pd.DataFrame(ds)\n",
    "df.head()"
   ]
  },
  {
   "cell_type": "code",
   "execution_count": 4,
   "id": "3ea81884",
   "metadata": {},
   "outputs": [
    {
     "data": {
      "text/plain": [
       "Sex               0\n",
       "Length            0\n",
       "Diameter          0\n",
       "Height            0\n",
       "Whole weight      0\n",
       "Shucked weight    0\n",
       "Viscera weight    0\n",
       "Shell weight      0\n",
       "Rings             0\n",
       "dtype: int64"
      ]
     },
     "execution_count": 4,
     "metadata": {},
     "output_type": "execute_result"
    }
   ],
   "source": [
    "df.isnull().sum()"
   ]
  },
  {
   "cell_type": "markdown",
   "id": "14de17f5",
   "metadata": {},
   "source": [
    "No Null value in the dataset"
   ]
  },
  {
   "cell_type": "code",
   "execution_count": 5,
   "id": "3286df43",
   "metadata": {
    "scrolled": false
   },
   "outputs": [
    {
     "data": {
      "text/plain": [
       "Sex                object\n",
       "Length            float64\n",
       "Diameter          float64\n",
       "Height            float64\n",
       "Whole weight      float64\n",
       "Shucked weight    float64\n",
       "Viscera weight    float64\n",
       "Shell weight      float64\n",
       "Rings               int64\n",
       "dtype: object"
      ]
     },
     "execution_count": 5,
     "metadata": {},
     "output_type": "execute_result"
    }
   ],
   "source": [
    "df.dtypes"
   ]
  },
  {
   "cell_type": "markdown",
   "id": "145a41ff",
   "metadata": {},
   "source": [
    "Target label Rings is of int datatype, sex column is object type and other independent columns are of float type"
   ]
  },
  {
   "cell_type": "code",
   "execution_count": 6,
   "id": "a49ea711",
   "metadata": {},
   "outputs": [
    {
     "data": {
      "text/plain": [
       "array([15,  7,  9, 10,  8, 20, 16, 19, 14, 11, 12, 18, 13,  5,  4,  6, 21,\n",
       "       17, 22,  1,  3, 26, 23, 29,  2, 27, 25, 24], dtype=int64)"
      ]
     },
     "execution_count": 6,
     "metadata": {},
     "output_type": "execute_result"
    }
   ],
   "source": [
    "df['Rings'].unique()"
   ]
  },
  {
   "cell_type": "markdown",
   "id": "24637cfa",
   "metadata": {},
   "source": [
    "28 unqiue values are present in Rings column"
   ]
  },
  {
   "cell_type": "code",
   "execution_count": 7,
   "id": "a10c9018",
   "metadata": {},
   "outputs": [
    {
     "data": {
      "text/plain": [
       "(4177, 9)"
      ]
     },
     "execution_count": 7,
     "metadata": {},
     "output_type": "execute_result"
    }
   ],
   "source": [
    "df.shape"
   ]
  },
  {
   "cell_type": "markdown",
   "id": "89c773d5",
   "metadata": {},
   "source": [
    "Dataset has 4177 rows and 9 columns"
   ]
  },
  {
   "cell_type": "markdown",
   "id": "ec474ac0",
   "metadata": {},
   "source": [
    "# EDA:"
   ]
  },
  {
   "cell_type": "markdown",
   "id": "50e41f2a",
   "metadata": {},
   "source": [
    "## Visualization:\n",
    "\n",
    "1. Using Displot as dataypes are numeric"
   ]
  },
  {
   "cell_type": "code",
   "execution_count": 8,
   "id": "e2789a14",
   "metadata": {},
   "outputs": [],
   "source": [
    "import seaborn as sns"
   ]
  },
  {
   "cell_type": "code",
   "execution_count": 9,
   "id": "d5a88429",
   "metadata": {},
   "outputs": [
    {
     "name": "stderr",
     "output_type": "stream",
     "text": [
      "D:\\Anaconda\\lib\\site-packages\\seaborn\\distributions.py:2557: FutureWarning: `distplot` is a deprecated function and will be removed in a future version. Please adapt your code to use either `displot` (a figure-level function with similar flexibility) or `histplot` (an axes-level function for histograms).\n",
      "  warnings.warn(msg, FutureWarning)\n"
     ]
    },
    {
     "data": {
      "text/plain": [
       "<AxesSubplot:xlabel='Length', ylabel='Density'>"
      ]
     },
     "execution_count": 9,
     "metadata": {},
     "output_type": "execute_result"
    },
    {
     "data": {
      "image/png": "[encoded data removed]",
      "text/plain": [
       "<Figure size 432x288 with 1 Axes>"
      ]
     },
     "metadata": {
      "needs_background": "light"
     },
     "output_type": "display_data"
    }
   ],
   "source": [
    "sns.distplot(df['Length'], kde=True)"
   ]
  },
  {
   "cell_type": "markdown",
   "id": "ca04d7db",
   "metadata": {},
   "source": [
    "Data is partially equally distributed but has some skewness"
   ]
  },
  {
   "cell_type": "code",
   "execution_count": 10,
   "id": "7320d076",
   "metadata": {},
   "outputs": [
    {
     "name": "stderr",
     "output_type": "stream",
     "text": [
      "D:\\Anaconda\\lib\\site-packages\\seaborn\\distributions.py:2557: FutureWarning: `distplot` is a deprecated function and will be removed in a future version. Please adapt your code to use either `displot` (a figure-level function with similar flexibility) or `histplot` (an axes-level function for histograms).\n",
      "  warnings.warn(msg, FutureWarning)\n"
     ]
    },
    {
     "data": {
      "text/plain": [
       "<AxesSubplot:xlabel='Diameter', ylabel='Density'>"
      ]
     },
     "execution_count": 10,
     "metadata": {},
     "output_type": "execute_result"
    },
    {
     "data": {
      "image/png": "[encoded data removed]",
      "text/plain": [
       "<Figure size 432x288 with 1 Axes>"
      ]
     },
     "metadata": {
      "needs_background": "light"
     },
     "output_type": "display_data"
    }
   ],
   "source": [
    "sns.distplot(df['Diameter'], kde=True)"
   ]
  },
  {
   "cell_type": "markdown",
   "id": "6144df58",
   "metadata": {},
   "source": [
    "Data is partially equally distributed but has some skewness"
   ]
  },
  {
   "cell_type": "code",
   "execution_count": 11,
   "id": "62d2afd8",
   "metadata": {},
   "outputs": [
    {
     "name": "stderr",
     "output_type": "stream",
     "text": [
      "D:\\Anaconda\\lib\\site-packages\\seaborn\\distributions.py:2557: FutureWarning: `distplot` is a deprecated function and will be removed in a future version. Please adapt your code to use either `displot` (a figure-level function with similar flexibility) or `histplot` (an axes-level function for histograms).\n",
      "  warnings.warn(msg, FutureWarning)\n"
     ]
    },
    {
     "data": {
      "text/plain": [
       "<AxesSubplot:xlabel='Height', ylabel='Density'>"
      ]
     },
     "execution_count": 11,
     "metadata": {},
     "output_type": "execute_result"
    },
    {
     "data": {
      "image/png": "[encoded data removed]",
      "text/plain": [
       "<Figure size 432x288 with 1 Axes>"
      ]
     },
     "metadata": {
      "needs_background": "light"
     },
     "output_type": "display_data"
    }
   ],
   "source": [
    "sns.distplot(df['Height'], kde=True)"
   ]
  },
  {
   "cell_type": "markdown",
   "id": "ba64ce05",
   "metadata": {},
   "source": [
    "Data is not equally distributed and has skewness"
   ]
  },
  {
   "cell_type": "code",
   "execution_count": 12,
   "id": "73d04c57",
   "metadata": {},
   "outputs": [
    {
     "name": "stderr",
     "output_type": "stream",
     "text": [
      "D:\\Anaconda\\lib\\site-packages\\seaborn\\distributions.py:2557: FutureWarning: `distplot` is a deprecated function and will be removed in a future version. Please adapt your code to use either `displot` (a figure-level function with similar flexibility) or `histplot` (an axes-level function for histograms).\n",
      "  warnings.warn(msg, FutureWarning)\n"
     ]
    },
    {
     "data": {
      "text/plain": [
       "<AxesSubplot:xlabel='Whole weight', ylabel='Density'>"
      ]
     },
     "execution_count": 12,
     "metadata": {},
     "output_type": "execute_result"
    },
    {
     "data": {
      "image/png": "[encoded data removed]",
      "text/plain": [
       "<Figure size 432x288 with 1 Axes>"
      ]
     },
     "metadata": {
      "needs_background": "light"
     },
     "output_type": "display_data"
    }
   ],
   "source": [
    "sns.distplot(df['Whole weight'], kde=True)"
   ]
  },
  {
   "cell_type": "markdown",
   "id": "22fd03b1",
   "metadata": {},
   "source": [
    "Data is not equally distributed and has skewness"
   ]
  },
  {
   "cell_type": "code",
   "execution_count": 13,
   "id": "a8d55341",
   "metadata": {},
   "outputs": [
    {
     "name": "stderr",
     "output_type": "stream",
     "text": [
      "D:\\Anaconda\\lib\\site-packages\\seaborn\\distributions.py:2557: FutureWarning: `distplot` is a deprecated function and will be removed in a future version. Please adapt your code to use either `displot` (a figure-level function with similar flexibility) or `histplot` (an axes-level function for histograms).\n",
      "  warnings.warn(msg, FutureWarning)\n"
     ]
    },
    {
     "data": {
      "text/plain": [
       "<AxesSubplot:xlabel='Shucked weight', ylabel='Density'>"
      ]
     },
     "execution_count": 13,
     "metadata": {},
     "output_type": "execute_result"
    },
    {
     "data": {
      "image/png": "[encoded data removed]",
      "text/plain": [
       "<Figure size 432x288 with 1 Axes>"
      ]
     },
     "metadata": {
      "needs_background": "light"
     },
     "output_type": "display_data"
    }
   ],
   "source": [
    "sns.distplot(df['Shucked weight'], kde=True)"
   ]
  },
  {
   "cell_type": "markdown",
   "id": "a3861497",
   "metadata": {},
   "source": [
    "Data is not equally distributed and has skewness"
   ]
  },
  {
   "cell_type": "code",
   "execution_count": 14,
   "id": "0b079150",
   "metadata": {},
   "outputs": [
    {
     "name": "stderr",
     "output_type": "stream",
     "text": [
      "D:\\Anaconda\\lib\\site-packages\\seaborn\\distributions.py:2557: FutureWarning: `distplot` is a deprecated function and will be removed in a future version. Please adapt your code to use either `displot` (a figure-level function with similar flexibility) or `histplot` (an axes-level function for histograms).\n",
      "  warnings.warn(msg, FutureWarning)\n"
     ]
    },
    {
     "data": {
      "text/plain": [
       "<AxesSubplot:xlabel='Viscera weight', ylabel='Density'>"
      ]
     },
     "execution_count": 14,
     "metadata": {},
     "output_type": "execute_result"
    },
    {
     "data": {
      "image/png": "[encoded data removed]",
      "text/plain": [
       "<Figure size 432x288 with 1 Axes>"
      ]
     },
     "metadata": {
      "needs_background": "light"
     },
     "output_type": "display_data"
    }
   ],
   "source": [
    "sns.distplot(df['Viscera weight'], kde=True)"
   ]
  },
  {
   "cell_type": "markdown",
   "id": "b026dbe9",
   "metadata": {},
   "source": [
    "Data is not equally distributed and has skewness"
   ]
  },
  {
   "cell_type": "code",
   "execution_count": 15,
   "id": "f7dcc2e8",
   "metadata": {},
   "outputs": [
    {
     "name": "stderr",
     "output_type": "stream",
     "text": [
      "D:\\Anaconda\\lib\\site-packages\\seaborn\\distributions.py:2557: FutureWarning: `distplot` is a deprecated function and will be removed in a future version. Please adapt your code to use either `displot` (a figure-level function with similar flexibility) or `histplot` (an axes-level function for histograms).\n",
      "  warnings.warn(msg, FutureWarning)\n"
     ]
    },
    {
     "data": {
      "text/plain": [
       "<AxesSubplot:xlabel='Shell weight', ylabel='Density'>"
      ]
     },
     "execution_count": 15,
     "metadata": {},
     "output_type": "execute_result"
    },
    {
     "data": {
      "image/png": "[encoded data removed]",
      "text/plain": [
       "<Figure size 432x288 with 1 Axes>"
      ]
     },
     "metadata": {
      "needs_background": "light"
     },
     "output_type": "display_data"
    }
   ],
   "source": [
    "sns.distplot(df['Shell weight'], kde=True)"
   ]
  },
  {
   "cell_type": "markdown",
   "id": "c3c0f868",
   "metadata": {},
   "source": [
    "Data is not equally distributed and has skewness"
   ]
  },
  {
   "cell_type": "code",
   "execution_count": 16,
   "id": "c85542ef",
   "metadata": {},
   "outputs": [
    {
     "name": "stderr",
     "output_type": "stream",
     "text": [
      "D:\\Anaconda\\lib\\site-packages\\seaborn\\distributions.py:2557: FutureWarning: `distplot` is a deprecated function and will be removed in a future version. Please adapt your code to use either `displot` (a figure-level function with similar flexibility) or `histplot` (an axes-level function for histograms).\n",
      "  warnings.warn(msg, FutureWarning)\n"
     ]
    },
    {
     "data": {
      "text/plain": [
       "<AxesSubplot:xlabel='Rings', ylabel='Density'>"
      ]
     },
     "execution_count": 16,
     "metadata": {},
     "output_type": "execute_result"
    },
    {
     "data": {
      "image/png": "[encoded data removed]",
      "text/plain": [
       "<Figure size 432x288 with 1 Axes>"
      ]
     },
     "metadata": {
      "needs_background": "light"
     },
     "output_type": "display_data"
    }
   ],
   "source": [
    "sns.distplot(df['Rings'], kde=True)"
   ]
  },
  {
   "cell_type": "markdown",
   "id": "79dc9105",
   "metadata": {},
   "source": [
    "Data is not equally distributed and has skewness"
   ]
  },
  {
   "cell_type": "markdown",
   "id": "2f06c213",
   "metadata": {},
   "source": [
    "### Countplot\n",
    "Using countplot for nominal data"
   ]
  },
  {
   "cell_type": "code",
   "execution_count": 17,
   "id": "7d7e305e",
   "metadata": {},
   "outputs": [
    {
     "name": "stdout",
     "output_type": "stream",
     "text": [
      "M    1528\n",
      "I    1342\n",
      "F    1307\n",
      "Name: Sex, dtype: int64\n"
     ]
    },
    {
     "data": {
      "image/png": "[encoded data removed]",
      "text/plain": [
       "<Figure size 432x288 with 1 Axes>"
      ]
     },
     "metadata": {
      "needs_background": "light"
     },
     "output_type": "display_data"
    }
   ],
   "source": [
    "ax=sns.countplot(x=\"Sex\", data=df)\n",
    "print(df[\"Sex\"].value_counts())"
   ]
  },
  {
   "cell_type": "markdown",
   "id": "0315c30b",
   "metadata": {},
   "source": [
    "Sex column has Male in higher number , after that Infant numbers are higher and at last is Female numbers."
   ]
  },
  {
   "cell_type": "markdown",
   "id": "9cee1f6b",
   "metadata": {},
   "source": [
    "### Using Label encoder for sex column as it is in string datatype"
   ]
  },
  {
   "cell_type": "code",
   "execution_count": 18,
   "id": "98d32f70",
   "metadata": {},
   "outputs": [
    {
     "data": {
      "text/html": [
       "<div>\n",
       "<style scoped>\n",
       "    .dataframe tbody tr th:only-of-type {\n",
       "        vertical-align: middle;\n",
       "    }\n",
       "\n",
       "    .dataframe tbody tr th {\n",
       "        vertical-align: top;\n",
       "    }\n",
       "\n",
       "    .dataframe thead th {\n",
       "        text-align: right;\n",
       "    }\n",
       "</style>\n",
       "<table border=\"1\" class=\"dataframe\">\n",
       "  <thead>\n",
       "    <tr style=\"text-align: right;\">\n",
       "      <th></th>\n",
       "      <th>Sex</th>\n",
       "      <th>Length</th>\n",
       "      <th>Diameter</th>\n",
       "      <th>Height</th>\n",
       "      <th>Whole weight</th>\n",
       "      <th>Shucked weight</th>\n",
       "      <th>Viscera weight</th>\n",
       "      <th>Shell weight</th>\n",
       "      <th>Rings</th>\n",
       "    </tr>\n",
       "  </thead>\n",
       "  <tbody>\n",
       "    <tr>\n",
       "      <th>0</th>\n",
       "      <td>2</td>\n",
       "      <td>0.455</td>\n",
       "      <td>0.365</td>\n",
       "      <td>0.095</td>\n",
       "      <td>0.5140</td>\n",
       "      <td>0.2245</td>\n",
       "      <td>0.1010</td>\n",
       "      <td>0.150</td>\n",
       "      <td>15</td>\n",
       "    </tr>\n",
       "    <tr>\n",
       "      <th>1</th>\n",
       "      <td>2</td>\n",
       "      <td>0.350</td>\n",
       "      <td>0.265</td>\n",
       "      <td>0.090</td>\n",
       "      <td>0.2255</td>\n",
       "      <td>0.0995</td>\n",
       "      <td>0.0485</td>\n",
       "      <td>0.070</td>\n",
       "      <td>7</td>\n",
       "    </tr>\n",
       "    <tr>\n",
       "      <th>2</th>\n",
       "      <td>0</td>\n",
       "      <td>0.530</td>\n",
       "      <td>0.420</td>\n",
       "      <td>0.135</td>\n",
       "      <td>0.6770</td>\n",
       "      <td>0.2565</td>\n",
       "      <td>0.1415</td>\n",
       "      <td>0.210</td>\n",
       "      <td>9</td>\n",
       "    </tr>\n",
       "    <tr>\n",
       "      <th>3</th>\n",
       "      <td>2</td>\n",
       "      <td>0.440</td>\n",
       "      <td>0.365</td>\n",
       "      <td>0.125</td>\n",
       "      <td>0.5160</td>\n",
       "      <td>0.2155</td>\n",
       "      <td>0.1140</td>\n",
       "      <td>0.155</td>\n",
       "      <td>10</td>\n",
       "    </tr>\n",
       "    <tr>\n",
       "      <th>4</th>\n",
       "      <td>1</td>\n",
       "      <td>0.330</td>\n",
       "      <td>0.255</td>\n",
       "      <td>0.080</td>\n",
       "      <td>0.2050</td>\n",
       "      <td>0.0895</td>\n",
       "      <td>0.0395</td>\n",
       "      <td>0.055</td>\n",
       "      <td>7</td>\n",
       "    </tr>\n",
       "  </tbody>\n",
       "</table>\n",
       "</div>"
      ],
      "text/plain": [
       "   Sex  Length  Diameter  Height  Whole weight  Shucked weight  \\\n",
       "0    2   0.455     0.365   0.095        0.5140          0.2245   \n",
       "1    2   0.350     0.265   0.090        0.2255          0.0995   \n",
       "2    0   0.530     0.420   0.135        0.6770          0.2565   \n",
       "3    2   0.440     0.365   0.125        0.5160          0.2155   \n",
       "4    1   0.330     0.255   0.080        0.2050          0.0895   \n",
       "\n",
       "   Viscera weight  Shell weight  Rings  \n",
       "0          0.1010         0.150     15  \n",
       "1          0.0485         0.070      7  \n",
       "2          0.1415         0.210      9  \n",
       "3          0.1140         0.155     10  \n",
       "4          0.0395         0.055      7  "
      ]
     },
     "execution_count": 18,
     "metadata": {},
     "output_type": "execute_result"
    }
   ],
   "source": [
    "from sklearn.preprocessing import LabelEncoder\n",
    "en= LabelEncoder()\n",
    "df['Sex']=en.fit_transform(df['Sex'])\n",
    "df.head()"
   ]
  },
  {
   "cell_type": "markdown",
   "id": "cf9d3ea5",
   "metadata": {},
   "source": [
    "Sex column is encoded into numeric data type"
   ]
  },
  {
   "cell_type": "code",
   "execution_count": 19,
   "id": "eaa78a40",
   "metadata": {},
   "outputs": [
    {
     "data": {
      "text/plain": [
       "array([2, 0, 1])"
      ]
     },
     "execution_count": 19,
     "metadata": {},
     "output_type": "execute_result"
    }
   ],
   "source": [
    "df['Sex'].unique()"
   ]
  },
  {
   "cell_type": "markdown",
   "id": "bd71a138",
   "metadata": {},
   "source": [
    "Sex column has values 0, 1 and 2"
   ]
  },
  {
   "cell_type": "code",
   "execution_count": 20,
   "id": "25c3d48a",
   "metadata": {},
   "outputs": [
    {
     "data": {
      "text/plain": [
       "dtype('int32')"
      ]
     },
     "execution_count": 20,
     "metadata": {},
     "output_type": "execute_result"
    }
   ],
   "source": [
    "df['Sex'].dtypes"
   ]
  },
  {
   "cell_type": "markdown",
   "id": "1949ede6",
   "metadata": {},
   "source": [
    "Sex column datatype converted from object to int"
   ]
  },
  {
   "cell_type": "markdown",
   "id": "75bd9caa",
   "metadata": {},
   "source": [
    "## Describing the dataset:"
   ]
  },
  {
   "cell_type": "code",
   "execution_count": 21,
   "id": "0dc9d1e2",
   "metadata": {},
   "outputs": [
    {
     "data": {
      "text/html": [
       "<div>\n",
       "<style scoped>\n",
       "    .dataframe tbody tr th:only-of-type {\n",
       "        vertical-align: middle;\n",
       "    }\n",
       "\n",
       "    .dataframe tbody tr th {\n",
       "        vertical-align: top;\n",
       "    }\n",
       "\n",
       "    .dataframe thead th {\n",
       "        text-align: right;\n",
       "    }\n",
       "</style>\n",
       "<table border=\"1\" class=\"dataframe\">\n",
       "  <thead>\n",
       "    <tr style=\"text-align: right;\">\n",
       "      <th></th>\n",
       "      <th>Sex</th>\n",
       "      <th>Length</th>\n",
       "      <th>Diameter</th>\n",
       "      <th>Height</th>\n",
       "      <th>Whole weight</th>\n",
       "      <th>Shucked weight</th>\n",
       "      <th>Viscera weight</th>\n",
       "      <th>Shell weight</th>\n",
       "      <th>Rings</th>\n",
       "    </tr>\n",
       "  </thead>\n",
       "  <tbody>\n",
       "    <tr>\n",
       "      <th>count</th>\n",
       "      <td>4177.000000</td>\n",
       "      <td>4177.000000</td>\n",
       "      <td>4177.000000</td>\n",
       "      <td>4177.000000</td>\n",
       "      <td>4177.000000</td>\n",
       "      <td>4177.000000</td>\n",
       "      <td>4177.000000</td>\n",
       "      <td>4177.000000</td>\n",
       "      <td>4177.000000</td>\n",
       "    </tr>\n",
       "    <tr>\n",
       "      <th>mean</th>\n",
       "      <td>1.052909</td>\n",
       "      <td>0.523992</td>\n",
       "      <td>0.407881</td>\n",
       "      <td>0.139516</td>\n",
       "      <td>0.828742</td>\n",
       "      <td>0.359367</td>\n",
       "      <td>0.180594</td>\n",
       "      <td>0.238831</td>\n",
       "      <td>9.933684</td>\n",
       "    </tr>\n",
       "    <tr>\n",
       "      <th>std</th>\n",
       "      <td>0.822240</td>\n",
       "      <td>0.120093</td>\n",
       "      <td>0.099240</td>\n",
       "      <td>0.041827</td>\n",
       "      <td>0.490389</td>\n",
       "      <td>0.221963</td>\n",
       "      <td>0.109614</td>\n",
       "      <td>0.139203</td>\n",
       "      <td>3.224169</td>\n",
       "    </tr>\n",
       "    <tr>\n",
       "      <th>min</th>\n",
       "      <td>0.000000</td>\n",
       "      <td>0.075000</td>\n",
       "      <td>0.055000</td>\n",
       "      <td>0.000000</td>\n",
       "      <td>0.002000</td>\n",
       "      <td>0.001000</td>\n",
       "      <td>0.000500</td>\n",
       "      <td>0.001500</td>\n",
       "      <td>1.000000</td>\n",
       "    </tr>\n",
       "    <tr>\n",
       "      <th>25%</th>\n",
       "      <td>0.000000</td>\n",
       "      <td>0.450000</td>\n",
       "      <td>0.350000</td>\n",
       "      <td>0.115000</td>\n",
       "      <td>0.441500</td>\n",
       "      <td>0.186000</td>\n",
       "      <td>0.093500</td>\n",
       "      <td>0.130000</td>\n",
       "      <td>8.000000</td>\n",
       "    </tr>\n",
       "    <tr>\n",
       "      <th>50%</th>\n",
       "      <td>1.000000</td>\n",
       "      <td>0.545000</td>\n",
       "      <td>0.425000</td>\n",
       "      <td>0.140000</td>\n",
       "      <td>0.799500</td>\n",
       "      <td>0.336000</td>\n",
       "      <td>0.171000</td>\n",
       "      <td>0.234000</td>\n",
       "      <td>9.000000</td>\n",
       "    </tr>\n",
       "    <tr>\n",
       "      <th>75%</th>\n",
       "      <td>2.000000</td>\n",
       "      <td>0.615000</td>\n",
       "      <td>0.480000</td>\n",
       "      <td>0.165000</td>\n",
       "      <td>1.153000</td>\n",
       "      <td>0.502000</td>\n",
       "      <td>0.253000</td>\n",
       "      <td>0.329000</td>\n",
       "      <td>11.000000</td>\n",
       "    </tr>\n",
       "    <tr>\n",
       "      <th>max</th>\n",
       "      <td>2.000000</td>\n",
       "      <td>0.815000</td>\n",
       "      <td>0.650000</td>\n",
       "      <td>1.130000</td>\n",
       "      <td>2.825500</td>\n",
       "      <td>1.488000</td>\n",
       "      <td>0.760000</td>\n",
       "      <td>1.005000</td>\n",
       "      <td>29.000000</td>\n",
       "    </tr>\n",
       "  </tbody>\n",
       "</table>\n",
       "</div>"
      ],
      "text/plain": [
       "               Sex       Length     Diameter       Height  Whole weight  \\\n",
       "count  4177.000000  4177.000000  4177.000000  4177.000000   4177.000000   \n",
       "mean      1.052909     0.523992     0.407881     0.139516      0.828742   \n",
       "std       0.822240     0.120093     0.099240     0.041827      0.490389   \n",
       "min       0.000000     0.075000     0.055000     0.000000      0.002000   \n",
       "25%       0.000000     0.450000     0.350000     0.115000      0.441500   \n",
       "50%       1.000000     0.545000     0.425000     0.140000      0.799500   \n",
       "75%       2.000000     0.615000     0.480000     0.165000      1.153000   \n",
       "max       2.000000     0.815000     0.650000     1.130000      2.825500   \n",
       "\n",
       "       Shucked weight  Viscera weight  Shell weight        Rings  \n",
       "count     4177.000000     4177.000000   4177.000000  4177.000000  \n",
       "mean         0.359367        0.180594      0.238831     9.933684  \n",
       "std          0.221963        0.109614      0.139203     3.224169  \n",
       "min          0.001000        0.000500      0.001500     1.000000  \n",
       "25%          0.186000        0.093500      0.130000     8.000000  \n",
       "50%          0.336000        0.171000      0.234000     9.000000  \n",
       "75%          0.502000        0.253000      0.329000    11.000000  \n",
       "max          1.488000        0.760000      1.005000    29.000000  "
      ]
     },
     "execution_count": 21,
     "metadata": {},
     "output_type": "execute_result"
    }
   ],
   "source": [
    "df.describe()"
   ]
  },
  {
   "cell_type": "markdown",
   "id": "8586be99",
   "metadata": {},
   "source": [
    "Key Obserrvation:\n",
    "    1. Mean of height column is greater than median, that means right-tailed skewed data \n",
    "    2. 75% percentile and max: Rings have huge difference between 75% and max so outliers are present.\n",
    "    3. mean is greater than std deviation so the data is high peaked."
   ]
  },
  {
   "cell_type": "code",
   "execution_count": 22,
   "id": "a112ec3e",
   "metadata": {},
   "outputs": [
    {
     "data": {
      "text/plain": [
       "<AxesSubplot:>"
      ]
     },
     "execution_count": 22,
     "metadata": {},
     "output_type": "execute_result"
    },
    {
     "data": {
      "image/png": "[encoded data removed]",
      "text/plain": [
       "<Figure size 1584x504 with 2 Axes>"
      ]
     },
     "metadata": {
      "needs_background": "light"
     },
     "output_type": "display_data"
    }
   ],
   "source": [
    "import matplotlib.pyplot as plt\n",
    "plt.figure(figsize=(22,7))\n",
    "sns.heatmap(df.describe(),annot=True,linewidths=0.1,linecolor=\"Blue\",fmt=\"0.2f\")"
   ]
  },
  {
   "cell_type": "markdown",
   "id": "1d77e397",
   "metadata": {},
   "source": [
    "Describing dataset using the heatmap plot."
   ]
  },
  {
   "cell_type": "markdown",
   "id": "d9d28445",
   "metadata": {},
   "source": [
    "## Skewness: "
   ]
  },
  {
   "cell_type": "code",
   "execution_count": 23,
   "id": "25b05c98",
   "metadata": {},
   "outputs": [
    {
     "data": {
      "text/plain": [
       "Sex              -0.098155\n",
       "Length           -0.639873\n",
       "Diameter         -0.609198\n",
       "Height            3.128817\n",
       "Whole weight      0.530959\n",
       "Shucked weight    0.719098\n",
       "Viscera weight    0.591852\n",
       "Shell weight      0.620927\n",
       "dtype: float64"
      ]
     },
     "execution_count": 23,
     "metadata": {},
     "output_type": "execute_result"
    }
   ],
   "source": [
    "# Independent data:\n",
    "x= df.iloc[:,0:-1]\n",
    "\n",
    "# Target label\n",
    "y= df.iloc[:,-1]\n",
    "\n",
    "x.skew()"
   ]
  },
  {
   "cell_type": "markdown",
   "id": "4a871937",
   "metadata": {},
   "source": [
    "Taking range of skewness between +/- 0.5, only Height has maximum skewness so need to remove skewness"
   ]
  },
  {
   "cell_type": "code",
   "execution_count": 24,
   "id": "1a44b23b",
   "metadata": {},
   "outputs": [
    {
     "data": {
      "text/plain": [
       "Sex              -0.098155\n",
       "Length           -0.639873\n",
       "Diameter         -0.609198\n",
       "Height           -0.295641\n",
       "Whole weight      0.530959\n",
       "Shucked weight    0.719098\n",
       "Viscera weight    0.591852\n",
       "Shell weight      0.620927\n",
       "dtype: float64"
      ]
     },
     "execution_count": 24,
     "metadata": {},
     "output_type": "execute_result"
    }
   ],
   "source": [
    "import numpy as np\n",
    "x['Height']=np.sqrt(x['Height'])\n",
    "x.skew()"
   ]
  },
  {
   "cell_type": "markdown",
   "id": "11437fe4",
   "metadata": {},
   "source": [
    "Using squaroot method skewness removed"
   ]
  },
  {
   "cell_type": "markdown",
   "id": "6b2ec3ec",
   "metadata": {},
   "source": [
    "## Outliers:"
   ]
  },
  {
   "cell_type": "code",
   "execution_count": 25,
   "id": "2d33fe16",
   "metadata": {},
   "outputs": [
    {
     "data": {
      "text/plain": [
       "Sex                   AxesSubplot(0.125,0.71587;0.110714x0.16413)\n",
       "Length             AxesSubplot(0.257857,0.71587;0.110714x0.16413)\n",
       "Diameter           AxesSubplot(0.390714,0.71587;0.110714x0.16413)\n",
       "Height             AxesSubplot(0.523571,0.71587;0.110714x0.16413)\n",
       "Whole weight       AxesSubplot(0.656429,0.71587;0.110714x0.16413)\n",
       "Shucked weight     AxesSubplot(0.789286,0.71587;0.110714x0.16413)\n",
       "Viscera weight       AxesSubplot(0.125,0.518913;0.110714x0.16413)\n",
       "Shell weight      AxesSubplot(0.257857,0.518913;0.110714x0.16413)\n",
       "Rings             AxesSubplot(0.390714,0.518913;0.110714x0.16413)\n",
       "dtype: object"
      ]
     },
     "execution_count": 25,
     "metadata": {},
     "output_type": "execute_result"
    },
    {
     "data": {
      "image/png": "[encoded data removed]",
      "text/plain": [
       "<Figure size 864x864 with 24 Axes>"
      ]
     },
     "metadata": {
      "needs_background": "light"
     },
     "output_type": "display_data"
    }
   ],
   "source": [
    "df.plot(kind='box',subplots=True,layout=(4,6),figsize=(12,12))"
   ]
  },
  {
   "cell_type": "markdown",
   "id": "437534aa",
   "metadata": {},
   "source": [
    "Every column in dataset has Outliers present so by using z score we can remove them."
   ]
  },
  {
   "cell_type": "markdown",
   "id": "cb1b4c33",
   "metadata": {},
   "source": [
    "### z-score for Outliers removal"
   ]
  },
  {
   "cell_type": "code",
   "execution_count": 26,
   "id": "04c30702",
   "metadata": {},
   "outputs": [
    {
     "data": {
      "text/plain": [
       "(array([   6,   72,   81,   83,  129,  163,  164,  165,  165,  165,  166,\n",
       "         166,  167,  168,  170,  181,  232,  236,  236,  236,  237,  237,\n",
       "         238,  238,  239,  270,  275,  277,  278,  294,  310,  313,  314,\n",
       "         334,  351,  355,  358,  358,  362,  375,  416,  417,  428,  431,\n",
       "         433,  469,  478,  480,  501,  526,  526,  530,  572,  628,  673,\n",
       "         674,  675,  678,  694,  696,  696,  719,  719,  720,  720,  744,\n",
       "         754,  756,  811,  891,  891,  891, 1048, 1051, 1051, 1052, 1193,\n",
       "        1197, 1199, 1202, 1204, 1206, 1206, 1207, 1207, 1207, 1207, 1209,\n",
       "        1209, 1257, 1417, 1417, 1418, 1422, 1426, 1427, 1427, 1427, 1428,\n",
       "        1429, 1429, 1528, 1754, 1756, 1757, 1759, 1761, 1762, 1762, 1762,\n",
       "        1763, 1763, 1763, 1821, 1982, 1986, 1987, 1987, 2051, 2090, 2108,\n",
       "        2108, 2114, 2114, 2157, 2161, 2176, 2180, 2199, 2201, 2208, 2209,\n",
       "        2274, 2275, 2305, 2334, 2334, 2334, 2335, 2344, 2358, 2368, 2381,\n",
       "        2436, 2459, 2471, 2544, 2623, 2624, 2624, 2624, 2625, 2709, 2710,\n",
       "        2710, 2810, 2810, 2811, 2811, 2811, 2862, 2863, 2863, 2863, 3007,\n",
       "        3008, 3140, 3148, 3149, 3149, 3151, 3151, 3188, 3193, 3280, 3359,\n",
       "        3427, 3427, 3427, 3599, 3599, 3628, 3713, 3715, 3715, 3715, 3715,\n",
       "        3800, 3837, 3899, 3899, 3902, 3924, 3930, 3944, 3961, 3962, 3996,\n",
       "        4145, 4148], dtype=int64),\n",
       " array([8, 8, 7, 8, 7, 7, 7, 4, 5, 7, 7, 8, 8, 7, 6, 8, 8, 1, 2, 3, 1, 2,\n",
       "        1, 2, 1, 8, 8, 7, 8, 8, 8, 8, 8, 7, 8, 8, 4, 7, 8, 8, 8, 8, 8, 8,\n",
       "        8, 8, 8, 8, 8, 1, 2, 8, 8, 8, 8, 8, 8, 8, 2, 1, 2, 1, 2, 1, 2, 8,\n",
       "        8, 8, 8, 4, 5, 7, 6, 4, 5, 4, 5, 5, 5, 5, 6, 5, 6, 4, 5, 6, 7, 4,\n",
       "        5, 3, 3, 5, 5, 6, 5, 4, 5, 6, 7, 1, 2, 5, 5, 5, 6, 6, 5, 4, 5, 6,\n",
       "        4, 5, 6, 5, 5, 1, 1, 2, 3, 7, 7, 8, 1, 2, 7, 7, 8, 8, 8, 8, 7, 8,\n",
       "        7, 8, 8, 4, 6, 8, 8, 8, 8, 7, 1, 8, 8, 8, 5, 4, 4, 5, 6, 5, 6, 5,\n",
       "        6, 5, 6, 4, 5, 6, 5, 4, 5, 6, 5, 7, 8, 7, 7, 8, 7, 8, 7, 8, 8, 8,\n",
       "        4, 5, 6, 4, 5, 6, 5, 4, 5, 6, 7, 4, 2, 1, 2, 1, 8, 8, 8, 5, 5, 3,\n",
       "        7, 6], dtype=int64))"
      ]
     },
     "execution_count": 26,
     "metadata": {},
     "output_type": "execute_result"
    }
   ],
   "source": [
    "from scipy.stats import zscore\n",
    "import numpy as np\n",
    "z = np.abs(zscore(df))\n",
    "threshold=3\n",
    "np.where(z>3)"
   ]
  },
  {
   "cell_type": "code",
   "execution_count": 27,
   "id": "21967da0",
   "metadata": {},
   "outputs": [],
   "source": [
    "#removing value greater than threshold value \n",
    "\n",
    "df_new=df[(z<3).all(axis=1)]\n",
    "df= df_new"
   ]
  },
  {
   "cell_type": "markdown",
   "id": "78cb435e",
   "metadata": {},
   "source": [
    "Outliers removed"
   ]
  },
  {
   "cell_type": "code",
   "execution_count": 28,
   "id": "c01559d0",
   "metadata": {},
   "outputs": [
    {
     "data": {
      "text/plain": [
       "(4027, 9)"
      ]
     },
     "execution_count": 28,
     "metadata": {},
     "output_type": "execute_result"
    }
   ],
   "source": [
    "df.shape"
   ]
  },
  {
   "cell_type": "markdown",
   "id": "edc4eae2",
   "metadata": {},
   "source": [
    "Dataset contains 4027 Rows and 9 columns"
   ]
  },
  {
   "cell_type": "markdown",
   "id": "607c0997",
   "metadata": {},
   "source": [
    "#### Percentage Loss of data"
   ]
  },
  {
   "cell_type": "code",
   "execution_count": 29,
   "id": "f197e4fc",
   "metadata": {},
   "outputs": [
    {
     "data": {
      "text/plain": [
       "3.5910940866650707"
      ]
     },
     "execution_count": 29,
     "metadata": {},
     "output_type": "execute_result"
    }
   ],
   "source": [
    "Data_loss=((4177-4027)/4177)*100\n",
    "Data_loss"
   ]
  },
  {
   "cell_type": "markdown",
   "id": "11b2bca9",
   "metadata": {},
   "source": [
    "3.59% of data is lost"
   ]
  },
  {
   "cell_type": "markdown",
   "id": "3b8400dc",
   "metadata": {},
   "source": [
    "## Correlation:"
   ]
  },
  {
   "cell_type": "code",
   "execution_count": 30,
   "id": "5011f83b",
   "metadata": {},
   "outputs": [
    {
     "data": {
      "text/html": [
       "<div>\n",
       "<style scoped>\n",
       "    .dataframe tbody tr th:only-of-type {\n",
       "        vertical-align: middle;\n",
       "    }\n",
       "\n",
       "    .dataframe tbody tr th {\n",
       "        vertical-align: top;\n",
       "    }\n",
       "\n",
       "    .dataframe thead th {\n",
       "        text-align: right;\n",
       "    }\n",
       "</style>\n",
       "<table border=\"1\" class=\"dataframe\">\n",
       "  <thead>\n",
       "    <tr style=\"text-align: right;\">\n",
       "      <th></th>\n",
       "      <th>Sex</th>\n",
       "      <th>Length</th>\n",
       "      <th>Diameter</th>\n",
       "      <th>Height</th>\n",
       "      <th>Whole weight</th>\n",
       "      <th>Shucked weight</th>\n",
       "      <th>Viscera weight</th>\n",
       "      <th>Shell weight</th>\n",
       "      <th>Rings</th>\n",
       "    </tr>\n",
       "  </thead>\n",
       "  <tbody>\n",
       "    <tr>\n",
       "      <th>Sex</th>\n",
       "      <td>1.000000</td>\n",
       "      <td>-0.043639</td>\n",
       "      <td>-0.046531</td>\n",
       "      <td>-0.046282</td>\n",
       "      <td>-0.034776</td>\n",
       "      <td>-0.016457</td>\n",
       "      <td>-0.045292</td>\n",
       "      <td>-0.043825</td>\n",
       "      <td>-0.033272</td>\n",
       "    </tr>\n",
       "    <tr>\n",
       "      <th>Length</th>\n",
       "      <td>-0.043639</td>\n",
       "      <td>1.000000</td>\n",
       "      <td>0.986011</td>\n",
       "      <td>0.895432</td>\n",
       "      <td>0.934410</td>\n",
       "      <td>0.909245</td>\n",
       "      <td>0.907957</td>\n",
       "      <td>0.914518</td>\n",
       "      <td>0.567074</td>\n",
       "    </tr>\n",
       "    <tr>\n",
       "      <th>Diameter</th>\n",
       "      <td>-0.046531</td>\n",
       "      <td>0.986011</td>\n",
       "      <td>1.000000</td>\n",
       "      <td>0.901803</td>\n",
       "      <td>0.934069</td>\n",
       "      <td>0.904302</td>\n",
       "      <td>0.904192</td>\n",
       "      <td>0.921779</td>\n",
       "      <td>0.584978</td>\n",
       "    </tr>\n",
       "    <tr>\n",
       "      <th>Height</th>\n",
       "      <td>-0.046282</td>\n",
       "      <td>0.895432</td>\n",
       "      <td>0.901803</td>\n",
       "      <td>1.000000</td>\n",
       "      <td>0.891783</td>\n",
       "      <td>0.843010</td>\n",
       "      <td>0.869273</td>\n",
       "      <td>0.899716</td>\n",
       "      <td>0.612540</td>\n",
       "    </tr>\n",
       "    <tr>\n",
       "      <th>Whole weight</th>\n",
       "      <td>-0.034776</td>\n",
       "      <td>0.934410</td>\n",
       "      <td>0.934069</td>\n",
       "      <td>0.891783</td>\n",
       "      <td>1.000000</td>\n",
       "      <td>0.971024</td>\n",
       "      <td>0.966612</td>\n",
       "      <td>0.961216</td>\n",
       "      <td>0.548295</td>\n",
       "    </tr>\n",
       "    <tr>\n",
       "      <th>Shucked weight</th>\n",
       "      <td>-0.016457</td>\n",
       "      <td>0.909245</td>\n",
       "      <td>0.904302</td>\n",
       "      <td>0.843010</td>\n",
       "      <td>0.971024</td>\n",
       "      <td>1.000000</td>\n",
       "      <td>0.930154</td>\n",
       "      <td>0.896220</td>\n",
       "      <td>0.440424</td>\n",
       "    </tr>\n",
       "    <tr>\n",
       "      <th>Viscera weight</th>\n",
       "      <td>-0.045292</td>\n",
       "      <td>0.907957</td>\n",
       "      <td>0.904192</td>\n",
       "      <td>0.869273</td>\n",
       "      <td>0.966612</td>\n",
       "      <td>0.930154</td>\n",
       "      <td>1.000000</td>\n",
       "      <td>0.919414</td>\n",
       "      <td>0.522917</td>\n",
       "    </tr>\n",
       "    <tr>\n",
       "      <th>Shell weight</th>\n",
       "      <td>-0.043825</td>\n",
       "      <td>0.914518</td>\n",
       "      <td>0.921779</td>\n",
       "      <td>0.899716</td>\n",
       "      <td>0.961216</td>\n",
       "      <td>0.896220</td>\n",
       "      <td>0.919414</td>\n",
       "      <td>1.000000</td>\n",
       "      <td>0.622872</td>\n",
       "    </tr>\n",
       "    <tr>\n",
       "      <th>Rings</th>\n",
       "      <td>-0.033272</td>\n",
       "      <td>0.567074</td>\n",
       "      <td>0.584978</td>\n",
       "      <td>0.612540</td>\n",
       "      <td>0.548295</td>\n",
       "      <td>0.440424</td>\n",
       "      <td>0.522917</td>\n",
       "      <td>0.622872</td>\n",
       "      <td>1.000000</td>\n",
       "    </tr>\n",
       "  </tbody>\n",
       "</table>\n",
       "</div>"
      ],
      "text/plain": [
       "                     Sex    Length  Diameter    Height  Whole weight  \\\n",
       "Sex             1.000000 -0.043639 -0.046531 -0.046282     -0.034776   \n",
       "Length         -0.043639  1.000000  0.986011  0.895432      0.934410   \n",
       "Diameter       -0.046531  0.986011  1.000000  0.901803      0.934069   \n",
       "Height         -0.046282  0.895432  0.901803  1.000000      0.891783   \n",
       "Whole weight   -0.034776  0.934410  0.934069  0.891783      1.000000   \n",
       "Shucked weight -0.016457  0.909245  0.904302  0.843010      0.971024   \n",
       "Viscera weight -0.045292  0.907957  0.904192  0.869273      0.966612   \n",
       "Shell weight   -0.043825  0.914518  0.921779  0.899716      0.961216   \n",
       "Rings          -0.033272  0.567074  0.584978  0.612540      0.548295   \n",
       "\n",
       "                Shucked weight  Viscera weight  Shell weight     Rings  \n",
       "Sex                  -0.016457       -0.045292     -0.043825 -0.033272  \n",
       "Length                0.909245        0.907957      0.914518  0.567074  \n",
       "Diameter              0.904302        0.904192      0.921779  0.584978  \n",
       "Height                0.843010        0.869273      0.899716  0.612540  \n",
       "Whole weight          0.971024        0.966612      0.961216  0.548295  \n",
       "Shucked weight        1.000000        0.930154      0.896220  0.440424  \n",
       "Viscera weight        0.930154        1.000000      0.919414  0.522917  \n",
       "Shell weight          0.896220        0.919414      1.000000  0.622872  \n",
       "Rings                 0.440424        0.522917      0.622872  1.000000  "
      ]
     },
     "execution_count": 30,
     "metadata": {},
     "output_type": "execute_result"
    }
   ],
   "source": [
    "df.corr()"
   ]
  },
  {
   "cell_type": "markdown",
   "id": "12181752",
   "metadata": {},
   "source": [
    "Correlation of independent data with the target label rings"
   ]
  },
  {
   "cell_type": "code",
   "execution_count": 31,
   "id": "0df0b11b",
   "metadata": {},
   "outputs": [
    {
     "data": {
      "text/plain": [
       "<AxesSubplot:>"
      ]
     },
     "execution_count": 31,
     "metadata": {},
     "output_type": "execute_result"
    },
    {
     "data": {
      "image/png": "[encoded data removed]",
      "text/plain": [
       "<Figure size 1584x504 with 2 Axes>"
      ]
     },
     "metadata": {
      "needs_background": "light"
     },
     "output_type": "display_data"
    }
   ],
   "source": [
    "plt.figure(figsize=(22,7))\n",
    "sns.heatmap(df.corr(),annot=True,linewidths=0.2,linecolor=\"Black\",fmt=\"0.2f\")"
   ]
  },
  {
   "cell_type": "markdown",
   "id": "8b1f58fd",
   "metadata": {},
   "source": [
    "Observations:\n",
    "1. Rings is highly positively corrleated with Shell weight: 0.63\n",
    "2. Rings is less corrleated with Sex: -0.03\n",
    "3. Shell weight is positively correlated with Whole weight: 0.96\n",
    "4. Shell weight is less correlated with Sex: -0.03\n",
    "5. Shell weight has same correlted value for Diameter and viscera weight:0.91, correlated data\n",
    "6. Table shows multicollinearity in the dataset "
   ]
  },
  {
   "cell_type": "markdown",
   "id": "1b7dc7f7",
   "metadata": {},
   "source": [
    "### Multicollinearity removal using VIF"
   ]
  },
  {
   "cell_type": "code",
   "execution_count": 32,
   "id": "1ceae3b1",
   "metadata": {},
   "outputs": [],
   "source": [
    "from statsmodels.stats.outliers_influence import variance_inflation_factor"
   ]
  },
  {
   "cell_type": "code",
   "execution_count": 33,
   "id": "e65deb7c",
   "metadata": {},
   "outputs": [],
   "source": [
    "def vif_calc():\n",
    "    vif=pd.DataFrame()\n",
    "    vif[\"VIF Factor\"]=[variance_inflation_factor(x.values,i) for i in range(x.shape[1])]\n",
    "    vif[\"features\"]=x.columns\n",
    "    print(vif)"
   ]
  },
  {
   "cell_type": "code",
   "execution_count": 34,
   "id": "4e90bffc",
   "metadata": {},
   "outputs": [
    {
     "name": "stdout",
     "output_type": "stream",
     "text": [
      "   VIF Factor        features\n",
      "0    2.601651             Sex\n",
      "1  780.823832          Length\n",
      "2  752.536035        Diameter\n",
      "3  122.141684          Height\n",
      "4  421.668789    Whole weight\n",
      "5  103.252271  Shucked weight\n",
      "6   63.683020  Viscera weight\n",
      "7   81.395561    Shell weight\n"
     ]
    }
   ],
   "source": [
    "vif_calc()"
   ]
  },
  {
   "cell_type": "markdown",
   "id": "3f62c733",
   "metadata": {},
   "source": [
    "Multicollinearity is higher for Diameter then for length ,then height, then whole weight and atlast for shucked weight.\n",
    "But Diameter contributes more than Length in Rings columns so Length will be dropped and height is also affecting ring so it cant be dropped.\n",
    "and Whole weight contributes more than Shucked weight in Rings columns so Shucked weight will be dropped."
   ]
  },
  {
   "cell_type": "markdown",
   "id": "7b163198",
   "metadata": {},
   "source": [
    "### Data Cleaning"
   ]
  },
  {
   "cell_type": "code",
   "execution_count": 35,
   "id": "22f4a11d",
   "metadata": {},
   "outputs": [
    {
     "name": "stderr",
     "output_type": "stream",
     "text": [
      "D:\\Anaconda\\lib\\site-packages\\pandas\\core\\frame.py:4308: SettingWithCopyWarning: \n",
      "A value is trying to be set on a copy of a slice from a DataFrame\n",
      "\n",
      "See the caveats in the documentation: https://pandas.pydata.org/pandas-docs/stable/user_guide/indexing.html#returning-a-view-versus-a-copy\n",
      "  return super().drop(\n"
     ]
    },
    {
     "data": {
      "text/html": [
       "<div>\n",
       "<style scoped>\n",
       "    .dataframe tbody tr th:only-of-type {\n",
       "        vertical-align: middle;\n",
       "    }\n",
       "\n",
       "    .dataframe tbody tr th {\n",
       "        vertical-align: top;\n",
       "    }\n",
       "\n",
       "    .dataframe thead th {\n",
       "        text-align: right;\n",
       "    }\n",
       "</style>\n",
       "<table border=\"1\" class=\"dataframe\">\n",
       "  <thead>\n",
       "    <tr style=\"text-align: right;\">\n",
       "      <th></th>\n",
       "      <th>Sex</th>\n",
       "      <th>Diameter</th>\n",
       "      <th>Height</th>\n",
       "      <th>Whole weight</th>\n",
       "      <th>Viscera weight</th>\n",
       "      <th>Shell weight</th>\n",
       "      <th>Rings</th>\n",
       "    </tr>\n",
       "  </thead>\n",
       "  <tbody>\n",
       "    <tr>\n",
       "      <th>0</th>\n",
       "      <td>2</td>\n",
       "      <td>0.365</td>\n",
       "      <td>0.095</td>\n",
       "      <td>0.5140</td>\n",
       "      <td>0.1010</td>\n",
       "      <td>0.1500</td>\n",
       "      <td>15</td>\n",
       "    </tr>\n",
       "    <tr>\n",
       "      <th>1</th>\n",
       "      <td>2</td>\n",
       "      <td>0.265</td>\n",
       "      <td>0.090</td>\n",
       "      <td>0.2255</td>\n",
       "      <td>0.0485</td>\n",
       "      <td>0.0700</td>\n",
       "      <td>7</td>\n",
       "    </tr>\n",
       "    <tr>\n",
       "      <th>2</th>\n",
       "      <td>0</td>\n",
       "      <td>0.420</td>\n",
       "      <td>0.135</td>\n",
       "      <td>0.6770</td>\n",
       "      <td>0.1415</td>\n",
       "      <td>0.2100</td>\n",
       "      <td>9</td>\n",
       "    </tr>\n",
       "    <tr>\n",
       "      <th>3</th>\n",
       "      <td>2</td>\n",
       "      <td>0.365</td>\n",
       "      <td>0.125</td>\n",
       "      <td>0.5160</td>\n",
       "      <td>0.1140</td>\n",
       "      <td>0.1550</td>\n",
       "      <td>10</td>\n",
       "    </tr>\n",
       "    <tr>\n",
       "      <th>4</th>\n",
       "      <td>1</td>\n",
       "      <td>0.255</td>\n",
       "      <td>0.080</td>\n",
       "      <td>0.2050</td>\n",
       "      <td>0.0395</td>\n",
       "      <td>0.0550</td>\n",
       "      <td>7</td>\n",
       "    </tr>\n",
       "    <tr>\n",
       "      <th>...</th>\n",
       "      <td>...</td>\n",
       "      <td>...</td>\n",
       "      <td>...</td>\n",
       "      <td>...</td>\n",
       "      <td>...</td>\n",
       "      <td>...</td>\n",
       "      <td>...</td>\n",
       "    </tr>\n",
       "    <tr>\n",
       "      <th>4172</th>\n",
       "      <td>0</td>\n",
       "      <td>0.450</td>\n",
       "      <td>0.165</td>\n",
       "      <td>0.8870</td>\n",
       "      <td>0.2390</td>\n",
       "      <td>0.2490</td>\n",
       "      <td>11</td>\n",
       "    </tr>\n",
       "    <tr>\n",
       "      <th>4173</th>\n",
       "      <td>2</td>\n",
       "      <td>0.440</td>\n",
       "      <td>0.135</td>\n",
       "      <td>0.9660</td>\n",
       "      <td>0.2145</td>\n",
       "      <td>0.2605</td>\n",
       "      <td>10</td>\n",
       "    </tr>\n",
       "    <tr>\n",
       "      <th>4174</th>\n",
       "      <td>2</td>\n",
       "      <td>0.475</td>\n",
       "      <td>0.205</td>\n",
       "      <td>1.1760</td>\n",
       "      <td>0.2875</td>\n",
       "      <td>0.3080</td>\n",
       "      <td>9</td>\n",
       "    </tr>\n",
       "    <tr>\n",
       "      <th>4175</th>\n",
       "      <td>0</td>\n",
       "      <td>0.485</td>\n",
       "      <td>0.150</td>\n",
       "      <td>1.0945</td>\n",
       "      <td>0.2610</td>\n",
       "      <td>0.2960</td>\n",
       "      <td>10</td>\n",
       "    </tr>\n",
       "    <tr>\n",
       "      <th>4176</th>\n",
       "      <td>2</td>\n",
       "      <td>0.555</td>\n",
       "      <td>0.195</td>\n",
       "      <td>1.9485</td>\n",
       "      <td>0.3765</td>\n",
       "      <td>0.4950</td>\n",
       "      <td>12</td>\n",
       "    </tr>\n",
       "  </tbody>\n",
       "</table>\n",
       "<p>4027 rows × 7 columns</p>\n",
       "</div>"
      ],
      "text/plain": [
       "      Sex  Diameter  Height  Whole weight  Viscera weight  Shell weight  Rings\n",
       "0       2     0.365   0.095        0.5140          0.1010        0.1500     15\n",
       "1       2     0.265   0.090        0.2255          0.0485        0.0700      7\n",
       "2       0     0.420   0.135        0.6770          0.1415        0.2100      9\n",
       "3       2     0.365   0.125        0.5160          0.1140        0.1550     10\n",
       "4       1     0.255   0.080        0.2050          0.0395        0.0550      7\n",
       "...   ...       ...     ...           ...             ...           ...    ...\n",
       "4172    0     0.450   0.165        0.8870          0.2390        0.2490     11\n",
       "4173    2     0.440   0.135        0.9660          0.2145        0.2605     10\n",
       "4174    2     0.475   0.205        1.1760          0.2875        0.3080      9\n",
       "4175    0     0.485   0.150        1.0945          0.2610        0.2960     10\n",
       "4176    2     0.555   0.195        1.9485          0.3765        0.4950     12\n",
       "\n",
       "[4027 rows x 7 columns]"
      ]
     },
     "execution_count": 35,
     "metadata": {},
     "output_type": "execute_result"
    }
   ],
   "source": [
    "df.drop(['Length','Shucked weight'],axis=1,inplace=True)\n",
    "df"
   ]
  },
  {
   "cell_type": "markdown",
   "id": "08cc7169",
   "metadata": {},
   "source": [
    "Length and shucked weight column dropped"
   ]
  },
  {
   "cell_type": "markdown",
   "id": "17a25a04",
   "metadata": {},
   "source": [
    "# Scaling"
   ]
  },
  {
   "cell_type": "code",
   "execution_count": 36,
   "id": "8ca097fa",
   "metadata": {},
   "outputs": [
    {
     "data": {
      "text/plain": [
       "array([[ 1.15198011, -0.57455813, -0.43214879, ..., -0.60768536,\n",
       "        -0.72621157, -0.63821689],\n",
       "       [ 1.15198011, -1.44898585, -1.439929  , ..., -1.17090984,\n",
       "        -1.20522124, -1.21298732],\n",
       "       [-1.28068972,  0.05003309,  0.12213032, ..., -0.4634999 ,\n",
       "        -0.35668983, -0.20713907],\n",
       "       ...,\n",
       "       [ 1.15198011,  0.6329849 ,  0.67640943, ...,  0.74855917,\n",
       "         0.97541324,  0.49695471],\n",
       "       [-1.28068972,  0.84118198,  0.77718745, ...,  0.77334105,\n",
       "         0.73362741,  0.41073914],\n",
       "       [ 1.15198011,  1.54905203,  1.48263359, ...,  2.64099341,\n",
       "         1.78744868,  1.84048058]])"
      ]
     },
     "execution_count": 36,
     "metadata": {},
     "output_type": "execute_result"
    }
   ],
   "source": [
    "from sklearn.preprocessing import StandardScaler\n",
    "sc = StandardScaler()\n",
    "x=sc.fit_transform(x)\n",
    "x"
   ]
  },
  {
   "cell_type": "markdown",
   "id": "135c0449",
   "metadata": {},
   "source": [
    "Independent data is scaled"
   ]
  },
  {
   "cell_type": "markdown",
   "id": "b7a9693e",
   "metadata": {},
   "source": [
    "# Model Selection:"
   ]
  },
  {
   "cell_type": "markdown",
   "id": "9314454a",
   "metadata": {},
   "source": [
    "# Linear Regression"
   ]
  },
  {
   "cell_type": "code",
   "execution_count": 58,
   "id": "1851ef21",
   "metadata": {},
   "outputs": [],
   "source": [
    "from sklearn.preprocessing import MinMaxScaler \n",
    "from sklearn.metrics import r2_score \n",
    "mms=MinMaxScaler()\n",
    "from sklearn.linear_model import LinearRegression\n",
    "lr=LinearRegression()\n",
    "from sklearn.metrics import mean_squared_error,mean_absolute_error\n",
    "from sklearn.metrics import accuracy_score\n",
    "from sklearn.model_selection import train_test_split\n",
    "\n",
    "import warnings\n",
    "warnings.filterwarnings('ignore')"
   ]
  },
  {
   "cell_type": "code",
   "execution_count": 59,
   "id": "e50f5d07",
   "metadata": {},
   "outputs": [
    {
     "name": "stdout",
     "output_type": "stream",
     "text": [
      "At random state 0,the training accuracy is:- 0.5317872049752497\n",
      "At random state 0,the testing accuracy is:- 0.5397758347828413\n",
      "\n",
      "\n",
      "At random state 1,the training accuracy is:- 0.5398494245306245\n",
      "At random state 1,the testing accuracy is:- 0.507581068396882\n",
      "\n",
      "\n",
      "At random state 2,the training accuracy is:- 0.5298166481900799\n",
      "At random state 2,the testing accuracy is:- 0.5438357288929234\n",
      "\n",
      "\n",
      "At random state 3,the training accuracy is:- 0.5392785758542554\n",
      "At random state 3,the testing accuracy is:- 0.5074760065248172\n",
      "\n",
      "\n",
      "At random state 4,the training accuracy is:- 0.5438238948094782\n",
      "At random state 4,the testing accuracy is:- 0.4821223901129157\n",
      "\n",
      "\n",
      "At random state 5,the training accuracy is:- 0.5448119568218031\n",
      "At random state 5,the testing accuracy is:- 0.4881936822136098\n",
      "\n",
      "\n",
      "At random state 6,the training accuracy is:- 0.5240821017542178\n",
      "At random state 6,the testing accuracy is:- 0.571929718790042\n",
      "\n",
      "\n",
      "At random state 7,the training accuracy is:- 0.530387417187818\n",
      "At random state 7,the testing accuracy is:- 0.5417358278828281\n",
      "\n",
      "\n",
      "At random state 8,the training accuracy is:- 0.5415082212929454\n",
      "At random state 8,the testing accuracy is:- 0.5008089228735979\n",
      "\n",
      "\n",
      "At random state 9,the training accuracy is:- 0.5420040571203584\n",
      "At random state 9,the testing accuracy is:- 0.4995516251606409\n",
      "\n",
      "\n",
      "At random state 10,the training accuracy is:- 0.5317956783374533\n",
      "At random state 10,the testing accuracy is:- 0.5425547713674707\n",
      "\n",
      "\n",
      "At random state 11,the training accuracy is:- 0.5263807287020386\n",
      "At random state 11,the testing accuracy is:- 0.5618402239806489\n",
      "\n",
      "\n",
      "At random state 12,the training accuracy is:- 0.5215072423473127\n",
      "At random state 12,the testing accuracy is:- 0.5783704513607113\n",
      "\n",
      "\n",
      "At random state 13,the training accuracy is:- 0.5321142192556306\n",
      "At random state 13,the testing accuracy is:- 0.5401781220072367\n",
      "\n",
      "\n",
      "At random state 14,the training accuracy is:- 0.5398223882142881\n",
      "At random state 14,the testing accuracy is:- 0.5047861694756273\n",
      "\n",
      "\n",
      "At random state 15,the training accuracy is:- 0.5449341541767487\n",
      "At random state 15,the testing accuracy is:- 0.48650861660509337\n",
      "\n",
      "\n",
      "At random state 16,the training accuracy is:- 0.53555710415373\n",
      "At random state 16,the testing accuracy is:- 0.526213394751941\n",
      "\n",
      "\n",
      "At random state 17,the training accuracy is:- 0.5286099535080131\n",
      "At random state 17,the testing accuracy is:- 0.5524950030501523\n",
      "\n",
      "\n",
      "At random state 18,the training accuracy is:- 0.5358225989408686\n",
      "At random state 18,the testing accuracy is:- 0.5249728027960543\n",
      "\n",
      "\n",
      "At random state 19,the training accuracy is:- 0.547744257115701\n",
      "At random state 19,the testing accuracy is:- 0.4767076277786265\n",
      "\n",
      "\n",
      "At random state 20,the training accuracy is:- 0.5420436363030156\n",
      "At random state 20,the testing accuracy is:- 0.503291466484074\n",
      "\n",
      "\n",
      "At random state 21,the training accuracy is:- 0.5324102332656603\n",
      "At random state 21,the testing accuracy is:- 0.5335948858975641\n",
      "\n",
      "\n",
      "At random state 22,the training accuracy is:- 0.5439763561474983\n",
      "At random state 22,the testing accuracy is:- 0.4890695507593983\n",
      "\n",
      "\n",
      "At random state 23,the training accuracy is:- 0.5421885476168796\n",
      "At random state 23,the testing accuracy is:- 0.4987250747562578\n",
      "\n",
      "\n",
      "At random state 24,the training accuracy is:- 0.5405177097047602\n",
      "At random state 24,the testing accuracy is:- 0.501644405397179\n",
      "\n",
      "\n",
      "At random state 25,the training accuracy is:- 0.5401864783439572\n",
      "At random state 25,the testing accuracy is:- 0.4942107336403362\n",
      "\n",
      "\n",
      "At random state 26,the training accuracy is:- 0.534173020650406\n",
      "At random state 26,the testing accuracy is:- 0.5318245884199385\n",
      "\n",
      "\n",
      "At random state 27,the training accuracy is:- 0.5374684673202021\n",
      "At random state 27,the testing accuracy is:- 0.5156133741158014\n",
      "\n",
      "\n",
      "At random state 28,the training accuracy is:- 0.5288637798804945\n",
      "At random state 28,the testing accuracy is:- 0.5525780558171196\n",
      "\n",
      "\n",
      "At random state 29,the training accuracy is:- 0.5368621936246019\n",
      "At random state 29,the testing accuracy is:- 0.5217095702690739\n",
      "\n",
      "\n",
      "At random state 30,the training accuracy is:- 0.5231871730890643\n",
      "At random state 30,the testing accuracy is:- 0.5724053631020157\n",
      "\n",
      "\n",
      "At random state 31,the training accuracy is:- 0.518807717043494\n",
      "At random state 31,the testing accuracy is:- 0.5825930185774131\n",
      "\n",
      "\n",
      "At random state 32,the training accuracy is:- 0.5351522232246653\n",
      "At random state 32,the testing accuracy is:- 0.528647015010624\n",
      "\n",
      "\n",
      "At random state 33,the training accuracy is:- 0.53179050795926\n",
      "At random state 33,the testing accuracy is:- 0.5386120373470751\n",
      "\n",
      "\n",
      "At random state 34,the training accuracy is:- 0.5439061164915012\n",
      "At random state 34,the testing accuracy is:- 0.49028999561845665\n",
      "\n",
      "\n",
      "At random state 35,the training accuracy is:- 0.537519276855496\n",
      "At random state 35,the testing accuracy is:- 0.5133919210150575\n",
      "\n",
      "\n",
      "At random state 36,the training accuracy is:- 0.5377777227323203\n",
      "At random state 36,the testing accuracy is:- 0.5173383410901409\n",
      "\n",
      "\n",
      "At random state 37,the training accuracy is:- 0.5231176782136124\n",
      "At random state 37,the testing accuracy is:- 0.5781061827170431\n",
      "\n",
      "\n",
      "At random state 38,the training accuracy is:- 0.5289694959005873\n",
      "At random state 38,the testing accuracy is:- 0.5509854880686615\n",
      "\n",
      "\n",
      "At random state 39,the training accuracy is:- 0.5339817120307115\n",
      "At random state 39,the testing accuracy is:- 0.5269907644065914\n",
      "\n",
      "\n",
      "At random state 40,the training accuracy is:- 0.5402006687361\n",
      "At random state 40,the testing accuracy is:- 0.5054039359039293\n",
      "\n",
      "\n",
      "At random state 41,the training accuracy is:- 0.5388687342779089\n",
      "At random state 41,the testing accuracy is:- 0.505287140282289\n",
      "\n",
      "\n",
      "At random state 42,the training accuracy is:- 0.533709623113761\n",
      "At random state 42,the testing accuracy is:- 0.534147368750453\n",
      "\n",
      "\n",
      "At random state 43,the training accuracy is:- 0.5245435463887156\n",
      "At random state 43,the testing accuracy is:- 0.574318209476473\n",
      "\n",
      "\n",
      "At random state 44,the training accuracy is:- 0.5380736527649821\n",
      "At random state 44,the testing accuracy is:- 0.5176479444349991\n",
      "\n",
      "\n",
      "At random state 45,the training accuracy is:- 0.5343973737463259\n",
      "At random state 45,the testing accuracy is:- 0.5306533592194413\n",
      "\n",
      "\n",
      "At random state 46,the training accuracy is:- 0.5346225373540425\n",
      "At random state 46,the testing accuracy is:- 0.5265464017357937\n",
      "\n",
      "\n",
      "At random state 47,the training accuracy is:- 0.5387741918165229\n",
      "At random state 47,the testing accuracy is:- 0.5035546703934017\n",
      "\n",
      "\n",
      "At random state 48,the training accuracy is:- 0.5307355876695272\n",
      "At random state 48,the testing accuracy is:- 0.5457986599076203\n",
      "\n",
      "\n",
      "At random state 49,the training accuracy is:- 0.5391116078266023\n",
      "At random state 49,the testing accuracy is:- 0.5117203645931016\n",
      "\n",
      "\n",
      "At random state 50,the training accuracy is:- 0.5305340442369291\n",
      "At random state 50,the testing accuracy is:- 0.5438315757851528\n",
      "\n",
      "\n",
      "At random state 51,the training accuracy is:- 0.5319942385215525\n",
      "At random state 51,the testing accuracy is:- 0.5370667025907637\n",
      "\n",
      "\n",
      "At random state 52,the training accuracy is:- 0.5273999476925086\n",
      "At random state 52,the testing accuracy is:- 0.5583831330370179\n",
      "\n",
      "\n",
      "At random state 53,the training accuracy is:- 0.5280458419061849\n",
      "At random state 53,the testing accuracy is:- 0.5536027017074963\n",
      "\n",
      "\n",
      "At random state 54,the training accuracy is:- 0.5421667458845925\n",
      "At random state 54,the testing accuracy is:- 0.49774547645280764\n",
      "\n",
      "\n",
      "At random state 55,the training accuracy is:- 0.5360981788942286\n",
      "At random state 55,the testing accuracy is:- 0.5215090804324505\n",
      "\n",
      "\n",
      "At random state 56,the training accuracy is:- 0.5302052671314605\n",
      "At random state 56,the testing accuracy is:- 0.5413468617467758\n",
      "\n",
      "\n",
      "At random state 57,the training accuracy is:- 0.5354912372408702\n",
      "At random state 57,the testing accuracy is:- 0.5242407165044841\n",
      "\n",
      "\n",
      "At random state 58,the training accuracy is:- 0.5371068076471611\n",
      "At random state 58,the testing accuracy is:- 0.5162747592035009\n",
      "\n",
      "\n",
      "At random state 59,the training accuracy is:- 0.5393861507064084\n",
      "At random state 59,the testing accuracy is:- 0.5084967931602128\n",
      "\n",
      "\n",
      "At random state 60,the training accuracy is:- 0.5409346954074803\n",
      "At random state 60,the testing accuracy is:- 0.5027050960982168\n",
      "\n",
      "\n",
      "At random state 61,the training accuracy is:- 0.5287244628840584\n",
      "At random state 61,the testing accuracy is:- 0.5480348969866782\n",
      "\n",
      "\n",
      "At random state 62,the training accuracy is:- 0.5319817474808751\n",
      "At random state 62,the testing accuracy is:- 0.5400548500343753\n",
      "\n",
      "\n",
      "At random state 63,the training accuracy is:- 0.54020613544537\n",
      "At random state 63,the testing accuracy is:- 0.5038044572424314\n",
      "\n",
      "\n",
      "At random state 64,the training accuracy is:- 0.5315331743271825\n",
      "At random state 64,the testing accuracy is:- 0.5372176718052039\n",
      "\n",
      "\n",
      "At random state 65,the training accuracy is:- 0.5332093884931397\n",
      "At random state 65,the testing accuracy is:- 0.5249393669272768\n",
      "\n",
      "\n",
      "At random state 66,the training accuracy is:- 0.5413976145863243\n",
      "At random state 66,the testing accuracy is:- 0.4968995787217865\n",
      "\n",
      "\n",
      "At random state 67,the training accuracy is:- 0.5344885622360376\n",
      "At random state 67,the testing accuracy is:- 0.5302826829765548\n",
      "\n",
      "\n",
      "At random state 68,the training accuracy is:- 0.5408007019670489\n",
      "At random state 68,the testing accuracy is:- 0.5040100859410568\n",
      "\n",
      "\n",
      "At random state 69,the training accuracy is:- 0.5300911331984423\n",
      "At random state 69,the testing accuracy is:- 0.5467195368612011\n",
      "\n",
      "\n",
      "At random state 70,the training accuracy is:- 0.5327965180632841\n",
      "At random state 70,the testing accuracy is:- 0.5331188883258395\n",
      "\n",
      "\n",
      "At random state 71,the training accuracy is:- 0.5317841448770197\n",
      "At random state 71,the testing accuracy is:- 0.541190689716011\n",
      "\n",
      "\n",
      "At random state 72,the training accuracy is:- 0.5363820028741033\n",
      "At random state 72,the testing accuracy is:- 0.5217709624569502\n",
      "\n",
      "\n",
      "At random state 73,the training accuracy is:- 0.5382412569957085\n",
      "At random state 73,the testing accuracy is:- 0.5139296663687904\n",
      "\n",
      "\n",
      "At random state 74,the training accuracy is:- 0.5334589793031838\n",
      "At random state 74,the testing accuracy is:- 0.5337175757007264\n",
      "\n",
      "\n",
      "At random state 75,the training accuracy is:- 0.5379598779612098\n",
      "At random state 75,the testing accuracy is:- 0.5125870749044963\n",
      "\n",
      "\n",
      "At random state 76,the training accuracy is:- 0.5335105518482635\n",
      "At random state 76,the testing accuracy is:- 0.5339539948268968\n",
      "\n",
      "\n",
      "At random state 77,the training accuracy is:- 0.5272729055405372\n"
     ]
    },
    {
     "name": "stdout",
     "output_type": "stream",
     "text": [
      "At random state 77,the testing accuracy is:- 0.5603641656459032\n",
      "\n",
      "\n",
      "At random state 78,the training accuracy is:- 0.5372030811582766\n",
      "At random state 78,the testing accuracy is:- 0.5182406645782421\n",
      "\n",
      "\n",
      "At random state 79,the training accuracy is:- 0.5380280202375283\n",
      "At random state 79,the testing accuracy is:- 0.5089080398459934\n",
      "\n",
      "\n",
      "At random state 80,the training accuracy is:- 0.5364933725490144\n",
      "At random state 80,the testing accuracy is:- 0.521763110773755\n",
      "\n",
      "\n",
      "At random state 81,the training accuracy is:- 0.5246681817794516\n",
      "At random state 81,the testing accuracy is:- 0.5705868103754574\n",
      "\n",
      "\n",
      "At random state 82,the training accuracy is:- 0.5307852934148927\n",
      "At random state 82,the testing accuracy is:- 0.5437370729239681\n",
      "\n",
      "\n",
      "At random state 83,the training accuracy is:- 0.5388804640498498\n",
      "At random state 83,the testing accuracy is:- 0.5092739767408303\n",
      "\n",
      "\n",
      "At random state 84,the training accuracy is:- 0.5418101222276785\n",
      "At random state 84,the testing accuracy is:- 0.49777717685926004\n",
      "\n",
      "\n",
      "At random state 85,the training accuracy is:- 0.5349353463325526\n",
      "At random state 85,the testing accuracy is:- 0.5272345690171658\n",
      "\n",
      "\n",
      "At random state 86,the training accuracy is:- 0.5377631215210239\n",
      "At random state 86,the testing accuracy is:- 0.5160123086176742\n",
      "\n",
      "\n",
      "At random state 87,the training accuracy is:- 0.5371153622432728\n",
      "At random state 87,the testing accuracy is:- 0.5158474335294434\n",
      "\n",
      "\n",
      "At random state 88,the training accuracy is:- 0.5281314808981632\n",
      "At random state 88,the testing accuracy is:- 0.5558956613499235\n",
      "\n",
      "\n",
      "At random state 89,the training accuracy is:- 0.5246153143442744\n",
      "At random state 89,the testing accuracy is:- 0.5699260600523728\n",
      "\n",
      "\n",
      "At random state 90,the training accuracy is:- 0.5342817654916266\n",
      "At random state 90,the testing accuracy is:- 0.5306186703594772\n",
      "\n",
      "\n",
      "At random state 91,the training accuracy is:- 0.5366174296837437\n",
      "At random state 91,the testing accuracy is:- 0.5207034308169168\n",
      "\n",
      "\n",
      "At random state 92,the training accuracy is:- 0.5447113739830812\n",
      "At random state 92,the testing accuracy is:- 0.48450721290385057\n",
      "\n",
      "\n",
      "At random state 93,the training accuracy is:- 0.5287547179902361\n",
      "At random state 93,the testing accuracy is:- 0.5521803973803836\n",
      "\n",
      "\n",
      "At random state 94,the training accuracy is:- 0.5301416359646614\n",
      "At random state 94,the testing accuracy is:- 0.545900355394056\n",
      "\n",
      "\n",
      "At random state 95,the training accuracy is:- 0.5267803452793278\n",
      "At random state 95,the testing accuracy is:- 0.5597842614417059\n",
      "\n",
      "\n",
      "At random state 96,the training accuracy is:- 0.5338880860822983\n",
      "At random state 96,the testing accuracy is:- 0.5331573431917848\n",
      "\n",
      "\n",
      "At random state 97,the training accuracy is:- 0.5311865325731322\n",
      "At random state 97,the testing accuracy is:- 0.543976351664792\n",
      "\n",
      "\n",
      "At random state 98,the training accuracy is:- 0.5455366240540387\n",
      "At random state 98,the testing accuracy is:- 0.4863097255201305\n",
      "\n",
      "\n",
      "At random state 99,the training accuracy is:- 0.5387518066925482\n",
      "At random state 99,the testing accuracy is:- 0.5078789211693053\n",
      "\n",
      "\n"
     ]
    }
   ],
   "source": [
    "for i in range(0,100):\n",
    "    train_x,test_x,train_y,test_y=train_test_split(x,y,test_size=0.2,random_state=i)\n",
    "    lr.fit(train_x,train_y)\n",
    "    pred_train=lr.predict(train_x)\n",
    "    pred_test=lr.predict(test_x)\n",
    "    print(f\"At random state {i},the training accuracy is:- {r2_score(train_y,pred_train)}\")\n",
    "    print(f\"At random state {i},the testing accuracy is:- {r2_score(test_y,pred_test)}\")\n",
    "    print(\"\\n\")"
   ]
  },
  {
   "cell_type": "markdown",
   "id": "1d60d72b",
   "metadata": {},
   "source": [
    "Random state at 99 is having testing accuracy of 50.7%"
   ]
  },
  {
   "cell_type": "code",
   "execution_count": 60,
   "id": "1f9b8f66",
   "metadata": {},
   "outputs": [
    {
     "data": {
      "text/plain": [
       "0.5078789211693053"
      ]
     },
     "execution_count": 60,
     "metadata": {},
     "output_type": "execute_result"
    }
   ],
   "source": [
    "lr.fit(train_x,train_y)\n",
    "lr.score(test_x,test_y)"
   ]
  },
  {
   "cell_type": "code",
   "execution_count": 61,
   "id": "b2092ec0",
   "metadata": {},
   "outputs": [
    {
     "data": {
      "text/plain": [
       "array([ 8.07224561, 10.29891537,  9.63318081,  6.94861986, 10.84111307,\n",
       "       13.00779625,  5.96818054, 10.42059528, 11.88168866,  8.75620211,\n",
       "       10.46401577,  9.44710349,  8.11949435, 12.35913397, 11.97005243,\n",
       "       10.82849823, 10.32531805, 13.13174942, 10.9330765 ,  6.85939333,\n",
       "       13.08351392,  8.94056486,  7.22498301,  9.03425253,  9.50067473,\n",
       "       10.73385146,  8.31701311,  7.42931956,  9.46798591, 10.67023134,\n",
       "       11.29425007,  6.32633485, 12.15585082, 11.24761968,  8.07754612,\n",
       "        7.99513491, 10.34997697,  9.77137015,  9.2951012 ,  9.26651871,\n",
       "        5.70818976,  7.74472085, 12.91512679,  8.34003806, 16.68496218,\n",
       "        5.58492484, 10.25143817,  9.02794021,  6.65725623, 10.47248871,\n",
       "        7.54348345,  7.42133232, 12.17019077,  9.28253457,  8.8121312 ,\n",
       "       10.46418406, 10.12195526,  6.42897714,  9.23974665,  6.16486704,\n",
       "        9.27268995, 13.64842748, 12.31006922,  8.58800538, 13.56552668,\n",
       "       12.37218964,  7.06092866, 10.32757898, 11.16128572,  6.47118235,\n",
       "       12.04009378,  7.35564005, 10.07929036, 12.87043869,  5.49618528,\n",
       "       13.6998152 ,  7.57469127,  8.98931375,  5.81092201,  9.50702885,\n",
       "        7.74456609,  8.13053697,  9.93805617, 10.17262654, 11.04814928,\n",
       "        7.14407902, -1.30581452,  8.81880722, 12.74577776, 12.1722477 ,\n",
       "       10.80819282,  9.1199251 ,  8.83139968,  7.20139127, 10.21378046,\n",
       "        9.31327592,  8.46126574,  9.6173868 ,  7.12224768,  9.15378929,\n",
       "       10.74616154,  8.25075672,  7.53006598, 10.4167784 , 18.36700269,\n",
       "       10.49493474, 13.30178949, 11.73350812, 10.07295317,  5.7276557 ,\n",
       "       10.82609599, 10.0981619 ,  9.26937769,  8.85458702, 10.24353699,\n",
       "       10.17549938,  8.02284224, 10.2949896 ,  8.83268542, 11.42592278,\n",
       "        8.70125891,  8.42457588, 11.33051709,  9.48104338,  8.39901477,\n",
       "       10.9690212 , 10.47466785, 10.32038984,  9.48779664,  9.56756206,\n",
       "       10.48393355,  9.77189289,  9.12849249, 10.73811058, 11.85410452,\n",
       "        8.88372435,  9.06176881,  8.71730923, 11.15058782,  8.78269288,\n",
       "       12.91190538, 11.34472025,  9.33844194, 15.26904673, 11.3476806 ,\n",
       "       12.37831881,  7.94091059,  7.91925038, 11.95880163, 14.62292474,\n",
       "        9.22222092, 10.85249387, 11.25965438, 11.30173108, 11.05960671,\n",
       "       12.37335062,  8.75866279,  7.84455728,  9.17483736,  9.26773851,\n",
       "        8.57995679, 10.46413578,  9.51737096, 10.23368973,  8.35112584,\n",
       "       10.18744826, 12.1684935 ,  7.37511557, 10.42344454,  7.97341643,\n",
       "        8.33286918,  8.3006439 , 10.04274572, 13.99721209, 10.39806644,\n",
       "       10.746823  ,  7.22273212,  8.33547134,  4.73068833,  6.44976562,\n",
       "        9.43417548, 10.63508632,  9.13678409, 10.09738197, 12.52160047,\n",
       "        8.11524913, 10.94565251, 11.92429071, 10.4449032 ,  9.56479795,\n",
       "       14.04222479,  9.7764781 ,  9.58190481,  9.96142648,  9.29427413,\n",
       "        6.83221856, 10.70551494,  9.94166146, 10.4481955 ,  9.55968833,\n",
       "        8.52428365, 11.28361369, 13.00162841, 16.54627876, 10.13429632,\n",
       "       10.58650685, 14.37833898, 13.77761047, 10.20081699, 17.36488087,\n",
       "        9.60296781, 10.15898453, 10.96378927,  9.35099274, 10.2050677 ,\n",
       "       10.50025775,  9.81666005, 10.5062887 , 10.78324314,  8.97257539,\n",
       "       10.83092648, 13.23325301,  8.27539946,  6.68315753,  9.59449725,\n",
       "       10.81401742, 11.1519344 , 11.6790414 ,  9.59482162,  9.37307898,\n",
       "        9.90668979,  7.10385724,  8.39620489,  7.98946058,  7.90213075,\n",
       "        9.819016  , 12.04806133, 11.23340149, 12.1944248 ,  2.53403086,\n",
       "       10.96641405,  6.6128377 , 13.13677807, 10.76714419, 12.52755608,\n",
       "       10.70732247,  8.45810085, 11.32889703,  6.9319684 , 10.91563678,\n",
       "        9.50592761, 13.54070888, 10.60150906,  8.08230829, 10.70839666,\n",
       "        6.03986805,  8.56668799,  9.79514077, 11.54761825, 10.16520252,\n",
       "        5.305516  ,  8.39508971, 10.88958507,  6.63668714, 11.69519993,\n",
       "       10.09774476,  8.65292539, 10.24965172,  8.71322084, 15.07616598,\n",
       "        6.56760896,  9.27639859,  8.82523298, 19.770747  , 10.4773838 ,\n",
       "        9.41049537, 11.43910673, 13.31071419, 10.12032717,  9.90699152,\n",
       "        7.51224015, 11.94215496,  9.13854419,  7.46792907,  6.23469754,\n",
       "        8.84789829, 10.15081609, 10.70078992, 12.80023419,  9.78466859,\n",
       "       11.32798997,  9.6061647 ,  7.26181494, 13.76581309,  8.43732668,\n",
       "        5.81436955,  6.30847859,  7.95647817,  7.41009138, 12.46511794,\n",
       "        8.09862017,  9.08704158,  8.46130517, 12.45474845, 10.24655086,\n",
       "        9.89448397,  7.47982197,  7.5609965 ,  8.78184226,  8.87662307,\n",
       "        9.2684864 ,  5.96441013,  9.98849943, 11.95237669, 12.29342544,\n",
       "       10.98464745, 12.9333211 ,  8.92398774,  8.6647675 , 12.27384661,\n",
       "        9.0225044 , 12.73144351, 10.18458445,  9.95861827, 10.45733372,\n",
       "       11.21040151,  5.1696211 ,  9.59640688,  9.57130344,  9.57321613,\n",
       "       10.52185529,  9.27087782,  8.65414381,  8.29251433,  8.55452449,\n",
       "        8.31500855,  7.19287246,  9.84956888,  9.53015879, 10.77566621,\n",
       "        9.77068356,  7.54026387,  4.74915086, 10.99959766,  7.36067079,\n",
       "        9.71188157, 10.67361114, 23.11412824,  8.45291181,  8.98525847,\n",
       "        7.79077404, 13.94643608,  9.93878077, 17.54375664, 11.97268381,\n",
       "        8.67003444,  9.72655684, 10.01749164, 18.61650199,  7.64641236,\n",
       "       10.00326865, 12.10517336,  7.79211376,  8.48788089, 11.44875675,\n",
       "        7.95626236,  9.48833601, 10.42166796,  9.31099191,  5.82242001,\n",
       "       13.55840269,  8.92446534,  6.20942417, 10.95665811,  8.86549753,\n",
       "        6.40093443,  8.13684408, 14.06080551,  4.24609909, 11.14687954,\n",
       "       20.06246544,  7.03001475, 10.07226499,  9.89667965, 10.89825127,\n",
       "       13.03136039, 11.04727853, 13.33673635,  9.10128522, 15.52255456,\n",
       "        8.73404622, 11.32941116, 10.71777894, 10.3027857 , 11.53210051,\n",
       "        8.8669303 ,  8.57760179,  9.1572871 ,  7.58482222, 10.5938797 ,\n",
       "       12.4177983 , 11.25154473,  8.58210621,  9.11775961,  9.20506461,\n",
       "        6.49205711, 11.01423162,  9.12898719,  9.97985276,  9.88520861,\n",
       "        9.63175398, 10.47251993, 13.98548928,  9.75429458,  8.50033326,\n",
       "       10.46866197, 12.18625257,  6.67775464, 11.04024362, 10.28101551,\n",
       "        9.32546999, 11.52959583,  8.74396691, 12.95435516, 11.62627688,\n",
       "        8.42978524,  6.08790984, 10.29630187,  7.46564599,  7.9489973 ,\n",
       "       19.25142865,  8.42556175,  9.6147126 , 15.87467966,  8.26034781,\n",
       "        9.48549161, 11.54811914,  5.87748055, 11.44971516, 12.17100814,\n",
       "        7.63182979,  8.83601511, 11.76689797,  7.75045324, 13.74587532,\n",
       "       10.09040334,  7.20388287, 10.97676413, 11.54029498, 11.18185369,\n",
       "        6.10260459,  9.95399922, 12.47123255, 10.27346742,  7.67148263,\n",
       "       11.18420647, 10.38010786, 11.01307469, 15.91300294,  9.56755355,\n",
       "        9.24950431,  7.12637514,  9.3095868 , 11.38997042, 10.08337007,\n",
       "        8.21207646, 10.06713674,  9.12835007, 10.08114698, 11.81450553,\n",
       "        9.28580082, 10.60394694, 10.24127073,  8.33738845, 11.61256925,\n",
       "       10.15144222, 13.00941607, 11.9102611 , 12.19169019,  9.65268846,\n",
       "       10.53887486,  8.70982142,  7.68979658, 11.72955379, 10.81417069,\n",
       "       10.65232293,  8.72461649,  7.78550116, 14.44462481,  9.85962185,\n",
       "       12.13684141,  9.43382653,  4.88373043,  7.23877467, 11.70162816,\n",
       "        8.63580098, 10.89900993, 13.31112519, 11.91762189,  9.34692776,\n",
       "       14.47803101,  7.48631308,  5.98906007,  6.74997773,  9.48043515,\n",
       "       11.37554884, 11.9846576 , 11.21144971,  9.47377541, 10.44000907,\n",
       "        9.70789223,  6.74755008,  8.64616885, 10.77971107, 10.03426142,\n",
       "       10.7892149 ,  9.01493643,  9.69072596, 11.28420438, 11.7585397 ,\n",
       "        8.91722469,  9.082452  , 12.14157203,  9.40092986,  6.8092142 ,\n",
       "        9.86042833,  8.06332628, 14.32420401, 11.58108654,  7.43145023,\n",
       "       10.38965832,  8.35302403,  7.33669229, 11.91049791,  8.35609229,\n",
       "       10.6992896 ,  9.43563207,  8.74162929, 11.88228059,  9.02151725,\n",
       "       12.68845298, 13.46589851, 13.10711388,  8.01252273, 10.1662037 ,\n",
       "        9.19498637,  9.27213138, 12.25054478, 16.75795738,  9.67954745,\n",
       "        8.54396545,  9.44122978,  9.67143513, 10.81235458,  9.12942345,\n",
       "       15.02342556,  8.21875467, 11.6212595 , 11.69509005,  5.90247283,\n",
       "       16.82754452, 10.42563606, 10.51432277,  7.15277873,  9.5953579 ,\n",
       "        9.57095995, 10.6861918 , 10.81314541, 11.637102  ,  5.97284387,\n",
       "       10.68048026,  6.9194864 , 16.15078218,  9.5200033 , 10.4241536 ,\n",
       "        5.66412675,  8.35558422,  5.35651186,  8.70769429, 11.16112089,\n",
       "       13.90766435, 11.80510902,  8.7909545 ,  9.55772045, 12.6674135 ,\n",
       "        9.35409409,  8.46761343, 10.37376203,  8.14643099,  9.02143877,\n",
       "        5.51723013, 10.07756211, 11.30792664,  8.56672786, 13.19214158,\n",
       "        8.56715485, 11.02175972,  9.70335161,  6.70982423,  8.85393877,\n",
       "       10.33886905, 10.73151762,  9.75815361,  8.42560052, 10.31047254,\n",
       "        8.92416585, 10.81113745,  7.34390264, 10.45861172,  7.20746727,\n",
       "       10.90170205,  7.55124565, 11.5337203 ,  6.71682247,  7.49319752,\n",
       "        5.78912982,  9.33000177, 10.45693461,  8.17300248,  8.9988355 ,\n",
       "       11.93147847, 12.32468928,  9.12305791, 11.16153737, 12.21984641,\n",
       "        5.98377499,  9.44301119, 17.38023301,  8.21665416, 11.61707174,\n",
       "        9.58359711,  9.05043354,  8.15837369,  8.37226969,  7.51611818,\n",
       "       11.16011659,  9.19637165,  9.1139448 , 12.10491693, 11.20284646,\n",
       "       12.05501682,  8.51038443,  7.5036415 ,  8.47313393,  6.58338559,\n",
       "       13.94493118, 10.28528296,  7.95771403, 10.33189301, 11.18910872,\n",
       "       11.84896945, 11.35824869,  8.85694623,  8.56274222, 10.80618642,\n",
       "       11.34882389,  9.95530708, 10.37938857,  9.57245602,  8.4545401 ,\n",
       "        9.60004505,  8.119057  ,  9.77600753,  5.71725643, 15.79634167,\n",
       "        9.9068042 ,  8.10701017,  9.21919482, 10.82008736,  5.14974185,\n",
       "       10.02570099, 10.14603161, 11.01014079, 10.91864623,  6.66376052,\n",
       "        5.97411901, 11.99675614,  6.96931674, 11.15618594, 12.84981646,\n",
       "       10.65759796, 10.12967862, 11.09382741,  9.08555684,  7.08658108,\n",
       "        9.4854109 , 13.13719847, 11.82740671,  8.61909879,  8.8438793 ,\n",
       "        9.54377857,  8.06105941,  9.14671832,  5.76267465, 11.3193535 ,\n",
       "       11.87809894, 10.55329113, 10.79633925, 11.15493049, 11.44826949,\n",
       "       11.50975868, 10.32417499,  9.79959711,  5.92198448, 10.18175757,\n",
       "        8.62869821,  7.31732096,  9.75129701,  6.24174013, 10.2711471 ,\n",
       "       10.76567521,  7.65796465,  8.92741543,  9.42711545, 11.75769383,\n",
       "        8.49180822,  6.69285286,  7.8057102 ,  9.05812054,  7.21162415,\n",
       "        9.07370083, 11.57518172,  8.80012095,  7.81543891,  7.30038044,\n",
       "       11.91997388, 12.64292834,  7.26514712, 10.68778491, 11.58098832,\n",
       "       11.1955748 , 11.56061905,  8.61234961,  7.57322456,  8.1932737 ,\n",
       "        8.24941882, 11.35362037,  6.65970658, 10.43556294,  5.47640149,\n",
       "        6.23496222,  9.34796674,  9.26571272, 10.12053125, 13.36269523,\n",
       "        9.72797258,  8.14339377,  6.90705257,  7.02924696, 12.96488455,\n",
       "        9.58813212,  9.13028644,  8.01394844,  8.53146865,  8.65035069,\n",
       "        9.40608634,  6.27035498, 10.163664  ,  9.83160718, 10.36234255,\n",
       "       12.38186411,  9.15604337, 10.82982729, 10.11530171, 11.58926969,\n",
       "        7.64291786,  9.48186472,  8.20608038, 10.56413892,  4.3262015 ,\n",
       "        7.87089047,  9.44612999,  9.70281181,  9.44819219, 10.57602994,\n",
       "       11.56318171,  7.9102468 ,  8.62936025, 12.65405722, 11.49557361,\n",
       "       10.57029223, 13.42961982,  8.04525446,  4.09753977,  7.68527333,\n",
       "        6.66316468, 11.93628747,  9.5512836 ,  9.51628151, 10.14024217,\n",
       "       14.18514418,  7.45211086,  6.11964204,  7.46845966, 15.43982089,\n",
       "        9.81621564,  6.98520173,  7.67192317, 10.94948963,  5.7591633 ,\n",
       "        8.70096261,  4.79460504, 12.36933383,  8.81566481,  8.72474841,\n",
       "        7.8279802 , 13.89017484, 12.54053442, 12.38392473, 14.42476294,\n",
       "        9.21306445, 12.26567846, 14.41919945,  8.51038508,  7.15371307,\n",
       "        6.98493136, 10.94146505,  9.94763575,  7.65429246, 12.25408345,\n",
       "        7.81780394,  8.31369122, 12.20779841, 11.30009741, 10.76752658,\n",
       "        5.49552928, 12.89915979, 10.90397866,  7.77934768,  9.63610215,\n",
       "        7.60111301,  7.91003147,  9.25083063,  9.07903884,  8.78579263,\n",
       "       13.72774299])"
      ]
     },
     "execution_count": 61,
     "metadata": {},
     "output_type": "execute_result"
    }
   ],
   "source": [
    "#Predicted data\n",
    "pred=lr.predict(test_x)\n",
    "pred"
   ]
  },
  {
   "cell_type": "code",
   "execution_count": 62,
   "id": "c15c9a7a",
   "metadata": {},
   "outputs": [
    {
     "name": "stdout",
     "output_type": "stream",
     "text": [
      "Mean squared error: 4.763384000444101\n",
      "Mean absolute error: 1.5709627027950628\n",
      "R2Score: 0.5078789211693053\n"
     ]
    }
   ],
   "source": [
    "print(\"Mean squared error:\",mean_squared_error(test_y,pred))\n",
    "print(\"Mean absolute error:\",mean_absolute_error(test_y,pred))\n",
    "print(\"R2Score:\",r2_score(test_y,pred))"
   ]
  },
  {
   "cell_type": "markdown",
   "id": "2ca52e2e",
   "metadata": {},
   "source": [
    "Value of r2 score is 50.7%"
   ]
  },
  {
   "cell_type": "markdown",
   "id": "b48d4632",
   "metadata": {},
   "source": [
    "# Regularization:"
   ]
  },
  {
   "cell_type": "code",
   "execution_count": 53,
   "id": "b9ec7727",
   "metadata": {},
   "outputs": [],
   "source": [
    "from sklearn.model_selection import GridSearchCV\n",
    "from sklearn.model_selection import cross_val_score\n",
    "import warnings\n",
    "warnings.filterwarnings('ignore')"
   ]
  },
  {
   "cell_type": "code",
   "execution_count": 56,
   "id": "6885a1aa",
   "metadata": {},
   "outputs": [
    {
     "name": "stdout",
     "output_type": "stream",
     "text": [
      "{'alpha': 0.001, 'random_state': 0}\n"
     ]
    }
   ],
   "source": [
    "from sklearn.linear_model import Lasso\n",
    "\n",
    "parameters = {'alpha':[.0001, .001, .01, .1, 1,10],'random_state':list(range(0,100))}\n",
    "ls = Lasso()\n",
    "clf = GridSearchCV(ls,parameters)\n",
    "clf.fit(train_x,train_y)\n",
    "\n",
    "print(clf.best_params_)"
   ]
  },
  {
   "cell_type": "code",
   "execution_count": 55,
   "id": "498a9674",
   "metadata": {},
   "outputs": [
    {
     "data": {
      "text/plain": [
       "0.4929171884615612"
      ]
     },
     "execution_count": 55,
     "metadata": {},
     "output_type": "execute_result"
    }
   ],
   "source": [
    "ls = Lasso(alpha=0.001,random_state=0)\n",
    "ls.fit(train_x,train_y)\n",
    "ls.score(train_x,train_y)\n",
    "pred_ls = ls.predict(test_x)\n",
    "\n",
    "lss = r2_score(test_y,pred_ls)\n",
    "lss"
   ]
  },
  {
   "cell_type": "markdown",
   "id": "ea82682b",
   "metadata": {},
   "source": [
    "Lasso r2 score is 49%"
   ]
  },
  {
   "cell_type": "markdown",
   "id": "b521e984",
   "metadata": {},
   "source": [
    "# Decision Tree Regressor"
   ]
  },
  {
   "cell_type": "code",
   "execution_count": 67,
   "id": "9d00d79b",
   "metadata": {},
   "outputs": [],
   "source": [
    "from sklearn.tree import DecisionTreeRegressor"
   ]
  },
  {
   "cell_type": "code",
   "execution_count": 68,
   "id": "977480fd",
   "metadata": {},
   "outputs": [
    {
     "name": "stdout",
     "output_type": "stream",
     "text": [
      "dtr score 1.0\n",
      "dtr r2_score 0.16546059842842797\n",
      "Mean squared error of dtr 8.07775119617225\n"
     ]
    }
   ],
   "source": [
    "dtr= DecisionTreeRegressor()\n",
    "dtr.fit(train_x,train_y)\n",
    "print('dtr score',dtr.score(train_x,train_y))\n",
    "dtrpredict=dtr.predict(test_x)\n",
    "print('dtr r2_score',r2_score(test_y,dtrpredict))\n",
    "\n",
    "print('Mean squared error of dtr',mean_squared_error(test_y,dtrpredict))"
   ]
  },
  {
   "cell_type": "markdown",
   "id": "c8330130",
   "metadata": {},
   "source": [
    "Score of model is 100%\n",
    "r2 score is 16.5%"
   ]
  },
  {
   "cell_type": "markdown",
   "id": "11d85728",
   "metadata": {},
   "source": [
    "# KNeighbor Regression"
   ]
  },
  {
   "cell_type": "code",
   "execution_count": 69,
   "id": "9d01d4c7",
   "metadata": {},
   "outputs": [],
   "source": [
    "from sklearn.neighbors import KNeighborsRegressor"
   ]
  },
  {
   "cell_type": "code",
   "execution_count": 70,
   "id": "c3c761bd",
   "metadata": {},
   "outputs": [
    {
     "name": "stdout",
     "output_type": "stream",
     "text": [
      "knr score 0.6637719734399254\n",
      "knr r2_score 0.48445163721305773\n",
      "Mean squared error of knr 4.990143540669857\n"
     ]
    }
   ],
   "source": [
    "knr= KNeighborsRegressor()\n",
    "knr.fit(train_x,train_y)\n",
    "print('knr score',knr.score(train_x,train_y))\n",
    "knrpredict=knr.predict(test_x)\n",
    "print('knr r2_score',r2_score(test_y,knrpredict))\n",
    "\n",
    "print('Mean squared error of knr',mean_squared_error(test_y,knrpredict))"
   ]
  },
  {
   "cell_type": "markdown",
   "id": "6a22a890",
   "metadata": {},
   "source": [
    "KNR score is 66%\n",
    "r2 score is 48%"
   ]
  },
  {
   "cell_type": "markdown",
   "id": "10589dd6",
   "metadata": {},
   "source": [
    "# SVR: Support Vector Regression"
   ]
  },
  {
   "cell_type": "code",
   "execution_count": 71,
   "id": "4cb6405b",
   "metadata": {},
   "outputs": [],
   "source": [
    "from sklearn.svm import SVR"
   ]
  },
  {
   "cell_type": "code",
   "execution_count": 72,
   "id": "4e617e03",
   "metadata": {},
   "outputs": [
    {
     "name": "stdout",
     "output_type": "stream",
     "text": [
      "dtc score 0.5550905380657428\n",
      "dtc r2_score 0.5528641265397836\n",
      "Mean squared error of dtc 4.32795902733063\n"
     ]
    }
   ],
   "source": [
    "svr1=SVR()\n",
    "svr1.fit(train_x,train_y)\n",
    "print('dtc score',svr1.score(train_x,train_y))\n",
    "svrpredict=svr1.predict(test_x)\n",
    "print('dtc r2_score',r2_score(test_y,svrpredict))\n",
    "\n",
    "print('Mean squared error of dtc',mean_squared_error(test_y,svrpredict))"
   ]
  },
  {
   "cell_type": "markdown",
   "id": "38e0f188",
   "metadata": {},
   "source": [
    "SVR score is 55%\n",
    "r2 score is 55%"
   ]
  },
  {
   "cell_type": "markdown",
   "id": "f3bd6b7e",
   "metadata": {},
   "source": [
    "# SGDR Regressor"
   ]
  },
  {
   "cell_type": "code",
   "execution_count": 74,
   "id": "30f8abee",
   "metadata": {},
   "outputs": [
    {
     "name": "stdout",
     "output_type": "stream",
     "text": [
      "sgd score 0.5283345979683365\n",
      "sgdc r2_score 0.5000949923719067\n",
      "Mean squared error of dtc 4.838726926177386\n"
     ]
    }
   ],
   "source": [
    "from sklearn.linear_model import SGDRegressor\n",
    "sgd=SGDRegressor()\n",
    "sgd.fit(train_x,train_y)\n",
    "print('sgd score',sgd.score(train_x,train_y))\n",
    "sgdpredict=sgd.predict(test_x)\n",
    "print('sgdc r2_score',r2_score(test_y,sgdpredict))\n",
    "\n",
    "print('Mean squared error of dtc',mean_squared_error(test_y,sgdpredict))"
   ]
  },
  {
   "cell_type": "markdown",
   "id": "74a4cfc6",
   "metadata": {},
   "source": [
    "KNR score is 52%\n",
    "r2 score is 50%"
   ]
  },
  {
   "cell_type": "markdown",
   "id": "a5412554",
   "metadata": {},
   "source": [
    "Best model is KNeighbor Regression"
   ]
  },
  {
   "cell_type": "markdown",
   "id": "0fe8c7c2",
   "metadata": {},
   "source": [
    "# Model saving:"
   ]
  },
  {
   "cell_type": "code",
   "execution_count": 75,
   "id": "9ae37c23",
   "metadata": {},
   "outputs": [],
   "source": [
    "import pickle\n",
    "filename = 'abalone.pkl'\n",
    "pickle.dump('rf', open(filename, 'wb'))"
   ]
  },
  {
   "cell_type": "markdown",
   "id": "576f0147",
   "metadata": {},
   "source": [
    "## Conclusion:"
   ]
  },
  {
   "cell_type": "code",
   "execution_count": 80,
   "id": "7cd3620d",
   "metadata": {},
   "outputs": [
    {
     "data": {
      "text/html": [
       "<div>\n",
       "<style scoped>\n",
       "    .dataframe tbody tr th:only-of-type {\n",
       "        vertical-align: middle;\n",
       "    }\n",
       "\n",
       "    .dataframe tbody tr th {\n",
       "        vertical-align: top;\n",
       "    }\n",
       "\n",
       "    .dataframe thead th {\n",
       "        text-align: right;\n",
       "    }\n",
       "</style>\n",
       "<table border=\"1\" class=\"dataframe\">\n",
       "  <thead>\n",
       "    <tr style=\"text-align: right;\">\n",
       "      <th></th>\n",
       "      <th>original</th>\n",
       "      <th>predicted</th>\n",
       "    </tr>\n",
       "  </thead>\n",
       "  <tbody>\n",
       "    <tr>\n",
       "      <th>0</th>\n",
       "      <td>8</td>\n",
       "      <td>8.0</td>\n",
       "    </tr>\n",
       "    <tr>\n",
       "      <th>1</th>\n",
       "      <td>17</td>\n",
       "      <td>9.8</td>\n",
       "    </tr>\n",
       "    <tr>\n",
       "      <th>2</th>\n",
       "      <td>10</td>\n",
       "      <td>9.6</td>\n",
       "    </tr>\n",
       "    <tr>\n",
       "      <th>3</th>\n",
       "      <td>6</td>\n",
       "      <td>6.6</td>\n",
       "    </tr>\n",
       "    <tr>\n",
       "      <th>4</th>\n",
       "      <td>11</td>\n",
       "      <td>10.4</td>\n",
       "    </tr>\n",
       "    <tr>\n",
       "      <th>...</th>\n",
       "      <td>...</td>\n",
       "      <td>...</td>\n",
       "    </tr>\n",
       "    <tr>\n",
       "      <th>831</th>\n",
       "      <td>8</td>\n",
       "      <td>7.2</td>\n",
       "    </tr>\n",
       "    <tr>\n",
       "      <th>832</th>\n",
       "      <td>12</td>\n",
       "      <td>9.8</td>\n",
       "    </tr>\n",
       "    <tr>\n",
       "      <th>833</th>\n",
       "      <td>8</td>\n",
       "      <td>8.8</td>\n",
       "    </tr>\n",
       "    <tr>\n",
       "      <th>834</th>\n",
       "      <td>7</td>\n",
       "      <td>8.0</td>\n",
       "    </tr>\n",
       "    <tr>\n",
       "      <th>835</th>\n",
       "      <td>20</td>\n",
       "      <td>12.0</td>\n",
       "    </tr>\n",
       "  </tbody>\n",
       "</table>\n",
       "<p>836 rows × 2 columns</p>\n",
       "</div>"
      ],
      "text/plain": [
       "     original  predicted\n",
       "0           8        8.0\n",
       "1          17        9.8\n",
       "2          10        9.6\n",
       "3           6        6.6\n",
       "4          11       10.4\n",
       "..        ...        ...\n",
       "831         8        7.2\n",
       "832        12        9.8\n",
       "833         8        8.8\n",
       "834         7        8.0\n",
       "835        20       12.0\n",
       "\n",
       "[836 rows x 2 columns]"
      ]
     },
     "execution_count": 80,
     "metadata": {},
     "output_type": "execute_result"
    }
   ],
   "source": [
    "import numpy as np\n",
    "a=np.array(test_y)\n",
    "knrpredict =np.array(knr.predict(test_x))\n",
    "df_com=pd.DataFrame({\"original\":a, \"predicted\": knrpredict},index=range(len(a)))\n",
    "df_com"
   ]
  },
  {
   "cell_type": "code",
   "execution_count": null,
   "id": "3ceef7d9",
   "metadata": {},
   "outputs": [],
   "source": [
    "As the accuracy score is of 66% so some error are there"
   ]
  }
 ],
 "metadata": {
  "kernelspec": {
   "display_name": "Python 3",
   "language": "python",
   "name": "python3"
  },
  "language_info": {
   "codemirror_mode": {
    "name": "ipython",
    "version": 3
   },
   "file_extension": ".py",
   "mimetype": "text/x-python",
   "name": "python",
   "nbconvert_exporter": "python",
   "pygments_lexer": "ipython3",
   "version": "3.8.8"
  }
 },
 "nbformat": 4,
 "nbformat_minor": 5
}
