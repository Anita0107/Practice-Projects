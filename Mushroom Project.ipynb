{
 "cells": [
  {
   "cell_type": "markdown",
   "id": "f27b96bb",
   "metadata": {},
   "source": [
    "# Importing the Dataset:"
   ]
  },
  {
   "cell_type": "code",
   "execution_count": 1,
   "id": "793327a2",
   "metadata": {},
   "outputs": [],
   "source": [
    "import pandas as pd\n",
    "import numpy as np"
   ]
  },
  {
   "cell_type": "code",
   "execution_count": 2,
   "id": "d5b40afd",
   "metadata": {},
   "outputs": [],
   "source": [
    "df=pd.read_csv(\"mushroom.csv\")"
   ]
  },
  {
   "cell_type": "code",
   "execution_count": 3,
   "id": "8df2dcd1",
   "metadata": {},
   "outputs": [
    {
     "data": {
      "text/html": [
       "<div>\n",
       "<style scoped>\n",
       "    .dataframe tbody tr th:only-of-type {\n",
       "        vertical-align: middle;\n",
       "    }\n",
       "\n",
       "    .dataframe tbody tr th {\n",
       "        vertical-align: top;\n",
       "    }\n",
       "\n",
       "    .dataframe thead th {\n",
       "        text-align: right;\n",
       "    }\n",
       "</style>\n",
       "<table border=\"1\" class=\"dataframe\">\n",
       "  <thead>\n",
       "    <tr style=\"text-align: right;\">\n",
       "      <th></th>\n",
       "      <th>class</th>\n",
       "      <th>cap-shape</th>\n",
       "      <th>cap-surface</th>\n",
       "      <th>cap-color</th>\n",
       "      <th>bruises</th>\n",
       "      <th>odor</th>\n",
       "      <th>gill-attachment</th>\n",
       "      <th>gill-spacing</th>\n",
       "      <th>gill-size</th>\n",
       "      <th>gill-color</th>\n",
       "      <th>...</th>\n",
       "      <th>stalk-surface-below-ring</th>\n",
       "      <th>stalk-color-above-ring</th>\n",
       "      <th>stalk-color-below-ring</th>\n",
       "      <th>veil-type</th>\n",
       "      <th>veil-color</th>\n",
       "      <th>ring-number</th>\n",
       "      <th>ring-type</th>\n",
       "      <th>spore-print-color</th>\n",
       "      <th>population</th>\n",
       "      <th>habitat</th>\n",
       "    </tr>\n",
       "  </thead>\n",
       "  <tbody>\n",
       "    <tr>\n",
       "      <th>0</th>\n",
       "      <td>p</td>\n",
       "      <td>x</td>\n",
       "      <td>s</td>\n",
       "      <td>n</td>\n",
       "      <td>t</td>\n",
       "      <td>p</td>\n",
       "      <td>f</td>\n",
       "      <td>c</td>\n",
       "      <td>n</td>\n",
       "      <td>k</td>\n",
       "      <td>...</td>\n",
       "      <td>s</td>\n",
       "      <td>w</td>\n",
       "      <td>w</td>\n",
       "      <td>p</td>\n",
       "      <td>w</td>\n",
       "      <td>o</td>\n",
       "      <td>p</td>\n",
       "      <td>k</td>\n",
       "      <td>s</td>\n",
       "      <td>u</td>\n",
       "    </tr>\n",
       "    <tr>\n",
       "      <th>1</th>\n",
       "      <td>e</td>\n",
       "      <td>x</td>\n",
       "      <td>s</td>\n",
       "      <td>y</td>\n",
       "      <td>t</td>\n",
       "      <td>a</td>\n",
       "      <td>f</td>\n",
       "      <td>c</td>\n",
       "      <td>b</td>\n",
       "      <td>k</td>\n",
       "      <td>...</td>\n",
       "      <td>s</td>\n",
       "      <td>w</td>\n",
       "      <td>w</td>\n",
       "      <td>p</td>\n",
       "      <td>w</td>\n",
       "      <td>o</td>\n",
       "      <td>p</td>\n",
       "      <td>n</td>\n",
       "      <td>n</td>\n",
       "      <td>g</td>\n",
       "    </tr>\n",
       "    <tr>\n",
       "      <th>2</th>\n",
       "      <td>e</td>\n",
       "      <td>b</td>\n",
       "      <td>s</td>\n",
       "      <td>w</td>\n",
       "      <td>t</td>\n",
       "      <td>l</td>\n",
       "      <td>f</td>\n",
       "      <td>c</td>\n",
       "      <td>b</td>\n",
       "      <td>n</td>\n",
       "      <td>...</td>\n",
       "      <td>s</td>\n",
       "      <td>w</td>\n",
       "      <td>w</td>\n",
       "      <td>p</td>\n",
       "      <td>w</td>\n",
       "      <td>o</td>\n",
       "      <td>p</td>\n",
       "      <td>n</td>\n",
       "      <td>n</td>\n",
       "      <td>m</td>\n",
       "    </tr>\n",
       "    <tr>\n",
       "      <th>3</th>\n",
       "      <td>p</td>\n",
       "      <td>x</td>\n",
       "      <td>y</td>\n",
       "      <td>w</td>\n",
       "      <td>t</td>\n",
       "      <td>p</td>\n",
       "      <td>f</td>\n",
       "      <td>c</td>\n",
       "      <td>n</td>\n",
       "      <td>n</td>\n",
       "      <td>...</td>\n",
       "      <td>s</td>\n",
       "      <td>w</td>\n",
       "      <td>w</td>\n",
       "      <td>p</td>\n",
       "      <td>w</td>\n",
       "      <td>o</td>\n",
       "      <td>p</td>\n",
       "      <td>k</td>\n",
       "      <td>s</td>\n",
       "      <td>u</td>\n",
       "    </tr>\n",
       "    <tr>\n",
       "      <th>4</th>\n",
       "      <td>e</td>\n",
       "      <td>x</td>\n",
       "      <td>s</td>\n",
       "      <td>g</td>\n",
       "      <td>f</td>\n",
       "      <td>n</td>\n",
       "      <td>f</td>\n",
       "      <td>w</td>\n",
       "      <td>b</td>\n",
       "      <td>k</td>\n",
       "      <td>...</td>\n",
       "      <td>s</td>\n",
       "      <td>w</td>\n",
       "      <td>w</td>\n",
       "      <td>p</td>\n",
       "      <td>w</td>\n",
       "      <td>o</td>\n",
       "      <td>e</td>\n",
       "      <td>n</td>\n",
       "      <td>a</td>\n",
       "      <td>g</td>\n",
       "    </tr>\n",
       "  </tbody>\n",
       "</table>\n",
       "<p>5 rows × 23 columns</p>\n",
       "</div>"
      ],
      "text/plain": [
       "  class cap-shape cap-surface cap-color bruises odor gill-attachment  \\\n",
       "0     p         x           s         n       t    p               f   \n",
       "1     e         x           s         y       t    a               f   \n",
       "2     e         b           s         w       t    l               f   \n",
       "3     p         x           y         w       t    p               f   \n",
       "4     e         x           s         g       f    n               f   \n",
       "\n",
       "  gill-spacing gill-size gill-color  ... stalk-surface-below-ring  \\\n",
       "0            c         n          k  ...                        s   \n",
       "1            c         b          k  ...                        s   \n",
       "2            c         b          n  ...                        s   \n",
       "3            c         n          n  ...                        s   \n",
       "4            w         b          k  ...                        s   \n",
       "\n",
       "  stalk-color-above-ring stalk-color-below-ring veil-type veil-color  \\\n",
       "0                      w                      w         p          w   \n",
       "1                      w                      w         p          w   \n",
       "2                      w                      w         p          w   \n",
       "3                      w                      w         p          w   \n",
       "4                      w                      w         p          w   \n",
       "\n",
       "  ring-number ring-type spore-print-color population habitat  \n",
       "0           o         p                 k          s       u  \n",
       "1           o         p                 n          n       g  \n",
       "2           o         p                 n          n       m  \n",
       "3           o         p                 k          s       u  \n",
       "4           o         e                 n          a       g  \n",
       "\n",
       "[5 rows x 23 columns]"
      ]
     },
     "execution_count": 3,
     "metadata": {},
     "output_type": "execute_result"
    }
   ],
   "source": [
    "df.head()"
   ]
  },
  {
   "cell_type": "markdown",
   "id": "8b3b360d",
   "metadata": {},
   "source": [
    "Showing top 5 data"
   ]
  },
  {
   "cell_type": "markdown",
   "id": "55bb4c27",
   "metadata": {},
   "source": [
    "# Checking Null values in the DataFrame:"
   ]
  },
  {
   "cell_type": "code",
   "execution_count": 4,
   "id": "0e7bf3b4",
   "metadata": {},
   "outputs": [
    {
     "data": {
      "text/plain": [
       "class                       0\n",
       "cap-shape                   0\n",
       "cap-surface                 0\n",
       "cap-color                   0\n",
       "bruises                     0\n",
       "odor                        0\n",
       "gill-attachment             0\n",
       "gill-spacing                0\n",
       "gill-size                   0\n",
       "gill-color                  0\n",
       "stalk-shape                 0\n",
       "stalk-root                  0\n",
       "stalk-surface-above-ring    0\n",
       "stalk-surface-below-ring    0\n",
       "stalk-color-above-ring      0\n",
       "stalk-color-below-ring      0\n",
       "veil-type                   0\n",
       "veil-color                  0\n",
       "ring-number                 0\n",
       "ring-type                   0\n",
       "spore-print-color           0\n",
       "population                  0\n",
       "habitat                     0\n",
       "dtype: int64"
      ]
     },
     "execution_count": 4,
     "metadata": {},
     "output_type": "execute_result"
    }
   ],
   "source": [
    "df.isnull().sum()"
   ]
  },
  {
   "cell_type": "markdown",
   "id": "ab86f3f7",
   "metadata": {},
   "source": [
    "There are no null values in the dataset"
   ]
  },
  {
   "cell_type": "code",
   "execution_count": 5,
   "id": "eef77ce3",
   "metadata": {},
   "outputs": [
    {
     "data": {
      "text/plain": [
       "Index(['class', 'cap-shape', 'cap-surface', 'cap-color', 'bruises', 'odor',\n",
       "       'gill-attachment', 'gill-spacing', 'gill-size', 'gill-color',\n",
       "       'stalk-shape', 'stalk-root', 'stalk-surface-above-ring',\n",
       "       'stalk-surface-below-ring', 'stalk-color-above-ring',\n",
       "       'stalk-color-below-ring', 'veil-type', 'veil-color', 'ring-number',\n",
       "       'ring-type', 'spore-print-color', 'population', 'habitat'],\n",
       "      dtype='object')"
      ]
     },
     "execution_count": 5,
     "metadata": {},
     "output_type": "execute_result"
    }
   ],
   "source": [
    "df.columns"
   ]
  },
  {
   "cell_type": "markdown",
   "id": "08654218",
   "metadata": {},
   "source": [
    "There are 23 columns and the target column is class."
   ]
  },
  {
   "cell_type": "code",
   "execution_count": 6,
   "id": "6c096eb9",
   "metadata": {},
   "outputs": [
    {
     "data": {
      "text/html": [
       "<div>\n",
       "<style scoped>\n",
       "    .dataframe tbody tr th:only-of-type {\n",
       "        vertical-align: middle;\n",
       "    }\n",
       "\n",
       "    .dataframe tbody tr th {\n",
       "        vertical-align: top;\n",
       "    }\n",
       "\n",
       "    .dataframe thead th {\n",
       "        text-align: right;\n",
       "    }\n",
       "</style>\n",
       "<table border=\"1\" class=\"dataframe\">\n",
       "  <thead>\n",
       "    <tr style=\"text-align: right;\">\n",
       "      <th></th>\n",
       "      <th>class</th>\n",
       "      <th>cap-shape</th>\n",
       "      <th>cap-surface</th>\n",
       "      <th>cap-color</th>\n",
       "      <th>bruises</th>\n",
       "      <th>odor</th>\n",
       "      <th>gill-attachment</th>\n",
       "      <th>gill-spacing</th>\n",
       "      <th>gill-size</th>\n",
       "      <th>gill-color</th>\n",
       "      <th>...</th>\n",
       "      <th>stalk-surface-below-ring</th>\n",
       "      <th>stalk-color-above-ring</th>\n",
       "      <th>stalk-color-below-ring</th>\n",
       "      <th>veil-type</th>\n",
       "      <th>veil-color</th>\n",
       "      <th>ring-number</th>\n",
       "      <th>ring-type</th>\n",
       "      <th>spore-print-color</th>\n",
       "      <th>population</th>\n",
       "      <th>habitat</th>\n",
       "    </tr>\n",
       "  </thead>\n",
       "  <tbody>\n",
       "    <tr>\n",
       "      <th>count</th>\n",
       "      <td>8124</td>\n",
       "      <td>8124</td>\n",
       "      <td>8124</td>\n",
       "      <td>8124</td>\n",
       "      <td>8124</td>\n",
       "      <td>8124</td>\n",
       "      <td>8124</td>\n",
       "      <td>8124</td>\n",
       "      <td>8124</td>\n",
       "      <td>8124</td>\n",
       "      <td>...</td>\n",
       "      <td>8124</td>\n",
       "      <td>8124</td>\n",
       "      <td>8124</td>\n",
       "      <td>8124</td>\n",
       "      <td>8124</td>\n",
       "      <td>8124</td>\n",
       "      <td>8124</td>\n",
       "      <td>8124</td>\n",
       "      <td>8124</td>\n",
       "      <td>8124</td>\n",
       "    </tr>\n",
       "    <tr>\n",
       "      <th>unique</th>\n",
       "      <td>2</td>\n",
       "      <td>6</td>\n",
       "      <td>4</td>\n",
       "      <td>10</td>\n",
       "      <td>2</td>\n",
       "      <td>9</td>\n",
       "      <td>2</td>\n",
       "      <td>2</td>\n",
       "      <td>2</td>\n",
       "      <td>12</td>\n",
       "      <td>...</td>\n",
       "      <td>4</td>\n",
       "      <td>9</td>\n",
       "      <td>9</td>\n",
       "      <td>1</td>\n",
       "      <td>4</td>\n",
       "      <td>3</td>\n",
       "      <td>5</td>\n",
       "      <td>9</td>\n",
       "      <td>6</td>\n",
       "      <td>7</td>\n",
       "    </tr>\n",
       "    <tr>\n",
       "      <th>top</th>\n",
       "      <td>e</td>\n",
       "      <td>x</td>\n",
       "      <td>y</td>\n",
       "      <td>n</td>\n",
       "      <td>f</td>\n",
       "      <td>n</td>\n",
       "      <td>f</td>\n",
       "      <td>c</td>\n",
       "      <td>b</td>\n",
       "      <td>b</td>\n",
       "      <td>...</td>\n",
       "      <td>s</td>\n",
       "      <td>w</td>\n",
       "      <td>w</td>\n",
       "      <td>p</td>\n",
       "      <td>w</td>\n",
       "      <td>o</td>\n",
       "      <td>p</td>\n",
       "      <td>w</td>\n",
       "      <td>v</td>\n",
       "      <td>d</td>\n",
       "    </tr>\n",
       "    <tr>\n",
       "      <th>freq</th>\n",
       "      <td>4208</td>\n",
       "      <td>3656</td>\n",
       "      <td>3244</td>\n",
       "      <td>2284</td>\n",
       "      <td>4748</td>\n",
       "      <td>3528</td>\n",
       "      <td>7914</td>\n",
       "      <td>6812</td>\n",
       "      <td>5612</td>\n",
       "      <td>1728</td>\n",
       "      <td>...</td>\n",
       "      <td>4936</td>\n",
       "      <td>4464</td>\n",
       "      <td>4384</td>\n",
       "      <td>8124</td>\n",
       "      <td>7924</td>\n",
       "      <td>7488</td>\n",
       "      <td>3968</td>\n",
       "      <td>2388</td>\n",
       "      <td>4040</td>\n",
       "      <td>3148</td>\n",
       "    </tr>\n",
       "  </tbody>\n",
       "</table>\n",
       "<p>4 rows × 23 columns</p>\n",
       "</div>"
      ],
      "text/plain": [
       "       class cap-shape cap-surface cap-color bruises  odor gill-attachment  \\\n",
       "count   8124      8124        8124      8124    8124  8124            8124   \n",
       "unique     2         6           4        10       2     9               2   \n",
       "top        e         x           y         n       f     n               f   \n",
       "freq    4208      3656        3244      2284    4748  3528            7914   \n",
       "\n",
       "       gill-spacing gill-size gill-color  ... stalk-surface-below-ring  \\\n",
       "count          8124      8124       8124  ...                     8124   \n",
       "unique            2         2         12  ...                        4   \n",
       "top               c         b          b  ...                        s   \n",
       "freq           6812      5612       1728  ...                     4936   \n",
       "\n",
       "       stalk-color-above-ring stalk-color-below-ring veil-type veil-color  \\\n",
       "count                    8124                   8124      8124       8124   \n",
       "unique                      9                      9         1          4   \n",
       "top                         w                      w         p          w   \n",
       "freq                     4464                   4384      8124       7924   \n",
       "\n",
       "       ring-number ring-type spore-print-color population habitat  \n",
       "count         8124      8124              8124       8124    8124  \n",
       "unique           3         5                 9          6       7  \n",
       "top              o         p                 w          v       d  \n",
       "freq          7488      3968              2388       4040    3148  \n",
       "\n",
       "[4 rows x 23 columns]"
      ]
     },
     "execution_count": 6,
     "metadata": {},
     "output_type": "execute_result"
    }
   ],
   "source": [
    "df.describe()"
   ]
  },
  {
   "cell_type": "markdown",
   "id": "d051bee2",
   "metadata": {},
   "source": [
    "shows column based on number of unqiue value, top value and frequency of value"
   ]
  },
  {
   "cell_type": "markdown",
   "id": "12148a26",
   "metadata": {},
   "source": [
    "# Checking the datatypes of the columns"
   ]
  },
  {
   "cell_type": "code",
   "execution_count": 7,
   "id": "56009761",
   "metadata": {},
   "outputs": [
    {
     "data": {
      "text/plain": [
       "class                       object\n",
       "cap-shape                   object\n",
       "cap-surface                 object\n",
       "cap-color                   object\n",
       "bruises                     object\n",
       "odor                        object\n",
       "gill-attachment             object\n",
       "gill-spacing                object\n",
       "gill-size                   object\n",
       "gill-color                  object\n",
       "stalk-shape                 object\n",
       "stalk-root                  object\n",
       "stalk-surface-above-ring    object\n",
       "stalk-surface-below-ring    object\n",
       "stalk-color-above-ring      object\n",
       "stalk-color-below-ring      object\n",
       "veil-type                   object\n",
       "veil-color                  object\n",
       "ring-number                 object\n",
       "ring-type                   object\n",
       "spore-print-color           object\n",
       "population                  object\n",
       "habitat                     object\n",
       "dtype: object"
      ]
     },
     "execution_count": 7,
     "metadata": {},
     "output_type": "execute_result"
    }
   ],
   "source": [
    "df.dtypes"
   ]
  },
  {
   "cell_type": "markdown",
   "id": "97d0d31e",
   "metadata": {},
   "source": [
    "We have Object value in all independent variables\n",
    "and class is our target variable which is also of object type and in this we have classes ,which are: e=edible and p= poisonous"
   ]
  },
  {
   "cell_type": "code",
   "execution_count": 8,
   "id": "3a8134b2",
   "metadata": {},
   "outputs": [
    {
     "data": {
      "text/plain": [
       "(8124, 23)"
      ]
     },
     "execution_count": 8,
     "metadata": {},
     "output_type": "execute_result"
    }
   ],
   "source": [
    "df.shape"
   ]
  },
  {
   "cell_type": "markdown",
   "id": "0ebd45cf",
   "metadata": {},
   "source": [
    "There are 8124 rows and 23 columns in the dataset"
   ]
  },
  {
   "cell_type": "code",
   "execution_count": 9,
   "id": "b74e0c33",
   "metadata": {},
   "outputs": [
    {
     "data": {
      "text/plain": [
       "array(['p', 'e'], dtype=object)"
      ]
     },
     "execution_count": 9,
     "metadata": {},
     "output_type": "execute_result"
    }
   ],
   "source": [
    "df['class'].unique()"
   ]
  },
  {
   "cell_type": "markdown",
   "id": "399e8aa7",
   "metadata": {},
   "source": [
    "There are 2 unique values in class column"
   ]
  },
  {
   "cell_type": "code",
   "execution_count": 10,
   "id": "a140b932",
   "metadata": {},
   "outputs": [
    {
     "data": {
      "text/plain": [
       "e    4208\n",
       "p    3916\n",
       "Name: class, dtype: int64"
      ]
     },
     "execution_count": 10,
     "metadata": {},
     "output_type": "execute_result"
    }
   ],
   "source": [
    "df['class'].value_counts()"
   ]
  },
  {
   "cell_type": "markdown",
   "id": "5e9426a7",
   "metadata": {},
   "source": [
    "Value count of e(edible) class is 4208 and value count of p(poisonous) class is 3916\n",
    "This shows edible class is more than poisonous class in the dataset"
   ]
  },
  {
   "cell_type": "markdown",
   "id": "a99d15ff",
   "metadata": {},
   "source": [
    "## Checking Unique values"
   ]
  },
  {
   "cell_type": "code",
   "execution_count": 11,
   "id": "fb6b4fc6",
   "metadata": {},
   "outputs": [
    {
     "name": "stdout",
     "output_type": "stream",
     "text": [
      "class: ['p' 'e']\n",
      "cap-shape: ['x' 'b' 's' 'f' 'k' 'c']\n",
      "cap-surface: ['s' 'y' 'f' 'g']\n",
      "cap-color: ['n' 'y' 'w' 'g' 'e' 'p' 'b' 'u' 'c' 'r']\n",
      "bruises: ['t' 'f']\n",
      "odor: ['p' 'a' 'l' 'n' 'f' 'c' 'y' 's' 'm']\n",
      "gill-attachment: ['f' 'a']\n",
      "gill-spacing: ['c' 'w']\n",
      "gill-size: ['n' 'b']\n",
      "gill-color: ['k' 'n' 'g' 'p' 'w' 'h' 'u' 'e' 'b' 'r' 'y' 'o']\n",
      "stalk-shape: ['e' 't']\n",
      "stalk-root: ['e' 'c' 'b' 'r' '?']\n",
      "stalk-surface-above-ring: ['s' 'f' 'k' 'y']\n",
      "stalk-surface-below-ring: ['s' 'f' 'y' 'k']\n",
      "stalk-color-above-ring: ['w' 'g' 'p' 'n' 'b' 'e' 'o' 'c' 'y']\n",
      "stalk-color-below-ring: ['w' 'p' 'g' 'b' 'n' 'e' 'y' 'o' 'c']\n",
      "veil-type: ['p']\n",
      "veil-color: ['w' 'n' 'o' 'y']\n",
      "ring-number: ['o' 't' 'n']\n",
      "ring-type: ['p' 'e' 'l' 'f' 'n']\n",
      "spore-print-color: ['k' 'n' 'u' 'h' 'w' 'r' 'o' 'y' 'b']\n",
      "population: ['s' 'n' 'a' 'v' 'y' 'c']\n",
      "habitat: ['u' 'g' 'm' 'd' 'p' 'w' 'l']\n"
     ]
    }
   ],
   "source": [
    "column_name =df.columns.values\n",
    "for column in column_name:\n",
    "    print(\"{0}: {1}\".format(column, df[column].unique()))"
   ]
  },
  {
   "cell_type": "code",
   "execution_count": 12,
   "id": "ab678c82",
   "metadata": {},
   "outputs": [
    {
     "data": {
      "text/plain": [
       "b    3776\n",
       "?    2480\n",
       "e    1120\n",
       "c     556\n",
       "r     192\n",
       "Name: stalk-root, dtype: int64"
      ]
     },
     "execution_count": 12,
     "metadata": {},
     "output_type": "execute_result"
    }
   ],
   "source": [
    "df['stalk-root'].value_counts()"
   ]
  },
  {
   "cell_type": "markdown",
   "id": "a896ef99",
   "metadata": {},
   "source": [
    "There are 2480 '?' values in the stalk-root so we can drop this column"
   ]
  },
  {
   "cell_type": "code",
   "execution_count": 13,
   "id": "19369152",
   "metadata": {},
   "outputs": [
    {
     "data": {
      "text/html": [
       "<div>\n",
       "<style scoped>\n",
       "    .dataframe tbody tr th:only-of-type {\n",
       "        vertical-align: middle;\n",
       "    }\n",
       "\n",
       "    .dataframe tbody tr th {\n",
       "        vertical-align: top;\n",
       "    }\n",
       "\n",
       "    .dataframe thead th {\n",
       "        text-align: right;\n",
       "    }\n",
       "</style>\n",
       "<table border=\"1\" class=\"dataframe\">\n",
       "  <thead>\n",
       "    <tr style=\"text-align: right;\">\n",
       "      <th></th>\n",
       "      <th>class</th>\n",
       "      <th>cap-shape</th>\n",
       "      <th>cap-surface</th>\n",
       "      <th>cap-color</th>\n",
       "      <th>bruises</th>\n",
       "      <th>odor</th>\n",
       "      <th>gill-attachment</th>\n",
       "      <th>gill-spacing</th>\n",
       "      <th>gill-size</th>\n",
       "      <th>gill-color</th>\n",
       "      <th>...</th>\n",
       "      <th>stalk-surface-below-ring</th>\n",
       "      <th>stalk-color-above-ring</th>\n",
       "      <th>stalk-color-below-ring</th>\n",
       "      <th>veil-type</th>\n",
       "      <th>veil-color</th>\n",
       "      <th>ring-number</th>\n",
       "      <th>ring-type</th>\n",
       "      <th>spore-print-color</th>\n",
       "      <th>population</th>\n",
       "      <th>habitat</th>\n",
       "    </tr>\n",
       "  </thead>\n",
       "  <tbody>\n",
       "    <tr>\n",
       "      <th>0</th>\n",
       "      <td>p</td>\n",
       "      <td>x</td>\n",
       "      <td>s</td>\n",
       "      <td>n</td>\n",
       "      <td>t</td>\n",
       "      <td>p</td>\n",
       "      <td>f</td>\n",
       "      <td>c</td>\n",
       "      <td>n</td>\n",
       "      <td>k</td>\n",
       "      <td>...</td>\n",
       "      <td>s</td>\n",
       "      <td>w</td>\n",
       "      <td>w</td>\n",
       "      <td>p</td>\n",
       "      <td>w</td>\n",
       "      <td>o</td>\n",
       "      <td>p</td>\n",
       "      <td>k</td>\n",
       "      <td>s</td>\n",
       "      <td>u</td>\n",
       "    </tr>\n",
       "    <tr>\n",
       "      <th>1</th>\n",
       "      <td>e</td>\n",
       "      <td>x</td>\n",
       "      <td>s</td>\n",
       "      <td>y</td>\n",
       "      <td>t</td>\n",
       "      <td>a</td>\n",
       "      <td>f</td>\n",
       "      <td>c</td>\n",
       "      <td>b</td>\n",
       "      <td>k</td>\n",
       "      <td>...</td>\n",
       "      <td>s</td>\n",
       "      <td>w</td>\n",
       "      <td>w</td>\n",
       "      <td>p</td>\n",
       "      <td>w</td>\n",
       "      <td>o</td>\n",
       "      <td>p</td>\n",
       "      <td>n</td>\n",
       "      <td>n</td>\n",
       "      <td>g</td>\n",
       "    </tr>\n",
       "    <tr>\n",
       "      <th>2</th>\n",
       "      <td>e</td>\n",
       "      <td>b</td>\n",
       "      <td>s</td>\n",
       "      <td>w</td>\n",
       "      <td>t</td>\n",
       "      <td>l</td>\n",
       "      <td>f</td>\n",
       "      <td>c</td>\n",
       "      <td>b</td>\n",
       "      <td>n</td>\n",
       "      <td>...</td>\n",
       "      <td>s</td>\n",
       "      <td>w</td>\n",
       "      <td>w</td>\n",
       "      <td>p</td>\n",
       "      <td>w</td>\n",
       "      <td>o</td>\n",
       "      <td>p</td>\n",
       "      <td>n</td>\n",
       "      <td>n</td>\n",
       "      <td>m</td>\n",
       "    </tr>\n",
       "    <tr>\n",
       "      <th>3</th>\n",
       "      <td>p</td>\n",
       "      <td>x</td>\n",
       "      <td>y</td>\n",
       "      <td>w</td>\n",
       "      <td>t</td>\n",
       "      <td>p</td>\n",
       "      <td>f</td>\n",
       "      <td>c</td>\n",
       "      <td>n</td>\n",
       "      <td>n</td>\n",
       "      <td>...</td>\n",
       "      <td>s</td>\n",
       "      <td>w</td>\n",
       "      <td>w</td>\n",
       "      <td>p</td>\n",
       "      <td>w</td>\n",
       "      <td>o</td>\n",
       "      <td>p</td>\n",
       "      <td>k</td>\n",
       "      <td>s</td>\n",
       "      <td>u</td>\n",
       "    </tr>\n",
       "    <tr>\n",
       "      <th>4</th>\n",
       "      <td>e</td>\n",
       "      <td>x</td>\n",
       "      <td>s</td>\n",
       "      <td>g</td>\n",
       "      <td>f</td>\n",
       "      <td>n</td>\n",
       "      <td>f</td>\n",
       "      <td>w</td>\n",
       "      <td>b</td>\n",
       "      <td>k</td>\n",
       "      <td>...</td>\n",
       "      <td>s</td>\n",
       "      <td>w</td>\n",
       "      <td>w</td>\n",
       "      <td>p</td>\n",
       "      <td>w</td>\n",
       "      <td>o</td>\n",
       "      <td>e</td>\n",
       "      <td>n</td>\n",
       "      <td>a</td>\n",
       "      <td>g</td>\n",
       "    </tr>\n",
       "  </tbody>\n",
       "</table>\n",
       "<p>5 rows × 22 columns</p>\n",
       "</div>"
      ],
      "text/plain": [
       "  class cap-shape cap-surface cap-color bruises odor gill-attachment  \\\n",
       "0     p         x           s         n       t    p               f   \n",
       "1     e         x           s         y       t    a               f   \n",
       "2     e         b           s         w       t    l               f   \n",
       "3     p         x           y         w       t    p               f   \n",
       "4     e         x           s         g       f    n               f   \n",
       "\n",
       "  gill-spacing gill-size gill-color  ... stalk-surface-below-ring  \\\n",
       "0            c         n          k  ...                        s   \n",
       "1            c         b          k  ...                        s   \n",
       "2            c         b          n  ...                        s   \n",
       "3            c         n          n  ...                        s   \n",
       "4            w         b          k  ...                        s   \n",
       "\n",
       "  stalk-color-above-ring stalk-color-below-ring veil-type veil-color  \\\n",
       "0                      w                      w         p          w   \n",
       "1                      w                      w         p          w   \n",
       "2                      w                      w         p          w   \n",
       "3                      w                      w         p          w   \n",
       "4                      w                      w         p          w   \n",
       "\n",
       "  ring-number ring-type spore-print-color population habitat  \n",
       "0           o         p                 k          s       u  \n",
       "1           o         p                 n          n       g  \n",
       "2           o         p                 n          n       m  \n",
       "3           o         p                 k          s       u  \n",
       "4           o         e                 n          a       g  \n",
       "\n",
       "[5 rows x 22 columns]"
      ]
     },
     "execution_count": 13,
     "metadata": {},
     "output_type": "execute_result"
    }
   ],
   "source": [
    "df=df.drop(\"stalk-root\", axis=1)\n",
    "df.head()"
   ]
  },
  {
   "cell_type": "code",
   "execution_count": 14,
   "id": "d48d487c",
   "metadata": {},
   "outputs": [
    {
     "data": {
      "text/plain": [
       "(8124, 22)"
      ]
     },
     "execution_count": 14,
     "metadata": {},
     "output_type": "execute_result"
    }
   ],
   "source": [
    "df.shape"
   ]
  },
  {
   "cell_type": "markdown",
   "id": "6b612ea8",
   "metadata": {},
   "source": [
    "stalk-root column dropped and now rows are 8124 and columns are 22"
   ]
  },
  {
   "cell_type": "markdown",
   "id": "a75e37c3",
   "metadata": {},
   "source": [
    "# EDA"
   ]
  },
  {
   "cell_type": "markdown",
   "id": "a47f6adb",
   "metadata": {},
   "source": [
    "# Univariate Analysis"
   ]
  },
  {
   "cell_type": "markdown",
   "id": "c0f773c2",
   "metadata": {},
   "source": [
    "For the nominal categorical data we will use countplot as it will give the frequency of the classes of the columns:"
   ]
  },
  {
   "cell_type": "code",
   "execution_count": 16,
   "id": "1178a51f",
   "metadata": {},
   "outputs": [],
   "source": [
    "import seaborn as sns\n",
    "import matplotlib.pyplot as plt"
   ]
  },
  {
   "cell_type": "code",
   "execution_count": 17,
   "id": "cb86ea9e",
   "metadata": {},
   "outputs": [
    {
     "name": "stdout",
     "output_type": "stream",
     "text": [
      "e    4208\n",
      "p    3916\n",
      "Name: class, dtype: int64\n"
     ]
    },
    {
     "data": {
      "image/png": "[encoded data removed]",
      "text/plain": [
       "<Figure size 432x288 with 1 Axes>"
      ]
     },
     "metadata": {
      "needs_background": "light"
     },
     "output_type": "display_data"
    }
   ],
   "source": [
    "#1\n",
    "ax=sns.countplot(x=\"class\", data=df)\n",
    "print(df[\"class\"].value_counts())"
   ]
  },
  {
   "cell_type": "markdown",
   "id": "4e98909f",
   "metadata": {},
   "source": [
    "From Observation the total number of e class is 4208 and p class is 3916 , there is no class imbalance."
   ]
  },
  {
   "cell_type": "code",
   "execution_count": 18,
   "id": "aa902ecc",
   "metadata": {},
   "outputs": [
    {
     "name": "stdout",
     "output_type": "stream",
     "text": [
      "x    3656\n",
      "f    3152\n",
      "k     828\n",
      "b     452\n",
      "s      32\n",
      "c       4\n",
      "Name: cap-shape, dtype: int64\n"
     ]
    },
    {
     "data": {
      "image/png": "[encoded data removed]",
      "text/plain": [
       "<Figure size 432x288 with 1 Axes>"
      ]
     },
     "metadata": {
      "needs_background": "light"
     },
     "output_type": "display_data"
    }
   ],
   "source": [
    "ax=sns.countplot(x=\"cap-shape\", data=df)\n",
    "print(df[\"cap-shape\"].value_counts())"
   ]
  },
  {
   "cell_type": "markdown",
   "id": "ec55e55b",
   "metadata": {},
   "source": [
    "From observation cap shape has x,f,k,b,s and c and there values are 3656, 3152, 828, 452, 32 and 4 respectively."
   ]
  },
  {
   "cell_type": "code",
   "execution_count": 19,
   "id": "236fcabd",
   "metadata": {},
   "outputs": [
    {
     "name": "stdout",
     "output_type": "stream",
     "text": [
      "y    3244\n",
      "s    2556\n",
      "f    2320\n",
      "g       4\n",
      "Name: cap-surface, dtype: int64\n"
     ]
    },
    {
     "data": {
      "image/png": "[encoded data removed]",
      "text/plain": [
       "<Figure size 432x288 with 1 Axes>"
      ]
     },
     "metadata": {
      "needs_background": "light"
     },
     "output_type": "display_data"
    }
   ],
   "source": [
    "ax=sns.countplot(x=\"cap-surface\", data=df)\n",
    "print(df[\"cap-surface\"].value_counts())"
   ]
  },
  {
   "cell_type": "markdown",
   "id": "0cd105d0",
   "metadata": {},
   "source": [
    "From observation cap-surface has y, s, f and g and there values are 3244, 2556, 2320 and 4 respectively."
   ]
  },
  {
   "cell_type": "code",
   "execution_count": 20,
   "id": "55652eff",
   "metadata": {},
   "outputs": [
    {
     "name": "stdout",
     "output_type": "stream",
     "text": [
      "n    2284\n",
      "g    1840\n",
      "e    1500\n",
      "y    1072\n",
      "w    1040\n",
      "b     168\n",
      "p     144\n",
      "c      44\n",
      "u      16\n",
      "r      16\n",
      "Name: cap-color, dtype: int64\n"
     ]
    },
    {
     "data": {
      "image/png": "[encoded data removed]",
      "text/plain": [
       "<Figure size 432x288 with 1 Axes>"
      ]
     },
     "metadata": {
      "needs_background": "light"
     },
     "output_type": "display_data"
    }
   ],
   "source": [
    "ax=sns.countplot(x=\"cap-color\", data=df)\n",
    "print(df[\"cap-color\"].value_counts())"
   ]
  },
  {
   "cell_type": "markdown",
   "id": "9c47c9ee",
   "metadata": {},
   "source": [
    "From observation cap-color has n, g, e, y, w, b, p, c, r and u and there values are 2284, 1840, 1500, 1072, 1040, 168, 144, 44, 16 and 16 respectively."
   ]
  },
  {
   "cell_type": "code",
   "execution_count": 21,
   "id": "8f8e2a23",
   "metadata": {},
   "outputs": [
    {
     "name": "stdout",
     "output_type": "stream",
     "text": [
      "f    4748\n",
      "t    3376\n",
      "Name: bruises, dtype: int64\n"
     ]
    },
    {
     "data": {
      "image/png": "[encoded data removed]",
      "text/plain": [
       "<Figure size 432x288 with 1 Axes>"
      ]
     },
     "metadata": {
      "needs_background": "light"
     },
     "output_type": "display_data"
    }
   ],
   "source": [
    "ax=sns.countplot(x=\"bruises\", data=df)\n",
    "print(df[\"bruises\"].value_counts())"
   ]
  },
  {
   "cell_type": "markdown",
   "id": "c7971cba",
   "metadata": {},
   "source": [
    "From observation bruises has f and t and there values are 4748 and 3376 respectively."
   ]
  },
  {
   "cell_type": "code",
   "execution_count": 22,
   "id": "310e5af3",
   "metadata": {},
   "outputs": [
    {
     "name": "stdout",
     "output_type": "stream",
     "text": [
      "n    3528\n",
      "f    2160\n",
      "y     576\n",
      "s     576\n",
      "a     400\n",
      "l     400\n",
      "p     256\n",
      "c     192\n",
      "m      36\n",
      "Name: odor, dtype: int64\n"
     ]
    },
    {
     "data": {
      "image/png": "[encoded data removed]",
      "text/plain": [
       "<Figure size 432x288 with 1 Axes>"
      ]
     },
     "metadata": {
      "needs_background": "light"
     },
     "output_type": "display_data"
    }
   ],
   "source": [
    "ax=sns.countplot(x=\"odor\", data=df)\n",
    "print(df[\"odor\"].value_counts())"
   ]
  },
  {
   "cell_type": "markdown",
   "id": "559e0758",
   "metadata": {},
   "source": [
    "From observation odor has n, f, y, s, a, l, p, c and m and there values are 3528, 2160, 576, 576, 400, 400, 256, 192 and 36 respectively."
   ]
  },
  {
   "cell_type": "code",
   "execution_count": 23,
   "id": "ea01dc12",
   "metadata": {},
   "outputs": [
    {
     "name": "stdout",
     "output_type": "stream",
     "text": [
      "f    7914\n",
      "a     210\n",
      "Name: gill-attachment, dtype: int64\n"
     ]
    },
    {
     "data": {
      "image/png": "[encoded data removed]",
      "text/plain": [
       "<Figure size 432x288 with 1 Axes>"
      ]
     },
     "metadata": {
      "needs_background": "light"
     },
     "output_type": "display_data"
    }
   ],
   "source": [
    "ax=sns.countplot(x=\"gill-attachment\", data=df)\n",
    "print(df[\"gill-attachment\"].value_counts())"
   ]
  },
  {
   "cell_type": "markdown",
   "id": "599fa1dd",
   "metadata": {},
   "source": [
    "From observation gill-attachment has f and a and there values are 7914 and 210 respectively."
   ]
  },
  {
   "cell_type": "code",
   "execution_count": 24,
   "id": "202b44cf",
   "metadata": {},
   "outputs": [
    {
     "name": "stdout",
     "output_type": "stream",
     "text": [
      "c    6812\n",
      "w    1312\n",
      "Name: gill-spacing, dtype: int64\n"
     ]
    },
    {
     "data": {
      "image/png": "[encoded data removed]",
      "text/plain": [
       "<Figure size 432x288 with 1 Axes>"
      ]
     },
     "metadata": {
      "needs_background": "light"
     },
     "output_type": "display_data"
    }
   ],
   "source": [
    "ax=sns.countplot(x=\"gill-spacing\", data=df)\n",
    "print(df[\"gill-spacing\"].value_counts())"
   ]
  },
  {
   "cell_type": "markdown",
   "id": "5c0547e3",
   "metadata": {},
   "source": [
    "From observation gill-spacing has c and w and there values are 6812 and 1312 respectively."
   ]
  },
  {
   "cell_type": "code",
   "execution_count": 25,
   "id": "79d06a98",
   "metadata": {},
   "outputs": [
    {
     "name": "stdout",
     "output_type": "stream",
     "text": [
      "b    5612\n",
      "n    2512\n",
      "Name: gill-size, dtype: int64\n"
     ]
    },
    {
     "data": {
      "image/png": "[encoded data removed]",
      "text/plain": [
       "<Figure size 432x288 with 1 Axes>"
      ]
     },
     "metadata": {
      "needs_background": "light"
     },
     "output_type": "display_data"
    }
   ],
   "source": [
    "ax=sns.countplot(x=\"gill-size\", data=df)\n",
    "print(df[\"gill-size\"].value_counts())"
   ]
  },
  {
   "cell_type": "markdown",
   "id": "b5d089b5",
   "metadata": {},
   "source": [
    "From observation gill-size has b and n and there values are 5612 and 2512 respectively."
   ]
  },
  {
   "cell_type": "code",
   "execution_count": 26,
   "id": "3990fa7f",
   "metadata": {},
   "outputs": [
    {
     "name": "stdout",
     "output_type": "stream",
     "text": [
      "b    1728\n",
      "p    1492\n",
      "w    1202\n",
      "n    1048\n",
      "g     752\n",
      "h     732\n",
      "u     492\n",
      "k     408\n",
      "e      96\n",
      "y      86\n",
      "o      64\n",
      "r      24\n",
      "Name: gill-color, dtype: int64\n"
     ]
    },
    {
     "data": {
      "image/png": "[encoded data removed]",
      "text/plain": [
       "<Figure size 432x288 with 1 Axes>"
      ]
     },
     "metadata": {
      "needs_background": "light"
     },
     "output_type": "display_data"
    }
   ],
   "source": [
    "ax=sns.countplot(x=\"gill-color\", data=df)\n",
    "print(df[\"gill-color\"].value_counts())"
   ]
  },
  {
   "cell_type": "markdown",
   "id": "1183e763",
   "metadata": {},
   "source": [
    "From observation gill-color has b, p, w, n, g, h, u, k, e, y, o and r and there values are 1728, 1492, 1202, 1048, 752, 732, 492, 408, 96, 86, 64 and 24 respectively."
   ]
  },
  {
   "cell_type": "code",
   "execution_count": 27,
   "id": "a5a4b545",
   "metadata": {},
   "outputs": [
    {
     "name": "stdout",
     "output_type": "stream",
     "text": [
      "t    4608\n",
      "e    3516\n",
      "Name: stalk-shape, dtype: int64\n"
     ]
    },
    {
     "data": {
      "image/png": "[encoded data removed]",
      "text/plain": [
       "<Figure size 432x288 with 1 Axes>"
      ]
     },
     "metadata": {
      "needs_background": "light"
     },
     "output_type": "display_data"
    }
   ],
   "source": [
    "ax=sns.countplot(x=\"stalk-shape\", data=df)\n",
    "print(df[\"stalk-shape\"].value_counts())"
   ]
  },
  {
   "cell_type": "markdown",
   "id": "e7059570",
   "metadata": {},
   "source": [
    "From observation stalk-shape has t and e and there values are 4608 and 3516 respectively."
   ]
  },
  {
   "cell_type": "code",
   "execution_count": 28,
   "id": "172e1a72",
   "metadata": {},
   "outputs": [
    {
     "name": "stdout",
     "output_type": "stream",
     "text": [
      "s    5176\n",
      "k    2372\n",
      "f     552\n",
      "y      24\n",
      "Name: stalk-surface-above-ring, dtype: int64\n"
     ]
    },
    {
     "data": {
      "image/png": "[encoded data removed]",
      "text/plain": [
       "<Figure size 432x288 with 1 Axes>"
      ]
     },
     "metadata": {
      "needs_background": "light"
     },
     "output_type": "display_data"
    }
   ],
   "source": [
    "ax=sns.countplot(x=\"stalk-surface-above-ring\", data=df)\n",
    "print(df[\"stalk-surface-above-ring\"].value_counts())"
   ]
  },
  {
   "cell_type": "markdown",
   "id": "07c188c0",
   "metadata": {},
   "source": [
    "From observation stalk-surface-above-ring has s, k, f and y and there values are 5176, 2372, 552 and 24 respectively."
   ]
  },
  {
   "cell_type": "code",
   "execution_count": 29,
   "id": "387141fb",
   "metadata": {},
   "outputs": [
    {
     "name": "stdout",
     "output_type": "stream",
     "text": [
      "s    4936\n",
      "k    2304\n",
      "f     600\n",
      "y     284\n",
      "Name: stalk-surface-below-ring, dtype: int64\n"
     ]
    },
    {
     "data": {
      "image/png": "[encoded data removed]",
      "text/plain": [
       "<Figure size 432x288 with 1 Axes>"
      ]
     },
     "metadata": {
      "needs_background": "light"
     },
     "output_type": "display_data"
    }
   ],
   "source": [
    "ax=sns.countplot(x=\"stalk-surface-below-ring\", data=df)\n",
    "print(df[\"stalk-surface-below-ring\"].value_counts())"
   ]
  },
  {
   "cell_type": "markdown",
   "id": "5a9448b4",
   "metadata": {},
   "source": [
    "From observation stalk-surface-below-ring has s, k, f and y and there values are 4936, 2304, 600 and 284 respectively."
   ]
  },
  {
   "cell_type": "code",
   "execution_count": 30,
   "id": "ef331825",
   "metadata": {},
   "outputs": [
    {
     "name": "stdout",
     "output_type": "stream",
     "text": [
      "w    4464\n",
      "p    1872\n",
      "g     576\n",
      "n     448\n",
      "b     432\n",
      "o     192\n",
      "e      96\n",
      "c      36\n",
      "y       8\n",
      "Name: stalk-color-above-ring, dtype: int64\n"
     ]
    },
    {
     "data": {
      "image/png": "[encoded data removed]",
      "text/plain": [
       "<Figure size 432x288 with 1 Axes>"
      ]
     },
     "metadata": {
      "needs_background": "light"
     },
     "output_type": "display_data"
    }
   ],
   "source": [
    "ax=sns.countplot(x=\"stalk-color-above-ring\", data=df)\n",
    "print(df[\"stalk-color-above-ring\"].value_counts())"
   ]
  },
  {
   "cell_type": "markdown",
   "id": "523f1572",
   "metadata": {},
   "source": [
    "From observation stalk-color-above-ring has w, p, g, n, b, o, e, c and y and there values are 4464, 1872, 576, 448, 432, 192, 96, 36 and 8 respectively."
   ]
  },
  {
   "cell_type": "code",
   "execution_count": 31,
   "id": "43b2bcb3",
   "metadata": {},
   "outputs": [
    {
     "name": "stdout",
     "output_type": "stream",
     "text": [
      "w    4384\n",
      "p    1872\n",
      "g     576\n",
      "n     512\n",
      "b     432\n",
      "o     192\n",
      "e      96\n",
      "c      36\n",
      "y      24\n",
      "Name: stalk-color-below-ring, dtype: int64\n"
     ]
    },
    {
     "data": {
      "image/png": "[encoded data removed]",
      "text/plain": [
       "<Figure size 432x288 with 1 Axes>"
      ]
     },
     "metadata": {
      "needs_background": "light"
     },
     "output_type": "display_data"
    }
   ],
   "source": [
    "ax=sns.countplot(x=\"stalk-color-below-ring\", data=df)\n",
    "print(df[\"stalk-color-below-ring\"].value_counts())"
   ]
  },
  {
   "cell_type": "markdown",
   "id": "e62e9338",
   "metadata": {},
   "source": [
    "From observation stalk-color-below-ring has w, p, g, n, b, o, e, c and y and there values are 4384, 1872, 576, 512, 432, 192, 96, 36 and 24 respectively."
   ]
  },
  {
   "cell_type": "code",
   "execution_count": 32,
   "id": "5bc0f10b",
   "metadata": {},
   "outputs": [
    {
     "name": "stdout",
     "output_type": "stream",
     "text": [
      "p    8124\n",
      "Name: veil-type, dtype: int64\n"
     ]
    },
    {
     "data": {
      "image/png": "[encoded data removed]",
      "text/plain": [
       "<Figure size 432x288 with 1 Axes>"
      ]
     },
     "metadata": {
      "needs_background": "light"
     },
     "output_type": "display_data"
    }
   ],
   "source": [
    "ax=sns.countplot(x=\"veil-type\", data=df)\n",
    "print(df[\"veil-type\"].value_counts())"
   ]
  },
  {
   "cell_type": "markdown",
   "id": "6e330127",
   "metadata": {},
   "source": [
    "From observation veil-type has p and its values is 8124."
   ]
  },
  {
   "cell_type": "code",
   "execution_count": 33,
   "id": "45aaf11a",
   "metadata": {},
   "outputs": [
    {
     "name": "stdout",
     "output_type": "stream",
     "text": [
      "w    7924\n",
      "o      96\n",
      "n      96\n",
      "y       8\n",
      "Name: veil-color, dtype: int64\n"
     ]
    },
    {
     "data": {
      "image/png": "[encoded data removed]",
      "text/plain": [
       "<Figure size 432x288 with 1 Axes>"
      ]
     },
     "metadata": {
      "needs_background": "light"
     },
     "output_type": "display_data"
    }
   ],
   "source": [
    "ax=sns.countplot(x=\"veil-color\", data=df)\n",
    "print(df[\"veil-color\"].value_counts())"
   ]
  },
  {
   "cell_type": "markdown",
   "id": "e6f9aa1b",
   "metadata": {},
   "source": [
    "From observation veil-color has w, n, o and y and there values are 7924, 96, 96 and 8 respectively."
   ]
  },
  {
   "cell_type": "code",
   "execution_count": 34,
   "id": "9494adec",
   "metadata": {},
   "outputs": [
    {
     "name": "stdout",
     "output_type": "stream",
     "text": [
      "o    7488\n",
      "t     600\n",
      "n      36\n",
      "Name: ring-number, dtype: int64\n"
     ]
    },
    {
     "data": {
      "image/png": "[encoded data removed]",
      "text/plain": [
       "<Figure size 432x288 with 1 Axes>"
      ]
     },
     "metadata": {
      "needs_background": "light"
     },
     "output_type": "display_data"
    }
   ],
   "source": [
    "ax=sns.countplot(x=\"ring-number\", data=df)\n",
    "print(df[\"ring-number\"].value_counts())"
   ]
  },
  {
   "cell_type": "markdown",
   "id": "784427d7",
   "metadata": {},
   "source": [
    "From observation ring-number has o, t and n and there values are 7488, 600 and 36 respectively."
   ]
  },
  {
   "cell_type": "code",
   "execution_count": 35,
   "id": "78c53685",
   "metadata": {},
   "outputs": [
    {
     "name": "stdout",
     "output_type": "stream",
     "text": [
      "p    3968\n",
      "e    2776\n",
      "l    1296\n",
      "f      48\n",
      "n      36\n",
      "Name: ring-type, dtype: int64\n"
     ]
    },
    {
     "data": {
      "image/png": "[encoded data removed]",
      "text/plain": [
       "<Figure size 432x288 with 1 Axes>"
      ]
     },
     "metadata": {
      "needs_background": "light"
     },
     "output_type": "display_data"
    }
   ],
   "source": [
    "ax=sns.countplot(x=\"ring-type\", data=df)\n",
    "print(df[\"ring-type\"].value_counts())"
   ]
  },
  {
   "cell_type": "markdown",
   "id": "274d673b",
   "metadata": {},
   "source": [
    "From observation ring-type has p, e, l, f and n and there values are 3968, 2776, 1296, 48 and 36 respectively."
   ]
  },
  {
   "cell_type": "code",
   "execution_count": 36,
   "id": "7c6580b4",
   "metadata": {},
   "outputs": [
    {
     "name": "stdout",
     "output_type": "stream",
     "text": [
      "w    2388\n",
      "n    1968\n",
      "k    1872\n",
      "h    1632\n",
      "r      72\n",
      "y      48\n",
      "o      48\n",
      "b      48\n",
      "u      48\n",
      "Name: spore-print-color, dtype: int64\n"
     ]
    },
    {
     "data": {
      "image/png": "[encoded data removed]",
      "text/plain": [
       "<Figure size 432x288 with 1 Axes>"
      ]
     },
     "metadata": {
      "needs_background": "light"
     },
     "output_type": "display_data"
    }
   ],
   "source": [
    "ax=sns.countplot(x=\"spore-print-color\", data=df)\n",
    "print(df[\"spore-print-color\"].value_counts())"
   ]
  },
  {
   "cell_type": "markdown",
   "id": "73d4eb29",
   "metadata": {},
   "source": [
    "From observation ring-number has w, n, k, h, r, b, y, u and o and there values are 2388, 1968, 1872, 1632, 72, 48, 48, 48 and 48 respectively."
   ]
  },
  {
   "cell_type": "code",
   "execution_count": 37,
   "id": "2566e1ef",
   "metadata": {},
   "outputs": [
    {
     "name": "stdout",
     "output_type": "stream",
     "text": [
      "v    4040\n",
      "y    1712\n",
      "s    1248\n",
      "n     400\n",
      "a     384\n",
      "c     340\n",
      "Name: population, dtype: int64\n"
     ]
    },
    {
     "data": {
      "image/png": "[encoded data removed]",
      "text/plain": [
       "<Figure size 432x288 with 1 Axes>"
      ]
     },
     "metadata": {
      "needs_background": "light"
     },
     "output_type": "display_data"
    }
   ],
   "source": [
    "ax=sns.countplot(x=\"population\", data=df)\n",
    "print(df[\"population\"].value_counts())"
   ]
  },
  {
   "cell_type": "markdown",
   "id": "5559ccf0",
   "metadata": {},
   "source": [
    "From observation population has v, y, s, n, a and c and there values are 4040, 1712, 1248, 400, 384 and 340 respectively."
   ]
  },
  {
   "cell_type": "code",
   "execution_count": 38,
   "id": "9a813f4f",
   "metadata": {},
   "outputs": [
    {
     "name": "stdout",
     "output_type": "stream",
     "text": [
      "d    3148\n",
      "g    2148\n",
      "p    1144\n",
      "l     832\n",
      "u     368\n",
      "m     292\n",
      "w     192\n",
      "Name: habitat, dtype: int64\n"
     ]
    },
    {
     "data": {
      "image/png": "[encoded data removed]",
      "text/plain": [
       "<Figure size 432x288 with 1 Axes>"
      ]
     },
     "metadata": {
      "needs_background": "light"
     },
     "output_type": "display_data"
    }
   ],
   "source": [
    "ax=sns.countplot(x=\"habitat\", data=df)\n",
    "print(df[\"habitat\"].value_counts())"
   ]
  },
  {
   "cell_type": "markdown",
   "id": "590b742e",
   "metadata": {},
   "source": [
    "From observation habitat has d, g, p, l, u, m and w and there values are 3148, 2148, 1144, 832, 368, 292 and 192 respectively."
   ]
  },
  {
   "cell_type": "markdown",
   "id": "70f482a5",
   "metadata": {},
   "source": [
    "Visualization part is completed.\n",
    "\n",
    "Since the dataset has a lot of string values. We will use the encoding techniques to convert the string data to numerical one"
   ]
  },
  {
   "cell_type": "markdown",
   "id": "df40947d",
   "metadata": {},
   "source": [
    "# Encoding of DataFrame:"
   ]
  },
  {
   "cell_type": "markdown",
   "id": "f5a167b9",
   "metadata": {},
   "source": [
    "#Encoding every column with Label Encoder"
   ]
  },
  {
   "cell_type": "code",
   "execution_count": 39,
   "id": "fd3d4940",
   "metadata": {},
   "outputs": [
    {
     "data": {
      "text/html": [
       "<div>\n",
       "<style scoped>\n",
       "    .dataframe tbody tr th:only-of-type {\n",
       "        vertical-align: middle;\n",
       "    }\n",
       "\n",
       "    .dataframe tbody tr th {\n",
       "        vertical-align: top;\n",
       "    }\n",
       "\n",
       "    .dataframe thead th {\n",
       "        text-align: right;\n",
       "    }\n",
       "</style>\n",
       "<table border=\"1\" class=\"dataframe\">\n",
       "  <thead>\n",
       "    <tr style=\"text-align: right;\">\n",
       "      <th></th>\n",
       "      <th>class</th>\n",
       "      <th>cap-shape</th>\n",
       "      <th>cap-surface</th>\n",
       "      <th>cap-color</th>\n",
       "      <th>bruises</th>\n",
       "      <th>odor</th>\n",
       "      <th>gill-attachment</th>\n",
       "      <th>gill-spacing</th>\n",
       "      <th>gill-size</th>\n",
       "      <th>gill-color</th>\n",
       "      <th>...</th>\n",
       "      <th>stalk-surface-below-ring</th>\n",
       "      <th>stalk-color-above-ring</th>\n",
       "      <th>stalk-color-below-ring</th>\n",
       "      <th>veil-type</th>\n",
       "      <th>veil-color</th>\n",
       "      <th>ring-number</th>\n",
       "      <th>ring-type</th>\n",
       "      <th>spore-print-color</th>\n",
       "      <th>population</th>\n",
       "      <th>habitat</th>\n",
       "    </tr>\n",
       "  </thead>\n",
       "  <tbody>\n",
       "    <tr>\n",
       "      <th>0</th>\n",
       "      <td>1</td>\n",
       "      <td>5</td>\n",
       "      <td>2</td>\n",
       "      <td>4</td>\n",
       "      <td>1</td>\n",
       "      <td>6</td>\n",
       "      <td>1</td>\n",
       "      <td>0</td>\n",
       "      <td>1</td>\n",
       "      <td>4</td>\n",
       "      <td>...</td>\n",
       "      <td>2</td>\n",
       "      <td>7</td>\n",
       "      <td>7</td>\n",
       "      <td>0</td>\n",
       "      <td>2</td>\n",
       "      <td>1</td>\n",
       "      <td>4</td>\n",
       "      <td>2</td>\n",
       "      <td>3</td>\n",
       "      <td>5</td>\n",
       "    </tr>\n",
       "    <tr>\n",
       "      <th>1</th>\n",
       "      <td>0</td>\n",
       "      <td>5</td>\n",
       "      <td>2</td>\n",
       "      <td>9</td>\n",
       "      <td>1</td>\n",
       "      <td>0</td>\n",
       "      <td>1</td>\n",
       "      <td>0</td>\n",
       "      <td>0</td>\n",
       "      <td>4</td>\n",
       "      <td>...</td>\n",
       "      <td>2</td>\n",
       "      <td>7</td>\n",
       "      <td>7</td>\n",
       "      <td>0</td>\n",
       "      <td>2</td>\n",
       "      <td>1</td>\n",
       "      <td>4</td>\n",
       "      <td>3</td>\n",
       "      <td>2</td>\n",
       "      <td>1</td>\n",
       "    </tr>\n",
       "    <tr>\n",
       "      <th>2</th>\n",
       "      <td>0</td>\n",
       "      <td>0</td>\n",
       "      <td>2</td>\n",
       "      <td>8</td>\n",
       "      <td>1</td>\n",
       "      <td>3</td>\n",
       "      <td>1</td>\n",
       "      <td>0</td>\n",
       "      <td>0</td>\n",
       "      <td>5</td>\n",
       "      <td>...</td>\n",
       "      <td>2</td>\n",
       "      <td>7</td>\n",
       "      <td>7</td>\n",
       "      <td>0</td>\n",
       "      <td>2</td>\n",
       "      <td>1</td>\n",
       "      <td>4</td>\n",
       "      <td>3</td>\n",
       "      <td>2</td>\n",
       "      <td>3</td>\n",
       "    </tr>\n",
       "    <tr>\n",
       "      <th>3</th>\n",
       "      <td>1</td>\n",
       "      <td>5</td>\n",
       "      <td>3</td>\n",
       "      <td>8</td>\n",
       "      <td>1</td>\n",
       "      <td>6</td>\n",
       "      <td>1</td>\n",
       "      <td>0</td>\n",
       "      <td>1</td>\n",
       "      <td>5</td>\n",
       "      <td>...</td>\n",
       "      <td>2</td>\n",
       "      <td>7</td>\n",
       "      <td>7</td>\n",
       "      <td>0</td>\n",
       "      <td>2</td>\n",
       "      <td>1</td>\n",
       "      <td>4</td>\n",
       "      <td>2</td>\n",
       "      <td>3</td>\n",
       "      <td>5</td>\n",
       "    </tr>\n",
       "    <tr>\n",
       "      <th>4</th>\n",
       "      <td>0</td>\n",
       "      <td>5</td>\n",
       "      <td>2</td>\n",
       "      <td>3</td>\n",
       "      <td>0</td>\n",
       "      <td>5</td>\n",
       "      <td>1</td>\n",
       "      <td>1</td>\n",
       "      <td>0</td>\n",
       "      <td>4</td>\n",
       "      <td>...</td>\n",
       "      <td>2</td>\n",
       "      <td>7</td>\n",
       "      <td>7</td>\n",
       "      <td>0</td>\n",
       "      <td>2</td>\n",
       "      <td>1</td>\n",
       "      <td>0</td>\n",
       "      <td>3</td>\n",
       "      <td>0</td>\n",
       "      <td>1</td>\n",
       "    </tr>\n",
       "  </tbody>\n",
       "</table>\n",
       "<p>5 rows × 22 columns</p>\n",
       "</div>"
      ],
      "text/plain": [
       "   class  cap-shape  cap-surface  cap-color  bruises  odor  gill-attachment  \\\n",
       "0      1          5            2          4        1     6                1   \n",
       "1      0          5            2          9        1     0                1   \n",
       "2      0          0            2          8        1     3                1   \n",
       "3      1          5            3          8        1     6                1   \n",
       "4      0          5            2          3        0     5                1   \n",
       "\n",
       "   gill-spacing  gill-size  gill-color  ...  stalk-surface-below-ring  \\\n",
       "0             0          1           4  ...                         2   \n",
       "1             0          0           4  ...                         2   \n",
       "2             0          0           5  ...                         2   \n",
       "3             0          1           5  ...                         2   \n",
       "4             1          0           4  ...                         2   \n",
       "\n",
       "   stalk-color-above-ring  stalk-color-below-ring  veil-type  veil-color  \\\n",
       "0                       7                       7          0           2   \n",
       "1                       7                       7          0           2   \n",
       "2                       7                       7          0           2   \n",
       "3                       7                       7          0           2   \n",
       "4                       7                       7          0           2   \n",
       "\n",
       "   ring-number  ring-type  spore-print-color  population  habitat  \n",
       "0            1          4                  2           3        5  \n",
       "1            1          4                  3           2        1  \n",
       "2            1          4                  3           2        3  \n",
       "3            1          4                  2           3        5  \n",
       "4            1          0                  3           0        1  \n",
       "\n",
       "[5 rows x 22 columns]"
      ]
     },
     "execution_count": 39,
     "metadata": {},
     "output_type": "execute_result"
    }
   ],
   "source": [
    "from sklearn.preprocessing import LabelEncoder\n",
    "en= LabelEncoder()\n",
    "df=df.apply(LabelEncoder().fit_transform)\n",
    "df.head()"
   ]
  },
  {
   "cell_type": "markdown",
   "id": "69a6db53",
   "metadata": {},
   "source": [
    "Label Encoder helped to change string data to numeric"
   ]
  },
  {
   "cell_type": "code",
   "execution_count": 40,
   "id": "562443a6",
   "metadata": {},
   "outputs": [
    {
     "data": {
      "text/plain": [
       "class                       int32\n",
       "cap-shape                   int32\n",
       "cap-surface                 int32\n",
       "cap-color                   int32\n",
       "bruises                     int32\n",
       "odor                        int32\n",
       "gill-attachment             int32\n",
       "gill-spacing                int32\n",
       "gill-size                   int32\n",
       "gill-color                  int32\n",
       "stalk-shape                 int32\n",
       "stalk-surface-above-ring    int32\n",
       "stalk-surface-below-ring    int32\n",
       "stalk-color-above-ring      int32\n",
       "stalk-color-below-ring      int32\n",
       "veil-type                   int32\n",
       "veil-color                  int32\n",
       "ring-number                 int32\n",
       "ring-type                   int32\n",
       "spore-print-color           int32\n",
       "population                  int32\n",
       "habitat                     int32\n",
       "dtype: object"
      ]
     },
     "execution_count": 40,
     "metadata": {},
     "output_type": "execute_result"
    }
   ],
   "source": [
    "df.dtypes"
   ]
  },
  {
   "cell_type": "markdown",
   "id": "cb5d23f1",
   "metadata": {},
   "source": [
    "string data changed to int data"
   ]
  },
  {
   "cell_type": "code",
   "execution_count": 41,
   "id": "84c548ea",
   "metadata": {},
   "outputs": [
    {
     "data": {
      "text/html": [
       "<div>\n",
       "<style scoped>\n",
       "    .dataframe tbody tr th:only-of-type {\n",
       "        vertical-align: middle;\n",
       "    }\n",
       "\n",
       "    .dataframe tbody tr th {\n",
       "        vertical-align: top;\n",
       "    }\n",
       "\n",
       "    .dataframe thead th {\n",
       "        text-align: right;\n",
       "    }\n",
       "</style>\n",
       "<table border=\"1\" class=\"dataframe\">\n",
       "  <thead>\n",
       "    <tr style=\"text-align: right;\">\n",
       "      <th></th>\n",
       "      <th>class</th>\n",
       "      <th>cap-shape</th>\n",
       "      <th>cap-surface</th>\n",
       "      <th>cap-color</th>\n",
       "      <th>bruises</th>\n",
       "      <th>odor</th>\n",
       "      <th>gill-attachment</th>\n",
       "      <th>gill-spacing</th>\n",
       "      <th>gill-size</th>\n",
       "      <th>gill-color</th>\n",
       "      <th>...</th>\n",
       "      <th>stalk-surface-below-ring</th>\n",
       "      <th>stalk-color-above-ring</th>\n",
       "      <th>stalk-color-below-ring</th>\n",
       "      <th>veil-type</th>\n",
       "      <th>veil-color</th>\n",
       "      <th>ring-number</th>\n",
       "      <th>ring-type</th>\n",
       "      <th>spore-print-color</th>\n",
       "      <th>population</th>\n",
       "      <th>habitat</th>\n",
       "    </tr>\n",
       "  </thead>\n",
       "  <tbody>\n",
       "    <tr>\n",
       "      <th>count</th>\n",
       "      <td>8124.000000</td>\n",
       "      <td>8124.000000</td>\n",
       "      <td>8124.000000</td>\n",
       "      <td>8124.000000</td>\n",
       "      <td>8124.000000</td>\n",
       "      <td>8124.000000</td>\n",
       "      <td>8124.000000</td>\n",
       "      <td>8124.000000</td>\n",
       "      <td>8124.000000</td>\n",
       "      <td>8124.000000</td>\n",
       "      <td>...</td>\n",
       "      <td>8124.000000</td>\n",
       "      <td>8124.000000</td>\n",
       "      <td>8124.000000</td>\n",
       "      <td>8124.0</td>\n",
       "      <td>8124.000000</td>\n",
       "      <td>8124.000000</td>\n",
       "      <td>8124.000000</td>\n",
       "      <td>8124.000000</td>\n",
       "      <td>8124.000000</td>\n",
       "      <td>8124.000000</td>\n",
       "    </tr>\n",
       "    <tr>\n",
       "      <th>mean</th>\n",
       "      <td>0.482029</td>\n",
       "      <td>3.348104</td>\n",
       "      <td>1.827671</td>\n",
       "      <td>4.504677</td>\n",
       "      <td>0.415559</td>\n",
       "      <td>4.144756</td>\n",
       "      <td>0.974151</td>\n",
       "      <td>0.161497</td>\n",
       "      <td>0.309207</td>\n",
       "      <td>4.810684</td>\n",
       "      <td>...</td>\n",
       "      <td>1.603644</td>\n",
       "      <td>5.816347</td>\n",
       "      <td>5.794682</td>\n",
       "      <td>0.0</td>\n",
       "      <td>1.965534</td>\n",
       "      <td>1.069424</td>\n",
       "      <td>2.291974</td>\n",
       "      <td>3.596750</td>\n",
       "      <td>3.644018</td>\n",
       "      <td>1.508616</td>\n",
       "    </tr>\n",
       "    <tr>\n",
       "      <th>std</th>\n",
       "      <td>0.499708</td>\n",
       "      <td>1.604329</td>\n",
       "      <td>1.229873</td>\n",
       "      <td>2.545821</td>\n",
       "      <td>0.492848</td>\n",
       "      <td>2.103729</td>\n",
       "      <td>0.158695</td>\n",
       "      <td>0.368011</td>\n",
       "      <td>0.462195</td>\n",
       "      <td>3.540359</td>\n",
       "      <td>...</td>\n",
       "      <td>0.675974</td>\n",
       "      <td>1.901747</td>\n",
       "      <td>1.907291</td>\n",
       "      <td>0.0</td>\n",
       "      <td>0.242669</td>\n",
       "      <td>0.271064</td>\n",
       "      <td>1.801672</td>\n",
       "      <td>2.382663</td>\n",
       "      <td>1.252082</td>\n",
       "      <td>1.719975</td>\n",
       "    </tr>\n",
       "    <tr>\n",
       "      <th>min</th>\n",
       "      <td>0.000000</td>\n",
       "      <td>0.000000</td>\n",
       "      <td>0.000000</td>\n",
       "      <td>0.000000</td>\n",
       "      <td>0.000000</td>\n",
       "      <td>0.000000</td>\n",
       "      <td>0.000000</td>\n",
       "      <td>0.000000</td>\n",
       "      <td>0.000000</td>\n",
       "      <td>0.000000</td>\n",
       "      <td>...</td>\n",
       "      <td>0.000000</td>\n",
       "      <td>0.000000</td>\n",
       "      <td>0.000000</td>\n",
       "      <td>0.0</td>\n",
       "      <td>0.000000</td>\n",
       "      <td>0.000000</td>\n",
       "      <td>0.000000</td>\n",
       "      <td>0.000000</td>\n",
       "      <td>0.000000</td>\n",
       "      <td>0.000000</td>\n",
       "    </tr>\n",
       "    <tr>\n",
       "      <th>25%</th>\n",
       "      <td>0.000000</td>\n",
       "      <td>2.000000</td>\n",
       "      <td>0.000000</td>\n",
       "      <td>3.000000</td>\n",
       "      <td>0.000000</td>\n",
       "      <td>2.000000</td>\n",
       "      <td>1.000000</td>\n",
       "      <td>0.000000</td>\n",
       "      <td>0.000000</td>\n",
       "      <td>2.000000</td>\n",
       "      <td>...</td>\n",
       "      <td>1.000000</td>\n",
       "      <td>6.000000</td>\n",
       "      <td>6.000000</td>\n",
       "      <td>0.0</td>\n",
       "      <td>2.000000</td>\n",
       "      <td>1.000000</td>\n",
       "      <td>0.000000</td>\n",
       "      <td>2.000000</td>\n",
       "      <td>3.000000</td>\n",
       "      <td>0.000000</td>\n",
       "    </tr>\n",
       "    <tr>\n",
       "      <th>50%</th>\n",
       "      <td>0.000000</td>\n",
       "      <td>3.000000</td>\n",
       "      <td>2.000000</td>\n",
       "      <td>4.000000</td>\n",
       "      <td>0.000000</td>\n",
       "      <td>5.000000</td>\n",
       "      <td>1.000000</td>\n",
       "      <td>0.000000</td>\n",
       "      <td>0.000000</td>\n",
       "      <td>5.000000</td>\n",
       "      <td>...</td>\n",
       "      <td>2.000000</td>\n",
       "      <td>7.000000</td>\n",
       "      <td>7.000000</td>\n",
       "      <td>0.0</td>\n",
       "      <td>2.000000</td>\n",
       "      <td>1.000000</td>\n",
       "      <td>2.000000</td>\n",
       "      <td>3.000000</td>\n",
       "      <td>4.000000</td>\n",
       "      <td>1.000000</td>\n",
       "    </tr>\n",
       "    <tr>\n",
       "      <th>75%</th>\n",
       "      <td>1.000000</td>\n",
       "      <td>5.000000</td>\n",
       "      <td>3.000000</td>\n",
       "      <td>8.000000</td>\n",
       "      <td>1.000000</td>\n",
       "      <td>5.000000</td>\n",
       "      <td>1.000000</td>\n",
       "      <td>0.000000</td>\n",
       "      <td>1.000000</td>\n",
       "      <td>7.000000</td>\n",
       "      <td>...</td>\n",
       "      <td>2.000000</td>\n",
       "      <td>7.000000</td>\n",
       "      <td>7.000000</td>\n",
       "      <td>0.0</td>\n",
       "      <td>2.000000</td>\n",
       "      <td>1.000000</td>\n",
       "      <td>4.000000</td>\n",
       "      <td>7.000000</td>\n",
       "      <td>4.000000</td>\n",
       "      <td>2.000000</td>\n",
       "    </tr>\n",
       "    <tr>\n",
       "      <th>max</th>\n",
       "      <td>1.000000</td>\n",
       "      <td>5.000000</td>\n",
       "      <td>3.000000</td>\n",
       "      <td>9.000000</td>\n",
       "      <td>1.000000</td>\n",
       "      <td>8.000000</td>\n",
       "      <td>1.000000</td>\n",
       "      <td>1.000000</td>\n",
       "      <td>1.000000</td>\n",
       "      <td>11.000000</td>\n",
       "      <td>...</td>\n",
       "      <td>3.000000</td>\n",
       "      <td>8.000000</td>\n",
       "      <td>8.000000</td>\n",
       "      <td>0.0</td>\n",
       "      <td>3.000000</td>\n",
       "      <td>2.000000</td>\n",
       "      <td>4.000000</td>\n",
       "      <td>8.000000</td>\n",
       "      <td>5.000000</td>\n",
       "      <td>6.000000</td>\n",
       "    </tr>\n",
       "  </tbody>\n",
       "</table>\n",
       "<p>8 rows × 22 columns</p>\n",
       "</div>"
      ],
      "text/plain": [
       "             class    cap-shape  cap-surface    cap-color      bruises  \\\n",
       "count  8124.000000  8124.000000  8124.000000  8124.000000  8124.000000   \n",
       "mean      0.482029     3.348104     1.827671     4.504677     0.415559   \n",
       "std       0.499708     1.604329     1.229873     2.545821     0.492848   \n",
       "min       0.000000     0.000000     0.000000     0.000000     0.000000   \n",
       "25%       0.000000     2.000000     0.000000     3.000000     0.000000   \n",
       "50%       0.000000     3.000000     2.000000     4.000000     0.000000   \n",
       "75%       1.000000     5.000000     3.000000     8.000000     1.000000   \n",
       "max       1.000000     5.000000     3.000000     9.000000     1.000000   \n",
       "\n",
       "              odor  gill-attachment  gill-spacing    gill-size   gill-color  \\\n",
       "count  8124.000000      8124.000000   8124.000000  8124.000000  8124.000000   \n",
       "mean      4.144756         0.974151      0.161497     0.309207     4.810684   \n",
       "std       2.103729         0.158695      0.368011     0.462195     3.540359   \n",
       "min       0.000000         0.000000      0.000000     0.000000     0.000000   \n",
       "25%       2.000000         1.000000      0.000000     0.000000     2.000000   \n",
       "50%       5.000000         1.000000      0.000000     0.000000     5.000000   \n",
       "75%       5.000000         1.000000      0.000000     1.000000     7.000000   \n",
       "max       8.000000         1.000000      1.000000     1.000000    11.000000   \n",
       "\n",
       "       ...  stalk-surface-below-ring  stalk-color-above-ring  \\\n",
       "count  ...               8124.000000             8124.000000   \n",
       "mean   ...                  1.603644                5.816347   \n",
       "std    ...                  0.675974                1.901747   \n",
       "min    ...                  0.000000                0.000000   \n",
       "25%    ...                  1.000000                6.000000   \n",
       "50%    ...                  2.000000                7.000000   \n",
       "75%    ...                  2.000000                7.000000   \n",
       "max    ...                  3.000000                8.000000   \n",
       "\n",
       "       stalk-color-below-ring  veil-type   veil-color  ring-number  \\\n",
       "count             8124.000000     8124.0  8124.000000  8124.000000   \n",
       "mean                 5.794682        0.0     1.965534     1.069424   \n",
       "std                  1.907291        0.0     0.242669     0.271064   \n",
       "min                  0.000000        0.0     0.000000     0.000000   \n",
       "25%                  6.000000        0.0     2.000000     1.000000   \n",
       "50%                  7.000000        0.0     2.000000     1.000000   \n",
       "75%                  7.000000        0.0     2.000000     1.000000   \n",
       "max                  8.000000        0.0     3.000000     2.000000   \n",
       "\n",
       "         ring-type  spore-print-color   population      habitat  \n",
       "count  8124.000000        8124.000000  8124.000000  8124.000000  \n",
       "mean      2.291974           3.596750     3.644018     1.508616  \n",
       "std       1.801672           2.382663     1.252082     1.719975  \n",
       "min       0.000000           0.000000     0.000000     0.000000  \n",
       "25%       0.000000           2.000000     3.000000     0.000000  \n",
       "50%       2.000000           3.000000     4.000000     1.000000  \n",
       "75%       4.000000           7.000000     4.000000     2.000000  \n",
       "max       4.000000           8.000000     5.000000     6.000000  \n",
       "\n",
       "[8 rows x 22 columns]"
      ]
     },
     "execution_count": 41,
     "metadata": {},
     "output_type": "execute_result"
    }
   ],
   "source": [
    "df.describe()"
   ]
  },
  {
   "cell_type": "markdown",
   "id": "e584d5c3",
   "metadata": {},
   "source": [
    "Observations:\n",
    "   \n",
    "   1. Mean and median: max time mean is greater than median\n",
    "   2. 75% and max: Odor, gill-color and habitat is having difference so outliers present"
   ]
  },
  {
   "cell_type": "code",
   "execution_count": 42,
   "id": "e09f20c3",
   "metadata": {},
   "outputs": [
    {
     "data": {
      "text/plain": [
       "<AxesSubplot:>"
      ]
     },
     "execution_count": 42,
     "metadata": {},
     "output_type": "execute_result"
    },
    {
     "data": {
      "image/png": "[encoded data removed]",
      "text/plain": [
       "<Figure size 1584x504 with 2 Axes>"
      ]
     },
     "metadata": {
      "needs_background": "light"
     },
     "output_type": "display_data"
    }
   ],
   "source": [
    "import matplotlib.pyplot as plt\n",
    "plt.figure(figsize=(22,7))\n",
    "sns.heatmap(df.describe(),annot=True,linewidths=0.1,linecolor=\"Blue\",fmt=\"0.2f\")"
   ]
  },
  {
   "cell_type": "markdown",
   "id": "05eadcd4",
   "metadata": {},
   "source": [
    "Heatmap representation of the dataset describe for better understanding"
   ]
  },
  {
   "cell_type": "markdown",
   "id": "987e1a45",
   "metadata": {},
   "source": [
    "# Correlation of the columns with target columns:"
   ]
  },
  {
   "cell_type": "code",
   "execution_count": 43,
   "id": "958f1515",
   "metadata": {},
   "outputs": [
    {
     "data": {
      "text/html": [
       "<div>\n",
       "<style scoped>\n",
       "    .dataframe tbody tr th:only-of-type {\n",
       "        vertical-align: middle;\n",
       "    }\n",
       "\n",
       "    .dataframe tbody tr th {\n",
       "        vertical-align: top;\n",
       "    }\n",
       "\n",
       "    .dataframe thead th {\n",
       "        text-align: right;\n",
       "    }\n",
       "</style>\n",
       "<table border=\"1\" class=\"dataframe\">\n",
       "  <thead>\n",
       "    <tr style=\"text-align: right;\">\n",
       "      <th></th>\n",
       "      <th>class</th>\n",
       "      <th>cap-shape</th>\n",
       "      <th>cap-surface</th>\n",
       "      <th>cap-color</th>\n",
       "      <th>bruises</th>\n",
       "      <th>odor</th>\n",
       "      <th>gill-attachment</th>\n",
       "      <th>gill-spacing</th>\n",
       "      <th>gill-size</th>\n",
       "      <th>gill-color</th>\n",
       "      <th>...</th>\n",
       "      <th>stalk-surface-below-ring</th>\n",
       "      <th>stalk-color-above-ring</th>\n",
       "      <th>stalk-color-below-ring</th>\n",
       "      <th>veil-type</th>\n",
       "      <th>veil-color</th>\n",
       "      <th>ring-number</th>\n",
       "      <th>ring-type</th>\n",
       "      <th>spore-print-color</th>\n",
       "      <th>population</th>\n",
       "      <th>habitat</th>\n",
       "    </tr>\n",
       "  </thead>\n",
       "  <tbody>\n",
       "    <tr>\n",
       "      <th>class</th>\n",
       "      <td>1.000000</td>\n",
       "      <td>0.052951</td>\n",
       "      <td>0.178446</td>\n",
       "      <td>-0.031384</td>\n",
       "      <td>-0.501530</td>\n",
       "      <td>-0.093552</td>\n",
       "      <td>0.129200</td>\n",
       "      <td>-0.348387</td>\n",
       "      <td>0.540024</td>\n",
       "      <td>-0.530566</td>\n",
       "      <td>...</td>\n",
       "      <td>-0.298801</td>\n",
       "      <td>-0.154003</td>\n",
       "      <td>-0.146730</td>\n",
       "      <td>NaN</td>\n",
       "      <td>0.145142</td>\n",
       "      <td>-0.214366</td>\n",
       "      <td>-0.411771</td>\n",
       "      <td>0.171961</td>\n",
       "      <td>0.298686</td>\n",
       "      <td>0.217179</td>\n",
       "    </tr>\n",
       "    <tr>\n",
       "      <th>cap-shape</th>\n",
       "      <td>0.052951</td>\n",
       "      <td>1.000000</td>\n",
       "      <td>-0.050454</td>\n",
       "      <td>-0.048203</td>\n",
       "      <td>-0.035374</td>\n",
       "      <td>-0.021935</td>\n",
       "      <td>0.078865</td>\n",
       "      <td>0.013196</td>\n",
       "      <td>0.054050</td>\n",
       "      <td>-0.006039</td>\n",
       "      <td>...</td>\n",
       "      <td>-0.032591</td>\n",
       "      <td>-0.031659</td>\n",
       "      <td>-0.030390</td>\n",
       "      <td>NaN</td>\n",
       "      <td>0.072560</td>\n",
       "      <td>-0.106534</td>\n",
       "      <td>-0.025457</td>\n",
       "      <td>-0.073416</td>\n",
       "      <td>0.063413</td>\n",
       "      <td>-0.042221</td>\n",
       "    </tr>\n",
       "    <tr>\n",
       "      <th>cap-surface</th>\n",
       "      <td>0.178446</td>\n",
       "      <td>-0.050454</td>\n",
       "      <td>1.000000</td>\n",
       "      <td>-0.019402</td>\n",
       "      <td>0.070228</td>\n",
       "      <td>0.045233</td>\n",
       "      <td>-0.034180</td>\n",
       "      <td>-0.282306</td>\n",
       "      <td>0.208100</td>\n",
       "      <td>-0.161017</td>\n",
       "      <td>...</td>\n",
       "      <td>0.107965</td>\n",
       "      <td>0.066050</td>\n",
       "      <td>0.068885</td>\n",
       "      <td>NaN</td>\n",
       "      <td>-0.016603</td>\n",
       "      <td>-0.026147</td>\n",
       "      <td>-0.106407</td>\n",
       "      <td>0.230364</td>\n",
       "      <td>0.021555</td>\n",
       "      <td>0.163887</td>\n",
       "    </tr>\n",
       "    <tr>\n",
       "      <th>cap-color</th>\n",
       "      <td>-0.031384</td>\n",
       "      <td>-0.048203</td>\n",
       "      <td>-0.019402</td>\n",
       "      <td>1.000000</td>\n",
       "      <td>-0.000764</td>\n",
       "      <td>-0.387121</td>\n",
       "      <td>0.041436</td>\n",
       "      <td>0.144259</td>\n",
       "      <td>-0.169464</td>\n",
       "      <td>0.084659</td>\n",
       "      <td>...</td>\n",
       "      <td>-0.047710</td>\n",
       "      <td>0.002364</td>\n",
       "      <td>0.008057</td>\n",
       "      <td>NaN</td>\n",
       "      <td>0.036130</td>\n",
       "      <td>-0.005822</td>\n",
       "      <td>0.162513</td>\n",
       "      <td>-0.293523</td>\n",
       "      <td>-0.144770</td>\n",
       "      <td>0.033925</td>\n",
       "    </tr>\n",
       "    <tr>\n",
       "      <th>bruises</th>\n",
       "      <td>-0.501530</td>\n",
       "      <td>-0.035374</td>\n",
       "      <td>0.070228</td>\n",
       "      <td>-0.000764</td>\n",
       "      <td>1.000000</td>\n",
       "      <td>-0.061825</td>\n",
       "      <td>0.137359</td>\n",
       "      <td>-0.299473</td>\n",
       "      <td>-0.369596</td>\n",
       "      <td>0.527120</td>\n",
       "      <td>...</td>\n",
       "      <td>0.458983</td>\n",
       "      <td>0.083538</td>\n",
       "      <td>0.092874</td>\n",
       "      <td>NaN</td>\n",
       "      <td>0.119770</td>\n",
       "      <td>0.056788</td>\n",
       "      <td>0.692973</td>\n",
       "      <td>-0.285008</td>\n",
       "      <td>0.088137</td>\n",
       "      <td>-0.075095</td>\n",
       "    </tr>\n",
       "    <tr>\n",
       "      <th>odor</th>\n",
       "      <td>-0.093552</td>\n",
       "      <td>-0.021935</td>\n",
       "      <td>0.045233</td>\n",
       "      <td>-0.387121</td>\n",
       "      <td>-0.061825</td>\n",
       "      <td>1.000000</td>\n",
       "      <td>-0.059590</td>\n",
       "      <td>0.063936</td>\n",
       "      <td>0.310495</td>\n",
       "      <td>-0.129213</td>\n",
       "      <td>...</td>\n",
       "      <td>0.061820</td>\n",
       "      <td>0.174532</td>\n",
       "      <td>0.169407</td>\n",
       "      <td>NaN</td>\n",
       "      <td>-0.057747</td>\n",
       "      <td>0.111905</td>\n",
       "      <td>-0.281387</td>\n",
       "      <td>0.469055</td>\n",
       "      <td>-0.043623</td>\n",
       "      <td>-0.026610</td>\n",
       "    </tr>\n",
       "    <tr>\n",
       "      <th>gill-attachment</th>\n",
       "      <td>0.129200</td>\n",
       "      <td>0.078865</td>\n",
       "      <td>-0.034180</td>\n",
       "      <td>0.041436</td>\n",
       "      <td>0.137359</td>\n",
       "      <td>-0.059590</td>\n",
       "      <td>1.000000</td>\n",
       "      <td>0.071489</td>\n",
       "      <td>0.108984</td>\n",
       "      <td>-0.128567</td>\n",
       "      <td>...</td>\n",
       "      <td>-0.116177</td>\n",
       "      <td>0.099299</td>\n",
       "      <td>0.097160</td>\n",
       "      <td>NaN</td>\n",
       "      <td>0.897518</td>\n",
       "      <td>0.093236</td>\n",
       "      <td>-0.146689</td>\n",
       "      <td>-0.029524</td>\n",
       "      <td>0.165575</td>\n",
       "      <td>-0.030304</td>\n",
       "    </tr>\n",
       "    <tr>\n",
       "      <th>gill-spacing</th>\n",
       "      <td>-0.348387</td>\n",
       "      <td>0.013196</td>\n",
       "      <td>-0.282306</td>\n",
       "      <td>0.144259</td>\n",
       "      <td>-0.299473</td>\n",
       "      <td>0.063936</td>\n",
       "      <td>0.071489</td>\n",
       "      <td>1.000000</td>\n",
       "      <td>-0.108333</td>\n",
       "      <td>0.100193</td>\n",
       "      <td>...</td>\n",
       "      <td>-0.213775</td>\n",
       "      <td>0.274574</td>\n",
       "      <td>0.253505</td>\n",
       "      <td>NaN</td>\n",
       "      <td>0.073363</td>\n",
       "      <td>0.243014</td>\n",
       "      <td>-0.195897</td>\n",
       "      <td>0.047323</td>\n",
       "      <td>-0.529253</td>\n",
       "      <td>-0.154680</td>\n",
       "    </tr>\n",
       "    <tr>\n",
       "      <th>gill-size</th>\n",
       "      <td>0.540024</td>\n",
       "      <td>0.054050</td>\n",
       "      <td>0.208100</td>\n",
       "      <td>-0.169464</td>\n",
       "      <td>-0.369596</td>\n",
       "      <td>0.310495</td>\n",
       "      <td>0.108984</td>\n",
       "      <td>-0.108333</td>\n",
       "      <td>1.000000</td>\n",
       "      <td>-0.516736</td>\n",
       "      <td>...</td>\n",
       "      <td>0.010894</td>\n",
       "      <td>0.296548</td>\n",
       "      <td>0.278708</td>\n",
       "      <td>NaN</td>\n",
       "      <td>0.103809</td>\n",
       "      <td>-0.171362</td>\n",
       "      <td>-0.460872</td>\n",
       "      <td>0.622991</td>\n",
       "      <td>0.147682</td>\n",
       "      <td>0.161418</td>\n",
       "    </tr>\n",
       "    <tr>\n",
       "      <th>gill-color</th>\n",
       "      <td>-0.530566</td>\n",
       "      <td>-0.006039</td>\n",
       "      <td>-0.161017</td>\n",
       "      <td>0.084659</td>\n",
       "      <td>0.527120</td>\n",
       "      <td>-0.129213</td>\n",
       "      <td>-0.128567</td>\n",
       "      <td>0.100193</td>\n",
       "      <td>-0.516736</td>\n",
       "      <td>1.000000</td>\n",
       "      <td>...</td>\n",
       "      <td>0.257224</td>\n",
       "      <td>-0.058299</td>\n",
       "      <td>-0.074781</td>\n",
       "      <td>NaN</td>\n",
       "      <td>-0.097583</td>\n",
       "      <td>0.096054</td>\n",
       "      <td>0.629398</td>\n",
       "      <td>-0.416135</td>\n",
       "      <td>-0.034090</td>\n",
       "      <td>-0.202972</td>\n",
       "    </tr>\n",
       "    <tr>\n",
       "      <th>stalk-shape</th>\n",
       "      <td>-0.102019</td>\n",
       "      <td>0.063794</td>\n",
       "      <td>-0.014123</td>\n",
       "      <td>-0.456496</td>\n",
       "      <td>0.099364</td>\n",
       "      <td>0.459766</td>\n",
       "      <td>0.186485</td>\n",
       "      <td>0.080895</td>\n",
       "      <td>0.214576</td>\n",
       "      <td>-0.175699</td>\n",
       "      <td>...</td>\n",
       "      <td>-0.034399</td>\n",
       "      <td>0.223439</td>\n",
       "      <td>0.235794</td>\n",
       "      <td>NaN</td>\n",
       "      <td>0.162604</td>\n",
       "      <td>-0.293221</td>\n",
       "      <td>-0.291444</td>\n",
       "      <td>0.258831</td>\n",
       "      <td>0.087383</td>\n",
       "      <td>-0.269216</td>\n",
       "    </tr>\n",
       "    <tr>\n",
       "      <th>stalk-surface-above-ring</th>\n",
       "      <td>-0.334593</td>\n",
       "      <td>-0.030417</td>\n",
       "      <td>0.089090</td>\n",
       "      <td>-0.060837</td>\n",
       "      <td>0.460824</td>\n",
       "      <td>0.118617</td>\n",
       "      <td>-0.088916</td>\n",
       "      <td>-0.212359</td>\n",
       "      <td>0.056310</td>\n",
       "      <td>0.224287</td>\n",
       "      <td>...</td>\n",
       "      <td>0.437164</td>\n",
       "      <td>0.132708</td>\n",
       "      <td>0.142835</td>\n",
       "      <td>NaN</td>\n",
       "      <td>-0.090591</td>\n",
       "      <td>0.107904</td>\n",
       "      <td>0.390091</td>\n",
       "      <td>0.100764</td>\n",
       "      <td>0.079604</td>\n",
       "      <td>-0.058076</td>\n",
       "    </tr>\n",
       "    <tr>\n",
       "      <th>stalk-surface-below-ring</th>\n",
       "      <td>-0.298801</td>\n",
       "      <td>-0.032591</td>\n",
       "      <td>0.107965</td>\n",
       "      <td>-0.047710</td>\n",
       "      <td>0.458983</td>\n",
       "      <td>0.061820</td>\n",
       "      <td>-0.116177</td>\n",
       "      <td>-0.213775</td>\n",
       "      <td>0.010894</td>\n",
       "      <td>0.257224</td>\n",
       "      <td>...</td>\n",
       "      <td>1.000000</td>\n",
       "      <td>0.106933</td>\n",
       "      <td>0.110656</td>\n",
       "      <td>NaN</td>\n",
       "      <td>-0.077284</td>\n",
       "      <td>0.040006</td>\n",
       "      <td>0.394644</td>\n",
       "      <td>0.130974</td>\n",
       "      <td>0.046797</td>\n",
       "      <td>-0.039628</td>\n",
       "    </tr>\n",
       "    <tr>\n",
       "      <th>stalk-color-above-ring</th>\n",
       "      <td>-0.154003</td>\n",
       "      <td>-0.031659</td>\n",
       "      <td>0.066050</td>\n",
       "      <td>0.002364</td>\n",
       "      <td>0.083538</td>\n",
       "      <td>0.174532</td>\n",
       "      <td>0.099299</td>\n",
       "      <td>0.274574</td>\n",
       "      <td>0.296548</td>\n",
       "      <td>-0.058299</td>\n",
       "      <td>...</td>\n",
       "      <td>0.106933</td>\n",
       "      <td>1.000000</td>\n",
       "      <td>0.491510</td>\n",
       "      <td>NaN</td>\n",
       "      <td>0.067377</td>\n",
       "      <td>0.084917</td>\n",
       "      <td>-0.048878</td>\n",
       "      <td>0.271533</td>\n",
       "      <td>-0.240261</td>\n",
       "      <td>0.042561</td>\n",
       "    </tr>\n",
       "    <tr>\n",
       "      <th>stalk-color-below-ring</th>\n",
       "      <td>-0.146730</td>\n",
       "      <td>-0.030390</td>\n",
       "      <td>0.068885</td>\n",
       "      <td>0.008057</td>\n",
       "      <td>0.092874</td>\n",
       "      <td>0.169407</td>\n",
       "      <td>0.097160</td>\n",
       "      <td>0.253505</td>\n",
       "      <td>0.278708</td>\n",
       "      <td>-0.074781</td>\n",
       "      <td>...</td>\n",
       "      <td>0.110656</td>\n",
       "      <td>0.491510</td>\n",
       "      <td>1.000000</td>\n",
       "      <td>NaN</td>\n",
       "      <td>0.065567</td>\n",
       "      <td>0.087580</td>\n",
       "      <td>-0.034284</td>\n",
       "      <td>0.254518</td>\n",
       "      <td>-0.242792</td>\n",
       "      <td>0.041594</td>\n",
       "    </tr>\n",
       "    <tr>\n",
       "      <th>veil-type</th>\n",
       "      <td>NaN</td>\n",
       "      <td>NaN</td>\n",
       "      <td>NaN</td>\n",
       "      <td>NaN</td>\n",
       "      <td>NaN</td>\n",
       "      <td>NaN</td>\n",
       "      <td>NaN</td>\n",
       "      <td>NaN</td>\n",
       "      <td>NaN</td>\n",
       "      <td>NaN</td>\n",
       "      <td>...</td>\n",
       "      <td>NaN</td>\n",
       "      <td>NaN</td>\n",
       "      <td>NaN</td>\n",
       "      <td>NaN</td>\n",
       "      <td>NaN</td>\n",
       "      <td>NaN</td>\n",
       "      <td>NaN</td>\n",
       "      <td>NaN</td>\n",
       "      <td>NaN</td>\n",
       "      <td>NaN</td>\n",
       "    </tr>\n",
       "    <tr>\n",
       "      <th>veil-color</th>\n",
       "      <td>0.145142</td>\n",
       "      <td>0.072560</td>\n",
       "      <td>-0.016603</td>\n",
       "      <td>0.036130</td>\n",
       "      <td>0.119770</td>\n",
       "      <td>-0.057747</td>\n",
       "      <td>0.897518</td>\n",
       "      <td>0.073363</td>\n",
       "      <td>0.103809</td>\n",
       "      <td>-0.097583</td>\n",
       "      <td>...</td>\n",
       "      <td>-0.077284</td>\n",
       "      <td>0.067377</td>\n",
       "      <td>0.065567</td>\n",
       "      <td>NaN</td>\n",
       "      <td>1.000000</td>\n",
       "      <td>0.036380</td>\n",
       "      <td>-0.143673</td>\n",
       "      <td>-0.003600</td>\n",
       "      <td>0.124924</td>\n",
       "      <td>-0.040581</td>\n",
       "    </tr>\n",
       "    <tr>\n",
       "      <th>ring-number</th>\n",
       "      <td>-0.214366</td>\n",
       "      <td>-0.106534</td>\n",
       "      <td>-0.026147</td>\n",
       "      <td>-0.005822</td>\n",
       "      <td>0.056788</td>\n",
       "      <td>0.111905</td>\n",
       "      <td>0.093236</td>\n",
       "      <td>0.243014</td>\n",
       "      <td>-0.171362</td>\n",
       "      <td>0.096054</td>\n",
       "      <td>...</td>\n",
       "      <td>0.040006</td>\n",
       "      <td>0.084917</td>\n",
       "      <td>0.087580</td>\n",
       "      <td>NaN</td>\n",
       "      <td>0.036380</td>\n",
       "      <td>1.000000</td>\n",
       "      <td>0.058312</td>\n",
       "      <td>0.338417</td>\n",
       "      <td>-0.242020</td>\n",
       "      <td>0.235835</td>\n",
       "    </tr>\n",
       "    <tr>\n",
       "      <th>ring-type</th>\n",
       "      <td>-0.411771</td>\n",
       "      <td>-0.025457</td>\n",
       "      <td>-0.106407</td>\n",
       "      <td>0.162513</td>\n",
       "      <td>0.692973</td>\n",
       "      <td>-0.281387</td>\n",
       "      <td>-0.146689</td>\n",
       "      <td>-0.195897</td>\n",
       "      <td>-0.460872</td>\n",
       "      <td>0.629398</td>\n",
       "      <td>...</td>\n",
       "      <td>0.394644</td>\n",
       "      <td>-0.048878</td>\n",
       "      <td>-0.034284</td>\n",
       "      <td>NaN</td>\n",
       "      <td>-0.143673</td>\n",
       "      <td>0.058312</td>\n",
       "      <td>1.000000</td>\n",
       "      <td>-0.487048</td>\n",
       "      <td>0.211763</td>\n",
       "      <td>-0.212080</td>\n",
       "    </tr>\n",
       "    <tr>\n",
       "      <th>spore-print-color</th>\n",
       "      <td>0.171961</td>\n",
       "      <td>-0.073416</td>\n",
       "      <td>0.230364</td>\n",
       "      <td>-0.293523</td>\n",
       "      <td>-0.285008</td>\n",
       "      <td>0.469055</td>\n",
       "      <td>-0.029524</td>\n",
       "      <td>0.047323</td>\n",
       "      <td>0.622991</td>\n",
       "      <td>-0.416135</td>\n",
       "      <td>...</td>\n",
       "      <td>0.130974</td>\n",
       "      <td>0.271533</td>\n",
       "      <td>0.254518</td>\n",
       "      <td>NaN</td>\n",
       "      <td>-0.003600</td>\n",
       "      <td>0.338417</td>\n",
       "      <td>-0.487048</td>\n",
       "      <td>1.000000</td>\n",
       "      <td>-0.126859</td>\n",
       "      <td>0.185954</td>\n",
       "    </tr>\n",
       "    <tr>\n",
       "      <th>population</th>\n",
       "      <td>0.298686</td>\n",
       "      <td>0.063413</td>\n",
       "      <td>0.021555</td>\n",
       "      <td>-0.144770</td>\n",
       "      <td>0.088137</td>\n",
       "      <td>-0.043623</td>\n",
       "      <td>0.165575</td>\n",
       "      <td>-0.529253</td>\n",
       "      <td>0.147682</td>\n",
       "      <td>-0.034090</td>\n",
       "      <td>...</td>\n",
       "      <td>0.046797</td>\n",
       "      <td>-0.240261</td>\n",
       "      <td>-0.242792</td>\n",
       "      <td>NaN</td>\n",
       "      <td>0.124924</td>\n",
       "      <td>-0.242020</td>\n",
       "      <td>0.211763</td>\n",
       "      <td>-0.126859</td>\n",
       "      <td>1.000000</td>\n",
       "      <td>-0.174529</td>\n",
       "    </tr>\n",
       "    <tr>\n",
       "      <th>habitat</th>\n",
       "      <td>0.217179</td>\n",
       "      <td>-0.042221</td>\n",
       "      <td>0.163887</td>\n",
       "      <td>0.033925</td>\n",
       "      <td>-0.075095</td>\n",
       "      <td>-0.026610</td>\n",
       "      <td>-0.030304</td>\n",
       "      <td>-0.154680</td>\n",
       "      <td>0.161418</td>\n",
       "      <td>-0.202972</td>\n",
       "      <td>...</td>\n",
       "      <td>-0.039628</td>\n",
       "      <td>0.042561</td>\n",
       "      <td>0.041594</td>\n",
       "      <td>NaN</td>\n",
       "      <td>-0.040581</td>\n",
       "      <td>0.235835</td>\n",
       "      <td>-0.212080</td>\n",
       "      <td>0.185954</td>\n",
       "      <td>-0.174529</td>\n",
       "      <td>1.000000</td>\n",
       "    </tr>\n",
       "  </tbody>\n",
       "</table>\n",
       "<p>22 rows × 22 columns</p>\n",
       "</div>"
      ],
      "text/plain": [
       "                             class  cap-shape  cap-surface  cap-color  \\\n",
       "class                     1.000000   0.052951     0.178446  -0.031384   \n",
       "cap-shape                 0.052951   1.000000    -0.050454  -0.048203   \n",
       "cap-surface               0.178446  -0.050454     1.000000  -0.019402   \n",
       "cap-color                -0.031384  -0.048203    -0.019402   1.000000   \n",
       "bruises                  -0.501530  -0.035374     0.070228  -0.000764   \n",
       "odor                     -0.093552  -0.021935     0.045233  -0.387121   \n",
       "gill-attachment           0.129200   0.078865    -0.034180   0.041436   \n",
       "gill-spacing             -0.348387   0.013196    -0.282306   0.144259   \n",
       "gill-size                 0.540024   0.054050     0.208100  -0.169464   \n",
       "gill-color               -0.530566  -0.006039    -0.161017   0.084659   \n",
       "stalk-shape              -0.102019   0.063794    -0.014123  -0.456496   \n",
       "stalk-surface-above-ring -0.334593  -0.030417     0.089090  -0.060837   \n",
       "stalk-surface-below-ring -0.298801  -0.032591     0.107965  -0.047710   \n",
       "stalk-color-above-ring   -0.154003  -0.031659     0.066050   0.002364   \n",
       "stalk-color-below-ring   -0.146730  -0.030390     0.068885   0.008057   \n",
       "veil-type                      NaN        NaN          NaN        NaN   \n",
       "veil-color                0.145142   0.072560    -0.016603   0.036130   \n",
       "ring-number              -0.214366  -0.106534    -0.026147  -0.005822   \n",
       "ring-type                -0.411771  -0.025457    -0.106407   0.162513   \n",
       "spore-print-color         0.171961  -0.073416     0.230364  -0.293523   \n",
       "population                0.298686   0.063413     0.021555  -0.144770   \n",
       "habitat                   0.217179  -0.042221     0.163887   0.033925   \n",
       "\n",
       "                           bruises      odor  gill-attachment  gill-spacing  \\\n",
       "class                    -0.501530 -0.093552         0.129200     -0.348387   \n",
       "cap-shape                -0.035374 -0.021935         0.078865      0.013196   \n",
       "cap-surface               0.070228  0.045233        -0.034180     -0.282306   \n",
       "cap-color                -0.000764 -0.387121         0.041436      0.144259   \n",
       "bruises                   1.000000 -0.061825         0.137359     -0.299473   \n",
       "odor                     -0.061825  1.000000        -0.059590      0.063936   \n",
       "gill-attachment           0.137359 -0.059590         1.000000      0.071489   \n",
       "gill-spacing             -0.299473  0.063936         0.071489      1.000000   \n",
       "gill-size                -0.369596  0.310495         0.108984     -0.108333   \n",
       "gill-color                0.527120 -0.129213        -0.128567      0.100193   \n",
       "stalk-shape               0.099364  0.459766         0.186485      0.080895   \n",
       "stalk-surface-above-ring  0.460824  0.118617        -0.088916     -0.212359   \n",
       "stalk-surface-below-ring  0.458983  0.061820        -0.116177     -0.213775   \n",
       "stalk-color-above-ring    0.083538  0.174532         0.099299      0.274574   \n",
       "stalk-color-below-ring    0.092874  0.169407         0.097160      0.253505   \n",
       "veil-type                      NaN       NaN              NaN           NaN   \n",
       "veil-color                0.119770 -0.057747         0.897518      0.073363   \n",
       "ring-number               0.056788  0.111905         0.093236      0.243014   \n",
       "ring-type                 0.692973 -0.281387        -0.146689     -0.195897   \n",
       "spore-print-color        -0.285008  0.469055        -0.029524      0.047323   \n",
       "population                0.088137 -0.043623         0.165575     -0.529253   \n",
       "habitat                  -0.075095 -0.026610        -0.030304     -0.154680   \n",
       "\n",
       "                          gill-size  gill-color  ...  \\\n",
       "class                      0.540024   -0.530566  ...   \n",
       "cap-shape                  0.054050   -0.006039  ...   \n",
       "cap-surface                0.208100   -0.161017  ...   \n",
       "cap-color                 -0.169464    0.084659  ...   \n",
       "bruises                   -0.369596    0.527120  ...   \n",
       "odor                       0.310495   -0.129213  ...   \n",
       "gill-attachment            0.108984   -0.128567  ...   \n",
       "gill-spacing              -0.108333    0.100193  ...   \n",
       "gill-size                  1.000000   -0.516736  ...   \n",
       "gill-color                -0.516736    1.000000  ...   \n",
       "stalk-shape                0.214576   -0.175699  ...   \n",
       "stalk-surface-above-ring   0.056310    0.224287  ...   \n",
       "stalk-surface-below-ring   0.010894    0.257224  ...   \n",
       "stalk-color-above-ring     0.296548   -0.058299  ...   \n",
       "stalk-color-below-ring     0.278708   -0.074781  ...   \n",
       "veil-type                       NaN         NaN  ...   \n",
       "veil-color                 0.103809   -0.097583  ...   \n",
       "ring-number               -0.171362    0.096054  ...   \n",
       "ring-type                 -0.460872    0.629398  ...   \n",
       "spore-print-color          0.622991   -0.416135  ...   \n",
       "population                 0.147682   -0.034090  ...   \n",
       "habitat                    0.161418   -0.202972  ...   \n",
       "\n",
       "                          stalk-surface-below-ring  stalk-color-above-ring  \\\n",
       "class                                    -0.298801               -0.154003   \n",
       "cap-shape                                -0.032591               -0.031659   \n",
       "cap-surface                               0.107965                0.066050   \n",
       "cap-color                                -0.047710                0.002364   \n",
       "bruises                                   0.458983                0.083538   \n",
       "odor                                      0.061820                0.174532   \n",
       "gill-attachment                          -0.116177                0.099299   \n",
       "gill-spacing                             -0.213775                0.274574   \n",
       "gill-size                                 0.010894                0.296548   \n",
       "gill-color                                0.257224               -0.058299   \n",
       "stalk-shape                              -0.034399                0.223439   \n",
       "stalk-surface-above-ring                  0.437164                0.132708   \n",
       "stalk-surface-below-ring                  1.000000                0.106933   \n",
       "stalk-color-above-ring                    0.106933                1.000000   \n",
       "stalk-color-below-ring                    0.110656                0.491510   \n",
       "veil-type                                      NaN                     NaN   \n",
       "veil-color                               -0.077284                0.067377   \n",
       "ring-number                               0.040006                0.084917   \n",
       "ring-type                                 0.394644               -0.048878   \n",
       "spore-print-color                         0.130974                0.271533   \n",
       "population                                0.046797               -0.240261   \n",
       "habitat                                  -0.039628                0.042561   \n",
       "\n",
       "                          stalk-color-below-ring  veil-type  veil-color  \\\n",
       "class                                  -0.146730        NaN    0.145142   \n",
       "cap-shape                              -0.030390        NaN    0.072560   \n",
       "cap-surface                             0.068885        NaN   -0.016603   \n",
       "cap-color                               0.008057        NaN    0.036130   \n",
       "bruises                                 0.092874        NaN    0.119770   \n",
       "odor                                    0.169407        NaN   -0.057747   \n",
       "gill-attachment                         0.097160        NaN    0.897518   \n",
       "gill-spacing                            0.253505        NaN    0.073363   \n",
       "gill-size                               0.278708        NaN    0.103809   \n",
       "gill-color                             -0.074781        NaN   -0.097583   \n",
       "stalk-shape                             0.235794        NaN    0.162604   \n",
       "stalk-surface-above-ring                0.142835        NaN   -0.090591   \n",
       "stalk-surface-below-ring                0.110656        NaN   -0.077284   \n",
       "stalk-color-above-ring                  0.491510        NaN    0.067377   \n",
       "stalk-color-below-ring                  1.000000        NaN    0.065567   \n",
       "veil-type                                    NaN        NaN         NaN   \n",
       "veil-color                              0.065567        NaN    1.000000   \n",
       "ring-number                             0.087580        NaN    0.036380   \n",
       "ring-type                              -0.034284        NaN   -0.143673   \n",
       "spore-print-color                       0.254518        NaN   -0.003600   \n",
       "population                             -0.242792        NaN    0.124924   \n",
       "habitat                                 0.041594        NaN   -0.040581   \n",
       "\n",
       "                          ring-number  ring-type  spore-print-color  \\\n",
       "class                       -0.214366  -0.411771           0.171961   \n",
       "cap-shape                   -0.106534  -0.025457          -0.073416   \n",
       "cap-surface                 -0.026147  -0.106407           0.230364   \n",
       "cap-color                   -0.005822   0.162513          -0.293523   \n",
       "bruises                      0.056788   0.692973          -0.285008   \n",
       "odor                         0.111905  -0.281387           0.469055   \n",
       "gill-attachment              0.093236  -0.146689          -0.029524   \n",
       "gill-spacing                 0.243014  -0.195897           0.047323   \n",
       "gill-size                   -0.171362  -0.460872           0.622991   \n",
       "gill-color                   0.096054   0.629398          -0.416135   \n",
       "stalk-shape                 -0.293221  -0.291444           0.258831   \n",
       "stalk-surface-above-ring     0.107904   0.390091           0.100764   \n",
       "stalk-surface-below-ring     0.040006   0.394644           0.130974   \n",
       "stalk-color-above-ring       0.084917  -0.048878           0.271533   \n",
       "stalk-color-below-ring       0.087580  -0.034284           0.254518   \n",
       "veil-type                         NaN        NaN                NaN   \n",
       "veil-color                   0.036380  -0.143673          -0.003600   \n",
       "ring-number                  1.000000   0.058312           0.338417   \n",
       "ring-type                    0.058312   1.000000          -0.487048   \n",
       "spore-print-color            0.338417  -0.487048           1.000000   \n",
       "population                  -0.242020   0.211763          -0.126859   \n",
       "habitat                      0.235835  -0.212080           0.185954   \n",
       "\n",
       "                          population   habitat  \n",
       "class                       0.298686  0.217179  \n",
       "cap-shape                   0.063413 -0.042221  \n",
       "cap-surface                 0.021555  0.163887  \n",
       "cap-color                  -0.144770  0.033925  \n",
       "bruises                     0.088137 -0.075095  \n",
       "odor                       -0.043623 -0.026610  \n",
       "gill-attachment             0.165575 -0.030304  \n",
       "gill-spacing               -0.529253 -0.154680  \n",
       "gill-size                   0.147682  0.161418  \n",
       "gill-color                 -0.034090 -0.202972  \n",
       "stalk-shape                 0.087383 -0.269216  \n",
       "stalk-surface-above-ring    0.079604 -0.058076  \n",
       "stalk-surface-below-ring    0.046797 -0.039628  \n",
       "stalk-color-above-ring     -0.240261  0.042561  \n",
       "stalk-color-below-ring     -0.242792  0.041594  \n",
       "veil-type                        NaN       NaN  \n",
       "veil-color                  0.124924 -0.040581  \n",
       "ring-number                -0.242020  0.235835  \n",
       "ring-type                   0.211763 -0.212080  \n",
       "spore-print-color          -0.126859  0.185954  \n",
       "population                  1.000000 -0.174529  \n",
       "habitat                    -0.174529  1.000000  \n",
       "\n",
       "[22 rows x 22 columns]"
      ]
     },
     "execution_count": 43,
     "metadata": {},
     "output_type": "execute_result"
    }
   ],
   "source": [
    "df.corr()"
   ]
  },
  {
   "cell_type": "markdown",
   "id": "8a8fd178",
   "metadata": {},
   "source": [
    "Representation of heatmap showing correlation"
   ]
  },
  {
   "cell_type": "code",
   "execution_count": 44,
   "id": "71498cf7",
   "metadata": {},
   "outputs": [
    {
     "data": {
      "text/plain": [
       "<AxesSubplot:>"
      ]
     },
     "execution_count": 44,
     "metadata": {},
     "output_type": "execute_result"
    },
    {
     "data": {
      "image/png": "[encoded data removed]",
      "text/plain": [
       "<Figure size 1584x504 with 2 Axes>"
      ]
     },
     "metadata": {
      "needs_background": "light"
     },
     "output_type": "display_data"
    }
   ],
   "source": [
    "plt.figure(figsize=(22,7))\n",
    "sns.heatmap(df.corr(),annot=True,linewidths=0.1,linecolor=\"Black\",fmt=\"0.2f\")"
   ]
  },
  {
   "cell_type": "markdown",
   "id": "59137c5f",
   "metadata": {},
   "source": [
    "As the data is not fully represented so as per visible data \n",
    "class has positive correlation with gill-size and negative correlation with gill-color"
   ]
  },
  {
   "cell_type": "code",
   "execution_count": 45,
   "id": "9ec590c2",
   "metadata": {},
   "outputs": [
    {
     "data": {
      "image/png": "[encoded data removed]",
      "text/plain": [
       "<Figure size 1584x504 with 1 Axes>"
      ]
     },
     "metadata": {
      "needs_background": "light"
     },
     "output_type": "display_data"
    }
   ],
   "source": [
    "plt.figure(figsize=(22,7))\n",
    "df.corr()['class'].sort_values(ascending=False).drop(['class']).plot(kind='bar',color='c')\n",
    "plt.xlabel('Feature',fontsize=14)\n",
    "plt.ylabel('column with target names',fontsize=14)\n",
    "plt.title('Correlation',fontsize=18)\n",
    "plt.show()"
   ]
  },
  {
   "cell_type": "markdown",
   "id": "53705f5f",
   "metadata": {},
   "source": [
    "Plot shows the positive and negative correlated data"
   ]
  },
  {
   "cell_type": "code",
   "execution_count": 46,
   "id": "df47a3f4",
   "metadata": {},
   "outputs": [
    {
     "data": {
      "text/plain": [
       "class                       0.071946\n",
       "cap-shape                  -0.247052\n",
       "cap-surface                -0.590859\n",
       "cap-color                   0.706965\n",
       "bruises                     0.342750\n",
       "odor                       -0.080790\n",
       "gill-attachment            -5.977076\n",
       "gill-spacing                1.840088\n",
       "gill-size                   0.825797\n",
       "gill-color                  0.061410\n",
       "stalk-shape                -0.271345\n",
       "stalk-surface-above-ring   -1.098739\n",
       "stalk-surface-below-ring   -0.757703\n",
       "stalk-color-above-ring     -1.835434\n",
       "stalk-color-below-ring     -1.791593\n",
       "veil-type                   0.000000\n",
       "veil-color                 -6.946944\n",
       "ring-number                 2.701657\n",
       "ring-type                  -0.290018\n",
       "spore-print-color           0.548426\n",
       "population                 -1.413096\n",
       "habitat                     0.985548\n",
       "dtype: float64"
      ]
     },
     "execution_count": 46,
     "metadata": {},
     "output_type": "execute_result"
    }
   ],
   "source": [
    "df.skew()"
   ]
  },
  {
   "cell_type": "markdown",
   "id": "df3fc456",
   "metadata": {},
   "source": [
    "Keeping +/-0.5 as the range for skewness\n",
    "No column has skewness so will not treat it"
   ]
  },
  {
   "cell_type": "markdown",
   "id": "ddc997a6",
   "metadata": {},
   "source": [
    "# Outliers"
   ]
  },
  {
   "cell_type": "code",
   "execution_count": 47,
   "id": "f8d63c8e",
   "metadata": {},
   "outputs": [
    {
     "data": {
      "text/plain": [
       "class                           AxesSubplot(0.125,0.71587;0.110714x0.16413)\n",
       "cap-shape                    AxesSubplot(0.257857,0.71587;0.110714x0.16413)\n",
       "cap-surface                  AxesSubplot(0.390714,0.71587;0.110714x0.16413)\n",
       "cap-color                    AxesSubplot(0.523571,0.71587;0.110714x0.16413)\n",
       "bruises                      AxesSubplot(0.656429,0.71587;0.110714x0.16413)\n",
       "odor                         AxesSubplot(0.789286,0.71587;0.110714x0.16413)\n",
       "gill-attachment                AxesSubplot(0.125,0.518913;0.110714x0.16413)\n",
       "gill-spacing                AxesSubplot(0.257857,0.518913;0.110714x0.16413)\n",
       "gill-size                   AxesSubplot(0.390714,0.518913;0.110714x0.16413)\n",
       "gill-color                  AxesSubplot(0.523571,0.518913;0.110714x0.16413)\n",
       "stalk-shape                 AxesSubplot(0.656429,0.518913;0.110714x0.16413)\n",
       "stalk-surface-above-ring    AxesSubplot(0.789286,0.518913;0.110714x0.16413)\n",
       "stalk-surface-below-ring       AxesSubplot(0.125,0.321957;0.110714x0.16413)\n",
       "stalk-color-above-ring      AxesSubplot(0.257857,0.321957;0.110714x0.16413)\n",
       "stalk-color-below-ring      AxesSubplot(0.390714,0.321957;0.110714x0.16413)\n",
       "veil-type                   AxesSubplot(0.523571,0.321957;0.110714x0.16413)\n",
       "veil-color                  AxesSubplot(0.656429,0.321957;0.110714x0.16413)\n",
       "ring-number                 AxesSubplot(0.789286,0.321957;0.110714x0.16413)\n",
       "ring-type                         AxesSubplot(0.125,0.125;0.110714x0.16413)\n",
       "spore-print-color              AxesSubplot(0.257857,0.125;0.110714x0.16413)\n",
       "population                     AxesSubplot(0.390714,0.125;0.110714x0.16413)\n",
       "habitat                        AxesSubplot(0.523571,0.125;0.110714x0.16413)\n",
       "dtype: object"
      ]
     },
     "execution_count": 47,
     "metadata": {},
     "output_type": "execute_result"
    },
    {
     "data": {
      "image/png": "[encoded data removed]",
      "text/plain": [
       "<Figure size 720x720 with 24 Axes>"
      ]
     },
     "metadata": {
      "needs_background": "light"
     },
     "output_type": "display_data"
    }
   ],
   "source": [
    "df.plot(kind='box',subplots=True,layout=(4,6),figsize=(10,10))"
   ]
  },
  {
   "cell_type": "markdown",
   "id": "9671194b",
   "metadata": {},
   "source": [
    "Outliers present in Gill attachment, gill spacing,, stalk-color-below-ring,stalk-color-above-ring, veil color, ring-number , population and habitat  "
   ]
  },
  {
   "cell_type": "markdown",
   "id": "081d8a4b",
   "metadata": {},
   "source": [
    "## Separating the columns into x and y :"
   ]
  },
  {
   "cell_type": "code",
   "execution_count": 48,
   "id": "e2efa9bd",
   "metadata": {},
   "outputs": [],
   "source": [
    "from sklearn.model_selection import train_test_split"
   ]
  },
  {
   "cell_type": "code",
   "execution_count": 49,
   "id": "c55eb3de",
   "metadata": {},
   "outputs": [],
   "source": [
    "x=df.drop(['class'], axis=1)\n",
    "y=df['class'].values"
   ]
  },
  {
   "cell_type": "code",
   "execution_count": 50,
   "id": "e9d8b352",
   "metadata": {},
   "outputs": [],
   "source": [
    "x_train, x_test, y_train, y_test= train_test_split(x,y,test_size=0.3, random_state= 0)"
   ]
  },
  {
   "cell_type": "markdown",
   "id": "070df30b",
   "metadata": {},
   "source": [
    "# Model Selection:"
   ]
  },
  {
   "cell_type": "markdown",
   "id": "f28da0f6",
   "metadata": {},
   "source": [
    "## Using Random Forest Model"
   ]
  },
  {
   "cell_type": "code",
   "execution_count": 51,
   "id": "99963f7e",
   "metadata": {},
   "outputs": [],
   "source": [
    "from sklearn.ensemble import RandomForestClassifier\n",
    "rf= RandomForestClassifier(max_depth= 5)"
   ]
  },
  {
   "cell_type": "code",
   "execution_count": 52,
   "id": "34c71963",
   "metadata": {},
   "outputs": [
    {
     "data": {
      "text/plain": [
       "0.9910306014773127"
      ]
     },
     "execution_count": 52,
     "metadata": {},
     "output_type": "execute_result"
    }
   ],
   "source": [
    "rf.fit(x_train,y_train)\n",
    "rf.score(x_train,y_train)"
   ]
  },
  {
   "cell_type": "code",
   "execution_count": 53,
   "id": "d8e85b6c",
   "metadata": {},
   "outputs": [
    {
     "data": {
      "text/plain": [
       "0.9913863822805579"
      ]
     },
     "execution_count": 53,
     "metadata": {},
     "output_type": "execute_result"
    }
   ],
   "source": [
    "Predictions =rf.predict(x_test)\n",
    "rf.score(x_test,y_test)"
   ]
  },
  {
   "cell_type": "code",
   "execution_count": 54,
   "id": "3ae8ed9b",
   "metadata": {},
   "outputs": [
    {
     "data": {
      "text/plain": [
       "0.9913863822805579"
      ]
     },
     "execution_count": 54,
     "metadata": {},
     "output_type": "execute_result"
    }
   ],
   "source": [
    "from sklearn.metrics import accuracy_score\n",
    "accuracy_score(y_test,Predictions)"
   ]
  },
  {
   "cell_type": "markdown",
   "id": "f8134119",
   "metadata": {},
   "source": [
    "Using Random Forest Model accuracy score is 99.13%"
   ]
  },
  {
   "cell_type": "markdown",
   "id": "3cf0c085",
   "metadata": {},
   "source": [
    "## Using Decision Tree Model"
   ]
  },
  {
   "cell_type": "code",
   "execution_count": 55,
   "id": "a2af2d55",
   "metadata": {},
   "outputs": [
    {
     "data": {
      "text/plain": [
       "DecisionTreeClassifier(max_depth=5, random_state=0)"
      ]
     },
     "execution_count": 55,
     "metadata": {},
     "output_type": "execute_result"
    }
   ],
   "source": [
    "from sklearn.tree import DecisionTreeClassifier\n",
    "dt= DecisionTreeClassifier(random_state=0, max_depth=5)\n",
    "dt.fit(x_train, y_train)"
   ]
  },
  {
   "cell_type": "code",
   "execution_count": 56,
   "id": "41a151a6",
   "metadata": {},
   "outputs": [
    {
     "data": {
      "text/plain": [
       "0.9778403095321843"
      ]
     },
     "execution_count": 56,
     "metadata": {},
     "output_type": "execute_result"
    }
   ],
   "source": [
    "dt.score(x_train,y_train)"
   ]
  },
  {
   "cell_type": "code",
   "execution_count": 57,
   "id": "b6abd8b8",
   "metadata": {},
   "outputs": [],
   "source": [
    "predictions=dt.predict(x_test)"
   ]
  },
  {
   "cell_type": "code",
   "execution_count": 58,
   "id": "a4adae1a",
   "metadata": {},
   "outputs": [
    {
     "data": {
      "text/plain": [
       "0.9827727645611156"
      ]
     },
     "execution_count": 58,
     "metadata": {},
     "output_type": "execute_result"
    }
   ],
   "source": [
    "from sklearn.metrics import accuracy_score\n",
    "accuracy_score(y_test,predictions)"
   ]
  },
  {
   "cell_type": "markdown",
   "id": "cc5e1015",
   "metadata": {},
   "source": [
    "Using Decision Tree Model accuracy score is 98.27%"
   ]
  },
  {
   "cell_type": "markdown",
   "id": "cf3df22a",
   "metadata": {},
   "source": [
    "## Using Logistic Regression Model"
   ]
  },
  {
   "cell_type": "code",
   "execution_count": 60,
   "id": "495a0f90",
   "metadata": {},
   "outputs": [],
   "source": [
    "from sklearn.linear_model import LogisticRegression"
   ]
  },
  {
   "cell_type": "code",
   "execution_count": 61,
   "id": "d7dc16ce",
   "metadata": {},
   "outputs": [],
   "source": [
    "lr= LogisticRegression()"
   ]
  },
  {
   "cell_type": "code",
   "execution_count": 62,
   "id": "efc770ed",
   "metadata": {},
   "outputs": [
    {
     "name": "stderr",
     "output_type": "stream",
     "text": [
      "D:\\Anaconda\\lib\\site-packages\\sklearn\\linear_model\\_logistic.py:763: ConvergenceWarning: lbfgs failed to converge (status=1):\n",
      "STOP: TOTAL NO. of ITERATIONS REACHED LIMIT.\n",
      "\n",
      "Increase the number of iterations (max_iter) or scale the data as shown in:\n",
      "    https://scikit-learn.org/stable/modules/preprocessing.html\n",
      "Please also refer to the documentation for alternative solver options:\n",
      "    https://scikit-learn.org/stable/modules/linear_model.html#logistic-regression\n",
      "  n_iter_i = _check_optimize_result(\n"
     ]
    },
    {
     "data": {
      "text/plain": [
       "LogisticRegression()"
      ]
     },
     "execution_count": 62,
     "metadata": {},
     "output_type": "execute_result"
    }
   ],
   "source": [
    "lr.fit(x_train, y_train)"
   ]
  },
  {
   "cell_type": "code",
   "execution_count": 63,
   "id": "2cb31ae1",
   "metadata": {},
   "outputs": [
    {
     "data": {
      "text/plain": [
       "0.9454470877768663"
      ]
     },
     "execution_count": 63,
     "metadata": {},
     "output_type": "execute_result"
    }
   ],
   "source": [
    "accuracy=lr.score(x_test, y_test)\n",
    "accuracy"
   ]
  },
  {
   "cell_type": "markdown",
   "id": "42b68db1",
   "metadata": {},
   "source": [
    "Using Logistic Regression Model accuracy score is 94.54%"
   ]
  },
  {
   "cell_type": "code",
   "execution_count": 64,
   "id": "ea9f9cb3",
   "metadata": {},
   "outputs": [],
   "source": [
    "import pickle\n",
    "filename = 'churn.pkl'\n",
    "pickle.dump(rf, open(filename, 'wb'))\n",
    "    "
   ]
  },
  {
   "cell_type": "markdown",
   "id": "320281ff",
   "metadata": {},
   "source": [
    "# Conclusion:"
   ]
  },
  {
   "cell_type": "code",
   "execution_count": 65,
   "id": "5aaf7210",
   "metadata": {},
   "outputs": [
    {
     "name": "stdout",
     "output_type": "stream",
     "text": [
      "0.9913863822805579\n"
     ]
    }
   ],
   "source": [
    "loaded_model = pickle.load(open('churn.pkl', 'rb'))\n",
    "result = loaded_model.score(x_test, y_test)\n",
    "print(result)"
   ]
  },
  {
   "cell_type": "markdown",
   "id": "80f4e10a",
   "metadata": {},
   "source": [
    "### Accuracy of 99.13% so model performing well"
   ]
  },
  {
   "cell_type": "code",
   "execution_count": 66,
   "id": "2e65dacb",
   "metadata": {},
   "outputs": [],
   "source": [
    "conclusion=pd.DataFrame([loaded_model.predict(x_test)[:]],index=[\"Predicted\",\"Orginal\"])"
   ]
  },
  {
   "cell_type": "code",
   "execution_count": 67,
   "id": "7d2fce6d",
   "metadata": {},
   "outputs": [
    {
     "data": {
      "text/html": [
       "<div>\n",
       "<style scoped>\n",
       "    .dataframe tbody tr th:only-of-type {\n",
       "        vertical-align: middle;\n",
       "    }\n",
       "\n",
       "    .dataframe tbody tr th {\n",
       "        vertical-align: top;\n",
       "    }\n",
       "\n",
       "    .dataframe thead th {\n",
       "        text-align: right;\n",
       "    }\n",
       "</style>\n",
       "<table border=\"1\" class=\"dataframe\">\n",
       "  <thead>\n",
       "    <tr style=\"text-align: right;\">\n",
       "      <th></th>\n",
       "      <th>0</th>\n",
       "      <th>1</th>\n",
       "      <th>2</th>\n",
       "      <th>3</th>\n",
       "      <th>4</th>\n",
       "      <th>5</th>\n",
       "      <th>6</th>\n",
       "      <th>7</th>\n",
       "      <th>8</th>\n",
       "      <th>9</th>\n",
       "      <th>...</th>\n",
       "      <th>2428</th>\n",
       "      <th>2429</th>\n",
       "      <th>2430</th>\n",
       "      <th>2431</th>\n",
       "      <th>2432</th>\n",
       "      <th>2433</th>\n",
       "      <th>2434</th>\n",
       "      <th>2435</th>\n",
       "      <th>2436</th>\n",
       "      <th>2437</th>\n",
       "    </tr>\n",
       "  </thead>\n",
       "  <tbody>\n",
       "    <tr>\n",
       "      <th>Predicted</th>\n",
       "      <td>1</td>\n",
       "      <td>0</td>\n",
       "      <td>0</td>\n",
       "      <td>0</td>\n",
       "      <td>0</td>\n",
       "      <td>0</td>\n",
       "      <td>1</td>\n",
       "      <td>1</td>\n",
       "      <td>0</td>\n",
       "      <td>1</td>\n",
       "      <td>...</td>\n",
       "      <td>0</td>\n",
       "      <td>0</td>\n",
       "      <td>0</td>\n",
       "      <td>0</td>\n",
       "      <td>0</td>\n",
       "      <td>0</td>\n",
       "      <td>0</td>\n",
       "      <td>1</td>\n",
       "      <td>1</td>\n",
       "      <td>1</td>\n",
       "    </tr>\n",
       "    <tr>\n",
       "      <th>Orginal</th>\n",
       "      <td>1</td>\n",
       "      <td>0</td>\n",
       "      <td>0</td>\n",
       "      <td>0</td>\n",
       "      <td>0</td>\n",
       "      <td>0</td>\n",
       "      <td>1</td>\n",
       "      <td>1</td>\n",
       "      <td>0</td>\n",
       "      <td>1</td>\n",
       "      <td>...</td>\n",
       "      <td>0</td>\n",
       "      <td>0</td>\n",
       "      <td>0</td>\n",
       "      <td>0</td>\n",
       "      <td>0</td>\n",
       "      <td>0</td>\n",
       "      <td>0</td>\n",
       "      <td>1</td>\n",
       "      <td>1</td>\n",
       "      <td>1</td>\n",
       "    </tr>\n",
       "  </tbody>\n",
       "</table>\n",
       "<p>2 rows × 2438 columns</p>\n",
       "</div>"
      ],
      "text/plain": [
       "           0     1     2     3     4     5     6     7     8     9     ...  \\\n",
       "Predicted     1     0     0     0     0     0     1     1     0     1  ...   \n",
       "Orginal       1     0     0     0     0     0     1     1     0     1  ...   \n",
       "\n",
       "           2428  2429  2430  2431  2432  2433  2434  2435  2436  2437  \n",
       "Predicted     0     0     0     0     0     0     0     1     1     1  \n",
       "Orginal       0     0     0     0     0     0     0     1     1     1  \n",
       "\n",
       "[2 rows x 2438 columns]"
      ]
     },
     "execution_count": 67,
     "metadata": {},
     "output_type": "execute_result"
    }
   ],
   "source": [
    "conclusion"
   ]
  },
  {
   "cell_type": "markdown",
   "id": "711e8b92",
   "metadata": {},
   "source": [
    "Representation of conclusion of the dataset. Best suited model is Random Forest Model"
   ]
  },
  {
   "cell_type": "code",
   "execution_count": null,
   "id": "7245991a",
   "metadata": {},
   "outputs": [],
   "source": []
  }
 ],
 "metadata": {
  "kernelspec": {
   "display_name": "Python 3",
   "language": "python",
   "name": "python3"
  },
  "language_info": {
   "codemirror_mode": {
    "name": "ipython",
    "version": 3
   },
   "file_extension": ".py",
   "mimetype": "text/x-python",
   "name": "python",
   "nbconvert_exporter": "python",
   "pygments_lexer": "ipython3",
   "version": "3.8.8"
  }
 },
 "nbformat": 4,
 "nbformat_minor": 5
}
