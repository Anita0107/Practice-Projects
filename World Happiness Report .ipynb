{
 "cells": [
  {
   "cell_type": "markdown",
   "id": "73fadf2a",
   "metadata": {},
   "source": [
    "# Importing the Dataset:"
   ]
  },
  {
   "cell_type": "code",
   "execution_count": 1,
   "id": "74095db2",
   "metadata": {},
   "outputs": [],
   "source": [
    "import pandas as pd\n",
    "import numpy as np"
   ]
  },
  {
   "cell_type": "code",
   "execution_count": 2,
   "id": "29ee9e34",
   "metadata": {},
   "outputs": [],
   "source": [
    "df=pd.read_csv(\"happiness_score.csv\")"
   ]
  },
  {
   "cell_type": "code",
   "execution_count": 3,
   "id": "65f4af12",
   "metadata": {},
   "outputs": [
    {
     "data": {
      "text/html": [
       "<div>\n",
       "<style scoped>\n",
       "    .dataframe tbody tr th:only-of-type {\n",
       "        vertical-align: middle;\n",
       "    }\n",
       "\n",
       "    .dataframe tbody tr th {\n",
       "        vertical-align: top;\n",
       "    }\n",
       "\n",
       "    .dataframe thead th {\n",
       "        text-align: right;\n",
       "    }\n",
       "</style>\n",
       "<table border=\"1\" class=\"dataframe\">\n",
       "  <thead>\n",
       "    <tr style=\"text-align: right;\">\n",
       "      <th></th>\n",
       "      <th>Country</th>\n",
       "      <th>Region</th>\n",
       "      <th>Happiness Rank</th>\n",
       "      <th>Happiness Score</th>\n",
       "      <th>Standard Error</th>\n",
       "      <th>Economy (GDP per Capita)</th>\n",
       "      <th>Family</th>\n",
       "      <th>Health (Life Expectancy)</th>\n",
       "      <th>Freedom</th>\n",
       "      <th>Trust (Government Corruption)</th>\n",
       "      <th>Generosity</th>\n",
       "      <th>Dystopia Residual</th>\n",
       "    </tr>\n",
       "  </thead>\n",
       "  <tbody>\n",
       "    <tr>\n",
       "      <th>0</th>\n",
       "      <td>Switzerland</td>\n",
       "      <td>Western Europe</td>\n",
       "      <td>1</td>\n",
       "      <td>7.587</td>\n",
       "      <td>0.03411</td>\n",
       "      <td>1.39651</td>\n",
       "      <td>1.34951</td>\n",
       "      <td>0.94143</td>\n",
       "      <td>0.66557</td>\n",
       "      <td>0.41978</td>\n",
       "      <td>0.29678</td>\n",
       "      <td>2.51738</td>\n",
       "    </tr>\n",
       "    <tr>\n",
       "      <th>1</th>\n",
       "      <td>Iceland</td>\n",
       "      <td>Western Europe</td>\n",
       "      <td>2</td>\n",
       "      <td>7.561</td>\n",
       "      <td>0.04884</td>\n",
       "      <td>1.30232</td>\n",
       "      <td>1.40223</td>\n",
       "      <td>0.94784</td>\n",
       "      <td>0.62877</td>\n",
       "      <td>0.14145</td>\n",
       "      <td>0.43630</td>\n",
       "      <td>2.70201</td>\n",
       "    </tr>\n",
       "    <tr>\n",
       "      <th>2</th>\n",
       "      <td>Denmark</td>\n",
       "      <td>Western Europe</td>\n",
       "      <td>3</td>\n",
       "      <td>7.527</td>\n",
       "      <td>0.03328</td>\n",
       "      <td>1.32548</td>\n",
       "      <td>1.36058</td>\n",
       "      <td>0.87464</td>\n",
       "      <td>0.64938</td>\n",
       "      <td>0.48357</td>\n",
       "      <td>0.34139</td>\n",
       "      <td>2.49204</td>\n",
       "    </tr>\n",
       "    <tr>\n",
       "      <th>3</th>\n",
       "      <td>Norway</td>\n",
       "      <td>Western Europe</td>\n",
       "      <td>4</td>\n",
       "      <td>7.522</td>\n",
       "      <td>0.03880</td>\n",
       "      <td>1.45900</td>\n",
       "      <td>1.33095</td>\n",
       "      <td>0.88521</td>\n",
       "      <td>0.66973</td>\n",
       "      <td>0.36503</td>\n",
       "      <td>0.34699</td>\n",
       "      <td>2.46531</td>\n",
       "    </tr>\n",
       "    <tr>\n",
       "      <th>4</th>\n",
       "      <td>Canada</td>\n",
       "      <td>North America</td>\n",
       "      <td>5</td>\n",
       "      <td>7.427</td>\n",
       "      <td>0.03553</td>\n",
       "      <td>1.32629</td>\n",
       "      <td>1.32261</td>\n",
       "      <td>0.90563</td>\n",
       "      <td>0.63297</td>\n",
       "      <td>0.32957</td>\n",
       "      <td>0.45811</td>\n",
       "      <td>2.45176</td>\n",
       "    </tr>\n",
       "  </tbody>\n",
       "</table>\n",
       "</div>"
      ],
      "text/plain": [
       "       Country          Region  Happiness Rank  Happiness Score  \\\n",
       "0  Switzerland  Western Europe               1            7.587   \n",
       "1      Iceland  Western Europe               2            7.561   \n",
       "2      Denmark  Western Europe               3            7.527   \n",
       "3       Norway  Western Europe               4            7.522   \n",
       "4       Canada   North America               5            7.427   \n",
       "\n",
       "   Standard Error  Economy (GDP per Capita)   Family  \\\n",
       "0         0.03411                   1.39651  1.34951   \n",
       "1         0.04884                   1.30232  1.40223   \n",
       "2         0.03328                   1.32548  1.36058   \n",
       "3         0.03880                   1.45900  1.33095   \n",
       "4         0.03553                   1.32629  1.32261   \n",
       "\n",
       "   Health (Life Expectancy)  Freedom  Trust (Government Corruption)  \\\n",
       "0                   0.94143  0.66557                        0.41978   \n",
       "1                   0.94784  0.62877                        0.14145   \n",
       "2                   0.87464  0.64938                        0.48357   \n",
       "3                   0.88521  0.66973                        0.36503   \n",
       "4                   0.90563  0.63297                        0.32957   \n",
       "\n",
       "   Generosity  Dystopia Residual  \n",
       "0     0.29678            2.51738  \n",
       "1     0.43630            2.70201  \n",
       "2     0.34139            2.49204  \n",
       "3     0.34699            2.46531  \n",
       "4     0.45811            2.45176  "
      ]
     },
     "execution_count": 3,
     "metadata": {},
     "output_type": "execute_result"
    }
   ],
   "source": [
    "df.head()"
   ]
  },
  {
   "cell_type": "code",
   "execution_count": 4,
   "id": "45803b97",
   "metadata": {},
   "outputs": [],
   "source": [
    "df.drop(['Country','Region','Happiness Rank'], axis=1, inplace=True)"
   ]
  },
  {
   "cell_type": "code",
   "execution_count": 5,
   "id": "bf984735",
   "metadata": {},
   "outputs": [
    {
     "data": {
      "text/html": [
       "<div>\n",
       "<style scoped>\n",
       "    .dataframe tbody tr th:only-of-type {\n",
       "        vertical-align: middle;\n",
       "    }\n",
       "\n",
       "    .dataframe tbody tr th {\n",
       "        vertical-align: top;\n",
       "    }\n",
       "\n",
       "    .dataframe thead th {\n",
       "        text-align: right;\n",
       "    }\n",
       "</style>\n",
       "<table border=\"1\" class=\"dataframe\">\n",
       "  <thead>\n",
       "    <tr style=\"text-align: right;\">\n",
       "      <th></th>\n",
       "      <th>Happiness Score</th>\n",
       "      <th>Standard Error</th>\n",
       "      <th>Economy (GDP per Capita)</th>\n",
       "      <th>Family</th>\n",
       "      <th>Health (Life Expectancy)</th>\n",
       "      <th>Freedom</th>\n",
       "      <th>Trust (Government Corruption)</th>\n",
       "      <th>Generosity</th>\n",
       "      <th>Dystopia Residual</th>\n",
       "    </tr>\n",
       "  </thead>\n",
       "  <tbody>\n",
       "    <tr>\n",
       "      <th>0</th>\n",
       "      <td>7.587</td>\n",
       "      <td>0.03411</td>\n",
       "      <td>1.39651</td>\n",
       "      <td>1.34951</td>\n",
       "      <td>0.94143</td>\n",
       "      <td>0.66557</td>\n",
       "      <td>0.41978</td>\n",
       "      <td>0.29678</td>\n",
       "      <td>2.51738</td>\n",
       "    </tr>\n",
       "    <tr>\n",
       "      <th>1</th>\n",
       "      <td>7.561</td>\n",
       "      <td>0.04884</td>\n",
       "      <td>1.30232</td>\n",
       "      <td>1.40223</td>\n",
       "      <td>0.94784</td>\n",
       "      <td>0.62877</td>\n",
       "      <td>0.14145</td>\n",
       "      <td>0.43630</td>\n",
       "      <td>2.70201</td>\n",
       "    </tr>\n",
       "    <tr>\n",
       "      <th>2</th>\n",
       "      <td>7.527</td>\n",
       "      <td>0.03328</td>\n",
       "      <td>1.32548</td>\n",
       "      <td>1.36058</td>\n",
       "      <td>0.87464</td>\n",
       "      <td>0.64938</td>\n",
       "      <td>0.48357</td>\n",
       "      <td>0.34139</td>\n",
       "      <td>2.49204</td>\n",
       "    </tr>\n",
       "    <tr>\n",
       "      <th>3</th>\n",
       "      <td>7.522</td>\n",
       "      <td>0.03880</td>\n",
       "      <td>1.45900</td>\n",
       "      <td>1.33095</td>\n",
       "      <td>0.88521</td>\n",
       "      <td>0.66973</td>\n",
       "      <td>0.36503</td>\n",
       "      <td>0.34699</td>\n",
       "      <td>2.46531</td>\n",
       "    </tr>\n",
       "    <tr>\n",
       "      <th>4</th>\n",
       "      <td>7.427</td>\n",
       "      <td>0.03553</td>\n",
       "      <td>1.32629</td>\n",
       "      <td>1.32261</td>\n",
       "      <td>0.90563</td>\n",
       "      <td>0.63297</td>\n",
       "      <td>0.32957</td>\n",
       "      <td>0.45811</td>\n",
       "      <td>2.45176</td>\n",
       "    </tr>\n",
       "  </tbody>\n",
       "</table>\n",
       "</div>"
      ],
      "text/plain": [
       "   Happiness Score  Standard Error  Economy (GDP per Capita)   Family  \\\n",
       "0            7.587         0.03411                   1.39651  1.34951   \n",
       "1            7.561         0.04884                   1.30232  1.40223   \n",
       "2            7.527         0.03328                   1.32548  1.36058   \n",
       "3            7.522         0.03880                   1.45900  1.33095   \n",
       "4            7.427         0.03553                   1.32629  1.32261   \n",
       "\n",
       "   Health (Life Expectancy)  Freedom  Trust (Government Corruption)  \\\n",
       "0                   0.94143  0.66557                        0.41978   \n",
       "1                   0.94784  0.62877                        0.14145   \n",
       "2                   0.87464  0.64938                        0.48357   \n",
       "3                   0.88521  0.66973                        0.36503   \n",
       "4                   0.90563  0.63297                        0.32957   \n",
       "\n",
       "   Generosity  Dystopia Residual  \n",
       "0     0.29678            2.51738  \n",
       "1     0.43630            2.70201  \n",
       "2     0.34139            2.49204  \n",
       "3     0.34699            2.46531  \n",
       "4     0.45811            2.45176  "
      ]
     },
     "execution_count": 5,
     "metadata": {},
     "output_type": "execute_result"
    }
   ],
   "source": [
    "df.head()"
   ]
  },
  {
   "cell_type": "markdown",
   "id": "763d521d",
   "metadata": {},
   "source": [
    "Country,Region,Happiness Rank columns are not contributing much in predicting the Happiness Score so droped them."
   ]
  },
  {
   "cell_type": "markdown",
   "id": "8ebb7227",
   "metadata": {},
   "source": [
    "# Checking Null values in the dataframe"
   ]
  },
  {
   "cell_type": "code",
   "execution_count": 6,
   "id": "620e8fa6",
   "metadata": {},
   "outputs": [
    {
     "data": {
      "text/plain": [
       "Happiness Score                  0\n",
       "Standard Error                   0\n",
       "Economy (GDP per Capita)         0\n",
       "Family                           0\n",
       "Health (Life Expectancy)         0\n",
       "Freedom                          0\n",
       "Trust (Government Corruption)    0\n",
       "Generosity                       0\n",
       "Dystopia Residual                0\n",
       "dtype: int64"
      ]
     },
     "execution_count": 6,
     "metadata": {},
     "output_type": "execute_result"
    }
   ],
   "source": [
    "df.isnull().sum()"
   ]
  },
  {
   "cell_type": "raw",
   "id": "1ce1ccfa",
   "metadata": {},
   "source": [
    "There is no null value present in the dataset"
   ]
  },
  {
   "cell_type": "code",
   "execution_count": 7,
   "id": "0ceaeb27",
   "metadata": {},
   "outputs": [
    {
     "data": {
      "text/plain": [
       "Index(['Happiness Score', 'Standard Error', 'Economy (GDP per Capita)',\n",
       "       'Family', 'Health (Life Expectancy)', 'Freedom',\n",
       "       'Trust (Government Corruption)', 'Generosity', 'Dystopia Residual'],\n",
       "      dtype='object')"
      ]
     },
     "execution_count": 7,
     "metadata": {},
     "output_type": "execute_result"
    }
   ],
   "source": [
    "df.columns"
   ]
  },
  {
   "cell_type": "code",
   "execution_count": 8,
   "id": "5c9c62fc",
   "metadata": {},
   "outputs": [
    {
     "data": {
      "text/plain": [
       "9"
      ]
     },
     "execution_count": 8,
     "metadata": {},
     "output_type": "execute_result"
    }
   ],
   "source": [
    "len(df.columns)"
   ]
  },
  {
   "cell_type": "markdown",
   "id": "3bb49f99",
   "metadata": {},
   "source": [
    "We have 8 columns "
   ]
  },
  {
   "cell_type": "markdown",
   "id": "a66c943b",
   "metadata": {},
   "source": [
    "# Dataframe Description:"
   ]
  },
  {
   "cell_type": "markdown",
   "id": "8295aa39",
   "metadata": {},
   "source": [
    "The dataset contains the data of the World Happiness Report, which ranks the countries based on the happiness score secured by the countries by using the different paramters like economy, freedom, family, health(life expectancy), trust(governmnet corruption), generosity and Dystopia Residual for calculating the score.\n",
    "\n",
    "In the above dataset the target is to predict the \"Happiness Score\"\n"
   ]
  },
  {
   "cell_type": "markdown",
   "id": "7124ae68",
   "metadata": {},
   "source": [
    "# Checking the datatypes of the columns."
   ]
  },
  {
   "cell_type": "code",
   "execution_count": 9,
   "id": "c4b55407",
   "metadata": {},
   "outputs": [
    {
     "data": {
      "text/plain": [
       "Happiness Score                  float64\n",
       "Standard Error                   float64\n",
       "Economy (GDP per Capita)         float64\n",
       "Family                           float64\n",
       "Health (Life Expectancy)         float64\n",
       "Freedom                          float64\n",
       "Trust (Government Corruption)    float64\n",
       "Generosity                       float64\n",
       "Dystopia Residual                float64\n",
       "dtype: object"
      ]
     },
     "execution_count": 9,
     "metadata": {},
     "output_type": "execute_result"
    }
   ],
   "source": [
    "df.dtypes"
   ]
  },
  {
   "cell_type": "markdown",
   "id": "9c8d5ec8",
   "metadata": {},
   "source": [
    "We observe that the \"Happiness Score\" has continous data or float data and the input variables are also of continous nature i.e float data except for Country and Region are string data and Happiness rank is of integer data"
   ]
  },
  {
   "cell_type": "code",
   "execution_count": 10,
   "id": "6db89912",
   "metadata": {},
   "outputs": [
    {
     "data": {
      "text/plain": [
       "array([7.587, 7.561, 7.527, 7.522, 7.427, 7.406, 7.378, 7.364, 7.286,\n",
       "       7.284, 7.278, 7.226, 7.2  , 7.187, 7.119, 6.983, 6.946, 6.94 ,\n",
       "       6.937, 6.901, 6.867, 6.853, 6.81 , 6.798, 6.786, 6.75 , 6.67 ,\n",
       "       6.611, 6.575, 6.574, 6.505, 6.485, 6.477, 6.455, 6.411, 6.329,\n",
       "       6.302, 6.298, 6.295, 6.269, 6.168, 6.13 , 6.123, 6.003, 5.995,\n",
       "       5.987, 5.984, 5.975, 5.96 , 5.948, 5.89 , 5.889, 5.878, 5.855,\n",
       "       5.848, 5.833, 5.828, 5.824, 5.813, 5.791, 5.77 , 5.759, 5.754,\n",
       "       5.716, 5.709, 5.695, 5.689, 5.605, 5.589, 5.548, 5.477, 5.474,\n",
       "       5.429, 5.399, 5.36 , 5.332, 5.286, 5.268, 5.253, 5.212, 5.194,\n",
       "       5.192, 5.14 , 5.129, 5.124, 5.123, 5.102, 5.098, 5.073, 5.057,\n",
       "       5.013, 5.007, 4.971, 4.959, 4.949, 4.898, 4.885, 4.876, 4.874,\n",
       "       4.867, 4.857, 4.839, 4.8  , 4.788, 4.786, 4.739, 4.715, 4.694,\n",
       "       4.686, 4.681, 4.677, 4.642, 4.633, 4.61 , 4.571, 4.565, 4.55 ,\n",
       "       4.518, 4.517, 4.514, 4.512, 4.507, 4.436, 4.419, 4.369, 4.35 ,\n",
       "       4.332, 4.307, 4.297, 4.292, 4.271, 4.252, 4.218, 4.194, 4.077,\n",
       "       4.033, 3.995, 3.989, 3.956, 3.931, 3.904, 3.896, 3.845, 3.819,\n",
       "       3.781, 3.681, 3.678, 3.667, 3.656, 3.655, 3.587, 3.575, 3.465,\n",
       "       3.34 , 3.006, 2.905, 2.839])"
      ]
     },
     "execution_count": 10,
     "metadata": {},
     "output_type": "execute_result"
    }
   ],
   "source": [
    "df['Happiness Score'].unique()"
   ]
  },
  {
   "cell_type": "markdown",
   "id": "71781d10",
   "metadata": {},
   "source": [
    "Target/dependent variable is continous in nature\n",
    "\n",
    "Happiness Score scalre ranges from 2.839 to 7.587;\n",
    "where 2.839 is the lowest score and 7.587 the highest score"
   ]
  },
  {
   "cell_type": "code",
   "execution_count": 11,
   "id": "db0566e0",
   "metadata": {},
   "outputs": [
    {
     "data": {
      "text/plain": [
       "5.192    2\n",
       "5.548    1\n",
       "4.867    1\n",
       "4.800    1\n",
       "3.896    1\n",
       "        ..\n",
       "5.759    1\n",
       "4.677    1\n",
       "6.901    1\n",
       "6.003    1\n",
       "6.611    1\n",
       "Name: Happiness Score, Length: 157, dtype: int64"
      ]
     },
     "execution_count": 11,
     "metadata": {},
     "output_type": "execute_result"
    }
   ],
   "source": [
    "df['Happiness Score'].value_counts()"
   ]
  },
  {
   "cell_type": "markdown",
   "id": "5826da2a",
   "metadata": {},
   "source": [
    "Observations:\n",
    "Score 5.192 is secured by 2 countries only while other score is secured by single countries "
   ]
  },
  {
   "cell_type": "code",
   "execution_count": 12,
   "id": "b70ce039",
   "metadata": {},
   "outputs": [
    {
     "data": {
      "text/html": [
       "<div>\n",
       "<style scoped>\n",
       "    .dataframe tbody tr th:only-of-type {\n",
       "        vertical-align: middle;\n",
       "    }\n",
       "\n",
       "    .dataframe tbody tr th {\n",
       "        vertical-align: top;\n",
       "    }\n",
       "\n",
       "    .dataframe thead th {\n",
       "        text-align: right;\n",
       "    }\n",
       "</style>\n",
       "<table border=\"1\" class=\"dataframe\">\n",
       "  <thead>\n",
       "    <tr style=\"text-align: right;\">\n",
       "      <th></th>\n",
       "      <th>Happiness Score</th>\n",
       "      <th>Standard Error</th>\n",
       "      <th>Economy (GDP per Capita)</th>\n",
       "      <th>Family</th>\n",
       "      <th>Health (Life Expectancy)</th>\n",
       "      <th>Freedom</th>\n",
       "      <th>Trust (Government Corruption)</th>\n",
       "      <th>Generosity</th>\n",
       "      <th>Dystopia Residual</th>\n",
       "    </tr>\n",
       "  </thead>\n",
       "  <tbody>\n",
       "  </tbody>\n",
       "</table>\n",
       "</div>"
      ],
      "text/plain": [
       "Empty DataFrame\n",
       "Columns: [Happiness Score, Standard Error, Economy (GDP per Capita), Family, Health (Life Expectancy), Freedom, Trust (Government Corruption), Generosity, Dystopia Residual]\n",
       "Index: []"
      ]
     },
     "execution_count": 12,
     "metadata": {},
     "output_type": "execute_result"
    }
   ],
   "source": [
    "df.loc[df['Happiness Score']==\" \"]"
   ]
  },
  {
   "cell_type": "markdown",
   "id": "4d749a4e",
   "metadata": {},
   "source": [
    "As per the observation every column has data"
   ]
  },
  {
   "cell_type": "markdown",
   "id": "773a89c9",
   "metadata": {},
   "source": [
    "# Visualization of the data:"
   ]
  },
  {
   "cell_type": "code",
   "execution_count": 13,
   "id": "b709d51f",
   "metadata": {},
   "outputs": [],
   "source": [
    "import seaborn as sns"
   ]
  },
  {
   "cell_type": "markdown",
   "id": "7daef32f",
   "metadata": {},
   "source": [
    "1. Checking the distribution of the continous value of the float type columns"
   ]
  },
  {
   "cell_type": "code",
   "execution_count": 14,
   "id": "cdf9d09b",
   "metadata": {},
   "outputs": [
    {
     "data": {
      "text/plain": [
       "<seaborn.axisgrid.FacetGrid at 0x151d3b09e20>"
      ]
     },
     "execution_count": 14,
     "metadata": {},
     "output_type": "execute_result"
    },
    {
     "data": {
      "image/png": "[encoded data removed]",
      "text/plain": [
       "<Figure size 360x360 with 1 Axes>"
      ]
     },
     "metadata": {
      "needs_background": "light"
     },
     "output_type": "display_data"
    }
   ],
   "source": [
    "sns.displot(df['Happiness Score'],kde=True)"
   ]
  },
  {
   "cell_type": "markdown",
   "id": "5adc2b68",
   "metadata": {},
   "source": [
    "data is normally distributed, no skewness , no outliers"
   ]
  },
  {
   "cell_type": "code",
   "execution_count": 15,
   "id": "ffdcc8d4",
   "metadata": {},
   "outputs": [
    {
     "name": "stderr",
     "output_type": "stream",
     "text": [
      "D:\\Anaconda\\lib\\site-packages\\seaborn\\distributions.py:2557: FutureWarning: `distplot` is a deprecated function and will be removed in a future version. Please adapt your code to use either `displot` (a figure-level function with similar flexibility) or `histplot` (an axes-level function for histograms).\n",
      "  warnings.warn(msg, FutureWarning)\n"
     ]
    },
    {
     "data": {
      "text/plain": [
       "<AxesSubplot:xlabel='Standard Error', ylabel='Density'>"
      ]
     },
     "execution_count": 15,
     "metadata": {},
     "output_type": "execute_result"
    },
    {
     "data": {
      "image/png": "[encoded data removed]",
      "text/plain": [
       "<Figure size 432x288 with 1 Axes>"
      ]
     },
     "metadata": {
      "needs_background": "light"
     },
     "output_type": "display_data"
    }
   ],
   "source": [
    "sns.distplot(df['Standard Error'], kde=True)"
   ]
  },
  {
   "cell_type": "markdown",
   "id": "f11be24a",
   "metadata": {},
   "source": [
    "data is not normally distributed, skewness and outliers present"
   ]
  },
  {
   "cell_type": "code",
   "execution_count": 16,
   "id": "14be2287",
   "metadata": {},
   "outputs": [
    {
     "name": "stderr",
     "output_type": "stream",
     "text": [
      "D:\\Anaconda\\lib\\site-packages\\seaborn\\distributions.py:2557: FutureWarning: `distplot` is a deprecated function and will be removed in a future version. Please adapt your code to use either `displot` (a figure-level function with similar flexibility) or `histplot` (an axes-level function for histograms).\n",
      "  warnings.warn(msg, FutureWarning)\n"
     ]
    },
    {
     "data": {
      "text/plain": [
       "<AxesSubplot:xlabel='Economy (GDP per Capita)', ylabel='Density'>"
      ]
     },
     "execution_count": 16,
     "metadata": {},
     "output_type": "execute_result"
    },
    {
     "data": {
      "image/png": "[encoded data removed]",
      "text/plain": [
       "<Figure size 432x288 with 1 Axes>"
      ]
     },
     "metadata": {
      "needs_background": "light"
     },
     "output_type": "display_data"
    }
   ],
   "source": [
    "sns.distplot(df['Economy (GDP per Capita)'], kde=True)"
   ]
  },
  {
   "cell_type": "markdown",
   "id": "beeb7b23",
   "metadata": {},
   "source": [
    "data is not normally distributed, skewness and outliers present"
   ]
  },
  {
   "cell_type": "code",
   "execution_count": 17,
   "id": "6c4bb156",
   "metadata": {},
   "outputs": [
    {
     "name": "stderr",
     "output_type": "stream",
     "text": [
      "D:\\Anaconda\\lib\\site-packages\\seaborn\\distributions.py:2557: FutureWarning: `distplot` is a deprecated function and will be removed in a future version. Please adapt your code to use either `displot` (a figure-level function with similar flexibility) or `histplot` (an axes-level function for histograms).\n",
      "  warnings.warn(msg, FutureWarning)\n"
     ]
    },
    {
     "data": {
      "text/plain": [
       "<AxesSubplot:xlabel='Family', ylabel='Density'>"
      ]
     },
     "execution_count": 17,
     "metadata": {},
     "output_type": "execute_result"
    },
    {
     "data": {
      "image/png": "[encoded data removed]",
      "text/plain": [
       "<Figure size 432x288 with 1 Axes>"
      ]
     },
     "metadata": {
      "needs_background": "light"
     },
     "output_type": "display_data"
    }
   ],
   "source": [
    "sns.distplot(df['Family'], kde=True)"
   ]
  },
  {
   "cell_type": "markdown",
   "id": "51abe6f9",
   "metadata": {},
   "source": [
    "data is not normally distributed,skewness present, no outliers"
   ]
  },
  {
   "cell_type": "code",
   "execution_count": 18,
   "id": "35e66936",
   "metadata": {},
   "outputs": [
    {
     "name": "stderr",
     "output_type": "stream",
     "text": [
      "D:\\Anaconda\\lib\\site-packages\\seaborn\\distributions.py:2557: FutureWarning: `distplot` is a deprecated function and will be removed in a future version. Please adapt your code to use either `displot` (a figure-level function with similar flexibility) or `histplot` (an axes-level function for histograms).\n",
      "  warnings.warn(msg, FutureWarning)\n"
     ]
    },
    {
     "data": {
      "text/plain": [
       "<AxesSubplot:xlabel='Health (Life Expectancy)', ylabel='Density'>"
      ]
     },
     "execution_count": 18,
     "metadata": {},
     "output_type": "execute_result"
    },
    {
     "data": {
      "image/png": "[encoded data removed]",
      "text/plain": [
       "<Figure size 432x288 with 1 Axes>"
      ]
     },
     "metadata": {
      "needs_background": "light"
     },
     "output_type": "display_data"
    }
   ],
   "source": [
    "sns.distplot(df['Health (Life Expectancy)'], kde=True)"
   ]
  },
  {
   "cell_type": "markdown",
   "id": "86db26de",
   "metadata": {},
   "source": [
    "data is normally distributed, no skewness , no outliers"
   ]
  },
  {
   "cell_type": "code",
   "execution_count": 19,
   "id": "b7367f7a",
   "metadata": {},
   "outputs": [
    {
     "name": "stderr",
     "output_type": "stream",
     "text": [
      "D:\\Anaconda\\lib\\site-packages\\seaborn\\distributions.py:2557: FutureWarning: `distplot` is a deprecated function and will be removed in a future version. Please adapt your code to use either `displot` (a figure-level function with similar flexibility) or `histplot` (an axes-level function for histograms).\n",
      "  warnings.warn(msg, FutureWarning)\n"
     ]
    },
    {
     "data": {
      "text/plain": [
       "<AxesSubplot:xlabel='Freedom', ylabel='Density'>"
      ]
     },
     "execution_count": 19,
     "metadata": {},
     "output_type": "execute_result"
    },
    {
     "data": {
      "image/png": "[encoded data removed]",
      "text/plain": [
       "<Figure size 432x288 with 1 Axes>"
      ]
     },
     "metadata": {
      "needs_background": "light"
     },
     "output_type": "display_data"
    }
   ],
   "source": [
    "sns.distplot(df['Freedom'], kde=True)"
   ]
  },
  {
   "cell_type": "markdown",
   "id": "c6b56483",
   "metadata": {},
   "source": [
    "data is normally distributed, no skewness , no outliers"
   ]
  },
  {
   "cell_type": "code",
   "execution_count": 20,
   "id": "b9dc2f7a",
   "metadata": {},
   "outputs": [
    {
     "name": "stderr",
     "output_type": "stream",
     "text": [
      "D:\\Anaconda\\lib\\site-packages\\seaborn\\distributions.py:2557: FutureWarning: `distplot` is a deprecated function and will be removed in a future version. Please adapt your code to use either `displot` (a figure-level function with similar flexibility) or `histplot` (an axes-level function for histograms).\n",
      "  warnings.warn(msg, FutureWarning)\n"
     ]
    },
    {
     "data": {
      "text/plain": [
       "<AxesSubplot:xlabel='Trust (Government Corruption)', ylabel='Density'>"
      ]
     },
     "execution_count": 20,
     "metadata": {},
     "output_type": "execute_result"
    },
    {
     "data": {
      "image/png": "[encoded data removed]",
      "text/plain": [
       "<Figure size 432x288 with 1 Axes>"
      ]
     },
     "metadata": {
      "needs_background": "light"
     },
     "output_type": "display_data"
    }
   ],
   "source": [
    "sns.distplot(df['Trust (Government Corruption)'], kde=True)"
   ]
  },
  {
   "cell_type": "markdown",
   "id": "3875da6e",
   "metadata": {},
   "source": [
    "data is not normally distributed, skewness and outliers present"
   ]
  },
  {
   "cell_type": "code",
   "execution_count": 21,
   "id": "b384300a",
   "metadata": {},
   "outputs": [
    {
     "name": "stderr",
     "output_type": "stream",
     "text": [
      "D:\\Anaconda\\lib\\site-packages\\seaborn\\distributions.py:2557: FutureWarning: `distplot` is a deprecated function and will be removed in a future version. Please adapt your code to use either `displot` (a figure-level function with similar flexibility) or `histplot` (an axes-level function for histograms).\n",
      "  warnings.warn(msg, FutureWarning)\n"
     ]
    },
    {
     "data": {
      "text/plain": [
       "<AxesSubplot:xlabel='Generosity', ylabel='Density'>"
      ]
     },
     "execution_count": 21,
     "metadata": {},
     "output_type": "execute_result"
    },
    {
     "data": {
      "image/png": "[encoded data removed]",
      "text/plain": [
       "<Figure size 432x288 with 1 Axes>"
      ]
     },
     "metadata": {
      "needs_background": "light"
     },
     "output_type": "display_data"
    }
   ],
   "source": [
    "sns.distplot(df['Generosity'], kde=True)"
   ]
  },
  {
   "cell_type": "markdown",
   "id": "d61e7d18",
   "metadata": {},
   "source": [
    "data is not normally distributed,skewness and outliers present"
   ]
  },
  {
   "cell_type": "code",
   "execution_count": 22,
   "id": "428668a4",
   "metadata": {},
   "outputs": [
    {
     "name": "stderr",
     "output_type": "stream",
     "text": [
      "D:\\Anaconda\\lib\\site-packages\\seaborn\\distributions.py:2557: FutureWarning: `distplot` is a deprecated function and will be removed in a future version. Please adapt your code to use either `displot` (a figure-level function with similar flexibility) or `histplot` (an axes-level function for histograms).\n",
      "  warnings.warn(msg, FutureWarning)\n"
     ]
    },
    {
     "data": {
      "text/plain": [
       "<AxesSubplot:xlabel='Dystopia Residual', ylabel='Density'>"
      ]
     },
     "execution_count": 22,
     "metadata": {},
     "output_type": "execute_result"
    },
    {
     "data": {
      "image/png": "[encoded data removed]",
      "text/plain": [
       "<Figure size 432x288 with 1 Axes>"
      ]
     },
     "metadata": {
      "needs_background": "light"
     },
     "output_type": "display_data"
    }
   ],
   "source": [
    "sns.distplot(df['Dystopia Residual'], kde=True)"
   ]
  },
  {
   "cell_type": "markdown",
   "id": "cbbbb8fc",
   "metadata": {},
   "source": [
    "data is not normally distributed, skewness and outliers present"
   ]
  },
  {
   "cell_type": "markdown",
   "id": "2988f5c1",
   "metadata": {},
   "source": [
    "Visualization part is completed.\n",
    "\n",
    "Dataset has maximum continous value"
   ]
  },
  {
   "cell_type": "markdown",
   "id": "6183f39c",
   "metadata": {},
   "source": [
    "# Describe the Dataset:"
   ]
  },
  {
   "cell_type": "code",
   "execution_count": 23,
   "id": "17c688f8",
   "metadata": {},
   "outputs": [
    {
     "data": {
      "text/html": [
       "<div>\n",
       "<style scoped>\n",
       "    .dataframe tbody tr th:only-of-type {\n",
       "        vertical-align: middle;\n",
       "    }\n",
       "\n",
       "    .dataframe tbody tr th {\n",
       "        vertical-align: top;\n",
       "    }\n",
       "\n",
       "    .dataframe thead th {\n",
       "        text-align: right;\n",
       "    }\n",
       "</style>\n",
       "<table border=\"1\" class=\"dataframe\">\n",
       "  <thead>\n",
       "    <tr style=\"text-align: right;\">\n",
       "      <th></th>\n",
       "      <th>Happiness Score</th>\n",
       "      <th>Standard Error</th>\n",
       "      <th>Economy (GDP per Capita)</th>\n",
       "      <th>Family</th>\n",
       "      <th>Health (Life Expectancy)</th>\n",
       "      <th>Freedom</th>\n",
       "      <th>Trust (Government Corruption)</th>\n",
       "      <th>Generosity</th>\n",
       "      <th>Dystopia Residual</th>\n",
       "    </tr>\n",
       "  </thead>\n",
       "  <tbody>\n",
       "    <tr>\n",
       "      <th>count</th>\n",
       "      <td>158.000000</td>\n",
       "      <td>158.000000</td>\n",
       "      <td>158.000000</td>\n",
       "      <td>158.000000</td>\n",
       "      <td>158.000000</td>\n",
       "      <td>158.000000</td>\n",
       "      <td>158.000000</td>\n",
       "      <td>158.000000</td>\n",
       "      <td>158.000000</td>\n",
       "    </tr>\n",
       "    <tr>\n",
       "      <th>mean</th>\n",
       "      <td>5.375734</td>\n",
       "      <td>0.047885</td>\n",
       "      <td>0.846137</td>\n",
       "      <td>0.991046</td>\n",
       "      <td>0.630259</td>\n",
       "      <td>0.428615</td>\n",
       "      <td>0.143422</td>\n",
       "      <td>0.237296</td>\n",
       "      <td>2.098977</td>\n",
       "    </tr>\n",
       "    <tr>\n",
       "      <th>std</th>\n",
       "      <td>1.145010</td>\n",
       "      <td>0.017146</td>\n",
       "      <td>0.403121</td>\n",
       "      <td>0.272369</td>\n",
       "      <td>0.247078</td>\n",
       "      <td>0.150693</td>\n",
       "      <td>0.120034</td>\n",
       "      <td>0.126685</td>\n",
       "      <td>0.553550</td>\n",
       "    </tr>\n",
       "    <tr>\n",
       "      <th>min</th>\n",
       "      <td>2.839000</td>\n",
       "      <td>0.018480</td>\n",
       "      <td>0.000000</td>\n",
       "      <td>0.000000</td>\n",
       "      <td>0.000000</td>\n",
       "      <td>0.000000</td>\n",
       "      <td>0.000000</td>\n",
       "      <td>0.000000</td>\n",
       "      <td>0.328580</td>\n",
       "    </tr>\n",
       "    <tr>\n",
       "      <th>25%</th>\n",
       "      <td>4.526000</td>\n",
       "      <td>0.037268</td>\n",
       "      <td>0.545808</td>\n",
       "      <td>0.856823</td>\n",
       "      <td>0.439185</td>\n",
       "      <td>0.328330</td>\n",
       "      <td>0.061675</td>\n",
       "      <td>0.150553</td>\n",
       "      <td>1.759410</td>\n",
       "    </tr>\n",
       "    <tr>\n",
       "      <th>50%</th>\n",
       "      <td>5.232500</td>\n",
       "      <td>0.043940</td>\n",
       "      <td>0.910245</td>\n",
       "      <td>1.029510</td>\n",
       "      <td>0.696705</td>\n",
       "      <td>0.435515</td>\n",
       "      <td>0.107220</td>\n",
       "      <td>0.216130</td>\n",
       "      <td>2.095415</td>\n",
       "    </tr>\n",
       "    <tr>\n",
       "      <th>75%</th>\n",
       "      <td>6.243750</td>\n",
       "      <td>0.052300</td>\n",
       "      <td>1.158448</td>\n",
       "      <td>1.214405</td>\n",
       "      <td>0.811013</td>\n",
       "      <td>0.549092</td>\n",
       "      <td>0.180255</td>\n",
       "      <td>0.309883</td>\n",
       "      <td>2.462415</td>\n",
       "    </tr>\n",
       "    <tr>\n",
       "      <th>max</th>\n",
       "      <td>7.587000</td>\n",
       "      <td>0.136930</td>\n",
       "      <td>1.690420</td>\n",
       "      <td>1.402230</td>\n",
       "      <td>1.025250</td>\n",
       "      <td>0.669730</td>\n",
       "      <td>0.551910</td>\n",
       "      <td>0.795880</td>\n",
       "      <td>3.602140</td>\n",
       "    </tr>\n",
       "  </tbody>\n",
       "</table>\n",
       "</div>"
      ],
      "text/plain": [
       "       Happiness Score  Standard Error  Economy (GDP per Capita)      Family  \\\n",
       "count       158.000000      158.000000                158.000000  158.000000   \n",
       "mean          5.375734        0.047885                  0.846137    0.991046   \n",
       "std           1.145010        0.017146                  0.403121    0.272369   \n",
       "min           2.839000        0.018480                  0.000000    0.000000   \n",
       "25%           4.526000        0.037268                  0.545808    0.856823   \n",
       "50%           5.232500        0.043940                  0.910245    1.029510   \n",
       "75%           6.243750        0.052300                  1.158448    1.214405   \n",
       "max           7.587000        0.136930                  1.690420    1.402230   \n",
       "\n",
       "       Health (Life Expectancy)     Freedom  Trust (Government Corruption)  \\\n",
       "count                158.000000  158.000000                     158.000000   \n",
       "mean                   0.630259    0.428615                       0.143422   \n",
       "std                    0.247078    0.150693                       0.120034   \n",
       "min                    0.000000    0.000000                       0.000000   \n",
       "25%                    0.439185    0.328330                       0.061675   \n",
       "50%                    0.696705    0.435515                       0.107220   \n",
       "75%                    0.811013    0.549092                       0.180255   \n",
       "max                    1.025250    0.669730                       0.551910   \n",
       "\n",
       "       Generosity  Dystopia Residual  \n",
       "count  158.000000         158.000000  \n",
       "mean     0.237296           2.098977  \n",
       "std      0.126685           0.553550  \n",
       "min      0.000000           0.328580  \n",
       "25%      0.150553           1.759410  \n",
       "50%      0.216130           2.095415  \n",
       "75%      0.309883           2.462415  \n",
       "max      0.795880           3.602140  "
      ]
     },
     "execution_count": 23,
     "metadata": {},
     "output_type": "execute_result"
    }
   ],
   "source": [
    "df.describe()"
   ]
  },
  {
   "cell_type": "markdown",
   "id": "9ba21a54",
   "metadata": {},
   "source": [
    "Key Observations:\n",
    "\n",
    "1. Mean and Median: Values of mean and median alternatively smaller and large in the dataset\n",
    "2. 75% percentile and max: Standard Error, Family, Trust, Generosity and Dystopia Residual has large difference so Outliers are present.\n",
    "3. standard deviation is less than mean so high peak data"
   ]
  },
  {
   "cell_type": "code",
   "execution_count": 24,
   "id": "eeb12aaa",
   "metadata": {},
   "outputs": [
    {
     "data": {
      "text/plain": [
       "<AxesSubplot:>"
      ]
     },
     "execution_count": 24,
     "metadata": {},
     "output_type": "execute_result"
    },
    {
     "data": {
      "image/png": "[encoded data removed]",
      "text/plain": [
       "<Figure size 1584x504 with 2 Axes>"
      ]
     },
     "metadata": {
      "needs_background": "light"
     },
     "output_type": "display_data"
    }
   ],
   "source": [
    "import matplotlib.pyplot as plt\n",
    "plt.figure(figsize=(22,7))\n",
    "sns.heatmap(df.describe(),annot=True,linewidths=0.1,linecolor=\"Blue\",fmt=\"0.2f\")"
   ]
  },
  {
   "cell_type": "markdown",
   "id": "54668639",
   "metadata": {},
   "source": [
    "Heatmap representation of the dataset describe for better understanding"
   ]
  },
  {
   "cell_type": "markdown",
   "id": "50349712",
   "metadata": {},
   "source": [
    "# Correlation of the columns with target columns:"
   ]
  },
  {
   "cell_type": "code",
   "execution_count": 25,
   "id": "87ca991d",
   "metadata": {},
   "outputs": [
    {
     "data": {
      "text/html": [
       "<div>\n",
       "<style scoped>\n",
       "    .dataframe tbody tr th:only-of-type {\n",
       "        vertical-align: middle;\n",
       "    }\n",
       "\n",
       "    .dataframe tbody tr th {\n",
       "        vertical-align: top;\n",
       "    }\n",
       "\n",
       "    .dataframe thead th {\n",
       "        text-align: right;\n",
       "    }\n",
       "</style>\n",
       "<table border=\"1\" class=\"dataframe\">\n",
       "  <thead>\n",
       "    <tr style=\"text-align: right;\">\n",
       "      <th></th>\n",
       "      <th>Happiness Score</th>\n",
       "      <th>Standard Error</th>\n",
       "      <th>Economy (GDP per Capita)</th>\n",
       "      <th>Family</th>\n",
       "      <th>Health (Life Expectancy)</th>\n",
       "      <th>Freedom</th>\n",
       "      <th>Trust (Government Corruption)</th>\n",
       "      <th>Generosity</th>\n",
       "      <th>Dystopia Residual</th>\n",
       "    </tr>\n",
       "  </thead>\n",
       "  <tbody>\n",
       "    <tr>\n",
       "      <th>Happiness Score</th>\n",
       "      <td>1.000000</td>\n",
       "      <td>-0.177254</td>\n",
       "      <td>0.780966</td>\n",
       "      <td>0.740605</td>\n",
       "      <td>0.724200</td>\n",
       "      <td>0.568211</td>\n",
       "      <td>0.395199</td>\n",
       "      <td>0.180319</td>\n",
       "      <td>0.530474</td>\n",
       "    </tr>\n",
       "    <tr>\n",
       "      <th>Standard Error</th>\n",
       "      <td>-0.177254</td>\n",
       "      <td>1.000000</td>\n",
       "      <td>-0.217651</td>\n",
       "      <td>-0.120728</td>\n",
       "      <td>-0.310287</td>\n",
       "      <td>-0.129773</td>\n",
       "      <td>-0.178325</td>\n",
       "      <td>-0.088439</td>\n",
       "      <td>0.083981</td>\n",
       "    </tr>\n",
       "    <tr>\n",
       "      <th>Economy (GDP per Capita)</th>\n",
       "      <td>0.780966</td>\n",
       "      <td>-0.217651</td>\n",
       "      <td>1.000000</td>\n",
       "      <td>0.645299</td>\n",
       "      <td>0.816478</td>\n",
       "      <td>0.370300</td>\n",
       "      <td>0.307885</td>\n",
       "      <td>-0.010465</td>\n",
       "      <td>0.040059</td>\n",
       "    </tr>\n",
       "    <tr>\n",
       "      <th>Family</th>\n",
       "      <td>0.740605</td>\n",
       "      <td>-0.120728</td>\n",
       "      <td>0.645299</td>\n",
       "      <td>1.000000</td>\n",
       "      <td>0.531104</td>\n",
       "      <td>0.441518</td>\n",
       "      <td>0.205605</td>\n",
       "      <td>0.087513</td>\n",
       "      <td>0.148117</td>\n",
       "    </tr>\n",
       "    <tr>\n",
       "      <th>Health (Life Expectancy)</th>\n",
       "      <td>0.724200</td>\n",
       "      <td>-0.310287</td>\n",
       "      <td>0.816478</td>\n",
       "      <td>0.531104</td>\n",
       "      <td>1.000000</td>\n",
       "      <td>0.360477</td>\n",
       "      <td>0.248335</td>\n",
       "      <td>0.108335</td>\n",
       "      <td>0.018979</td>\n",
       "    </tr>\n",
       "    <tr>\n",
       "      <th>Freedom</th>\n",
       "      <td>0.568211</td>\n",
       "      <td>-0.129773</td>\n",
       "      <td>0.370300</td>\n",
       "      <td>0.441518</td>\n",
       "      <td>0.360477</td>\n",
       "      <td>1.000000</td>\n",
       "      <td>0.493524</td>\n",
       "      <td>0.373916</td>\n",
       "      <td>0.062783</td>\n",
       "    </tr>\n",
       "    <tr>\n",
       "      <th>Trust (Government Corruption)</th>\n",
       "      <td>0.395199</td>\n",
       "      <td>-0.178325</td>\n",
       "      <td>0.307885</td>\n",
       "      <td>0.205605</td>\n",
       "      <td>0.248335</td>\n",
       "      <td>0.493524</td>\n",
       "      <td>1.000000</td>\n",
       "      <td>0.276123</td>\n",
       "      <td>-0.033105</td>\n",
       "    </tr>\n",
       "    <tr>\n",
       "      <th>Generosity</th>\n",
       "      <td>0.180319</td>\n",
       "      <td>-0.088439</td>\n",
       "      <td>-0.010465</td>\n",
       "      <td>0.087513</td>\n",
       "      <td>0.108335</td>\n",
       "      <td>0.373916</td>\n",
       "      <td>0.276123</td>\n",
       "      <td>1.000000</td>\n",
       "      <td>-0.101301</td>\n",
       "    </tr>\n",
       "    <tr>\n",
       "      <th>Dystopia Residual</th>\n",
       "      <td>0.530474</td>\n",
       "      <td>0.083981</td>\n",
       "      <td>0.040059</td>\n",
       "      <td>0.148117</td>\n",
       "      <td>0.018979</td>\n",
       "      <td>0.062783</td>\n",
       "      <td>-0.033105</td>\n",
       "      <td>-0.101301</td>\n",
       "      <td>1.000000</td>\n",
       "    </tr>\n",
       "  </tbody>\n",
       "</table>\n",
       "</div>"
      ],
      "text/plain": [
       "                               Happiness Score  Standard Error  \\\n",
       "Happiness Score                       1.000000       -0.177254   \n",
       "Standard Error                       -0.177254        1.000000   \n",
       "Economy (GDP per Capita)              0.780966       -0.217651   \n",
       "Family                                0.740605       -0.120728   \n",
       "Health (Life Expectancy)              0.724200       -0.310287   \n",
       "Freedom                               0.568211       -0.129773   \n",
       "Trust (Government Corruption)         0.395199       -0.178325   \n",
       "Generosity                            0.180319       -0.088439   \n",
       "Dystopia Residual                     0.530474        0.083981   \n",
       "\n",
       "                               Economy (GDP per Capita)    Family  \\\n",
       "Happiness Score                                0.780966  0.740605   \n",
       "Standard Error                                -0.217651 -0.120728   \n",
       "Economy (GDP per Capita)                       1.000000  0.645299   \n",
       "Family                                         0.645299  1.000000   \n",
       "Health (Life Expectancy)                       0.816478  0.531104   \n",
       "Freedom                                        0.370300  0.441518   \n",
       "Trust (Government Corruption)                  0.307885  0.205605   \n",
       "Generosity                                    -0.010465  0.087513   \n",
       "Dystopia Residual                              0.040059  0.148117   \n",
       "\n",
       "                               Health (Life Expectancy)   Freedom  \\\n",
       "Happiness Score                                0.724200  0.568211   \n",
       "Standard Error                                -0.310287 -0.129773   \n",
       "Economy (GDP per Capita)                       0.816478  0.370300   \n",
       "Family                                         0.531104  0.441518   \n",
       "Health (Life Expectancy)                       1.000000  0.360477   \n",
       "Freedom                                        0.360477  1.000000   \n",
       "Trust (Government Corruption)                  0.248335  0.493524   \n",
       "Generosity                                     0.108335  0.373916   \n",
       "Dystopia Residual                              0.018979  0.062783   \n",
       "\n",
       "                               Trust (Government Corruption)  Generosity  \\\n",
       "Happiness Score                                     0.395199    0.180319   \n",
       "Standard Error                                     -0.178325   -0.088439   \n",
       "Economy (GDP per Capita)                            0.307885   -0.010465   \n",
       "Family                                              0.205605    0.087513   \n",
       "Health (Life Expectancy)                            0.248335    0.108335   \n",
       "Freedom                                             0.493524    0.373916   \n",
       "Trust (Government Corruption)                       1.000000    0.276123   \n",
       "Generosity                                          0.276123    1.000000   \n",
       "Dystopia Residual                                  -0.033105   -0.101301   \n",
       "\n",
       "                               Dystopia Residual  \n",
       "Happiness Score                         0.530474  \n",
       "Standard Error                          0.083981  \n",
       "Economy (GDP per Capita)                0.040059  \n",
       "Family                                  0.148117  \n",
       "Health (Life Expectancy)                0.018979  \n",
       "Freedom                                 0.062783  \n",
       "Trust (Government Corruption)          -0.033105  \n",
       "Generosity                             -0.101301  \n",
       "Dystopia Residual                       1.000000  "
      ]
     },
     "execution_count": 25,
     "metadata": {},
     "output_type": "execute_result"
    }
   ],
   "source": [
    "df.corr()"
   ]
  },
  {
   "cell_type": "markdown",
   "id": "071933ca",
   "metadata": {},
   "source": [
    "Representation of heatmap showing correlation"
   ]
  },
  {
   "cell_type": "code",
   "execution_count": 26,
   "id": "e797822f",
   "metadata": {},
   "outputs": [
    {
     "data": {
      "text/plain": [
       "<AxesSubplot:>"
      ]
     },
     "execution_count": 26,
     "metadata": {},
     "output_type": "execute_result"
    },
    {
     "data": {
      "image/png": "[encoded data removed]",
      "text/plain": [
       "<Figure size 1584x504 with 2 Axes>"
      ]
     },
     "metadata": {
      "needs_background": "light"
     },
     "output_type": "display_data"
    }
   ],
   "source": [
    "plt.figure(figsize=(22,7))\n",
    "sns.heatmap(df.corr(),annot=True,linewidths=0.1,linecolor=\"Black\",fmt=\"0.2f\")"
   ]
  },
  {
   "cell_type": "markdown",
   "id": "ce9ffd75",
   "metadata": {},
   "source": [
    "Observations:\n",
    "\n",
    "Light shades are highly correlated\n",
    "Happiness Score is highly correlated with Economy(GDP per Capita)\n",
    "\n",
    "Economy(GDP per Capita) is highly negatively correlated with Standard Error with -0.22\n",
    "Economy(GDP per Capita) is highly positively correlated with Health(Life Expectancy) with 0.82\n",
    "Standard Error is negatively correlated with Happiness Score\n"
   ]
  },
  {
   "cell_type": "code",
   "execution_count": 27,
   "id": "eb1c63c1",
   "metadata": {},
   "outputs": [
    {
     "data": {
      "image/png": "[encoded data removed]",
      "text/plain": [
       "<Figure size 1584x504 with 1 Axes>"
      ]
     },
     "metadata": {
      "needs_background": "light"
     },
     "output_type": "display_data"
    }
   ],
   "source": [
    "plt.figure(figsize=(22,7))\n",
    "df.corr()['Happiness Score'].sort_values(ascending=False).drop(['Happiness Score']).plot(kind='bar',color='c')\n",
    "plt.xlabel('Feature',fontsize=14)\n",
    "plt.ylabel('column with target names',fontsize=14)\n",
    "plt.title('Correlation',fontsize=18)\n",
    "plt.show()"
   ]
  },
  {
   "cell_type": "markdown",
   "id": "a3231e7f",
   "metadata": {},
   "source": [
    "Feature column are all positive except for Standard error which is negative so we can drop the Standard Error column"
   ]
  },
  {
   "cell_type": "code",
   "execution_count": 28,
   "id": "8effd537",
   "metadata": {},
   "outputs": [],
   "source": [
    "df.drop(['Standard Error'],axis=1,inplace=True)"
   ]
  },
  {
   "cell_type": "code",
   "execution_count": 29,
   "id": "aeeb8a8c",
   "metadata": {},
   "outputs": [
    {
     "data": {
      "text/html": [
       "<div>\n",
       "<style scoped>\n",
       "    .dataframe tbody tr th:only-of-type {\n",
       "        vertical-align: middle;\n",
       "    }\n",
       "\n",
       "    .dataframe tbody tr th {\n",
       "        vertical-align: top;\n",
       "    }\n",
       "\n",
       "    .dataframe thead th {\n",
       "        text-align: right;\n",
       "    }\n",
       "</style>\n",
       "<table border=\"1\" class=\"dataframe\">\n",
       "  <thead>\n",
       "    <tr style=\"text-align: right;\">\n",
       "      <th></th>\n",
       "      <th>Happiness Score</th>\n",
       "      <th>Economy (GDP per Capita)</th>\n",
       "      <th>Family</th>\n",
       "      <th>Health (Life Expectancy)</th>\n",
       "      <th>Freedom</th>\n",
       "      <th>Trust (Government Corruption)</th>\n",
       "      <th>Generosity</th>\n",
       "      <th>Dystopia Residual</th>\n",
       "    </tr>\n",
       "  </thead>\n",
       "  <tbody>\n",
       "    <tr>\n",
       "      <th>0</th>\n",
       "      <td>7.587</td>\n",
       "      <td>1.39651</td>\n",
       "      <td>1.34951</td>\n",
       "      <td>0.94143</td>\n",
       "      <td>0.66557</td>\n",
       "      <td>0.41978</td>\n",
       "      <td>0.29678</td>\n",
       "      <td>2.51738</td>\n",
       "    </tr>\n",
       "    <tr>\n",
       "      <th>1</th>\n",
       "      <td>7.561</td>\n",
       "      <td>1.30232</td>\n",
       "      <td>1.40223</td>\n",
       "      <td>0.94784</td>\n",
       "      <td>0.62877</td>\n",
       "      <td>0.14145</td>\n",
       "      <td>0.43630</td>\n",
       "      <td>2.70201</td>\n",
       "    </tr>\n",
       "    <tr>\n",
       "      <th>2</th>\n",
       "      <td>7.527</td>\n",
       "      <td>1.32548</td>\n",
       "      <td>1.36058</td>\n",
       "      <td>0.87464</td>\n",
       "      <td>0.64938</td>\n",
       "      <td>0.48357</td>\n",
       "      <td>0.34139</td>\n",
       "      <td>2.49204</td>\n",
       "    </tr>\n",
       "    <tr>\n",
       "      <th>3</th>\n",
       "      <td>7.522</td>\n",
       "      <td>1.45900</td>\n",
       "      <td>1.33095</td>\n",
       "      <td>0.88521</td>\n",
       "      <td>0.66973</td>\n",
       "      <td>0.36503</td>\n",
       "      <td>0.34699</td>\n",
       "      <td>2.46531</td>\n",
       "    </tr>\n",
       "    <tr>\n",
       "      <th>4</th>\n",
       "      <td>7.427</td>\n",
       "      <td>1.32629</td>\n",
       "      <td>1.32261</td>\n",
       "      <td>0.90563</td>\n",
       "      <td>0.63297</td>\n",
       "      <td>0.32957</td>\n",
       "      <td>0.45811</td>\n",
       "      <td>2.45176</td>\n",
       "    </tr>\n",
       "  </tbody>\n",
       "</table>\n",
       "</div>"
      ],
      "text/plain": [
       "   Happiness Score  Economy (GDP per Capita)   Family  \\\n",
       "0            7.587                   1.39651  1.34951   \n",
       "1            7.561                   1.30232  1.40223   \n",
       "2            7.527                   1.32548  1.36058   \n",
       "3            7.522                   1.45900  1.33095   \n",
       "4            7.427                   1.32629  1.32261   \n",
       "\n",
       "   Health (Life Expectancy)  Freedom  Trust (Government Corruption)  \\\n",
       "0                   0.94143  0.66557                        0.41978   \n",
       "1                   0.94784  0.62877                        0.14145   \n",
       "2                   0.87464  0.64938                        0.48357   \n",
       "3                   0.88521  0.66973                        0.36503   \n",
       "4                   0.90563  0.63297                        0.32957   \n",
       "\n",
       "   Generosity  Dystopia Residual  \n",
       "0     0.29678            2.51738  \n",
       "1     0.43630            2.70201  \n",
       "2     0.34139            2.49204  \n",
       "3     0.34699            2.46531  \n",
       "4     0.45811            2.45176  "
      ]
     },
     "execution_count": 29,
     "metadata": {},
     "output_type": "execute_result"
    }
   ],
   "source": [
    "df.head()"
   ]
  },
  {
   "cell_type": "markdown",
   "id": "723744d9",
   "metadata": {},
   "source": [
    "#Standard Error column dropped"
   ]
  },
  {
   "cell_type": "code",
   "execution_count": 30,
   "id": "3d5ffa40",
   "metadata": {},
   "outputs": [
    {
     "data": {
      "text/plain": [
       "Happiness Score                  0.097769\n",
       "Economy (GDP per Capita)        -0.317575\n",
       "Family                          -1.006893\n",
       "Health (Life Expectancy)        -0.705328\n",
       "Freedom                         -0.413462\n",
       "Trust (Government Corruption)    1.385463\n",
       "Generosity                       1.001961\n",
       "Dystopia Residual               -0.238911\n",
       "dtype: float64"
      ]
     },
     "execution_count": 30,
     "metadata": {},
     "output_type": "execute_result"
    }
   ],
   "source": [
    "#Finding Skewness in data\n",
    "df.skew()"
   ]
  },
  {
   "cell_type": "markdown",
   "id": "b5f41d70",
   "metadata": {},
   "source": [
    "Keeping +/-0.5 as the range for skewness, here are the columns which does not lie within this range.\n",
    "\n",
    "1. Happiness Score- Target variable\n",
    "2. Family - Float\n",
    "3. Health(Life Expectancy)- Float\n",
    "4. Trust(Government Corruption) - Float\n",
    "5. Generosity - Float\n",
    "\n",
    "No column has skewness so will not treat it"
   ]
  },
  {
   "cell_type": "markdown",
   "id": "82f43e27",
   "metadata": {},
   "source": [
    "# Outlier check"
   ]
  },
  {
   "cell_type": "code",
   "execution_count": 31,
   "id": "c51c3471",
   "metadata": {},
   "outputs": [
    {
     "data": {
      "text/plain": [
       "Happiness Score                  float64\n",
       "Economy (GDP per Capita)         float64\n",
       "Family                           float64\n",
       "Health (Life Expectancy)         float64\n",
       "Freedom                          float64\n",
       "Trust (Government Corruption)    float64\n",
       "Generosity                       float64\n",
       "Dystopia Residual                float64\n",
       "dtype: object"
      ]
     },
     "execution_count": 31,
     "metadata": {},
     "output_type": "execute_result"
    }
   ],
   "source": [
    "df.dtypes"
   ]
  },
  {
   "cell_type": "markdown",
   "id": "12a07bc0",
   "metadata": {},
   "source": [
    "Checking the outliers on the float type columns."
   ]
  },
  {
   "cell_type": "code",
   "execution_count": 32,
   "id": "7775f33a",
   "metadata": {},
   "outputs": [
    {
     "data": {
      "text/plain": [
       "<AxesSubplot:>"
      ]
     },
     "execution_count": 32,
     "metadata": {},
     "output_type": "execute_result"
    },
    {
     "data": {
      "image/png": "[encoded data removed]",
      "text/plain": [
       "<Figure size 432x288 with 1 Axes>"
      ]
     },
     "metadata": {
      "needs_background": "light"
     },
     "output_type": "display_data"
    }
   ],
   "source": [
    "df['Happiness Score'].plot.box()"
   ]
  },
  {
   "cell_type": "markdown",
   "id": "23a13fd8",
   "metadata": {},
   "source": [
    "Outliers not present"
   ]
  },
  {
   "cell_type": "code",
   "execution_count": 33,
   "id": "daab18d6",
   "metadata": {},
   "outputs": [
    {
     "data": {
      "text/plain": [
       "<AxesSubplot:>"
      ]
     },
     "execution_count": 33,
     "metadata": {},
     "output_type": "execute_result"
    },
    {
     "data": {
      "image/png": "[encoded data removed]",
      "text/plain": [
       "<Figure size 432x288 with 1 Axes>"
      ]
     },
     "metadata": {
      "needs_background": "light"
     },
     "output_type": "display_data"
    }
   ],
   "source": [
    "df['Economy (GDP per Capita)'].plot.box()"
   ]
  },
  {
   "cell_type": "markdown",
   "id": "c353909c",
   "metadata": {},
   "source": [
    "Outliers not present"
   ]
  },
  {
   "cell_type": "code",
   "execution_count": 34,
   "id": "1a495f69",
   "metadata": {},
   "outputs": [
    {
     "data": {
      "text/plain": [
       "<AxesSubplot:>"
      ]
     },
     "execution_count": 34,
     "metadata": {},
     "output_type": "execute_result"
    },
    {
     "data": {
      "image/png": "[encoded data removed]",
      "text/plain": [
       "<Figure size 432x288 with 1 Axes>"
      ]
     },
     "metadata": {
      "needs_background": "light"
     },
     "output_type": "display_data"
    }
   ],
   "source": [
    "df['Family'].plot.box()"
   ]
  },
  {
   "cell_type": "markdown",
   "id": "8312cdf6",
   "metadata": {},
   "source": [
    "Outliers present"
   ]
  },
  {
   "cell_type": "code",
   "execution_count": 35,
   "id": "c73f63ff",
   "metadata": {},
   "outputs": [
    {
     "data": {
      "text/plain": [
       "<AxesSubplot:>"
      ]
     },
     "execution_count": 35,
     "metadata": {},
     "output_type": "execute_result"
    },
    {
     "data": {
      "image/png": "[encoded data removed]",
      "text/plain": [
       "<Figure size 432x288 with 1 Axes>"
      ]
     },
     "metadata": {
      "needs_background": "light"
     },
     "output_type": "display_data"
    }
   ],
   "source": [
    "df['Health (Life Expectancy)'].plot.box()"
   ]
  },
  {
   "cell_type": "markdown",
   "id": "9905cf45",
   "metadata": {},
   "source": [
    "Outliers not present"
   ]
  },
  {
   "cell_type": "code",
   "execution_count": 36,
   "id": "e1eec3fc",
   "metadata": {},
   "outputs": [
    {
     "data": {
      "text/plain": [
       "<AxesSubplot:>"
      ]
     },
     "execution_count": 36,
     "metadata": {},
     "output_type": "execute_result"
    },
    {
     "data": {
      "image/png": "[encoded data removed]",
      "text/plain": [
       "<Figure size 432x288 with 1 Axes>"
      ]
     },
     "metadata": {
      "needs_background": "light"
     },
     "output_type": "display_data"
    }
   ],
   "source": [
    "df['Freedom'].plot.box()"
   ]
  },
  {
   "cell_type": "markdown",
   "id": "0fe3f275",
   "metadata": {},
   "source": [
    "Outliers not present"
   ]
  },
  {
   "cell_type": "code",
   "execution_count": 37,
   "id": "c3b308ec",
   "metadata": {},
   "outputs": [
    {
     "data": {
      "text/plain": [
       "<AxesSubplot:>"
      ]
     },
     "execution_count": 37,
     "metadata": {},
     "output_type": "execute_result"
    },
    {
     "data": {
      "image/png": "[encoded data removed]",
      "text/plain": [
       "<Figure size 432x288 with 1 Axes>"
      ]
     },
     "metadata": {
      "needs_background": "light"
     },
     "output_type": "display_data"
    }
   ],
   "source": [
    "df['Trust (Government Corruption)'].plot.box()"
   ]
  },
  {
   "cell_type": "markdown",
   "id": "ed41688a",
   "metadata": {},
   "source": [
    "Outliers present"
   ]
  },
  {
   "cell_type": "code",
   "execution_count": 38,
   "id": "f240a103",
   "metadata": {},
   "outputs": [
    {
     "data": {
      "text/plain": [
       "<AxesSubplot:>"
      ]
     },
     "execution_count": 38,
     "metadata": {},
     "output_type": "execute_result"
    },
    {
     "data": {
      "image/png": "[encoded data removed]",
      "text/plain": [
       "<Figure size 432x288 with 1 Axes>"
      ]
     },
     "metadata": {
      "needs_background": "light"
     },
     "output_type": "display_data"
    }
   ],
   "source": [
    "df['Generosity'].plot.box()"
   ]
  },
  {
   "cell_type": "markdown",
   "id": "96eaf484",
   "metadata": {},
   "source": [
    "Outliers present"
   ]
  },
  {
   "cell_type": "code",
   "execution_count": 39,
   "id": "7e509aa3",
   "metadata": {},
   "outputs": [
    {
     "data": {
      "text/plain": [
       "<AxesSubplot:>"
      ]
     },
     "execution_count": 39,
     "metadata": {},
     "output_type": "execute_result"
    },
    {
     "data": {
      "image/png": "[encoded data removed]",
      "text/plain": [
       "<Figure size 432x288 with 1 Axes>"
      ]
     },
     "metadata": {
      "needs_background": "light"
     },
     "output_type": "display_data"
    }
   ],
   "source": [
    "df['Dystopia Residual'].plot.box()"
   ]
  },
  {
   "cell_type": "markdown",
   "id": "1c293742",
   "metadata": {},
   "source": [
    "Outliers present"
   ]
  },
  {
   "cell_type": "markdown",
   "id": "ec682420",
   "metadata": {},
   "source": [
    "Outliers Observation:\n",
    "\n",
    "Family, Trust (Government Corruption), Generosity and Dystopia Residual have outliers."
   ]
  },
  {
   "cell_type": "markdown",
   "id": "c4d537e5",
   "metadata": {},
   "source": [
    "# Outliers Removal "
   ]
  },
  {
   "cell_type": "code",
   "execution_count": 40,
   "id": "3b5dae77",
   "metadata": {},
   "outputs": [
    {
     "data": {
      "text/plain": [
       "(158, 8)"
      ]
     },
     "execution_count": 40,
     "metadata": {},
     "output_type": "execute_result"
    }
   ],
   "source": [
    "df.shape"
   ]
  },
  {
   "cell_type": "markdown",
   "id": "dee94a5e",
   "metadata": {},
   "source": [
    "There are 158 rows and 8 columns in the dataset."
   ]
  },
  {
   "cell_type": "code",
   "execution_count": 41,
   "id": "2cb96376",
   "metadata": {},
   "outputs": [
    {
     "data": {
      "text/plain": [
       "(array([ 27, 128, 147, 153, 155, 157], dtype=int64),\n",
       " array([5, 6, 2, 5, 7, 2], dtype=int64))"
      ]
     },
     "execution_count": 41,
     "metadata": {},
     "output_type": "execute_result"
    }
   ],
   "source": [
    "from scipy.stats import zscore\n",
    "import numpy as np\n",
    "z=np.abs(zscore(df))\n",
    "threshold=3\n",
    "np.where(z>3)"
   ]
  },
  {
   "cell_type": "markdown",
   "id": "a674478d",
   "metadata": {},
   "source": [
    "using zscore method to remove outliers present in the dataset"
   ]
  },
  {
   "cell_type": "code",
   "execution_count": 42,
   "id": "396ffaab",
   "metadata": {},
   "outputs": [
    {
     "data": {
      "text/html": [
       "<div>\n",
       "<style scoped>\n",
       "    .dataframe tbody tr th:only-of-type {\n",
       "        vertical-align: middle;\n",
       "    }\n",
       "\n",
       "    .dataframe tbody tr th {\n",
       "        vertical-align: top;\n",
       "    }\n",
       "\n",
       "    .dataframe thead th {\n",
       "        text-align: right;\n",
       "    }\n",
       "</style>\n",
       "<table border=\"1\" class=\"dataframe\">\n",
       "  <thead>\n",
       "    <tr style=\"text-align: right;\">\n",
       "      <th></th>\n",
       "      <th>Happiness Score</th>\n",
       "      <th>Economy (GDP per Capita)</th>\n",
       "      <th>Family</th>\n",
       "      <th>Health (Life Expectancy)</th>\n",
       "      <th>Freedom</th>\n",
       "      <th>Trust (Government Corruption)</th>\n",
       "      <th>Generosity</th>\n",
       "      <th>Dystopia Residual</th>\n",
       "    </tr>\n",
       "  </thead>\n",
       "  <tbody>\n",
       "    <tr>\n",
       "      <th>0</th>\n",
       "      <td>7.587</td>\n",
       "      <td>1.39651</td>\n",
       "      <td>1.34951</td>\n",
       "      <td>0.94143</td>\n",
       "      <td>0.66557</td>\n",
       "      <td>0.41978</td>\n",
       "      <td>0.29678</td>\n",
       "      <td>2.51738</td>\n",
       "    </tr>\n",
       "    <tr>\n",
       "      <th>1</th>\n",
       "      <td>7.561</td>\n",
       "      <td>1.30232</td>\n",
       "      <td>1.40223</td>\n",
       "      <td>0.94784</td>\n",
       "      <td>0.62877</td>\n",
       "      <td>0.14145</td>\n",
       "      <td>0.43630</td>\n",
       "      <td>2.70201</td>\n",
       "    </tr>\n",
       "    <tr>\n",
       "      <th>2</th>\n",
       "      <td>7.527</td>\n",
       "      <td>1.32548</td>\n",
       "      <td>1.36058</td>\n",
       "      <td>0.87464</td>\n",
       "      <td>0.64938</td>\n",
       "      <td>0.48357</td>\n",
       "      <td>0.34139</td>\n",
       "      <td>2.49204</td>\n",
       "    </tr>\n",
       "    <tr>\n",
       "      <th>3</th>\n",
       "      <td>7.522</td>\n",
       "      <td>1.45900</td>\n",
       "      <td>1.33095</td>\n",
       "      <td>0.88521</td>\n",
       "      <td>0.66973</td>\n",
       "      <td>0.36503</td>\n",
       "      <td>0.34699</td>\n",
       "      <td>2.46531</td>\n",
       "    </tr>\n",
       "    <tr>\n",
       "      <th>4</th>\n",
       "      <td>7.427</td>\n",
       "      <td>1.32629</td>\n",
       "      <td>1.32261</td>\n",
       "      <td>0.90563</td>\n",
       "      <td>0.63297</td>\n",
       "      <td>0.32957</td>\n",
       "      <td>0.45811</td>\n",
       "      <td>2.45176</td>\n",
       "    </tr>\n",
       "    <tr>\n",
       "      <th>...</th>\n",
       "      <td>...</td>\n",
       "      <td>...</td>\n",
       "      <td>...</td>\n",
       "      <td>...</td>\n",
       "      <td>...</td>\n",
       "      <td>...</td>\n",
       "      <td>...</td>\n",
       "      <td>...</td>\n",
       "    </tr>\n",
       "    <tr>\n",
       "      <th>150</th>\n",
       "      <td>3.655</td>\n",
       "      <td>0.46534</td>\n",
       "      <td>0.77115</td>\n",
       "      <td>0.15185</td>\n",
       "      <td>0.46866</td>\n",
       "      <td>0.17922</td>\n",
       "      <td>0.20165</td>\n",
       "      <td>1.41723</td>\n",
       "    </tr>\n",
       "    <tr>\n",
       "      <th>151</th>\n",
       "      <td>3.587</td>\n",
       "      <td>0.25812</td>\n",
       "      <td>0.85188</td>\n",
       "      <td>0.27125</td>\n",
       "      <td>0.39493</td>\n",
       "      <td>0.12832</td>\n",
       "      <td>0.21747</td>\n",
       "      <td>1.46494</td>\n",
       "    </tr>\n",
       "    <tr>\n",
       "      <th>152</th>\n",
       "      <td>3.575</td>\n",
       "      <td>0.31982</td>\n",
       "      <td>0.30285</td>\n",
       "      <td>0.30335</td>\n",
       "      <td>0.23414</td>\n",
       "      <td>0.09719</td>\n",
       "      <td>0.36510</td>\n",
       "      <td>1.95210</td>\n",
       "    </tr>\n",
       "    <tr>\n",
       "      <th>154</th>\n",
       "      <td>3.340</td>\n",
       "      <td>0.28665</td>\n",
       "      <td>0.35386</td>\n",
       "      <td>0.31910</td>\n",
       "      <td>0.48450</td>\n",
       "      <td>0.08010</td>\n",
       "      <td>0.18260</td>\n",
       "      <td>1.63328</td>\n",
       "    </tr>\n",
       "    <tr>\n",
       "      <th>156</th>\n",
       "      <td>2.905</td>\n",
       "      <td>0.01530</td>\n",
       "      <td>0.41587</td>\n",
       "      <td>0.22396</td>\n",
       "      <td>0.11850</td>\n",
       "      <td>0.10062</td>\n",
       "      <td>0.19727</td>\n",
       "      <td>1.83302</td>\n",
       "    </tr>\n",
       "  </tbody>\n",
       "</table>\n",
       "<p>152 rows × 8 columns</p>\n",
       "</div>"
      ],
      "text/plain": [
       "     Happiness Score  Economy (GDP per Capita)   Family  \\\n",
       "0              7.587                   1.39651  1.34951   \n",
       "1              7.561                   1.30232  1.40223   \n",
       "2              7.527                   1.32548  1.36058   \n",
       "3              7.522                   1.45900  1.33095   \n",
       "4              7.427                   1.32629  1.32261   \n",
       "..               ...                       ...      ...   \n",
       "150            3.655                   0.46534  0.77115   \n",
       "151            3.587                   0.25812  0.85188   \n",
       "152            3.575                   0.31982  0.30285   \n",
       "154            3.340                   0.28665  0.35386   \n",
       "156            2.905                   0.01530  0.41587   \n",
       "\n",
       "     Health (Life Expectancy)  Freedom  Trust (Government Corruption)  \\\n",
       "0                     0.94143  0.66557                        0.41978   \n",
       "1                     0.94784  0.62877                        0.14145   \n",
       "2                     0.87464  0.64938                        0.48357   \n",
       "3                     0.88521  0.66973                        0.36503   \n",
       "4                     0.90563  0.63297                        0.32957   \n",
       "..                        ...      ...                            ...   \n",
       "150                   0.15185  0.46866                        0.17922   \n",
       "151                   0.27125  0.39493                        0.12832   \n",
       "152                   0.30335  0.23414                        0.09719   \n",
       "154                   0.31910  0.48450                        0.08010   \n",
       "156                   0.22396  0.11850                        0.10062   \n",
       "\n",
       "     Generosity  Dystopia Residual  \n",
       "0       0.29678            2.51738  \n",
       "1       0.43630            2.70201  \n",
       "2       0.34139            2.49204  \n",
       "3       0.34699            2.46531  \n",
       "4       0.45811            2.45176  \n",
       "..          ...                ...  \n",
       "150     0.20165            1.41723  \n",
       "151     0.21747            1.46494  \n",
       "152     0.36510            1.95210  \n",
       "154     0.18260            1.63328  \n",
       "156     0.19727            1.83302  \n",
       "\n",
       "[152 rows x 8 columns]"
      ]
     },
     "execution_count": 42,
     "metadata": {},
     "output_type": "execute_result"
    }
   ],
   "source": [
    "df_new_z=df[(z<3).all(axis=1)]\n",
    "df_new_z"
   ]
  },
  {
   "cell_type": "code",
   "execution_count": 43,
   "id": "d834386c",
   "metadata": {},
   "outputs": [
    {
     "data": {
      "text/plain": [
       "(152, 8)"
      ]
     },
     "execution_count": 43,
     "metadata": {},
     "output_type": "execute_result"
    }
   ],
   "source": [
    "df_new_z.shape"
   ]
  },
  {
   "cell_type": "markdown",
   "id": "3b62027d",
   "metadata": {},
   "source": [
    "New rows= 152 and column=8 in the dataset"
   ]
  },
  {
   "cell_type": "code",
   "execution_count": 44,
   "id": "a266af25",
   "metadata": {},
   "outputs": [],
   "source": [
    "##Percentage Loss of data:"
   ]
  },
  {
   "cell_type": "code",
   "execution_count": 45,
   "id": "87b37314",
   "metadata": {},
   "outputs": [
    {
     "data": {
      "text/plain": [
       "3.79746835443038"
      ]
     },
     "execution_count": 45,
     "metadata": {},
     "output_type": "execute_result"
    }
   ],
   "source": [
    "Data_loss=((158-152)/158)*100\n",
    "Data_loss"
   ]
  },
  {
   "cell_type": "markdown",
   "id": "74b4c3f3",
   "metadata": {},
   "source": [
    "All the outliers are removed"
   ]
  },
  {
   "cell_type": "markdown",
   "id": "5c846c6e",
   "metadata": {},
   "source": [
    "# Separating the columns into features and target:"
   ]
  },
  {
   "cell_type": "code",
   "execution_count": 46,
   "id": "5b4352f7",
   "metadata": {},
   "outputs": [],
   "source": [
    "features=df_new_z.drop(\"Happiness Score\",axis=1)\n",
    "target=df_new_z[\"Happiness Score\"]"
   ]
  },
  {
   "cell_type": "markdown",
   "id": "2e0c2a82",
   "metadata": {},
   "source": [
    "Target column is Happiness Score and rest other column is independent/feature column"
   ]
  },
  {
   "cell_type": "markdown",
   "id": "21c2d52a",
   "metadata": {},
   "source": [
    "# Scaling the data using Min-Max Scaler:\n"
   ]
  },
  {
   "cell_type": "code",
   "execution_count": 47,
   "id": "90e8dc34",
   "metadata": {},
   "outputs": [],
   "source": [
    "from sklearn.preprocessing import MinMaxScaler\n",
    "mms=MinMaxScaler()\n",
    "from sklearn.linear_model import LinearRegression\n",
    "lr=LinearRegression()\n",
    "from sklearn.metrics import r2_score\n",
    "from sklearn.model_selection import train_test_split\n",
    "\n",
    "import warnings\n",
    "warnings.filterwarnings('ignore')"
   ]
  },
  {
   "cell_type": "code",
   "execution_count": 48,
   "id": "e268a8f3",
   "metadata": {},
   "outputs": [
    {
     "name": "stdout",
     "output_type": "stream",
     "text": [
      "At random state 0,the training accuracy is:- 0.9999999401994266\n",
      "At random state 0,the testing accuracy is:- 0.9999999105856291\n",
      "\n",
      "\n",
      "At random state 1,the training accuracy is:- 0.9999999422782792\n",
      "At random state 1,the testing accuracy is:- 0.9999998925450942\n",
      "\n",
      "\n",
      "At random state 2,the training accuracy is:- 0.9999999366800707\n",
      "At random state 2,the testing accuracy is:- 0.9999999196193731\n",
      "\n",
      "\n",
      "At random state 3,the training accuracy is:- 0.9999999382657543\n",
      "At random state 3,the testing accuracy is:- 0.9999999211135586\n",
      "\n",
      "\n",
      "At random state 4,the training accuracy is:- 0.9999999355748581\n",
      "At random state 4,the testing accuracy is:- 0.999999918554076\n",
      "\n",
      "\n",
      "At random state 5,the training accuracy is:- 0.9999999439237856\n",
      "At random state 5,the testing accuracy is:- 0.9999998925133334\n",
      "\n",
      "\n",
      "At random state 6,the training accuracy is:- 0.9999999431580001\n",
      "At random state 6,the testing accuracy is:- 0.9999998964547809\n",
      "\n",
      "\n",
      "At random state 7,the training accuracy is:- 0.9999999389196892\n",
      "At random state 7,the testing accuracy is:- 0.999999913778356\n",
      "\n",
      "\n",
      "At random state 8,the training accuracy is:- 0.9999999247635916\n",
      "At random state 8,the testing accuracy is:- 0.9999999644972396\n",
      "\n",
      "\n",
      "At random state 9,the training accuracy is:- 0.99999992816468\n",
      "At random state 9,the testing accuracy is:- 0.9999999603998673\n",
      "\n",
      "\n",
      "At random state 10,the training accuracy is:- 0.9999999348031967\n",
      "At random state 10,the testing accuracy is:- 0.9999999369812542\n",
      "\n",
      "\n",
      "At random state 11,the training accuracy is:- 0.9999999293244844\n",
      "At random state 11,the testing accuracy is:- 0.9999999546169925\n",
      "\n",
      "\n",
      "At random state 12,the training accuracy is:- 0.999999930970616\n",
      "At random state 12,the testing accuracy is:- 0.9999999506554299\n",
      "\n",
      "\n",
      "At random state 13,the training accuracy is:- 0.9999999367196838\n",
      "At random state 13,the testing accuracy is:- 0.999999929189268\n",
      "\n",
      "\n",
      "At random state 14,the training accuracy is:- 0.9999999356925638\n",
      "At random state 14,the testing accuracy is:- 0.9999999265301686\n",
      "\n",
      "\n",
      "At random state 15,the training accuracy is:- 0.9999999376660788\n",
      "At random state 15,the testing accuracy is:- 0.9999999229584069\n",
      "\n",
      "\n",
      "At random state 16,the training accuracy is:- 0.9999999412459797\n",
      "At random state 16,the testing accuracy is:- 0.9999999008535152\n",
      "\n",
      "\n",
      "At random state 17,the training accuracy is:- 0.9999999370080925\n",
      "At random state 17,the testing accuracy is:- 0.9999999282857412\n",
      "\n",
      "\n",
      "At random state 18,the training accuracy is:- 0.9999999372260909\n",
      "At random state 18,the testing accuracy is:- 0.9999999244120598\n",
      "\n",
      "\n",
      "At random state 19,the training accuracy is:- 0.9999999346281317\n",
      "At random state 19,the testing accuracy is:- 0.9999999371824825\n",
      "\n",
      "\n",
      "At random state 20,the training accuracy is:- 0.9999999405719135\n",
      "At random state 20,the testing accuracy is:- 0.999999902667551\n",
      "\n",
      "\n",
      "At random state 21,the training accuracy is:- 0.9999999377206069\n",
      "At random state 21,the testing accuracy is:- 0.9999999217969193\n",
      "\n",
      "\n",
      "At random state 22,the training accuracy is:- 0.9999999376296995\n",
      "At random state 22,the testing accuracy is:- 0.9999999273667541\n",
      "\n",
      "\n",
      "At random state 23,the training accuracy is:- 0.9999999370271775\n",
      "At random state 23,the testing accuracy is:- 0.999999926126499\n",
      "\n",
      "\n",
      "At random state 24,the training accuracy is:- 0.9999999456425819\n",
      "At random state 24,the testing accuracy is:- 0.9999998815387477\n",
      "\n",
      "\n",
      "At random state 25,the training accuracy is:- 0.999999937160592\n",
      "At random state 25,the testing accuracy is:- 0.9999999217011791\n",
      "\n",
      "\n",
      "At random state 26,the training accuracy is:- 0.9999999343329723\n",
      "At random state 26,the testing accuracy is:- 0.9999999377625731\n",
      "\n",
      "\n",
      "At random state 27,the training accuracy is:- 0.9999999375599378\n",
      "At random state 27,the testing accuracy is:- 0.9999999284736321\n",
      "\n",
      "\n",
      "At random state 28,the training accuracy is:- 0.9999999420235768\n",
      "At random state 28,the testing accuracy is:- 0.9999999022473732\n",
      "\n",
      "\n",
      "At random state 29,the training accuracy is:- 0.9999999363398667\n",
      "At random state 29,the testing accuracy is:- 0.9999999280604625\n",
      "\n",
      "\n",
      "At random state 30,the training accuracy is:- 0.9999999342452498\n",
      "At random state 30,the testing accuracy is:- 0.9999999378464075\n",
      "\n",
      "\n",
      "At random state 31,the training accuracy is:- 0.9999999394419362\n",
      "At random state 31,the testing accuracy is:- 0.9999999217085275\n",
      "\n",
      "\n",
      "At random state 32,the training accuracy is:- 0.9999999310339717\n",
      "At random state 32,the testing accuracy is:- 0.9999999535282965\n",
      "\n",
      "\n",
      "At random state 33,the training accuracy is:- 0.9999999277087523\n",
      "At random state 33,the testing accuracy is:- 0.9999999518410299\n",
      "\n",
      "\n",
      "At random state 34,the training accuracy is:- 0.9999999375597242\n",
      "At random state 34,the testing accuracy is:- 0.9999999261223964\n",
      "\n",
      "\n",
      "At random state 35,the training accuracy is:- 0.9999999378096632\n",
      "At random state 35,the testing accuracy is:- 0.9999999276565558\n",
      "\n",
      "\n",
      "At random state 36,the training accuracy is:- 0.9999999428670091\n",
      "At random state 36,the testing accuracy is:- 0.9999998925186652\n",
      "\n",
      "\n",
      "At random state 37,the training accuracy is:- 0.9999999297173869\n",
      "At random state 37,the testing accuracy is:- 0.9999999475297391\n",
      "\n",
      "\n",
      "At random state 38,the training accuracy is:- 0.9999999391328737\n",
      "At random state 38,the testing accuracy is:- 0.9999999152091053\n",
      "\n",
      "\n",
      "At random state 39,the training accuracy is:- 0.9999999301751784\n",
      "At random state 39,the testing accuracy is:- 0.9999999527129683\n",
      "\n",
      "\n",
      "At random state 40,the training accuracy is:- 0.9999999401448995\n",
      "At random state 40,the testing accuracy is:- 0.9999999162122656\n",
      "\n",
      "\n",
      "At random state 41,the training accuracy is:- 0.9999999339537933\n",
      "At random state 41,the testing accuracy is:- 0.9999999457756853\n",
      "\n",
      "\n",
      "At random state 42,the training accuracy is:- 0.999999939021117\n",
      "At random state 42,the testing accuracy is:- 0.9999999225117283\n",
      "\n",
      "\n",
      "At random state 43,the training accuracy is:- 0.9999999359820045\n",
      "At random state 43,the testing accuracy is:- 0.9999999320433657\n",
      "\n",
      "\n",
      "At random state 44,the training accuracy is:- 0.999999937497836\n",
      "At random state 44,the testing accuracy is:- 0.9999999187793999\n",
      "\n",
      "\n",
      "At random state 45,the training accuracy is:- 0.9999999305368815\n",
      "At random state 45,the testing accuracy is:- 0.999999950097202\n",
      "\n",
      "\n",
      "At random state 46,the training accuracy is:- 0.9999999375578292\n",
      "At random state 46,the testing accuracy is:- 0.9999999275744971\n",
      "\n",
      "\n",
      "At random state 47,the training accuracy is:- 0.999999931521759\n",
      "At random state 47,the testing accuracy is:- 0.9999999362857201\n",
      "\n",
      "\n",
      "At random state 48,the training accuracy is:- 0.9999999354714851\n",
      "At random state 48,the testing accuracy is:- 0.9999999357433548\n",
      "\n",
      "\n",
      "At random state 49,the training accuracy is:- 0.9999999345695092\n",
      "At random state 49,the testing accuracy is:- 0.9999999322050835\n",
      "\n",
      "\n",
      "At random state 50,the training accuracy is:- 0.9999999395650606\n",
      "At random state 50,the testing accuracy is:- 0.9999999202660387\n",
      "\n",
      "\n",
      "At random state 51,the training accuracy is:- 0.9999999371626364\n",
      "At random state 51,the testing accuracy is:- 0.9999999227442534\n",
      "\n",
      "\n",
      "At random state 52,the training accuracy is:- 0.9999999349512003\n",
      "At random state 52,the testing accuracy is:- 0.9999999385887619\n",
      "\n",
      "\n",
      "At random state 53,the training accuracy is:- 0.9999999380923571\n",
      "At random state 53,the testing accuracy is:- 0.9999999194189338\n",
      "\n",
      "\n",
      "At random state 54,the training accuracy is:- 0.9999999327979672\n",
      "At random state 54,the testing accuracy is:- 0.9999999414667963\n",
      "\n",
      "\n",
      "At random state 55,the training accuracy is:- 0.9999999405566308\n",
      "At random state 55,the testing accuracy is:- 0.9999999091005632\n",
      "\n",
      "\n",
      "At random state 56,the training accuracy is:- 0.9999999358602658\n",
      "At random state 56,the testing accuracy is:- 0.9999999255639715\n",
      "\n",
      "\n",
      "At random state 57,the training accuracy is:- 0.9999999422752707\n",
      "At random state 57,the testing accuracy is:- 0.9999999045223682\n",
      "\n",
      "\n",
      "At random state 58,the training accuracy is:- 0.9999999370621975\n",
      "At random state 58,the testing accuracy is:- 0.9999999252898347\n",
      "\n",
      "\n",
      "At random state 59,the training accuracy is:- 0.9999999397328024\n",
      "At random state 59,the testing accuracy is:- 0.9999999017200187\n",
      "\n",
      "\n",
      "At random state 60,the training accuracy is:- 0.9999999343683307\n",
      "At random state 60,the testing accuracy is:- 0.9999999401070563\n",
      "\n",
      "\n",
      "At random state 61,the training accuracy is:- 0.9999999333136954\n",
      "At random state 61,the testing accuracy is:- 0.9999999428791059\n",
      "\n",
      "\n",
      "At random state 62,the training accuracy is:- 0.9999999346446351\n",
      "At random state 62,the testing accuracy is:- 0.999999938470661\n",
      "\n",
      "\n"
     ]
    },
    {
     "name": "stdout",
     "output_type": "stream",
     "text": [
      "At random state 63,the training accuracy is:- 0.9999999398557574\n",
      "At random state 63,the testing accuracy is:- 0.9999999151505633\n",
      "\n",
      "\n",
      "At random state 64,the training accuracy is:- 0.9999999328331298\n",
      "At random state 64,the testing accuracy is:- 0.9999999489882563\n",
      "\n",
      "\n",
      "At random state 65,the training accuracy is:- 0.9999999357252309\n",
      "At random state 65,the testing accuracy is:- 0.9999999331289604\n",
      "\n",
      "\n",
      "At random state 66,the training accuracy is:- 0.9999999344528359\n",
      "At random state 66,the testing accuracy is:- 0.999999938899687\n",
      "\n",
      "\n",
      "At random state 67,the training accuracy is:- 0.9999999332043644\n",
      "At random state 67,the testing accuracy is:- 0.9999999443920318\n",
      "\n",
      "\n",
      "At random state 68,the training accuracy is:- 0.9999999423232026\n",
      "At random state 68,the testing accuracy is:- 0.9999998981174284\n",
      "\n",
      "\n",
      "At random state 69,the training accuracy is:- 0.9999999316556071\n",
      "At random state 69,the testing accuracy is:- 0.999999947037473\n",
      "\n",
      "\n",
      "At random state 70,the training accuracy is:- 0.9999999404875268\n",
      "At random state 70,the testing accuracy is:- 0.9999999099095856\n",
      "\n",
      "\n",
      "At random state 71,the training accuracy is:- 0.9999999415169216\n",
      "At random state 71,the testing accuracy is:- 0.9999999025832653\n",
      "\n",
      "\n",
      "At random state 72,the training accuracy is:- 0.9999999253959843\n",
      "At random state 72,the testing accuracy is:- 0.9999999561021595\n",
      "\n",
      "\n",
      "At random state 73,the training accuracy is:- 0.9999999410242852\n",
      "At random state 73,the testing accuracy is:- 0.9999999058373561\n",
      "\n",
      "\n",
      "At random state 74,the training accuracy is:- 0.999999937938812\n",
      "At random state 74,the testing accuracy is:- 0.9999999277140476\n",
      "\n",
      "\n",
      "At random state 75,the training accuracy is:- 0.9999999328114152\n",
      "At random state 75,the testing accuracy is:- 0.9999999456855638\n",
      "\n",
      "\n",
      "At random state 76,the training accuracy is:- 0.9999999430586478\n",
      "At random state 76,the testing accuracy is:- 0.9999998824549828\n",
      "\n",
      "\n",
      "At random state 77,the training accuracy is:- 0.9999999335152473\n",
      "At random state 77,the testing accuracy is:- 0.9999999439776422\n",
      "\n",
      "\n",
      "At random state 78,the training accuracy is:- 0.9999999405187356\n",
      "At random state 78,the testing accuracy is:- 0.9999998985885796\n",
      "\n",
      "\n",
      "At random state 79,the training accuracy is:- 0.999999942725108\n",
      "At random state 79,the testing accuracy is:- 0.9999998982220638\n",
      "\n",
      "\n",
      "At random state 80,the training accuracy is:- 0.9999999383634253\n",
      "At random state 80,the testing accuracy is:- 0.999999908522607\n",
      "\n",
      "\n",
      "At random state 81,the training accuracy is:- 0.9999999381393927\n",
      "At random state 81,the testing accuracy is:- 0.9999999257917626\n",
      "\n",
      "\n",
      "At random state 82,the training accuracy is:- 0.9999999412961427\n",
      "At random state 82,the testing accuracy is:- 0.9999999070969502\n",
      "\n",
      "\n",
      "At random state 83,the training accuracy is:- 0.9999999443826235\n",
      "At random state 83,the testing accuracy is:- 0.9999998839296184\n",
      "\n",
      "\n",
      "At random state 84,the training accuracy is:- 0.9999999317880022\n",
      "At random state 84,the testing accuracy is:- 0.9999999466274541\n",
      "\n",
      "\n",
      "At random state 85,the training accuracy is:- 0.9999999349408489\n",
      "At random state 85,the testing accuracy is:- 0.9999999347023544\n",
      "\n",
      "\n",
      "At random state 86,the training accuracy is:- 0.9999999403675278\n",
      "At random state 86,the testing accuracy is:- 0.9999999085550109\n",
      "\n",
      "\n",
      "At random state 87,the training accuracy is:- 0.9999999331503641\n",
      "At random state 87,the testing accuracy is:- 0.9999999410746324\n",
      "\n",
      "\n",
      "At random state 88,the training accuracy is:- 0.9999999452442836\n",
      "At random state 88,the testing accuracy is:- 0.9999998914502828\n",
      "\n",
      "\n",
      "At random state 89,the training accuracy is:- 0.9999999326833031\n",
      "At random state 89,the testing accuracy is:- 0.9999999420754515\n",
      "\n",
      "\n",
      "At random state 90,the training accuracy is:- 0.9999999355960609\n",
      "At random state 90,the testing accuracy is:- 0.9999999266064861\n",
      "\n",
      "\n",
      "At random state 91,the training accuracy is:- 0.9999999393932787\n",
      "At random state 91,the testing accuracy is:- 0.9999999207175465\n",
      "\n",
      "\n",
      "At random state 92,the training accuracy is:- 0.9999999338808943\n",
      "At random state 92,the testing accuracy is:- 0.9999999417071666\n",
      "\n",
      "\n",
      "At random state 93,the training accuracy is:- 0.9999999289159411\n",
      "At random state 93,the testing accuracy is:- 0.999999959900378\n",
      "\n",
      "\n",
      "At random state 94,the training accuracy is:- 0.9999999330903859\n",
      "At random state 94,the testing accuracy is:- 0.9999999443901555\n",
      "\n",
      "\n",
      "At random state 95,the training accuracy is:- 0.9999999381673607\n",
      "At random state 95,the testing accuracy is:- 0.9999999263209268\n",
      "\n",
      "\n",
      "At random state 96,the training accuracy is:- 0.9999999355365077\n",
      "At random state 96,the testing accuracy is:- 0.9999999351449245\n",
      "\n",
      "\n",
      "At random state 97,the training accuracy is:- 0.9999999331379336\n",
      "At random state 97,the testing accuracy is:- 0.9999999471881722\n",
      "\n",
      "\n",
      "At random state 98,the training accuracy is:- 0.9999999426577739\n",
      "At random state 98,the testing accuracy is:- 0.9999998879990717\n",
      "\n",
      "\n",
      "At random state 99,the training accuracy is:- 0.9999999373952819\n",
      "At random state 99,the testing accuracy is:- 0.9999999250330185\n",
      "\n",
      "\n"
     ]
    }
   ],
   "source": [
    "for i in range(0,100):\n",
    "    features_train,features_test,target_train,target_test=train_test_split(features,target,test_size=0.2,random_state=i)\n",
    "    lr.fit(features_train,target_train)\n",
    "    pred_train=lr.predict(features_train)\n",
    "    pred_test=lr.predict(features_test)\n",
    "    print(f\"At random state {i},the training accuracy is:- {r2_score(target_train,pred_train)}\")\n",
    "    print(f\"At random state {i},the testing accuracy is:- {r2_score(target_test,pred_test)}\")\n",
    "    print(\"\\n\")"
   ]
  },
  {
   "cell_type": "code",
   "execution_count": 49,
   "id": "fd6ca81a",
   "metadata": {},
   "outputs": [],
   "source": [
    "features_train,features_test,target_train,target_test=train_test_split(features,target,test_size=0.2,random_state=12)"
   ]
  },
  {
   "cell_type": "code",
   "execution_count": 50,
   "id": "edfbc179",
   "metadata": {},
   "outputs": [
    {
     "data": {
      "text/plain": [
       "LinearRegression()"
      ]
     },
     "execution_count": 50,
     "metadata": {},
     "output_type": "execute_result"
    }
   ],
   "source": [
    "lr.fit(features_train,target_train)"
   ]
  },
  {
   "cell_type": "code",
   "execution_count": 51,
   "id": "c8c00f0c",
   "metadata": {},
   "outputs": [],
   "source": [
    "pred_test=lr.predict(features_test)"
   ]
  },
  {
   "cell_type": "code",
   "execution_count": 52,
   "id": "80dcb049",
   "metadata": {},
   "outputs": [
    {
     "name": "stdout",
     "output_type": "stream",
     "text": [
      "0.9999999506554299\n"
     ]
    }
   ],
   "source": [
    "print(r2_score(target_test,pred_test))"
   ]
  },
  {
   "cell_type": "markdown",
   "id": "13fca159",
   "metadata": {},
   "source": [
    "99.99%  is the r2 score"
   ]
  },
  {
   "cell_type": "markdown",
   "id": "9105c8cc",
   "metadata": {},
   "source": [
    "Cross-Validation of the model:"
   ]
  },
  {
   "cell_type": "code",
   "execution_count": 53,
   "id": "3414978f",
   "metadata": {},
   "outputs": [
    {
     "name": "stdout",
     "output_type": "stream",
     "text": [
      "At cross fold 2 the cv score is 0.9999997225579129 and accuracy score for training is -1.0926346502160955 and accuracy for the testing is 0.9999999506554299\n",
      "\n",
      "\n",
      "At cross fold 3 the cv score is 0.999999468361971 and accuracy score for training is -1.0926346502160955 and accuracy for the testing is 0.9999999506554299\n",
      "\n",
      "\n",
      "At cross fold 4 the cv score is 0.9999987556096168 and accuracy score for training is -1.0926346502160955 and accuracy for the testing is 0.9999999506554299\n",
      "\n",
      "\n",
      "At cross fold 5 the cv score is 0.9999979441239665 and accuracy score for training is -1.0926346502160955 and accuracy for the testing is 0.9999999506554299\n",
      "\n",
      "\n",
      "At cross fold 6 the cv score is 0.9999970173842118 and accuracy score for training is -1.0926346502160955 and accuracy for the testing is 0.9999999506554299\n",
      "\n",
      "\n",
      "At cross fold 7 the cv score is 0.999995402544374 and accuracy score for training is -1.0926346502160955 and accuracy for the testing is 0.9999999506554299\n",
      "\n",
      "\n",
      "At cross fold 8 the cv score is 0.9999948552597964 and accuracy score for training is -1.0926346502160955 and accuracy for the testing is 0.9999999506554299\n",
      "\n",
      "\n",
      "At cross fold 9 the cv score is 0.9999931922183767 and accuracy score for training is -1.0926346502160955 and accuracy for the testing is 0.9999999506554299\n",
      "\n",
      "\n"
     ]
    }
   ],
   "source": [
    "Train_accuracy=r2_score(target_train,pred_train)\n",
    "Test_accuracy=r2_score(target_test,pred_test)\n",
    "\n",
    "from sklearn.model_selection import cross_val_score\n",
    "for j in range(2,10):\n",
    "    cv_score=cross_val_score(lr,features,target,cv=j)\n",
    "    cv_mean=cv_score.mean()\n",
    "    print(f\"At cross fold {j} the cv score is {cv_mean} and accuracy score for training is {Train_accuracy} and accuracy for the testing is {Test_accuracy}\")\n",
    "    print(\"\\n\")"
   ]
  },
  {
   "cell_type": "markdown",
   "id": "c7ee4c35",
   "metadata": {},
   "source": [
    "Since the number of folds dont have such impact on the accuracy and cv_score. So cv=5 is selected.\n",
    "\n",
    "Hence we handled the problem of the overfitting and the underfitting by checking the training and testing score."
   ]
  },
  {
   "cell_type": "code",
   "execution_count": 54,
   "id": "dfa77c31",
   "metadata": {},
   "outputs": [
    {
     "data": {
      "image/png": "[encoded data removed]",
      "text/plain": [
       "<Figure size 576x432 with 1 Axes>"
      ]
     },
     "metadata": {
      "needs_background": "light"
     },
     "output_type": "display_data"
    }
   ],
   "source": [
    "import matplotlib.pyplot as plt\n",
    "plt.figure(figsize=(8,6))\n",
    "plt.scatter(x=target_test, y=pred_test, color='r')\n",
    "plt.plot(target_test,target_test, color='b')\n",
    "plt.xlabel('Actual charges',fontsize=14)\n",
    "plt.ylabel('Predicted charges',fontsize=14)\n",
    "plt.title('Linear Regression',fontsize=18)\n",
    "plt.show()"
   ]
  },
  {
   "cell_type": "markdown",
   "id": "ba1951e9",
   "metadata": {},
   "source": [
    "Best fit line is covering most of the datapoints which shows good fit of our model."
   ]
  },
  {
   "cell_type": "markdown",
   "id": "28a8124b",
   "metadata": {},
   "source": [
    "Regularization:"
   ]
  },
  {
   "cell_type": "code",
   "execution_count": 55,
   "id": "0fca302d",
   "metadata": {},
   "outputs": [],
   "source": [
    "from sklearn.model_selection import GridSearchCV\n",
    "from sklearn.model_selection import cross_val_score\n",
    "import warnings\n",
    "warnings.filterwarnings('ignore')"
   ]
  },
  {
   "cell_type": "code",
   "execution_count": 56,
   "id": "9f034f40",
   "metadata": {},
   "outputs": [
    {
     "name": "stdout",
     "output_type": "stream",
     "text": [
      "{'alpha': 0.0001, 'random_state': 0}\n"
     ]
    }
   ],
   "source": [
    "from sklearn.linear_model import Lasso\n",
    "\n",
    "parameters = {'alpha':[.0001, .001, .01, .1, 1,10],'random_state':list(range(0,10))}\n",
    "ls = Lasso()\n",
    "clf = GridSearchCV(ls,parameters)\n",
    "clf.fit(features_train,target_train)\n",
    "\n",
    "print(clf.best_params_)"
   ]
  },
  {
   "cell_type": "code",
   "execution_count": 57,
   "id": "1dfe58a7",
   "metadata": {},
   "outputs": [
    {
     "data": {
      "text/plain": [
       "-0.0004139285653110836"
      ]
     },
     "execution_count": 57,
     "metadata": {},
     "output_type": "execute_result"
    }
   ],
   "source": [
    "ls = Lasso(alpha=1,random_state=0)\n",
    "ls.fit(features_train,target_train)\n",
    "ls.score(features_train,target_train)\n",
    "pred_ls = ls.predict(features_test)\n",
    "\n",
    "lss = r2_score(target_test,pred_ls)\n",
    "lss"
   ]
  },
  {
   "cell_type": "code",
   "execution_count": 58,
   "id": "7e23b0fa",
   "metadata": {},
   "outputs": [
    {
     "data": {
      "text/plain": [
       "-22.630298372101013"
      ]
     },
     "execution_count": 58,
     "metadata": {},
     "output_type": "execute_result"
    }
   ],
   "source": [
    "cv_score=cross_val_score(ls,features,target,cv=5)\n",
    "cv_mean=cv_score.mean()\n",
    "cv_mean"
   ]
  },
  {
   "cell_type": "markdown",
   "id": "7c270c0b",
   "metadata": {},
   "source": [
    "# Random Forest Regressor"
   ]
  },
  {
   "cell_type": "code",
   "execution_count": 59,
   "id": "07c62112",
   "metadata": {},
   "outputs": [
    {
     "name": "stdout",
     "output_type": "stream",
     "text": [
      "{'criterion': 'mse', 'max_features': 'auto'}\n"
     ]
    }
   ],
   "source": [
    "from sklearn.model_selection import GridSearchCV\n",
    "from sklearn.ensemble import RandomForestRegressor\n",
    "\n",
    "parameters = {'criterion':['mse', 'mae'],'max_features':[\"auto\", \"sqrt\", \"log2\"]}\n",
    "rf =RandomForestRegressor()\n",
    "clf = GridSearchCV(rf,parameters)\n",
    "clf.fit(features_train,target_train)\n",
    "\n",
    "print(clf.best_params_)"
   ]
  },
  {
   "cell_type": "code",
   "execution_count": 60,
   "id": "db931f5c",
   "metadata": {},
   "outputs": [
    {
     "name": "stdout",
     "output_type": "stream",
     "text": [
      "R2 Score: 88.73530983183835\n",
      "Cross Val Score: -315.5710832472353\n"
     ]
    }
   ],
   "source": [
    "rf= RandomForestRegressor(criterion=\"mse\",max_features=\"auto\")\n",
    "rf.fit(features_train, target_train)\n",
    "rf.score(features_train, target_train)\n",
    "pred_decision = rf.predict(features_test)\n",
    "\n",
    "rfs = r2_score(target_test,pred_decision)\n",
    "print('R2 Score:',rfs*100)\n",
    "\n",
    "rfscore = cross_val_score(rf,features,target,cv=5)\n",
    "rfc = rfscore.mean()\n",
    "print('Cross Val Score:',rfc*100)"
   ]
  },
  {
   "cell_type": "markdown",
   "id": "db8c4eb2",
   "metadata": {},
   "source": [
    "Model is not performing well."
   ]
  }
 ],
 "metadata": {
  "kernelspec": {
   "display_name": "Python 3",
   "language": "python",
   "name": "python3"
  },
  "language_info": {
   "codemirror_mode": {
    "name": "ipython",
    "version": 3
   },
   "file_extension": ".py",
   "mimetype": "text/x-python",
   "name": "python",
   "nbconvert_exporter": "python",
   "pygments_lexer": "ipython3",
   "version": "3.8.8"
  }
 },
 "nbformat": 4,
 "nbformat_minor": 5
}
